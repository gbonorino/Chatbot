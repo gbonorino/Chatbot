{
 "cells": [
  {
   "cell_type": "code",
   "execution_count": 1,
   "id": "9c71db74-4b84-46d5-a08a-94ff68c72285",
   "metadata": {},
   "outputs": [
    {
     "data": {
      "text/plain": [
       "True"
      ]
     },
     "execution_count": 1,
     "metadata": {},
     "output_type": "execute_result"
    }
   ],
   "source": [
    "from dotenv import load_dotenv, find_dotenv\n",
    "load_dotenv(find_dotenv())"
   ]
  },
  {
   "cell_type": "code",
   "execution_count": null,
   "id": "d9d6e67e-9f71-447d-86d3-29a204c96918",
   "metadata": {},
   "outputs": [],
   "source": []
  },
  {
   "cell_type": "markdown",
   "id": "7d3b5420-d50e-4d14-9fb6-09b9ef2b002e",
   "metadata": {},
   "source": [
    "#### Algebra con agentes\n",
    "Propósito del ejemplo  <br>\n",
    "Aplicar agentes para cálculos matemáticos."
   ]
  },
  {
   "cell_type": "code",
   "execution_count": null,
   "id": "3ae48623-ee3d-4451-8766-5ddab2e1057a",
   "metadata": {},
   "outputs": [],
   "source": [
    "!pip install numexpr"
   ]
  },
  {
   "cell_type": "code",
   "execution_count": 4,
   "id": "926649e9-3f8e-4a95-89c2-5b07071dedaf",
   "metadata": {},
   "outputs": [
    {
     "name": "stdout",
     "output_type": "stream",
     "text": [
      "\n",
      "\n",
      "\u001b[1m> Entering new AgentExecutor chain...\u001b[0m\n",
      "\u001b[32;1m\u001b[1;3mTo answer this question, I first need to find out how many apples Jorge has. I know that each box contains 8 apples, so I need to multiply the number of boxes Jorge has by 8.\n",
      "Action: Calculator\n",
      "Action Input: 2.5 * 8\u001b[0m\u001b[36;1m\u001b[1;3mAnswer: 20.0\u001b[0m\u001b[32;1m\u001b[1;3mNow I know that Jorge has 20 apples. To find out how many apples Juana and Jorge have together, I need to add the number of apples Juana has (4) to the number of apples Jorge has (20).\n",
      "Action: Calculator\n",
      "Action Input: 4 + 20.0\u001b[0m\u001b[36;1m\u001b[1;3mAnswer: 24.0\u001b[0m\u001b[32;1m\u001b[1;3mI now know the final answer.\n",
      "Final Answer: Juana y Jorge tienen 24 manzanas en total.\u001b[0m\n",
      "\n",
      "\u001b[1m> Finished chain.\u001b[0m\n"
     ]
    },
    {
     "data": {
      "text/plain": [
       "'Juana y Jorge tienen 24 manzanas en total.'"
      ]
     },
     "execution_count": 4,
     "metadata": {},
     "output_type": "execute_result"
    }
   ],
   "source": [
    "# Preparativos\n",
    "from langchain_groq import ChatGroq\n",
    "from langchain import hub\n",
    "from langchain.agents import AgentExecutor, create_react_agent\n",
    "from langchain.agents import load_tools\n",
    "\n",
    "modelo = ChatGroq(model=\"mixtral-8x7b-32768\")\n",
    "# Compilar las herramientas\n",
    "prompt = hub.pull(\"hwchase17/react\")\n",
    "tools = load_tools(['llm-math'], llm=modelo )\n",
    "# Construir el agente\n",
    "agent = create_react_agent(modelo, tools, prompt)\n",
    "agent_executor = AgentExecutor(agent=agent, tools=tools, verbose=True)\n",
    "# Consulta\n",
    "res = agent_executor.invoke({\"input\":\"Si Juana tiene 4 manzanas y Jorge trae 2.5 cajas con 8 manzanas cada una, \\\n",
    "¿cuantas manzanas tienen Juana y Jorge? Responder en español.\"})\n",
    "res['output']"
   ]
  },
  {
   "cell_type": "code",
   "execution_count": null,
   "id": "1131d19f-cddc-4206-857e-591ceefe27d1",
   "metadata": {},
   "outputs": [],
   "source": []
  },
  {
   "cell_type": "code",
   "execution_count": null,
   "id": "b36e4774-527b-4b91-9fd6-f5f63cc23a83",
   "metadata": {},
   "outputs": [],
   "source": []
  },
  {
   "cell_type": "markdown",
   "id": "02b187e4-3f3d-4dbf-8bc7-754083fac524",
   "metadata": {},
   "source": [
    "Answer the following questions as best you can. You have access to the following tools:\n",
    "\n",
    "{tools}\n",
    "\n",
    "Use the following format:\n",
    "\n",
    "Question: the input question you must answer\n",
    "\n",
    "Thought: you should always think about what to do\n",
    "\n",
    "Action: the action to take, should be one of [{tool_names}]\n",
    "\n",
    "Action Input: the input to the action\n",
    "\n",
    "Observation: the result of the action\n",
    "\n",
    "... (this Thought/Action/Action Input/Observation can repeat N times)\n",
    "\n",
    "Thought: I now know the final answer\n",
    "\n",
    "Final Answer: the final answer to the original input question\n",
    "\n",
    "Begin!\n",
    "\n",
    "Question: {input}\n",
    "\n",
    "Thought:{agent_scratchpad}"
   ]
  },
  {
   "cell_type": "code",
   "execution_count": null,
   "id": "7cbd5831-13ec-42b9-982d-834481234e4c",
   "metadata": {},
   "outputs": [],
   "source": []
  },
  {
   "cell_type": "markdown",
   "id": "55775604-ef28-4d8e-82c9-afaeaa8f2e52",
   "metadata": {},
   "source": [
    "#### Herramientas preconfiguradas - Wikipedia\n",
    "Propósito del ejemplo  <br>\n",
    "LangChain ofrece algunas herramientas preconfiguradas y listas para usar. En este ejemplo se presenta un buscador de artículos en Wikipedia.<br>\n",
    "Instalar el paquete Wikipedia de Python."
   ]
  },
  {
   "cell_type": "code",
   "execution_count": 5,
   "id": "c83748cd-926d-4d72-9a43-5c9a5e215ea2",
   "metadata": {},
   "outputs": [
    {
     "name": "stdout",
     "output_type": "stream",
     "text": [
      "Nombre:  wikipedia\n",
      "***************************************\n",
      "Descripcion:  A wrapper around Wikipedia. Useful for when you need to answer general questions about people, places, companies, facts, historical events, or other subjects. Input should be a search query.\n",
      "***************************************\n",
      "Argumentos:  {'query': {'title': 'Query', 'description': 'query to look up on wikipedia', 'type': 'string'}}\n",
      "***************************************\n",
      "Argumentos de Wikipedia:  dict_keys(['title', 'description', 'type'])\n",
      "Devolver la salida al usuario:  False\n",
      "***************************************\n"
     ]
    }
   ],
   "source": [
    "from langchain_community.tools import WikipediaQueryRun\n",
    "from langchain_community.utilities import WikipediaAPIWrapper\n",
    "\n",
    "api_wrapper = WikipediaAPIWrapper(top_k_results=1, doc_content_chars_max=100)\n",
    "tool = WikipediaQueryRun(api_wrapper=api_wrapper)\n",
    "print('Nombre: ', tool.name)\n",
    "print(\"***************************************\")\n",
    "print('Descripcion: ',tool.description)\n",
    "print(\"***************************************\")\n",
    "print('Argumentos: ', tool.args)\n",
    "print(\"***************************************\")\n",
    "print('Argumentos de Wikipedia: ', tool.args[\"query\"].keys())\n",
    "print('Devolver la salida al usuario: ',tool.return_direct)\n",
    "print(\"***************************************\")"
   ]
  },
  {
   "cell_type": "code",
   "execution_count": 6,
   "id": "ae58b198-54fe-404e-b135-4b5ab8301f8f",
   "metadata": {},
   "outputs": [
    {
     "data": {
      "text/plain": [
       "'Page: LangChain\\nSummary: LangChain is a software framework that helps facilitate the integration of '"
      ]
     },
     "execution_count": 6,
     "metadata": {},
     "output_type": "execute_result"
    }
   ],
   "source": [
    "tool.invoke({\"query\": \"langchain\"})"
   ]
  },
  {
   "cell_type": "code",
   "execution_count": null,
   "id": "3c6db057-6c33-4421-8f08-93a4f65b83d4",
   "metadata": {},
   "outputs": [],
   "source": []
  },
  {
   "cell_type": "code",
   "execution_count": null,
   "id": "3e4490ec-918c-48d7-9290-aff369569f0e",
   "metadata": {},
   "outputs": [],
   "source": []
  },
  {
   "cell_type": "markdown",
   "id": "261dfa48-f73e-4afc-92bc-7abfd1038782",
   "metadata": {},
   "source": [
    "#### Agente de busqueda con Tavily\n",
    "Propósito del ejemplo   <br>\n",
    "Implementar un motor de búsqueda más genérico. Tavily está optimizado para LLMs y RAGs. Otros motores, como Serp y Google son de aplicación más genérica. Adicionalmente se muestra cómo convertir un retriever en una herramienta. <br>\n",
    "Generar la API de: https://app.tavily.com/sign-in  <br>\n",
    "Insertarla en .env como TAVILY_API_KEY=”clave”"
   ]
  },
  {
   "cell_type": "code",
   "execution_count": null,
   "id": "2cb35052-86a1-417c-80dd-ef7557a6fb59",
   "metadata": {},
   "outputs": [],
   "source": [
    "!pip install tavily-python"
   ]
  },
  {
   "cell_type": "code",
   "execution_count": 7,
   "id": "fd21ce02-9225-4dbe-8fe0-ba29916cdf81",
   "metadata": {},
   "outputs": [
    {
     "name": "stderr",
     "output_type": "stream",
     "text": [
      "USER_AGENT environment variable not set, consider setting it to identify your requests.\n",
      "c:\\nuevochatbot\\Lib\\site-packages\\sentence_transformers\\cross_encoder\\CrossEncoder.py:11: TqdmExperimentalWarning: Using `tqdm.autonotebook.tqdm` in notebook mode. Use `tqdm.tqdm` instead to force console mode (e.g. in jupyter console)\n",
      "  from tqdm.autonotebook import tqdm, trange\n"
     ]
    }
   ],
   "source": [
    "from langchain_community.document_loaders import WebBaseLoader\n",
    "from langchain_huggingface import HuggingFaceEmbeddings\n",
    "from langchain_text_splitters import RecursiveCharacterTextSplitter\n",
    "from langchain_community.vectorstores import FAISS\n",
    "from langchain.tools.retriever import create_retriever_tool\n",
    "from langchain_community.tools.tavily_search import TavilySearchResults\n",
    "from langchain import hub\n",
    "from langchain_groq import ChatGroq\n",
    "from langchain.agents import AgentExecutor, create_react_agent\n",
    "\n",
    "# Se procesa la informacion\n",
    "loader = WebBaseLoader(\"https://www.dasa.org\")       # Mision de la NASA\n",
    "docs = loader.load()\n",
    "text_splitter = RecursiveCharacterTextSplitter()\n",
    "documents = text_splitter.split_documents(docs)\n",
    "embeddings = HuggingFaceEmbeddings(model_name=\"all-MiniLM-L6-v2\")\n",
    "vector = FAISS.from_documents(documents, embeddings)\n",
    "llm = ChatGroq(model=\"mixtral-8x7b-32768\", temperature=0)\n",
    "prompt = hub.pull(\"hwchase17/react\")  # Se usa un prompt prediseñado\n",
    "retriever = vector.as_retriever()"
   ]
  },
  {
   "cell_type": "code",
   "execution_count": null,
   "id": "707aa8f1-48c3-40bd-b1b2-a914df32923a",
   "metadata": {},
   "outputs": [],
   "source": []
  },
  {
   "cell_type": "code",
   "execution_count": 8,
   "id": "bbefc41e-eaa3-4f59-9efb-cbbbdcab4c13",
   "metadata": {},
   "outputs": [
    {
     "name": "stdout",
     "output_type": "stream",
     "text": [
      "\n",
      "\n",
      "\u001b[1m> Entering new AgentExecutor chain...\u001b[0m\n",
      "\u001b[32;1m\u001b[1;3mTo answer this question, I need to search for information about DASA's mission. I will use the DASA_search tool for this purpose.\n",
      "\n",
      "Action: DASA_search\n",
      "Action Input: 'What is the mission of DASA?'\n",
      "\u001b[0m\u001b[36;1m\u001b[1;3mTransformation Stories\n",
      "Building High-Performance Software Teams\n",
      "This article is part of a series on transforming into a high-performance digital organization. To explore the six key themes and start your transformation journey, click here → High-performance software teams are…Read More\n",
      "\n",
      "\n",
      "\n",
      "\n",
      "\n",
      "Join DASA\n",
      "\n",
      "DASA has developed a flexible approach to membership to suit the size and requirements of each member organization.\n",
      "\n",
      "\n",
      "See How You Can Join\n",
      "\n",
      "\n",
      "\n",
      "\n",
      "\n",
      "\n",
      "\n",
      "\n",
      "Careers\n",
      "Contact\n",
      "Offices\n",
      "About\n",
      "Privacy Policy\n",
      "Terms of Use\n",
      "Sitemap\n",
      "DASA Hub\n",
      "\n",
      "© 2016－2024 · DASA BV. All rights reserved.\n",
      "Twitter\n",
      "Instagram\n",
      "LinkedIn\n",
      "Facebook\n",
      "\n",
      "DASA\n",
      "\n",
      "\n",
      "\n",
      "\n",
      "\n",
      "\n",
      "\n",
      "\n",
      "\n",
      "\n",
      "\n",
      "\n",
      "\n",
      "\n",
      "\n",
      "\n",
      "\n",
      "\n",
      "\n",
      "\n",
      "\n",
      "\n",
      "\n",
      "\n",
      "\n",
      "\n",
      "\n",
      "\n",
      "\n",
      "\n",
      "\n",
      "\n",
      "\n",
      "\n",
      "\n",
      "\n",
      "\n",
      "\n",
      "\n",
      "\n",
      "\n",
      "\n",
      "\n",
      "\n",
      "\n",
      "\n",
      "\n",
      "\n",
      "\n",
      "\n",
      "\n",
      "\n",
      "\n",
      "\n",
      "\n",
      "\n",
      "\n",
      "\n",
      "\n",
      "\n",
      "\n",
      "\n",
      "\n",
      "\n",
      "\n",
      "\n",
      "\n",
      "\n",
      "\n",
      "\n",
      "\n",
      "\n",
      "\n",
      "\n",
      "\n",
      "\n",
      "\n",
      "\n",
      "\n",
      "\n",
      "\n",
      "\n",
      "\n",
      "\n",
      "AboutThe Enterprise Transformation JourneyWhy DASADASA DevOps PrinciplesProductsGuidance ProductsDASA DevAIOps Value BoxComing SoonDASA Platform Engineering Value BoxDASA Product Management Value BoxDASA Portfolio Management Value BoxDASA Experience Management Value BoxHPDO Getting Started Value BoxDASA Competency FrameworkDigital Readiness AssessmentTalent ProductsCertification ProgramsDASA DevAlOpsDASA Platform EngineeringDASA Experience ManagementDASA DevOps Leader™DASA DevOps Coach™DASA Product ManagementComing soonDASA DevOps Product Owner™DASA Portfolio ManagementDASA DevOps Fundamentals™DASA DevOps Enable and Scale™DASA DevOps Specify and Verify™Role Based JourneysPartnersTransformation PartnersTraining ProvidersMembershipEnterprisesLearnersFor IndividualsFor TeamsTraining CalendarDevOps Team ScorecardWhich Course Is Right for YouFrequently Asked QuestionsCommunityAmbassadorsReview PanelExpert ForumsDASA AwardsDASA HubResourcesArticlesEventsRecordingsPublicationsCourse CalendarGlossaryDevOps Team Scorecard\n",
      "\n",
      "\n",
      "\n",
      "\n",
      "\n",
      "\n",
      "\n",
      "\n",
      "\n",
      "\n",
      "Become a High-Performance Digital Organization\n",
      "\n",
      "Facilitate your journey towards flow, business agility, and value maximization.\n",
      "\n",
      "Learn More\n",
      "\n",
      "\n",
      "\n",
      "\n",
      "\n",
      "\n",
      "\n",
      "DASA is trusted by leading organizations \n",
      "\n",
      "\n",
      "\n",
      "\n",
      "\n",
      "\n",
      "\n",
      "\n",
      "\n",
      "\n",
      "\n",
      "\n",
      "\n",
      "\n",
      "\n",
      "\n",
      "\n",
      "\n",
      "\n",
      "\n",
      "\n",
      "\n",
      "The Enterprise Transformation Journey\n",
      "Transform into a Digital Winner\n",
      "Each transformation journey is unique, but most follow a similar path. DASA offers the portfolio to navigate this journey, ensuring a personalized yet organized approach tailored to your enterprise’s specific requirements.\n",
      "\n",
      "\n",
      "Learn More\n",
      "\n",
      "\n",
      "\n",
      "\n",
      "\n",
      "\n",
      "Every organization can benefit from the DevOps concepts, the DevOps culture, and the DevOps way of working.\n",
      "— Pieter de Beijer, Capgemini\n",
      "\n",
      "\n",
      "\n",
      "\n",
      "\n",
      "\n",
      "\n",
      "\n",
      "\n",
      "\n",
      "\n",
      "Why DASA\n",
      "Enhance Flow, Agility, and Value\n",
      "Prioritize customer-focused innovation, and foster a culture of agility and teamwork.\n",
      "\n",
      "\n",
      "Learn More\n",
      "\n",
      "\n",
      "\n",
      "\n",
      "\n",
      "\n",
      "Collaborating with DASA gives us the opportunity to be part of something bigger.\n",
      "— Gabriel Casarini, Netmind\n",
      "\n",
      "\n",
      "\n",
      "\n",
      "\n",
      "\n",
      "\n",
      "\n",
      "\n",
      "\n",
      "\n",
      "\n",
      "\n",
      "\n",
      "\n",
      "\n",
      "\n",
      "\n",
      "\n",
      "\n",
      "\n",
      "DASA Principles\n",
      "Accelerate Your Journey\n",
      "DASA emphasizes six key principles crucial for effective adoption and transition to a DevOps-centric approach, underscoring the importance of experiences, ideas, and cultural shifts in becoming a high-performance digital organization.\n",
      "\n",
      "\n",
      "Learn More\n",
      "\n",
      "\n",
      "\n",
      "\n",
      "\n",
      "\n",
      "Technology is evolving more rapidly than ever, and we need to find ways to accelerate the ways we learn to deal with it.\n",
      "— Yoram Meijer, Cegeka\n",
      "\n",
      "\n",
      "\n",
      "\n",
      "\n",
      "\n",
      "\n",
      "\n",
      "Portfolio\n",
      "The Portfolio to Drive Your Transformation\n",
      "An extensive body of knowledge and range of talent and guidance products to boost enterprise transformation success.\n",
      "\n",
      "\n",
      "\n",
      "\n",
      "\n",
      "Talent Products\n",
      "DASA talent products focus on enhancing individual and team capabilities in organizations, preparing them for high-performance environments that boost enterprise agility, customer centricity, and innovation.\n",
      "\n",
      "\n",
      "Learn More\n",
      "\n",
      "\n",
      "\n",
      "\n",
      "Guidance Products\n",
      "DASA guidance products are tailored to provide comprehensive insight, assistance, and provide direction to organizations in navigating the complexities of enterprise-wide digital transformations.\n",
      "\n",
      "\n",
      "Learn More\n",
      "\n",
      "\n",
      "\n",
      "\n",
      "Community\n",
      "DASA communities offer a collaborative space for leaders and professionals to share ideas, learn together, and rapidly adopt best practices in their field, leveraging the collective knowledge of all members.\n",
      "\n",
      "\n",
      "Learn More\n",
      "\n",
      "\n",
      "\n",
      "\n",
      "\n",
      "\n",
      "\n",
      "Body of Knowledge\n",
      "Featured Insights and Perspectives\n",
      "\n",
      "\n",
      "\n",
      "Transformation Stories\n",
      "Wiring the Enterprise for Flow and Value Maximization\n",
      "This article is part of a series on transforming into a high-performance digital organization. To explore the six key themes and start your transformation journey, click here → Achieving optimal flow and…Read More\u001b[0m\u001b[32;1m\u001b[1;3mThe mission of DASA is to facilitate the journey of organizations towards becoming high-performance digital organizations. They aim to enhance flow, agility, and value by prioritizing customer-focused innovation and fostering a culture of teamwork. DASA emphasizes six key principles crucial for effective adoption and transition to a DevOps-centric approach. They offer a portfolio of talent and guidance products to boost enterprise transformation success, and their communities provide a collaborative space for leaders and professionals to share ideas and learn together.\n",
      "\n",
      "Final Answer: DASA's mission is to facilitate the transformation of organizations into high-performance digital entities by emphasizing six key principles, offering a portfolio of talent and guidance products, and fostering a collaborative community for learning and sharing best practices.\u001b[0m\n",
      "\n",
      "\u001b[1m> Finished chain.\u001b[0m\n"
     ]
    },
    {
     "data": {
      "text/plain": [
       "{'input': 'What is the mission of DASA',\n",
       " 'output': \"DASA's mission is to facilitate the transformation of organizations into high-performance digital entities by emphasizing six key principles, offering a portfolio of talent and guidance products, and fostering a collaborative community for learning and sharing best practices.\"}"
      ]
     },
     "execution_count": 8,
     "metadata": {},
     "output_type": "execute_result"
    }
   ],
   "source": [
    "# Instancia un objeto Tavily para busqueda en internet\n",
    "search = TavilySearchResults()\n",
    "\n",
    "# Convertir el retriever en herramienta\n",
    "retriever_tool = create_retriever_tool (retriever, \"DASA_search\", \"Search for information about DASA. For any questions about DASA, you must use this tool\")\n",
    "\n",
    "# Reunir las herramientas\n",
    "tools = [retriever_tool, search]\n",
    "\n",
    "# Construir el agente\n",
    "agent = create_react_agent(llm,tools,prompt)\n",
    "\n",
    "# Ejecutar el agente\n",
    "agent_executor=AgentExecutor(agent=agent,tools=tools,verbose=True)\n",
    "agent_executor.invoke({\"input\":\"What is the mission of DASA\"})"
   ]
  },
  {
   "cell_type": "code",
   "execution_count": null,
   "id": "5b628c57-744e-4c60-b514-51eeba749f8d",
   "metadata": {},
   "outputs": [],
   "source": []
  },
  {
   "cell_type": "code",
   "execution_count": 9,
   "id": "9432ee20-858a-45df-a609-4702ae5976de",
   "metadata": {},
   "outputs": [
    {
     "name": "stdout",
     "output_type": "stream",
     "text": [
      "\n",
      "\n",
      "\u001b[1m> Entering new AgentExecutor chain...\u001b[0m\n",
      "\u001b[32;1m\u001b[1;3mI don't have real-time weather information. I can use a search engine to find the current weather in Kuala Lumpur.\n",
      "Action: tavily_search_results_json\n",
      "Action Input: 'weather in Kuala Lumpur'\u001b[0m\u001b[33;1m\u001b[1;3m[{'url': 'https://www.weatherapi.com/', 'content': \"{'location': {'name': 'Kuala Lumpur', 'region': 'Kuala Lumpur', 'country': 'Malaysia', 'lat': 3.17, 'lon': 101.7, 'tz_id': 'Asia/Kuala_Lumpur', 'localtime_epoch': 1727652566, 'localtime': '2024-09-30 07:29'}, 'current': {'last_updated_epoch': 1727651700, 'last_updated': '2024-09-30 07:15', 'temp_c': 25.3, 'temp_f': 77.5, 'is_day': 1, 'condition': {'text': 'Partly cloudy', 'icon': '//cdn.weatherapi.com/weather/64x64/day/116.png', 'code': 1003}, 'wind_mph': 2.2, 'wind_kph': 3.6, 'wind_degree': 100, 'wind_dir': 'E', 'pressure_mb': 1010.0, 'pressure_in': 29.83, 'precip_mm': 0.0, 'precip_in': 0.0, 'humidity': 94, 'cloud': 25, 'feelslike_c': 28.5, 'feelslike_f': 83.4, 'windchill_c': 24.2, 'windchill_f': 75.5, 'heatindex_c': 26.7, 'heatindex_f': 80.1, 'dewpoint_c': 23.0, 'dewpoint_f': 73.3, 'vis_km': 7.0, 'vis_miles': 4.0, 'uv': 1.0, 'gust_mph': 2.6, 'gust_kph': 4.2}}\"}, {'url': 'https://weather.my/weather/kuala-lumpur/current-weather/location/?gid=1735161&mobile=False&language=english&country=malaysia', 'content': 'Weather Kuala Lumpur. Current weather Kuala Lumpur. Detailed weather forecast. Severe weather warnings. Recent weather reports. weather.my ... Monday, September 23, 2024 - Tuesday, September 24, 2024. Kuala Lumpur, current weather conditions ... 29°C; Le Meridien Kuala Lumpur.'}, {'url': 'https://www.meteoprog.com/weather/Kualalumpur/month/september/', 'content': 'Kuala Lumpur (Malaysia) weather in September 2024 ☀️ Accurate weather forecast for Kuala Lumpur in September ⛅ Detailed forecast By month Current temperature \"near me\" Weather news ⊳ Widget of weather ⊳ Water temperature | METEOPROG ... Kuala Lumpur weather in September 2024. ... +31°+24° 29 August +31 ...'}, {'url': 'https://www.met.gov.my/en/forecast/weather/district/', 'content': 'Location : Kuala Lumpur. Date Weather Forecast; 26/09/2024 Thursday Isolated rain Morning: Isolated rain Afternoon: Isolated rain Night: No rain Min: 24°C Max: 33°C 27/09/2024 Friday ... 29/09/2024 Sunday Scattered thunderstorms Morning: Scattered ...'}, {'url': 'https://www.met.gov.my/en/forecast/weather/town/Tn079/', 'content': 'Location : Kuala Lumpur. Date Weather Forecast; 26/09/2024 Thursday Thunderstorms Morning: Rain Afternoon: Thunderstorms Night: Thunderstorms Min: 25 ... 29/09/2024 Sunday Thunderstorms Morning: Thunderstorms Afternoon: Thunderstorms Night: Rain Min: 25°C Max: 33°C'}]\u001b[0m\u001b[32;1m\u001b[1;3mThe current weather in Kuala Lumpur is provided by the first link from the search results. The temperature is 25.3 degrees Celsius and it is partly cloudy.\n",
      "\n",
      "Final Answer: The current weather in Kuala Lumpur is partly cloudy with a temperature of 25.3 degrees Celsius.\u001b[0m\n",
      "\n",
      "\u001b[1m> Finished chain.\u001b[0m\n"
     ]
    },
    {
     "data": {
      "text/plain": [
       "{'input': 'What is weather in Kuala Lumpur?',\n",
       " 'output': 'The current weather in Kuala Lumpur is partly cloudy with a temperature of 25.3 degrees Celsius.'}"
      ]
     },
     "execution_count": 9,
     "metadata": {},
     "output_type": "execute_result"
    }
   ],
   "source": [
    "agent_executor.invoke({\"input\":\"What is weather in Kuala Lumpur?\"})"
   ]
  },
  {
   "cell_type": "code",
   "execution_count": null,
   "id": "b1cc3894-41c6-4a8d-85a5-5bb67e4c7602",
   "metadata": {},
   "outputs": [],
   "source": []
  },
  {
   "cell_type": "markdown",
   "id": "a4c1fa69-02b9-45c7-bd8e-cbe6c99edc56",
   "metadata": {},
   "source": [
    "#### Herramientas personalizadas\n",
    "Propósito del ejemplo   <br>\n",
    "Mostrar cómo convertir funciones de Python en herramientas usables por agentes. Explorar las propiedades de las herramientas personalizadas."
   ]
  },
  {
   "cell_type": "code",
   "execution_count": 10,
   "id": "cb7edee7-4102-4b8c-8577-04c8f733ad8c",
   "metadata": {},
   "outputs": [
    {
     "name": "stdout",
     "output_type": "stream",
     "text": [
      "Nombre: informe_contable\n",
      "Descripcion: Informar las ganancias netas de una empresa.\n",
      "Argumentos: {'nombre': {'title': 'Nombre', 'type': 'string'}, 'ingresos': {'title': 'Ingresos', 'type': 'integer'}, 'egresos': {'title': 'Egresos', 'type': 'integer'}}\n"
     ]
    }
   ],
   "source": [
    "from langchain_core.tools import tool\n",
    "\n",
    "@tool\n",
    "def informe_contable(nombre:str, ingresos:int, egresos:int) -> str:\n",
    "    \"\"\"Informar las ganancias netas de una empresa.\"\"\"\n",
    "    ingreso_neto = ingresos - egresos\n",
    "    \n",
    "    informe = f\"Informe contable para {nombre}:\\n\"\n",
    "    informe = f\"Ingresos: ${ingresos}\\n\"\n",
    "    informe = f\"Egresos: ${egresos}\\n\"\n",
    "    informe = f\"Ingresos netos: ${ingreso_neto}\\n\"\n",
    "    return informe\n",
    "\n",
    "print(\"Nombre:\",informe_contable.name)\n",
    "print(\"Descripcion:\",informe_contable.description)\n",
    "print(\"Argumentos:\",informe_contable.args)"
   ]
  },
  {
   "cell_type": "code",
   "execution_count": null,
   "id": "9c765cf3-e369-4a20-8d42-4bcb7f52b5e9",
   "metadata": {},
   "outputs": [],
   "source": []
  },
  {
   "cell_type": "code",
   "execution_count": null,
   "id": "e2f88d89-b945-49b5-bd52-af7fbaa5229a",
   "metadata": {},
   "outputs": [],
   "source": []
  },
  {
   "cell_type": "markdown",
   "id": "545facbd-96e9-4efe-a98b-4c44997d550f",
   "metadata": {},
   "source": [
    "##### Crear múltiples herramientas"
   ]
  },
  {
   "cell_type": "code",
   "execution_count": null,
   "id": "ee2bbf07-2d6b-43e5-b9a0-26d525d48103",
   "metadata": {},
   "outputs": [],
   "source": [
    "from langchain_core.tools import tool\n",
    "\n",
    "@tool\n",
    "def multiply(first_int: int, second_int: int) -> int:\n",
    "    \"\"\"Multiplicar dos enteros.\"\"\"\n",
    "    return first_int * second_int\n",
    "    \n",
    "@tool\n",
    "def add(first_int: int, second_int: int) -> int:\n",
    "    \"Sumar dos enteros.\"\n",
    "    return first_int + second_int\n",
    "\n",
    "\n",
    "@tool\n",
    "def exponentiate(base: int, exponent: int) -> int:\n",
    "    \"Potencia.\"\n",
    "    return base**exponent\n",
    "\n",
    "\n",
    "tools = [multiply, add, exponentiate]"
   ]
  },
  {
   "cell_type": "code",
   "execution_count": null,
   "id": "12b7d601-e177-4538-8fac-3794771a4e13",
   "metadata": {},
   "outputs": [],
   "source": []
  }
 ],
 "metadata": {
  "kernelspec": {
   "display_name": "Python 3 (ipykernel)",
   "language": "python",
   "name": "python3"
  },
  "language_info": {
   "codemirror_mode": {
    "name": "ipython",
    "version": 3
   },
   "file_extension": ".py",
   "mimetype": "text/x-python",
   "name": "python",
   "nbconvert_exporter": "python",
   "pygments_lexer": "ipython3",
   "version": "3.11.9"
  }
 },
 "nbformat": 4,
 "nbformat_minor": 5
}
