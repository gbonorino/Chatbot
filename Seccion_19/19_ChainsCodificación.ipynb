{
 "cells": [
  {
   "cell_type": "code",
   "execution_count": 2,
   "metadata": {
    "collapsed": true,
    "jupyter": {
     "outputs_hidden": true
    }
   },
   "outputs": [
    {
     "data": {
      "text/plain": [
       "True"
      ]
     },
     "execution_count": 2,
     "metadata": {},
     "output_type": "execute_result"
    }
   ],
   "source": [
    "from dotenv import load_dotenv\n",
    "load_dotenv()"
   ]
  },
  {
   "cell_type": "code",
   "execution_count": null,
   "metadata": {
    "collapsed": true,
    "jupyter": {
     "outputs_hidden": true
    }
   },
   "outputs": [],
   "source": []
  },
  {
   "cell_type": "markdown",
   "metadata": {},
   "source": [
    "##### Concatenación sin Chain"
   ]
  },
  {
   "cell_type": "code",
   "execution_count": 4,
   "metadata": {
    "collapsed": true,
    "jupyter": {
     "outputs_hidden": true
    }
   },
   "outputs": [
    {
     "name": "stdout",
     "output_type": "stream",
     "text": [
      "Hola Fernando, ¡gracias por preguntar! Estoy aquí para ayudarte, cuéntame en qué puedo asistirte hoy. ¿Tienes alguna pregunta sobre Python o algún otro tema de programación?\n"
     ]
    }
   ],
   "source": [
    "# Codigo base\n",
    "from langchain.prompts import ChatPromptTemplate\n",
    "from langchain_groq import ChatGroq\n",
    "\n",
    "mixtral = ChatGroq(model=\"mixtral-8x7b-32768\",\n",
    "                   temperature=1,\n",
    "                   max_tokens=250)\n",
    "prompt = ChatPromptTemplate.from_template(\"Hola cómo estás? mi nombre es {name}\",)\n",
    "\n",
    "# Codigo que cambia\n",
    "mi_prompt = prompt.format_prompt(name=\"Fernando\")\n",
    "respuesta = mixtral.invoke(mi_prompt)\n",
    "print(respuesta.content)"
   ]
  },
  {
   "cell_type": "code",
   "execution_count": null,
   "metadata": {
    "collapsed": true,
    "jupyter": {
     "outputs_hidden": true
    }
   },
   "outputs": [],
   "source": []
  },
  {
   "cell_type": "code",
   "execution_count": null,
   "metadata": {
    "collapsed": true,
    "jupyter": {
     "outputs_hidden": true
    }
   },
   "outputs": [],
   "source": []
  },
  {
   "cell_type": "code",
   "execution_count": null,
   "metadata": {
    "collapsed": true,
    "jupyter": {
     "outputs_hidden": true
    }
   },
   "outputs": [],
   "source": []
  },
  {
   "cell_type": "markdown",
   "metadata": {},
   "source": [
    "##### Concatenacion empleando LCEL"
   ]
  },
  {
   "cell_type": "code",
   "execution_count": 6,
   "metadata": {
    "collapsed": true,
    "jupyter": {
     "outputs_hidden": true
    }
   },
   "outputs": [
    {
     "name": "stdout",
     "output_type": "stream",
     "text": [
      "Hola Fernando, ¡qué tal estás tú? Encantado de saludarte. Si necesitas ayuda con algo, no dudes en preguntarme. Estoy aquí para asistirte en lo que necesites. ¿En qué puedo ayudarte hoy?\n"
     ]
    }
   ],
   "source": [
    "# Codigo que cambia\n",
    "chain =   prompt |  mixtral   # La concatenacion es unidireccional\n",
    "\n",
    "# Sintaxis alternativas\n",
    "respuesta = chain.invoke({\"name\":\"Fernando\"})\n",
    "#respuesta = chain.invoke(input=\"Fernando\")\n",
    "\n",
    "print(respuesta.content)  "
   ]
  },
  {
   "cell_type": "code",
   "execution_count": null,
   "metadata": {
    "collapsed": true,
    "jupyter": {
     "outputs_hidden": true
    }
   },
   "outputs": [],
   "source": []
  },
  {
   "cell_type": "code",
   "execution_count": null,
   "metadata": {
    "collapsed": true,
    "jupyter": {
     "outputs_hidden": true
    }
   },
   "outputs": [],
   "source": []
  },
  {
   "cell_type": "code",
   "execution_count": null,
   "metadata": {
    "collapsed": true,
    "jupyter": {
     "outputs_hidden": true
    }
   },
   "outputs": [],
   "source": []
  },
  {
   "cell_type": "code",
   "execution_count": null,
   "metadata": {
    "collapsed": true,
    "jupyter": {
     "outputs_hidden": true
    }
   },
   "outputs": [],
   "source": []
  },
  {
   "cell_type": "code",
   "execution_count": null,
   "metadata": {
    "collapsed": true,
    "jupyter": {
     "outputs_hidden": true
    }
   },
   "outputs": [],
   "source": []
  },
  {
   "cell_type": "code",
   "execution_count": null,
   "metadata": {
    "collapsed": true,
    "jupyter": {
     "outputs_hidden": true
    }
   },
   "outputs": [],
   "source": []
  },
  {
   "cell_type": "markdown",
   "metadata": {},
   "source": [
    "#### Cadena\n",
    "Propósito del ejemplo <br>\n",
    "Construir una cadena compuesta, con varios componentes. "
   ]
  },
  {
   "cell_type": "code",
   "execution_count": 7,
   "metadata": {
    "collapsed": true,
    "jupyter": {
     "outputs_hidden": true
    }
   },
   "outputs": [
    {
     "name": "stdout",
     "output_type": "stream",
     "text": [
      "¡Hola! Me alegra que quieras aprender inglés. Estoy aquí para ayudarte. ¿Qué nivel de inglés tienes actualmente? ¿Quieres empezar desde cero o mejorar tus habilidades?\n",
      "\n",
      "Estoy dispuesto a ayudarte a lograr tus objetivos. Aquí te presento algunos recursos para empezar:\n",
      "\n",
      "1. **Gramática básica**: Te recomiendo empezar con la gramática básica del inglés, como los verbos regulares y irregulares, los tiempos verbales, los pronombres, etc.\n",
      "2. **Vocabulario**: Aprende nuevos vocablos cada día. Puedes usar apps como Duolingo, Quizlet o Cambridge Dictionary para aprender nuevos palabras.\n",
      "3. **Práctica**: Practica hablando y escribiendo en inglés. Puedes hablar con un amigo o familiar que habla inglés, o puedes practicar con un idioma intercambio.\n",
      "4. **Materiales de estudio**: Hay muchos recursos en línea para aprender inglés, como cursos en línea, podcasts, videos, etc. Puedes buscar en YouTube, Coursera, Udemy, etc.\n",
      "\n",
      "Además, te dejo algunos consejos adicionales:\n",
      "\n",
      "* **Practica regularmente**: Aprende un poco cada día, en lugar de tratar de aprender todo en una sola sesión.\n",
      "* **Escucha y habla**: Escucha podcasts, videos y música en inglés, y habla con otros hablantes de inglés para mejorar tus habilidades.\n",
      "* **No tengas miedo de cometer errores**: Es normal cometer errores al aprender un idioma. Lo importante es que sigas practicando y aprendiendo.\n",
      "\n",
      "¿Qué te parece si empezamos con algo específico? ¿Qué área del inglés te gustaría mejorar en particular?\n",
      "\n",
      "Tenemos 30 días para lograr nuestros objetivos. ¿Qué te parece si empezamos con algo como el vocabulario o la gramática básica? ¿O prefieres enfocarte en la práctica oral o escrita? Me alegra trabajar contigo para lograr tus metas.\n"
     ]
    }
   ],
   "source": [
    "from langchain.prompts import PromptTemplate\n",
    "from langchain_groq import ChatGroq\n",
    "\n",
    "# Se instancia un modelo\n",
    "llm = ChatGroq(model=\"llama3-8b-8192\")\n",
    "\n",
    "# Primer prompt\n",
    "prompt_aprender = PromptTemplate(\n",
    "    input_variables=[\"idioma\"],\n",
    "    template='Deseo aprender {idioma}')\n",
    "\n",
    "# Segundo prompt\n",
    "prompt_tiempo = PromptTemplate(\n",
    "    input_variables=[\"prompt_aprender\"],\n",
    "    template='Dispongo de 30 dias. Ayudeme a cumplir la meta de {prompt_aprender}')\n",
    "\n",
    "# Una sintaxis\n",
    "chain1 = prompt_aprender | llm\n",
    "chain2 = prompt_tiempo   | llm        \n",
    "chain3 = chain1 | chain2\n",
    "print(chain3.invoke({\"idioma\":\"Ingles\"}).content)"
   ]
  },
  {
   "cell_type": "code",
   "execution_count": null,
   "metadata": {},
   "outputs": [],
   "source": []
  },
  {
   "cell_type": "code",
   "execution_count": null,
   "metadata": {
    "collapsed": true,
    "jupyter": {
     "outputs_hidden": true
    }
   },
   "outputs": [],
   "source": []
  },
  {
   "cell_type": "code",
   "execution_count": 8,
   "metadata": {
    "collapsed": true,
    "jupyter": {
     "outputs_hidden": true
    }
   },
   "outputs": [
    {
     "name": "stdout",
     "output_type": "stream",
     "text": [
      "¡Hola! Me alegra que quieras aprender inglés. Estoy aquí para ayudarte en tu viaje de aprendizaje.\n",
      "\n",
      "¿Cuál es tu nivel de inglés actual? ¿Tienes algún nivel de experiencia previo en el idioma o es un comienzo desde cero?\n",
      "\n",
      "Hay varias formas en que puedo ayudarte:\n",
      "\n",
      "1. Conversación: podemos hablar en inglés y practicar conversación.\n",
      "2. Lecciones: puedo proporcionarte lecciones estructuradas y guías para aprender inglés.\n",
      "3. Ejercicios: puedo proporcionarte ejercicios para practicar gramática, vocabulario y comprensión auditiva.\n",
      "4. Conversación en vivo: puedo conectarme con ti a través de video y practicar conversación en vivo.\n",
      "\n",
      "¿Qué te gustaría hacer primero? ¿Tienes algún objetivo específico en mente, como prepararte para un examen o mejorar tus habilidades para viajar en inglés?\n",
      "\n",
      "Recuerda, la práctica regular y la persistencia son clave para mejorar en inglés. ¡Estoy aquí para apoyarte!\n",
      "\n",
      "**Mi plan para los próximos 30 días:**\n",
      "\n",
      "Día 1-5: Evaluación del nivel actual de inglés y definir objetivos específicos.\n",
      "\n",
      "Día 6-15: Lecciones estructuradas y guías para aprender inglés, incluyendo gramática y vocabulario.\n",
      "\n",
      "Día 16-20: Practica de conversación en vivo y ejercicios para mejorar la comprensión auditiva.\n",
      "\n",
      "Día 21-25: Practica de conversación en vivo y ejercicios para mejorar la gramática y el vocabulario.\n",
      "\n",
      "Día 26-30: Evaluar el progreso y definir el plan de acción para los próximos 30 días.\n",
      "\n",
      "¿Te parece un buen plan? Estoy aquí para adaptarlo a tus necesidades y objetivos. ¡Vamos a empezar!\n"
     ]
    }
   ],
   "source": [
    "# Otra sintaxis mas compacta\n",
    "seq_chain = ({\"prompt_aprender\":prompt_aprender | llm  }\n",
    "             | prompt_tiempo\n",
    "             | llm        )\n",
    "\n",
    "print(seq_chain.invoke({\"idioma\":\"Ingles\"}).content)"
   ]
  },
  {
   "cell_type": "code",
   "execution_count": null,
   "metadata": {
    "collapsed": true,
    "jupyter": {
     "outputs_hidden": true
    }
   },
   "outputs": [],
   "source": []
  }
 ],
 "metadata": {
  "kernelspec": {
   "display_name": "Python 3 (ipykernel)",
   "language": "python",
   "name": "python3"
  },
  "language_info": {
   "codemirror_mode": {
    "name": "ipython",
    "version": 3
   },
   "file_extension": ".py",
   "mimetype": "text/x-python",
   "name": "python",
   "nbconvert_exporter": "python",
   "pygments_lexer": "ipython3",
   "version": "3.11.9"
  }
 },
 "nbformat": 4,
 "nbformat_minor": 4
}
