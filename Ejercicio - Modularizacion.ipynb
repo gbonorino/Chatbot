{
 "cells": [
  {
   "cell_type": "markdown",
   "id": "75d815f6-7baf-463e-9ff0-bb1455f7a992",
   "metadata": {},
   "source": [
    "#### Ejercicio de modularización de código\n",
    "Este ejercicio presenta un tema que es marginal al meollo del curso, ya que es puro Python. Hasta aquí el desarrollo de los scripts ha sido lineal, es decir, secuencias de sentencias que se ejecutan linealmente, excepto por algún bucle. Este procedimiento se adapta muy bien al esquema de celdas en Jupyter Notebook. Un estilo de programación más profesional, sin embargo, suele propender a la modularización organizando las sentencias como funciones. Una programacion modular ayuda a reciclar codigo y acelerar el desarrollo de aplicaciones similares en el futuro. En particular, una organización con funciones es indispensable cuando se emplean tableros de control como Streamlit o Gradio. \n",
    "\n",
    "Entonces, el ejercicio consiste en que reescriban el script que se da abajo empleando funciones. Construyan funciones para la carga de textos, para la partición, y para la indexación. Intenten que las funciones sean autónomas, es decir, que los parámetros requeridos les sean transferidos como argumentos en la invocación.<br>\n",
    "Se ofrece una solución pero no es la única posible."
   ]
  },
  {
   "cell_type": "markdown",
   "id": "06d43ae2-87de-4470-96b4-67d86b1be437",
   "metadata": {},
   "source": [
    "##### Script sin modularizar"
   ]
  },
  {
   "cell_type": "code",
   "execution_count": null,
   "id": "bc189819-8f8c-4244-9819-2755a2362c0f",
   "metadata": {
    "collapsed": true,
    "jupyter": {
     "outputs_hidden": true
    }
   },
   "outputs": [],
   "source": [
    "from langchain_community.document_loaders import TextLoader\n",
    "from langchain.text_splitter import RecursiveCharacterTextSplitter\n",
    "from langchain_huggingface import HuggingFaceEmbeddings\n",
    "from langchain.vectorstores import FAISS\n",
    "from langchain_groq import ChatGroq\n",
    "\n",
    "mixtral = ChatGroq(model=\"mixtral-8x7b-32768\")\n",
    "loader = TextLoader('./directorio/ConstitucionArgentina.txt',\n",
    "                   encoding='UTF-8')\n",
    "docs =loader.load()\n",
    "\n",
    "text_splitter = RecursiveCharacterTextSplitter(\n",
    "    chunk_size=1000, chunk_overlap=200)\n",
    "final_docs = text_splitter.split_documents(docs)\n",
    "\n",
    "# Incrustacion y espacio vectorial\n",
    "embeddings = HuggingFaceEmbeddings(model_name=\"all-MiniLM-L6-v2\") \n",
    "db = FAISS.from_documents(documents=final_docs, embedding=embeddings)\n",
    "\n",
    "query = \"Cuales derechos sostiene la constitucion argentina\"\n",
    "result = db.similarity_search(query)\n",
    "result[0].page_content"
   ]
  },
  {
   "cell_type": "code",
   "execution_count": null,
   "id": "0fe99259-46ef-43e5-859a-fc193159005a",
   "metadata": {},
   "outputs": [],
   "source": []
  },
  {
   "cell_type": "code",
   "execution_count": null,
   "id": "ab842bd9-6a9e-4726-95e3-4dafa78cbf78",
   "metadata": {},
   "outputs": [],
   "source": []
  },
  {
   "cell_type": "markdown",
   "id": "4e3414e7-d0ca-436e-a060-b8c7c45dc1bf",
   "metadata": {
    "collapsed": true,
    "jupyter": {
     "outputs_hidden": true
    }
   },
   "source": [
    "#### Solución - script modularizado\n",
    "Se incluyen las clases importadas en cada módulo para facilitar las pruebas, pero debieran reunirse al principio."
   ]
  },
  {
   "cell_type": "code",
   "execution_count": 28,
   "id": "560aee01-6834-4d03-bc28-0f0bfe965204",
   "metadata": {
    "collapsed": true,
    "jupyter": {
     "outputs_hidden": true
    }
   },
   "outputs": [],
   "source": [
    "from langchain_community.document_loaders import TextLoader\n",
    "\n",
    "def cargar_texto(path, archivo):\n",
    "    loader = TextLoader(path + archivo, encoding='utf-8')\n",
    "    docs = loader.load()\n",
    "    return docs\n",
    "    \n",
    "docs = cargar_texto(\"c:/NuevoChatbot/directorio/\", \"ConstitucionArgentina.txt\")"
   ]
  },
  {
   "cell_type": "code",
   "execution_count": 29,
   "id": "d4d8dea7-3da6-48ee-8cd9-5a52203567d9",
   "metadata": {
    "collapsed": true,
    "jupyter": {
     "outputs_hidden": true
    }
   },
   "outputs": [
    {
     "data": {
      "text/plain": [
       "[Document(metadata={'source': 'c:/NuevoChatbot/directorio/ConstitucionArgentina.txt'}, page_content='La Constitución de la Nación Argentina, que rige actualmente a la República Argentina, fue aprobada por una asamblea constituyente integrada por representantes de trece provincias, hecha en la ciudad de Santa Fe en el año 1853. El propósito de la Constitución de 1853 fue poner fin al ciclo de las guerras civiles y sentar las bases de la «unión nacional» mediante un régimen republicano y federal. Antes de esta Constitución hubo dos intentos constituyentes en 1819 y 1826, que no prosperaron por carecer de consenso entre las provincias. Con posterioridad otras diez provincias y una ciudad integraron la federación.\\n\\nEl texto ha sido reformado varias veces, estando vigente la redacción resultante de la reforma de 1994. En varias oportunidades el orden constitucional fue dejado sin efecto por golpes de Estado, el último de los cuales impuso una dictadura que se mantuvo en el poder hasta el 10 de diciembre de 1983.'),\n",
       " Document(metadata={'source': 'c:/NuevoChatbot/directorio/ConstitucionArgentina.txt'}, page_content='Preámbulo\\nArtículo principal: Preámbulo de la Constitución de la Nación Argentina\\n«Nos los Representantes del Pueblo de la Confederación Argentina…»\\n\\nActualmente, el preámbulo de la Constitución Argentina es el siguiente:\\n\\nNos los representantes del pueblo de la Nación Argentina, reunidos en Congreso General Constituyente por voluntad y elección de las provincias que la componen, en cumplimiento de pactos preexistentes, con el objeto de constituir la unión nacional, afianzar la justicia, consolidar la paz interior, proveer a la defensa común, promover el bienestar general, y asegurar los beneficios de la libertad, para nosotros, para nuestra posteridad, y para todos los hombres del mundo que quieran habitar en el suelo argentino: invocando la protección de Dios, fuente de toda razón y justicia: ordenamos, decretamos y establecemos esta Constitución, para la Nación Argentina.')]"
      ]
     },
     "execution_count": 29,
     "metadata": {},
     "output_type": "execute_result"
    }
   ],
   "source": [
    "from langchain.text_splitter import RecursiveCharacterTextSplitter\n",
    "\n",
    "def particionador(clase_particionador, docs):\n",
    "    text_splitter = clase_particionador(chunk_size=1000, chunk_overlap=200)\n",
    "    docs_split = text_splitter.split_documents(docs)\n",
    "    return docs_split\n",
    "\n",
    "particionador(RecursiveCharacterTextSplitter, docs)"
   ]
  },
  {
   "cell_type": "code",
   "execution_count": 34,
   "id": "b5d64674-cda3-43e8-b880-e8e4d9365d5c",
   "metadata": {},
   "outputs": [
    {
     "data": {
      "text/plain": [
       "[Document(metadata={'source': 'c:/NuevoChatbot/directorio/ConstitucionArgentina.txt'}, page_content='La Constitución de la Nación Argentina, que rige actualmente a la República Argentina, fue aprobada por una asamblea constituyente integrada por representantes de trece provincias, hecha en la ciudad de Santa Fe en el año 1853. El propósito de la Constitución de 1853 fue poner fin al ciclo de las guerras civiles y sentar las bases de la «unión nacional» mediante un régimen republicano y federal. Antes de esta Constitución hubo dos intentos constituyentes en 1819 y 1826, que no prosperaron por carecer de consenso entre las provincias. Con posterioridad otras diez provincias y una ciudad integraron la federación.\\n\\nEl texto ha sido reformado varias veces, estando vigente la redacción resultante de la reforma de 1994. En varias oportunidades el orden constitucional fue dejado sin efecto por golpes de Estado, el último de los cuales impuso una dictadura que se mantuvo en el poder hasta el 10 de diciembre de 1983.\\n\\nPreámbulo\\nArtículo principal: Preámbulo de la Constitución de la Nación Argentina\\n«Nos los Representantes del Pueblo de la Confederación Argentina…»\\n\\nActualmente, el preámbulo de la Constitución Argentina es el siguiente:\\n\\nNos los representantes del pueblo de la Nación Argentina, reunidos en Congreso General Constituyente por voluntad y elección de las provincias que la componen, en cumplimiento de pactos preexistentes, con el objeto de constituir la unión nacional, afianzar la justicia, consolidar la paz interior, proveer a la defensa común, promover el bienestar general, y asegurar los beneficios de la libertad, para nosotros, para nuestra posteridad, y para todos los hombres del mundo que quieran habitar en el suelo argentino: invocando la protección de Dios, fuente de toda razón y justicia: ordenamos, decretamos y establecemos esta Constitución, para la Nación Argentina.\\n\\n')]"
      ]
     },
     "execution_count": 34,
     "metadata": {},
     "output_type": "execute_result"
    }
   ],
   "source": [
    "from langchain_huggingface import HuggingFaceEmbeddings\n",
    "from langchain.vectorstores import FAISS\n",
    "\n",
    "def indexacion(docs, query):\n",
    "    embeddings = HuggingFaceEmbeddings(model_name=\"all-MiniLM-L6-v2\") \n",
    "    db = FAISS.from_documents(documents=docs, embedding=embeddings)\n",
    "    resultado = db.similarity_search(query)\n",
    "    return resultado\n",
    "\n",
    "resultado = indexacion(docs, query= \"Cuales derechos sostiene la constitucion argentina\")\n",
    "resultado"
   ]
  },
  {
   "cell_type": "code",
   "execution_count": null,
   "id": "36d288db-d91e-43b4-a102-578b1d23c9a9",
   "metadata": {},
   "outputs": [],
   "source": []
  }
 ],
 "metadata": {
  "kernelspec": {
   "display_name": "Python 3 (ipykernel)",
   "language": "python",
   "name": "python3"
  },
  "language_info": {
   "codemirror_mode": {
    "name": "ipython",
    "version": 3
   },
   "file_extension": ".py",
   "mimetype": "text/x-python",
   "name": "python",
   "nbconvert_exporter": "python",
   "pygments_lexer": "ipython3",
   "version": "3.11.9"
  }
 },
 "nbformat": 4,
 "nbformat_minor": 5
}
