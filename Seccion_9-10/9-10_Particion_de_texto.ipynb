{
 "cells": [
  {
   "cell_type": "markdown",
   "metadata": {},
   "source": [
    "#### Exceder la capacidad de la ventana de contexto\n",
    "Propósito del ejemplo  <br>\n",
    "Mostrar el tipo de error que arroja Python cuando se excede la capacidad de la ventana de contexto de un LLM. \n"
   ]
  },
  {
   "cell_type": "code",
   "execution_count": null,
   "metadata": {
    "collapsed": true,
    "jupyter": {
     "outputs_hidden": true
    }
   },
   "outputs": [],
   "source": [
    "from langchain.document_loaders import PyPDFLoader\n",
    "\n",
    "loader = PyPDFLoader(\"directorio/WorldBank.pdf\")\n",
    "pages = loader.load()\n",
    "conteo = 0\n",
    "for i in range(len(pages)):\n",
    "    conteo = conteo + len(pages[i].page_content.split())\n",
    "print(\"Palabras totales -\\n\", conteo)"
   ]
  },
  {
   "cell_type": "code",
   "execution_count": null,
   "metadata": {
    "collapsed": true,
    "jupyter": {
     "outputs_hidden": true
    }
   },
   "outputs": [],
   "source": [
    "from langchain_groq import ChatGroq\n",
    "from dotenv import load_dotenv\n",
    "\n",
    "load_dotenv()      # Habilitar la API\n",
    "doc = []           # Crear lista vacia\n",
    "for i in range(len(pages)):\n",
    "    doc.append(pages[i].page_content)        # Reunir los textos de cada pagina\n",
    "    \n",
    "llm = ChatGroq(model=\"llama3-8b-8192\") # Meta      # Instanciar el LLM\n",
    "llm.invoke(doc)                         # Invocar el LLM con el documento completo"
   ]
  },
  {
   "cell_type": "code",
   "execution_count": null,
   "metadata": {
    "collapsed": true,
    "jupyter": {
     "outputs_hidden": true
    }
   },
   "outputs": [],
   "source": []
  },
  {
   "cell_type": "code",
   "execution_count": null,
   "metadata": {
    "collapsed": true,
    "jupyter": {
     "outputs_hidden": true
    }
   },
   "outputs": [],
   "source": []
  },
  {
   "cell_type": "markdown",
   "metadata": {},
   "source": [
    "#### CharacterTextSplitter - Ejemplo 1\n",
    "Propósito del ejemplo  <br>\n",
    "Implementar el particionador CharacterTextSplitter, el más sencillo. En este primer ejemplo <br>\n",
    "se usa un texto corto para apreciar mejor el funcionamiento.\n"
   ]
  },
  {
   "cell_type": "code",
   "execution_count": null,
   "metadata": {
    "collapsed": true,
    "jupyter": {
     "outputs_hidden": true
    }
   },
   "outputs": [],
   "source": [
    "! pip install langchain-text-splitters"
   ]
  },
  {
   "cell_type": "code",
   "execution_count": 17,
   "metadata": {
    "collapsed": true,
    "jupyter": {
     "outputs_hidden": true
    }
   },
   "outputs": [
    {
     "data": {
      "text/plain": [
       "['abcdef', 'hijklmnopqrstuvwxyz']"
      ]
     },
     "execution_count": 17,
     "metadata": {},
     "output_type": "execute_result"
    }
   ],
   "source": [
    "# Se instancia CharacterTextSplitter. Requiere un separador.\n",
    "# Por defecto el separador es el Fin de linea. Acepta otros.\n",
    "from langchain_text_splitters import CharacterTextSplitter\n",
    "\n",
    "texto = 'abcdefghijklmnopqrstuvwxyz'\n",
    "c_splitter = CharacterTextSplitter(\n",
    "    chunk_size=14,\n",
    "    chunk_overlap=0,\n",
    "    separator = 'g',\n",
    ")\n",
    "# Se aplica CharacterTextSplitter\n",
    "c_splitter.split_text(texto)"
   ]
  },
  {
   "cell_type": "code",
   "execution_count": null,
   "metadata": {
    "collapsed": true,
    "jupyter": {
     "outputs_hidden": true
    }
   },
   "outputs": [],
   "source": []
  },
  {
   "cell_type": "code",
   "execution_count": null,
   "metadata": {
    "collapsed": true,
    "jupyter": {
     "outputs_hidden": true
    }
   },
   "outputs": [],
   "source": []
  },
  {
   "cell_type": "markdown",
   "metadata": {},
   "source": [
    "#### CharacterTextSplitter - Ejemplo 2\n",
    "Propósito del ejemplo <br>\n",
    "Implementar el particionador CharacterTextSplitter con un texto largo.\n"
   ]
  },
  {
   "cell_type": "code",
   "execution_count": 19,
   "metadata": {
    "collapsed": true,
    "jupyter": {
     "outputs_hidden": true
    }
   },
   "outputs": [
    {
     "name": "stderr",
     "output_type": "stream",
     "text": [
      "Created a chunk of size 618, which is longer than the specified 300\n",
      "Created a chunk of size 301, which is longer than the specified 300\n"
     ]
    },
    {
     "name": "stdout",
     "output_type": "stream",
     "text": [
      "4\n"
     ]
    },
    {
     "data": {
      "text/plain": [
       "'La Constitución de la Nación Argentina, que rige actualmente a la República Argentina, fue aprobada por una asamblea constituyente integrada por representantes de trece provincias, hecha en la ciudad de Santa Fe en el año 1853. El propósito de la Constitución de 1853 fue poner fin al ciclo de las guerras civiles y sentar las bases de la «unión nacional» mediante un régimen republicano y federal. Antes de esta Constitución hubo dos intentos constituyentes en 1819 y 1826, que no prosperaron por carecer de consenso entre las provincias. Con posterioridad otras diez provincias y una ciudad integraron la federación.'"
      ]
     },
     "execution_count": 19,
     "metadata": {},
     "output_type": "execute_result"
    }
   ],
   "source": [
    "from langchain_community.document_loaders import TextLoader\n",
    "from langchain_text_splitters import CharacterTextSplitter\n",
    "\n",
    "loader = TextLoader(\"./directorio/ConstitucionArgentina.txt\",\n",
    "                     encoding='utf-8')\n",
    "pages = loader.load()\n",
    "\n",
    "text_splitter = CharacterTextSplitter(\n",
    "    separator=\"\\n\",\n",
    "    chunk_size=300,\n",
    "    chunk_overlap=0,\n",
    ")\n",
    "docs = text_splitter.split_documents(pages)\n",
    "print(len(docs))\n",
    "docs[0].page_content"
   ]
  },
  {
   "cell_type": "code",
   "execution_count": null,
   "metadata": {
    "collapsed": true,
    "jupyter": {
     "outputs_hidden": true
    }
   },
   "outputs": [],
   "source": []
  },
  {
   "cell_type": "code",
   "execution_count": null,
   "metadata": {
    "collapsed": true,
    "jupyter": {
     "outputs_hidden": true
    }
   },
   "outputs": [],
   "source": []
  },
  {
   "cell_type": "code",
   "execution_count": null,
   "metadata": {
    "collapsed": true,
    "jupyter": {
     "outputs_hidden": true
    }
   },
   "outputs": [],
   "source": []
  },
  {
   "cell_type": "markdown",
   "metadata": {},
   "source": [
    "#### RecursiveCharacterTextSplitter - Ejemplo 1\n",
    "Propósito del ejemplo <br>\n",
    "Implementar el particionador RecursiveCharacterTextSplitter con un texto corto.\n"
   ]
  },
  {
   "cell_type": "code",
   "execution_count": 1,
   "metadata": {
    "collapsed": true,
    "jupyter": {
     "outputs_hidden": true
    }
   },
   "outputs": [
    {
     "data": {
      "text/plain": [
       "['abcdefgh', 'ghijklmn', 'mnopqrst', 'stuvwxyz']"
      ]
     },
     "execution_count": 1,
     "metadata": {},
     "output_type": "execute_result"
    }
   ],
   "source": [
    "# Se instancia RecursiveCharacterTextSplitter\n",
    "from langchain_text_splitters import RecursiveCharacterTextSplitter\n",
    "\n",
    "# Se trata de particionar esta cadena de 26 caracteres\n",
    "texto = 'abcdefghijklmnopqrstuvwxyz'\n",
    "\n",
    "r_splitter = RecursiveCharacterTextSplitter(\n",
    "# Se define el tamaño de los chunks y el grado de solapamiento\n",
    "    chunk_size=8,\n",
    "    chunk_overlap=2\n",
    ")\n",
    "\n",
    "r_splitter.split_text(texto)"
   ]
  },
  {
   "cell_type": "code",
   "execution_count": null,
   "metadata": {
    "collapsed": true,
    "jupyter": {
     "outputs_hidden": true
    }
   },
   "outputs": [],
   "source": []
  },
  {
   "cell_type": "code",
   "execution_count": null,
   "metadata": {
    "collapsed": true,
    "jupyter": {
     "outputs_hidden": true
    }
   },
   "outputs": [],
   "source": []
  },
  {
   "cell_type": "code",
   "execution_count": null,
   "metadata": {
    "collapsed": true,
    "jupyter": {
     "outputs_hidden": true
    }
   },
   "outputs": [],
   "source": []
  },
  {
   "cell_type": "code",
   "execution_count": null,
   "metadata": {
    "collapsed": true,
    "jupyter": {
     "outputs_hidden": true
    }
   },
   "outputs": [],
   "source": []
  },
  {
   "cell_type": "markdown",
   "metadata": {},
   "source": [
    "#### RecursiveCharacterTextSplitter - Ejemplo 2\n",
    "Propósito del ejemplo  <br>\n",
    "Implementar el particionador RecursiveCharacterTextSplitter con un texto largo.\n"
   ]
  },
  {
   "cell_type": "code",
   "execution_count": 12,
   "metadata": {},
   "outputs": [
    {
     "name": "stdout",
     "output_type": "stream",
     "text": [
      "6\n",
      "Numero de chunk: 1 \n",
      " La Constitución de la Nación Argentina, que rige actualmente a la República Argentina, fue aprobada por una asamblea constituyente integrada por representantes de trece provincias, hecha en la ciudad de Santa Fe en el año 1853. El propósito de la Constitución de 1853 fue poner fin al ciclo de las guerras civiles y sentar las bases de la «unión nacional» mediante un régimen republicano y federal. Antes de esta Constitución hubo dos intentos constituyentes en 1819 y 1826, que no prosperaron por\n",
      "\n",
      "Numero de chunk: 2 \n",
      " carecer de consenso entre las provincias. Con posterioridad otras diez provincias y una ciudad integraron la federación.\n",
      "\n",
      "Numero de chunk: 3 \n",
      " El texto ha sido reformado varias veces, estando vigente la redacción resultante de la reforma de 1994. En varias oportunidades el orden constitucional fue dejado sin efecto por golpes de Estado, el último de los cuales impuso una dictadura que se mantuvo en el poder hasta el 10 de diciembre de 1983.\n",
      "\n",
      "Numero de chunk: 4 \n",
      " Preámbulo\n",
      "Artículo principal: Preámbulo de la Constitución de la Nación Argentina\n",
      "«Nos los Representantes del Pueblo de la Confederación Argentina…»\n",
      "\n",
      "Actualmente, el preámbulo de la Constitución Argentina es el siguiente:4​\n",
      "\n",
      "Numero de chunk: 5 \n",
      " Nos los representantes del pueblo de la Nación Argentina, reunidos en Congreso General Constituyente por voluntad y elección de las provincias que la componen, en cumplimiento de pactos preexistentes, con el objeto de constituir la unión nacional, afianzar la justicia, consolidar la paz interior, proveer a la defensa común, promover el bienestar general, y asegurar los beneficios de la libertad, para nosotros, para nuestra posteridad, y para todos los hombres del mundo que quieran habitar en el\n",
      "\n",
      "Numero de chunk: 6 \n",
      " suelo argentino: invocando la protección de Dios, fuente de toda razón y justicia: ordenamos, decretamos y establecemos esta Constitución, para la Nación Argentina.\n",
      "\n"
     ]
    }
   ],
   "source": [
    "from langchain_text_splitters import RecursiveCharacterTextSplitter\n",
    "\n",
    "path = \"./directorio/ConstitucionArgentina.txt\"\n",
    "with open(path,'r', encoding=\"UTF-8\") as f:\n",
    "    texto = f.read()\n",
    "    \n",
    "r_splitter = RecursiveCharacterTextSplitter(\n",
    "    separators=[\"\\n\\n\", \n",
    "                 \"\\n\", \n",
    "                 \" \" ], \n",
    "    chunk_size=500,\n",
    "    chunk_overlap=0\n",
    ")\n",
    "chunks = r_splitter.create_documents([texto])\n",
    "print(len(chunks))\n",
    "for i in range(len(chunks)):\n",
    "    print(\"Numero de chunk:\", i+1, \"\\n\", chunks[i].page_content)\n",
    "    print()"
   ]
  },
  {
   "cell_type": "code",
   "execution_count": null,
   "metadata": {
    "collapsed": true,
    "jupyter": {
     "outputs_hidden": true
    }
   },
   "outputs": [],
   "source": []
  }
 ],
 "metadata": {
  "kernelspec": {
   "display_name": "Python 3 (ipykernel)",
   "language": "python",
   "name": "python3"
  },
  "language_info": {
   "codemirror_mode": {
    "name": "ipython",
    "version": 3
   },
   "file_extension": ".py",
   "mimetype": "text/x-python",
   "name": "python",
   "nbconvert_exporter": "python",
   "pygments_lexer": "ipython3",
   "version": "3.11.9"
  }
 },
 "nbformat": 4,
 "nbformat_minor": 4
}
