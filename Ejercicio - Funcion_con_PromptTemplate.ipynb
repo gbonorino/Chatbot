{
 "cells": [
  {
   "cell_type": "markdown",
   "id": "5a6b53b2-c399-42f3-b32b-b997dc77dc8e",
   "metadata": {},
   "source": [
    "#### Ejercicio - Plantilla de prompt\n",
    "Construir una función que permita al usuario consultar al modelo chat sobre actividades al aire libre a realizar con un determinado presupuesto. El esquema de la función se da abajo."
   ]
  },
  {
   "cell_type": "code",
   "execution_count": 2,
   "id": "7a4b5ff2-ed44-4b82-b6de-6e150c27459d",
   "metadata": {
    "collapsed": true,
    "jupyter": {
     "outputs_hidden": true
    }
   },
   "outputs": [
    {
     "data": {
      "text/plain": [
       "True"
      ]
     },
     "execution_count": 2,
     "metadata": {},
     "output_type": "execute_result"
    }
   ],
   "source": [
    "from dotenv import load_dotenv\n",
    "load_dotenv()"
   ]
  },
  {
   "cell_type": "code",
   "execution_count": null,
   "id": "c6964e08-c18f-45c8-8968-4373e02d7f41",
   "metadata": {
    "collapsed": true,
    "jupyter": {
     "outputs_hidden": true
    }
   },
   "outputs": [],
   "source": [
    "def actividad_deseada(actividad1,presupuesto1,lugar1):\n",
    "    '''\n",
    "    Condiciones:\n",
    "        actividad de interés: Puede ser pesca, caza, treking (actividad1)\n",
    "        presupuesto disponible: Una suma de dinero (presupuesto1)\n",
    "        lugar a visitar: una región o país (lugar1)\n",
    "    '''\n",
    "    pass"
   ]
  },
  {
   "cell_type": "markdown",
   "id": "ab0bf79b-6636-4dbe-8efa-21b199afbbb8",
   "metadata": {},
   "source": [
    "Los pasos son:\n",
    "\n",
    "- Dar código para acceder a la API de Groq\n",
    "- Importar la clase de modelo chat\n",
    "- Importar la clase para crear una plantilla de mensaje chat\n",
    "- Construir la lista de mensajes empleando los tres roles; insertar las variables dinámicas\n",
    "- Construir el esqueleto de prompt con los mensajes (.from_messages)\n",
    "- Dar valores a las variables dinámicas para construir el prompt final\n",
    "- Inicializar el modelo chat\n",
    "- Pasar el prompt al modelo y ejecutar\n",
    "- La función debe invocarse con: <br>\n",
    "  print(actividad_deseada(\"pesca\", 10000, \"Argentina\"))"
   ]
  },
  {
   "cell_type": "code",
   "execution_count": null,
   "id": "6c6f3a30-6af3-49b1-8b99-3826ef599bc4",
   "metadata": {
    "collapsed": true,
    "jupyter": {
     "outputs_hidden": true
    }
   },
   "outputs": [],
   "source": []
  },
  {
   "cell_type": "markdown",
   "id": "31aff70b-fed7-47f5-a0d0-8095fe925224",
   "metadata": {},
   "source": [
    "#### Solución"
   ]
  },
  {
   "cell_type": "code",
   "execution_count": 3,
   "id": "8503bad3-fe9a-4050-a994-9bb51ba5e38f",
   "metadata": {
    "collapsed": true,
    "jupyter": {
     "outputs_hidden": true
    }
   },
   "outputs": [
    {
     "name": "stderr",
     "output_type": "stream",
     "text": [
      "Failed to batch ingest runs: LangSmithError('Failed to POST https://api.smith.langchain.com/runs/batch in LangSmith API. HTTPError(\\'403 Client Error: Forbidden for url: https://api.smith.langchain.com/runs/batch\\', \\'{\"detail\":\"Forbidden\"}\\')')\n"
     ]
    },
    {
     "name": "stdout",
     "output_type": "stream",
     "text": [
      "¡Hola! Argentina es un destino maravilloso para los amantes de la pesca. Te recomiendo visitar la provincia de San Martín de los Andes, en la región de Patagonia. Allí se encuentra el río Chimehuín, uno de los mejores lugares para la pesca con mosca en Argentina. Puedes encontrar truchas marrones y arcoíris de tamaño impresionante.\n",
      "\n",
      "El costo aproximado de un viaje de pesca de una semana en San Martín de los Andes sería el siguiente:\n",
      "\n",
      "- Vuelos redondos desde Estados Unidos a Bariloche (ciudad más cercana): $1,500\n",
      "- Traslado desde Bariloche a San Martín de los Andes: $100\n",
      "- Alojamiento en un lodge de pesca (por 7 noches con pensión completa): $2,500\n",
      "- Guía de pesca profesional (por 6 días): $1,200\n",
      "- Licencia de pesca: $200\n",
      "- Comidas y bebidas adicionales: $300\n",
      "- Gastos personales: $500\n",
      "\n",
      "El presupuesto de $10,000 se puede ajustar dependiendo del tipo de alojamiento, el número de guías y la duración de tu viaje. Además, ten en cuenta que algunos lodges ofrecen paquetes completos, que incluyen el vuelo, el alojamiento, las comidas y la guía de pesca. Es posible que encuentres una opción que se ajuste mejor a tu presupuesto. ¡Que disfrutes tu viaje de pesca en Argentina!\n"
     ]
    },
    {
     "name": "stderr",
     "output_type": "stream",
     "text": [
      "Failed to batch ingest runs: LangSmithError('Failed to POST https://api.smith.langchain.com/runs/batch in LangSmith API. HTTPError(\\'403 Client Error: Forbidden for url: https://api.smith.langchain.com/runs/batch\\', \\'{\"detail\":\"Forbidden\"}\\')')\n"
     ]
    }
   ],
   "source": [
    "from langchain_core.prompts import ChatPromptTemplate\n",
    "from langchain_groq import ChatGroq\n",
    "\n",
    "def actividad_deseada(actividad1, \n",
    "                      presupuesto1,\n",
    "                      lugar1):\n",
    "    '''\n",
    "    Condiciones:\n",
    "        actividad de interés: Puede ser pesca, caza, treking (actividad1)\n",
    "        presupuesto disponible: Una suma de dinero (presupuesto1)\n",
    "        lugar a visitar: una región o país (lugar1)\n",
    "    '''\n",
    "    \n",
    "    chat_prompt = ChatPromptTemplate.from_messages([\n",
    "        (\"system\", \"Eres un guia de turismo internacional especializado en actividades al aire libre.\"),\n",
    "        (\"human\", \"Deseo hacer un viaje de {actividad} con un presupuesto de {presupuesto}.\"),\n",
    "        (\"ai\", \"Buen dia! A donde desea viajar?\"),\n",
    "        (\"human\", \"Por favor recomiende un buen lugar para {actividad} en {lugar}\")\n",
    "    ])\n",
    "    \n",
    "    prompt_final = chat_prompt.format(actividad=actividad1,\n",
    "                                      presupuesto=presupuesto1,\n",
    "                                      lugar=lugar1)\n",
    "    \n",
    "    llm = ChatGroq(model=\"mixtral-8x7b-32768\",\n",
    "                   temperature=1)\n",
    "    \n",
    "    respuesta = llm.invoke(prompt_final).content\n",
    "    \n",
    "    return respuesta\n",
    "\n",
    "print(actividad_deseada(\"pesca\", 10000, \"Argentina\"))"
   ]
  },
  {
   "cell_type": "code",
   "execution_count": null,
   "id": "3d191361-4ab2-4353-981b-2e86a4aa2ba6",
   "metadata": {
    "collapsed": true,
    "jupyter": {
     "outputs_hidden": true
    }
   },
   "outputs": [],
   "source": []
  }
 ],
 "metadata": {
  "kernelspec": {
   "display_name": "Python 3 (ipykernel)",
   "language": "python",
   "name": "python3"
  },
  "language_info": {
   "codemirror_mode": {
    "name": "ipython",
    "version": 3
   },
   "file_extension": ".py",
   "mimetype": "text/x-python",
   "name": "python",
   "nbconvert_exporter": "python",
   "pygments_lexer": "ipython3",
   "version": "3.11.9"
  }
 },
 "nbformat": 4,
 "nbformat_minor": 5
}
