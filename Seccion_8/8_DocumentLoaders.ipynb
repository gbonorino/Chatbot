{
 "cells": [
  {
   "cell_type": "markdown",
   "metadata": {},
   "source": [
    "## Cargadores de documentos (\"document Loaders\")\n",
    "\n",
    "Aprenderemos a cargar datos de: TXT, PDF, CSV, and Youtube"
   ]
  },
  {
   "cell_type": "markdown",
   "metadata": {},
   "source": [
    "### TextLoader\n",
    "Carga de un archivo de texto "
   ]
  },
  {
   "cell_type": "code",
   "execution_count": 1,
   "metadata": {
    "collapsed": true,
    "jupyter": {
     "outputs_hidden": true
    }
   },
   "outputs": [],
   "source": [
    "from langchain_community.document_loaders import TextLoader\n",
    "\n",
    "loader = TextLoader(\"./directorio/ConstitucionArgentina.txt\",\n",
    "                       encoding='utf-8')\n",
    "texto = loader.load()"
   ]
  },
  {
   "cell_type": "code",
   "execution_count": 2,
   "metadata": {
    "collapsed": true,
    "jupyter": {
     "outputs_hidden": true
    }
   },
   "outputs": [
    {
     "name": "stdout",
     "output_type": "stream",
     "text": [
      "Tipo de dato -\n",
      " <class 'list'>\n",
      "***********************************\n",
      "Texto completo -\n",
      " [Document(metadata={'source': './directorio/ConstitucionArgentina.txt'}, page_content='La Constitución de la Nación Argentina, que rige actualmente a la República Argentina, fue aprobada por una asamblea constituyente integrada por representantes de trece provincias, hecha en la ciudad de Santa Fe en el año 1853. El propósito de la Constitución de 1853 fue poner fin al ciclo de las guerras civiles y sentar las bases de la «unión nacional» mediante un régimen republicano y federal. Antes de esta Constitución hubo dos intentos constituyentes en 1819 y 1826, que no prosperaron por carecer de consenso entre las provincias. Con posterioridad otras diez provincias y una ciudad integraron la federación.\\nEl texto ha sido reformado varias veces, estando vigente la redacción resultante de la reforma de 1994. En varias oportunidades el orden constitucional fue dejado sin efecto por golpes de Estado, el último de los cuales impuso una dictadura que se mantuvo en el poder hasta el 10 de diciembre de 1983.\\n\\nPreámbulo\\nArtículo principal: Preámbulo de la Constitución de la Nación Argentina\\n«Nos los Representantes del Pueblo de la Confederación Argentina…»\\n\\nActualmente, el preámbulo de la Constitución Argentina es el siguiente:4\\u200b\\n\\nNos los representantes del pueblo de la Nación Argentina, reunidos en Congreso General Constituyente por voluntad y elección de las provincias que la componen, en cumplimiento de pactos preexistentes, con el objeto de constituir la unión nacional, afianzar la justicia, consolidar la paz interior, proveer a la defensa común, promover el bienestar general, y asegurar los beneficios de la libertad, para nosotros, para nuestra posteridad, y para todos los hombres del mundo que quieran habitar en el suelo argentino: invocando la protección de Dios, fuente de toda razón y justicia: ordenamos, decretamos y establecemos esta Constitución, para la Nación Argentina.\\n\\n')]\n",
      "***********************************\n"
     ]
    }
   ],
   "source": [
    "print(\"Tipo de dato -\\n\", type(texto))\n",
    "print(\"***********************************\")\n",
    "print(\"Texto completo -\\n\", texto)\n",
    "print(\"***********************************\")"
   ]
  },
  {
   "cell_type": "code",
   "execution_count": 3,
   "metadata": {
    "collapsed": true,
    "jupyter": {
     "outputs_hidden": true
    }
   },
   "outputs": [
    {
     "name": "stdout",
     "output_type": "stream",
     "text": [
      "Numero de Documents -\n",
      " 1\n",
      "***********************************\n",
      "Tipo de dato -\n",
      " <class 'langchain_core.documents.base.Document'>\n",
      "***********************************\n"
     ]
    }
   ],
   "source": [
    "print(\"Numero de Documents -\\n\", len(texto))\n",
    "print(\"***********************************\")\n",
    "print(\"Tipo de dato -\\n\", type(texto[0]))\n",
    "print(\"***********************************\")\n"
   ]
  },
  {
   "cell_type": "code",
   "execution_count": 4,
   "metadata": {
    "collapsed": true,
    "jupyter": {
     "outputs_hidden": true
    }
   },
   "outputs": [
    {
     "name": "stdout",
     "output_type": "stream",
     "text": [
      "Extraer texto de Document -\n",
      " <class 'str'>\n",
      "***********************************\n",
      "Extraer metadatos de Document -\n",
      " {'source': './directorio/ConstitucionArgentina.txt'}\n",
      "***********************************\n",
      "impresion parcial del texto -\n",
      " La Constitución de la Nación Argentina, que rige actualmente a la República Argentina, fue aprobada \n"
     ]
    }
   ],
   "source": [
    "print(\"Extraer texto de Document -\\n\", type(texto[0].page_content))\n",
    "print(\"***********************************\")\n",
    "print(\"Extraer metadatos de Document -\\n\", texto[0].metadata)\n",
    "print(\"***********************************\")\n",
    "print(\"impresion parcial del texto -\\n\", texto[0].page_content[0:100])"
   ]
  },
  {
   "cell_type": "code",
   "execution_count": null,
   "metadata": {
    "collapsed": true,
    "jupyter": {
     "outputs_hidden": true
    }
   },
   "outputs": [],
   "source": []
  },
  {
   "cell_type": "code",
   "execution_count": null,
   "metadata": {
    "collapsed": true,
    "jupyter": {
     "outputs_hidden": true
    }
   },
   "outputs": [],
   "source": []
  },
  {
   "cell_type": "markdown",
   "metadata": {},
   "source": [
    "### CSVLoader"
   ]
  },
  {
   "cell_type": "code",
   "execution_count": 5,
   "metadata": {
    "collapsed": true,
    "jupyter": {
     "outputs_hidden": true
    }
   },
   "outputs": [],
   "source": [
    "# Se importa la clase\n",
    "from langchain_community.document_loaders import CSVLoader"
   ]
  },
  {
   "cell_type": "code",
   "execution_count": 6,
   "metadata": {
    "collapsed": true,
    "jupyter": {
     "outputs_hidden": true
    }
   },
   "outputs": [
    {
     "name": "stdout",
     "output_type": "stream",
     "text": [
      "Documento completo -\n",
      " [Document(metadata={'source': './directorio/microsoft.csv', 'row': 0}, page_content='Date: 2014-12-31\\nOpen: 46.73\\nHigh: 47.439999\\nLow: 46.450001\\nClose: 46.450001\\nAdj Close: 42.848763\\nVolume: 21552500'), Document(metadata={'source': './directorio/microsoft.csv', 'row': 1}, page_content='Date: 2015-01-02\\nOpen: 46.66\\nHigh: 47.419998\\nLow: 46.540001000000004\\nClose: 46.759997999999996\\nAdj Close: 43.134731\\nVolume: 27913900'), Document(metadata={'source': './directorio/microsoft.csv', 'row': 2}, page_content='Date: 2015-01-05\\nOpen: 46.369999\\nHigh: 46.73\\nLow: 46.25\\nClose: 46.330002\\nAdj Close: 42.738068\\nVolume: 39673900'), Document(metadata={'source': './directorio/microsoft.csv', 'row': 3}, page_content='Date: 2015-01-06\\nOpen: 46.380001\\nHigh: 46.75\\nLow: 45.540001000000004\\nClose: 45.650002\\nAdj Close: 42.110783000000005\\nVolume: 36447900'), Document(metadata={'source': './directorio/microsoft.csv', 'row': 4}, page_content='Date: 2015-01-07\\nOpen: 45.98\\nHigh: 46.459998999999996\\nLow: 45.490002000000004\\nClose: 46.23\\nAdj Close: 42.645817\\nVolume: 29114100'), Document(metadata={'source': './directorio/microsoft.csv', 'row': 5}, page_content='Date: 2015-01-08\\nOpen: 46.75\\nHigh: 47.75\\nLow: 46.720001\\nClose: 47.59\\nAdj Close: 43.900375\\nVolume: 29645200'), Document(metadata={'source': './directorio/microsoft.csv', 'row': 6}, page_content='Date: 2015-01-09\\nOpen: 47.610001000000004\\nHigh: 47.82\\nLow: 46.900002\\nClose: 47.189999\\nAdj Close: 43.531395\\nVolume: 23942800'), Document(metadata={'source': './directorio/microsoft.csv', 'row': 7}, page_content='Date: 2015-01-12\\nOpen: 47.419998\\nHigh: 47.540001000000004\\nLow: 46.360001000000004\\nClose: 46.599998\\nAdj Close: 42.987128999999996\\nVolume: 23651900'), Document(metadata={'source': './directorio/microsoft.csv', 'row': 8}, page_content='Date: 2015-01-13\\nOpen: 46.970001\\nHigh: 47.91\\nLow: 46.060001\\nClose: 46.360001000000004\\nAdj Close: 42.765747\\nVolume: 35270600'), Document(metadata={'source': './directorio/microsoft.csv', 'row': 9}, page_content='Date: 2015-01-14\\nOpen: 45.959998999999996\\nHigh: 46.240002000000004\\nLow: 45.619999\\nClose: 45.959998999999996\\nAdj Close: 42.396751\\nVolume: 29719600'), Document(metadata={'source': './directorio/microsoft.csv', 'row': 10}, page_content='Date: 2015-01-15\\nOpen: 46.220001\\nHigh: 46.380001\\nLow: 45.41\\nClose: 45.48\\nAdj Close: 41.953959999999995\\nVolume: 32750800'), Document(metadata={'source': './directorio/microsoft.csv', 'row': 11}, page_content='Date: 2015-01-16\\nOpen: 45.310001\\nHigh: 46.279999\\nLow: 45.169998\\nClose: 46.240002000000004\\nAdj Close: 42.655041\\nVolume: 35695300'), Document(metadata={'source': './directorio/microsoft.csv', 'row': 12}, page_content='Date: 2015-01-20\\nOpen: 46.299999\\nHigh: 46.650002\\nLow: 45.57\\nClose: 46.389998999999996\\nAdj Close: 42.793415\\nVolume: 36041400'), Document(metadata={'source': './directorio/microsoft.csv', 'row': 13}, page_content='Date: 2015-01-21\\nOpen: 45.939999\\nHigh: 46.139998999999996\\nLow: 45.48\\nClose: 45.919998\\nAdj Close: 42.359848\\nVolume: 39081100'), Document(metadata={'source': './directorio/microsoft.csv', 'row': 14}, page_content='Date: 2015-01-22\\nOpen: 46.380001\\nHigh: 47.139998999999996\\nLow: 46.080002\\nClose: 47.130001\\nAdj Close: 43.476044\\nVolume: 35898000'), Document(metadata={'source': './directorio/microsoft.csv', 'row': 15}, page_content='Date: 2015-01-23\\nOpen: 47.360001000000004\\nHigh: 47.389998999999996\\nLow: 46.799999\\nClose: 47.18\\nAdj Close: 43.522166999999996\\nVolume: 26047800'), Document(metadata={'source': './directorio/microsoft.csv', 'row': 16}, page_content='Date: 2015-01-26\\nOpen: 47.0\\nHigh: 47.130001\\nLow: 46.240002000000004\\nClose: 47.009997999999996\\nAdj Close: 43.365345\\nVolume: 42525500'), Document(metadata={'source': './directorio/microsoft.csv', 'row': 17}, page_content='Date: 2015-01-27\\nOpen: 42.950001\\nHigh: 43.200001\\nLow: 42.110001000000004\\nClose: 42.66\\nAdj Close: 39.352604\\nVolume: 169164000'), Document(metadata={'source': './directorio/microsoft.csv', 'row': 18}, page_content='Date: 2015-01-28\\nOpen: 42.740002000000004\\nHigh: 42.790001000000004\\nLow: 41.16\\nClose: 41.189999\\nAdj Close: 37.996563\\nVolume: 84507100'), Document(metadata={'source': './directorio/microsoft.csv', 'row': 19}, page_content='Date: 2015-01-29\\nOpen: 40.93\\nHigh: 42.119999\\nLow: 40.790001000000004\\nClose: 42.009997999999996\\nAdj Close: 38.752987\\nVolume: 63585300'), Document(metadata={'source': './directorio/microsoft.csv', 'row': 20}, page_content='Date: 2015-01-30\\nOpen: 41.549999\\nHigh: 41.580002\\nLow: 40.349998\\nClose: 40.400002\\nAdj Close: 37.267815\\nVolume: 78004900'), Document(metadata={'source': './directorio/microsoft.csv', 'row': 21}, page_content='Date: 2015-02-02\\nOpen: 40.59\\nHigh: 41.369999\\nLow: 40.23\\nClose: 41.279999\\nAdj Close: 38.079586\\nVolume: 50352500'), Document(metadata={'source': './directorio/microsoft.csv', 'row': 22}, page_content='Date: 2015-02-03\\nOpen: 41.630001\\nHigh: 41.93\\nLow: 41.049999\\nClose: 41.599998\\nAdj Close: 38.374779\\nVolume: 51890200'), Document(metadata={'source': './directorio/microsoft.csv', 'row': 23}, page_content='Date: 2015-02-04\\nOpen: 41.939999\\nHigh: 42.209998999999996\\nLow: 41.360001000000004\\nClose: 41.84\\nAdj Close: 38.596184\\nVolume: 41614800'), Document(metadata={'source': './directorio/microsoft.csv', 'row': 24}, page_content='Date: 2015-02-05\\nOpen: 42.220001\\nHigh: 42.639998999999996\\nLow: 41.860001000000004\\nClose: 42.450001\\nAdj Close: 39.158878\\nVolume: 36548200'), Document(metadata={'source': './directorio/microsoft.csv', 'row': 25}, page_content='Date: 2015-02-06\\nOpen: 42.68\\nHigh: 42.790001000000004\\nLow: 42.150002\\nClose: 42.41\\nAdj Close: 39.121983\\nVolume: 34311700'), Document(metadata={'source': './directorio/microsoft.csv', 'row': 26}, page_content='Date: 2015-02-09\\nOpen: 42.240002000000004\\nHigh: 42.740002000000004\\nLow: 42.209998999999996\\nClose: 42.360001000000004\\nAdj Close: 39.075859\\nVolume: 31381100'), Document(metadata={'source': './directorio/microsoft.csv', 'row': 27}, page_content='Date: 2015-02-10\\nOpen: 42.740002000000004\\nHigh: 42.77\\nLow: 42.18\\nClose: 42.599998\\nAdj Close: 39.297249\\nVolume: 29670700'), Document(metadata={'source': './directorio/microsoft.csv', 'row': 28}, page_content='Date: 2015-02-11\\nOpen: 42.650002\\nHigh: 42.650002\\nLow: 42.209998999999996\\nClose: 42.380001\\nAdj Close: 39.094307\\nVolume: 38262500'), Document(metadata={'source': './directorio/microsoft.csv', 'row': 29}, page_content='Date: 2015-02-12\\nOpen: 42.66\\nHigh: 43.09\\nLow: 42.509997999999996\\nClose: 43.09\\nAdj Close: 39.749268\\nVolume: 33268800'), Document(metadata={'source': './directorio/microsoft.csv', 'row': 30}, page_content='Date: 2015-02-13\\nOpen: 43.380001\\nHigh: 43.869999\\nLow: 43.150002\\nClose: 43.869999\\nAdj Close: 40.468792\\nVolume: 40264900'), Document(metadata={'source': './directorio/microsoft.csv', 'row': 31}, page_content='Date: 2015-02-17\\nOpen: 43.970001\\nHigh: 44.0\\nLow: 43.189999\\nClose: 43.580002\\nAdj Close: 40.487365999999994\\nVolume: 33695700'), Document(metadata={'source': './directorio/microsoft.csv', 'row': 32}, page_content='Date: 2015-02-18\\nOpen: 43.630001\\nHigh: 43.700001\\nLow: 43.389998999999996\\nClose: 43.529999\\nAdj Close: 40.440917999999996\\nVolume: 27074900'), Document(metadata={'source': './directorio/microsoft.csv', 'row': 33}, page_content='Date: 2015-02-19\\nOpen: 43.18\\nHigh: 43.529999\\nLow: 43.049999\\nClose: 43.5\\nAdj Close: 40.413047999999996\\nVolume: 27603400'), Document(metadata={'source': './directorio/microsoft.csv', 'row': 34}, page_content='Date: 2015-02-20\\nOpen: 43.509997999999996\\nHigh: 43.880001\\nLow: 43.290001000000004\\nClose: 43.860001000000004\\nAdj Close: 40.747498\\nVolume: 29721100'), Document(metadata={'source': './directorio/microsoft.csv', 'row': 35}, page_content='Date: 2015-02-23\\nOpen: 43.700001\\nHigh: 44.189999\\nLow: 43.650002\\nClose: 44.150002\\nAdj Close: 41.016921999999994\\nVolume: 32518800'), Document(metadata={'source': './directorio/microsoft.csv', 'row': 36}, page_content='Date: 2015-02-24\\nOpen: 44.150002\\nHigh: 44.299999\\nLow: 43.919998\\nClose: 44.09\\nAdj Close: 40.961182\\nVolume: 25253000'), Document(metadata={'source': './directorio/microsoft.csv', 'row': 37}, page_content='Date: 2015-02-25\\nOpen: 43.950001\\nHigh: 44.09\\nLow: 43.799999\\nClose: 43.990002000000004\\nAdj Close: 40.868279\\nVolume: 29759800'), Document(metadata={'source': './directorio/microsoft.csv', 'row': 38}, page_content='Date: 2015-02-26\\nOpen: 43.990002000000004\\nHigh: 44.23\\nLow: 43.889998999999996\\nClose: 44.060001\\nAdj Close: 40.933308000000004\\nVolume: 28957300'), Document(metadata={'source': './directorio/microsoft.csv', 'row': 39}, page_content='Date: 2015-02-27\\nOpen: 44.130001\\nHigh: 44.200001\\nLow: 43.66\\nClose: 43.849998\\nAdj Close: 40.738205\\nVolume: 33807700'), Document(metadata={'source': './directorio/microsoft.csv', 'row': 40}, page_content='Date: 2015-03-02\\nOpen: 43.669998\\nHigh: 44.189999\\nLow: 43.549999\\nClose: 43.880001\\nAdj Close: 40.766083\\nVolume: 31924000'), Document(metadata={'source': './directorio/microsoft.csv', 'row': 41}, page_content='Date: 2015-03-03\\nOpen: 43.560001\\nHigh: 43.830002\\nLow: 43.09\\nClose: 43.279999\\nAdj Close: 40.208659999999995\\nVolume: 31748600'), Document(metadata={'source': './directorio/microsoft.csv', 'row': 42}, page_content='Date: 2015-03-04\\nOpen: 43.009997999999996\\nHigh: 43.209998999999996\\nLow: 42.880001\\nClose: 43.060001\\nAdj Close: 40.004272\\nVolume: 25705800'), Document(metadata={'source': './directorio/microsoft.csv', 'row': 43}, page_content='Date: 2015-03-05\\nOpen: 43.07\\nHigh: 43.240002000000004\\nLow: 42.82\\nClose: 43.110001000000004\\nAdj Close: 40.050724\\nVolume: 23193500'), Document(metadata={'source': './directorio/microsoft.csv', 'row': 44}, page_content='Date: 2015-03-06\\nOpen: 43.0\\nHigh: 43.110001000000004\\nLow: 42.150002\\nClose: 42.360001000000004\\nAdj Close: 39.353951\\nVolume: 36248800'), Document(metadata={'source': './directorio/microsoft.csv', 'row': 45}, page_content='Date: 2015-03-09\\nOpen: 42.189999\\nHigh: 43.130001\\nLow: 42.189999\\nClose: 42.849998\\nAdj Close: 39.809166\\nVolume: 32108000'), Document(metadata={'source': './directorio/microsoft.csv', 'row': 46}, page_content='Date: 2015-03-10\\nOpen: 42.349998\\nHigh: 42.709998999999996\\nLow: 42.029999\\nClose: 42.029999\\nAdj Close: 39.047363\\nVolume: 38506100'), Document(metadata={'source': './directorio/microsoft.csv', 'row': 47}, page_content='Date: 2015-03-11\\nOpen: 42.310001\\nHigh: 42.369999\\nLow: 41.84\\nClose: 41.98\\nAdj Close: 39.000904\\nVolume: 32215300'), Document(metadata={'source': './directorio/microsoft.csv', 'row': 48}, page_content='Date: 2015-03-12\\nOpen: 41.330002\\nHigh: 41.650002\\nLow: 40.860001000000004\\nClose: 41.02\\nAdj Close: 38.109039\\nVolume: 59992500'), Document(metadata={'source': './directorio/microsoft.csv', 'row': 49}, page_content='Date: 2015-03-13\\nOpen: 40.700001\\nHigh: 41.470001\\nLow: 40.610001000000004\\nClose: 41.380001\\nAdj Close: 38.443489\\nVolume: 58007700'), Document(metadata={'source': './directorio/microsoft.csv', 'row': 50}, page_content='Date: 2015-03-16\\nOpen: 41.470001\\nHigh: 41.639998999999996\\nLow: 41.279999\\nClose: 41.560001\\nAdj Close: 38.610714\\nVolume: 35273500'), Document(metadata={'source': './directorio/microsoft.csv', 'row': 51}, page_content='Date: 2015-03-17\\nOpen: 41.369999\\nHigh: 41.830002\\nLow: 41.150002\\nClose: 41.700001\\nAdj Close: 38.740784000000005\\nVolume: 31587200'), Document(metadata={'source': './directorio/microsoft.csv', 'row': 52}, page_content='Date: 2015-03-18\\nOpen: 41.43\\nHigh: 42.830002\\nLow: 41.330002\\nClose: 42.5\\nAdj Close: 39.484009\\nVolume: 43971800'), Document(metadata={'source': './directorio/microsoft.csv', 'row': 53}, page_content='Date: 2015-03-19\\nOpen: 42.259997999999996\\nHigh: 42.59\\nLow: 42.220001\\nClose: 42.290001000000004\\nAdj Close: 39.288918\\nVolume: 33879100'), Document(metadata={'source': './directorio/microsoft.csv', 'row': 54}, page_content='Date: 2015-03-20\\nOpen: 42.560001\\nHigh: 42.98\\nLow: 42.490002000000004\\nClose: 42.880001\\nAdj Close: 39.837051\\nVolume: 71904500'), Document(metadata={'source': './directorio/microsoft.csv', 'row': 55}, page_content='Date: 2015-03-23\\nOpen: 42.880001\\nHigh: 43.130001\\nLow: 42.779999\\nClose: 42.860001000000004\\nAdj Close: 39.818462\\nVolume: 26049000'), Document(metadata={'source': './directorio/microsoft.csv', 'row': 56}, page_content='Date: 2015-03-24\\nOpen: 42.779999\\nHigh: 43.169998\\nLow: 42.75\\nClose: 42.900002\\nAdj Close: 39.855629\\nVolume: 25513300'), Document(metadata={'source': './directorio/microsoft.csv', 'row': 57}, page_content='Date: 2015-03-25\\nOpen: 42.919998\\nHigh: 42.93\\nLow: 41.439999\\nClose: 41.459998999999996\\nAdj Close: 38.517811\\nVolume: 43469900'), Document(metadata={'source': './directorio/microsoft.csv', 'row': 58}, page_content='Date: 2015-03-26\\nOpen: 41.220001\\nHigh: 41.610001000000004\\nLow: 40.919998\\nClose: 41.209998999999996\\nAdj Close: 38.285557\\nVolume: 37495600'), Document(metadata={'source': './directorio/microsoft.csv', 'row': 59}, page_content='Date: 2015-03-27\\nOpen: 41.119999\\nHigh: 41.43\\nLow: 40.830002\\nClose: 40.970001\\nAdj Close: 38.062588\\nVolume: 33820300'), Document(metadata={'source': './directorio/microsoft.csv', 'row': 60}, page_content='Date: 2015-03-30\\nOpen: 41.099998\\nHigh: 41.540001000000004\\nLow: 40.91\\nClose: 40.959998999999996\\nAdj Close: 38.053295\\nVolume: 35049700'), Document(metadata={'source': './directorio/microsoft.csv', 'row': 61}, page_content='Date: 2015-03-31\\nOpen: 40.779999\\nHigh: 41.029999\\nLow: 40.540001000000004\\nClose: 40.66\\nAdj Close: 37.774592999999996\\nVolume: 34887200'), Document(metadata={'source': './directorio/microsoft.csv', 'row': 62}, page_content='Date: 2015-04-01\\nOpen: 40.599998\\nHigh: 40.759997999999996\\nLow: 40.310001\\nClose: 40.720001\\nAdj Close: 37.83033\\nVolume: 36752000'), Document(metadata={'source': './directorio/microsoft.csv', 'row': 63}, page_content='Date: 2015-04-02\\nOpen: 40.66\\nHigh: 40.740002000000004\\nLow: 40.119999\\nClose: 40.290001000000004\\nAdj Close: 37.43084\\nVolume: 37487500'), Document(metadata={'source': './directorio/microsoft.csv', 'row': 64}, page_content='Date: 2015-04-06\\nOpen: 40.34\\nHigh: 41.779999\\nLow: 40.18\\nClose: 41.549999\\nAdj Close: 38.601428999999996\\nVolume: 39223700'), Document(metadata={'source': './directorio/microsoft.csv', 'row': 65}, page_content='Date: 2015-04-07\\nOpen: 41.610001000000004\\nHigh: 41.91\\nLow: 41.310001\\nClose: 41.529999\\nAdj Close: 38.582848\\nVolume: 28809400'), Document(metadata={'source': './directorio/microsoft.csv', 'row': 66}, page_content='Date: 2015-04-08\\nOpen: 41.459998999999996\\nHigh: 41.689999\\nLow: 41.040001000000004\\nClose: 41.419998\\nAdj Close: 38.480652\\nVolume: 24753400'), Document(metadata={'source': './directorio/microsoft.csv', 'row': 67}, page_content='Date: 2015-04-09\\nOpen: 41.25\\nHigh: 41.619999\\nLow: 41.25\\nClose: 41.48\\nAdj Close: 38.536404\\nVolume: 25723900'), Document(metadata={'source': './directorio/microsoft.csv', 'row': 68}, page_content='Date: 2015-04-10\\nOpen: 41.630001\\nHigh: 41.950001\\nLow: 41.41\\nClose: 41.720001\\nAdj Close: 38.759365\\nVolume: 28022000'), Document(metadata={'source': './directorio/microsoft.csv', 'row': 69}, page_content='Date: 2015-04-13\\nOpen: 41.400002\\nHigh: 42.060001\\nLow: 41.389998999999996\\nClose: 41.759997999999996\\nAdj Close: 38.796524\\nVolume: 30276700'), Document(metadata={'source': './directorio/microsoft.csv', 'row': 70}, page_content='Date: 2015-04-14\\nOpen: 41.799999\\nHigh: 42.029999\\nLow: 41.389998999999996\\nClose: 41.650002\\nAdj Close: 38.694324\\nVolume: 24078000'), Document(metadata={'source': './directorio/microsoft.csv', 'row': 71}, page_content='Date: 2015-04-15\\nOpen: 41.759997999999996\\nHigh: 42.459998999999996\\nLow: 41.68\\nClose: 42.259997999999996\\nAdj Close: 39.261036\\nVolume: 27343600'), Document(metadata={'source': './directorio/microsoft.csv', 'row': 72}, page_content='Date: 2015-04-16\\nOpen: 41.950001\\nHigh: 42.34\\nLow: 41.82\\nClose: 42.16\\nAdj Close: 39.16814\\nVolume: 22509700'), Document(metadata={'source': './directorio/microsoft.csv', 'row': 73}, page_content='Date: 2015-04-17\\nOpen: 41.669998\\nHigh: 41.740002000000004\\nLow: 41.16\\nClose: 41.619999\\nAdj Close: 38.666462\\nVolume: 42387600'), Document(metadata={'source': './directorio/microsoft.csv', 'row': 74}, page_content='Date: 2015-04-20\\nOpen: 41.73\\nHigh: 43.169998\\nLow: 41.68\\nClose: 42.91\\nAdj Close: 39.864917999999996\\nVolume: 45738800'), Document(metadata={'source': './directorio/microsoft.csv', 'row': 75}, page_content='Date: 2015-04-21\\nOpen: 43.0\\nHigh: 43.150002\\nLow: 42.529999\\nClose: 42.639998999999996\\nAdj Close: 39.614071\\nVolume: 26013800'), Document(metadata={'source': './directorio/microsoft.csv', 'row': 76}, page_content='Date: 2015-04-22\\nOpen: 42.669998\\nHigh: 43.130001\\nLow: 42.549999\\nClose: 42.990002000000004\\nAdj Close: 39.939236\\nVolume: 25064300'), Document(metadata={'source': './directorio/microsoft.csv', 'row': 77}, page_content='Date: 2015-04-23\\nOpen: 42.889998999999996\\nHigh: 43.610001000000004\\nLow: 42.799999\\nClose: 43.34\\nAdj Close: 40.2644\\nVolume: 46309500'), Document(metadata={'source': './directorio/microsoft.csv', 'row': 78}, page_content='Date: 2015-04-24\\nOpen: 45.66\\nHigh: 48.139998999999996\\nLow: 45.650002\\nClose: 47.869999\\nAdj Close: 44.472935\\nVolume: 130933700'), Document(metadata={'source': './directorio/microsoft.csv', 'row': 79}, page_content='Date: 2015-04-27\\nOpen: 47.23\\nHigh: 48.130001\\nLow: 47.220001\\nClose: 48.029999\\nAdj Close: 44.621574\\nVolume: 59248200'), Document(metadata={'source': './directorio/microsoft.csv', 'row': 80}, page_content='Date: 2015-04-28\\nOpen: 47.779999\\nHigh: 49.209998999999996\\nLow: 47.700001\\nClose: 49.16\\nAdj Close: 45.671391\\nVolume: 60730800'), Document(metadata={'source': './directorio/microsoft.csv', 'row': 81}, page_content='Date: 2015-04-29\\nOpen: 48.720001\\nHigh: 49.310001\\nLow: 48.5\\nClose: 49.060001\\nAdj Close: 45.578487\\nVolume: 47804600'), Document(metadata={'source': './directorio/microsoft.csv', 'row': 82}, page_content='Date: 2015-04-30\\nOpen: 48.700001\\nHigh: 49.540001000000004\\nLow: 48.599998\\nClose: 48.639998999999996\\nAdj Close: 45.188286\\nVolume: 64725500'), Document(metadata={'source': './directorio/microsoft.csv', 'row': 83}, page_content='Date: 2015-05-01\\nOpen: 48.580002\\nHigh: 48.880001\\nLow: 48.400002\\nClose: 48.66\\nAdj Close: 45.206875\\nVolume: 38937300'), Document(metadata={'source': './directorio/microsoft.csv', 'row': 84}, page_content='Date: 2015-05-04\\nOpen: 48.369999\\nHigh: 48.869999\\nLow: 48.18\\nClose: 48.240002000000004\\nAdj Close: 44.816669\\nVolume: 34039500'), Document(metadata={'source': './directorio/microsoft.csv', 'row': 85}, page_content='Date: 2015-05-05\\nOpen: 47.82\\nHigh: 48.16\\nLow: 47.310001\\nClose: 47.599998\\nAdj Close: 44.222088\\nVolume: 50369200'), Document(metadata={'source': './directorio/microsoft.csv', 'row': 86}, page_content='Date: 2015-05-06\\nOpen: 47.57\\nHigh: 47.77\\nLow: 46.02\\nClose: 46.279999\\nAdj Close: 42.995765999999996\\nVolume: 52433000'), Document(metadata={'source': './directorio/microsoft.csv', 'row': 87}, page_content='Date: 2015-05-07\\nOpen: 46.27\\nHigh: 47.09\\nLow: 46.16\\nClose: 46.700001\\nAdj Close: 43.385963000000004\\nVolume: 32971700'), Document(metadata={'source': './directorio/microsoft.csv', 'row': 88}, page_content='Date: 2015-05-08\\nOpen: 47.549999\\nHigh: 47.98\\nLow: 47.52\\nClose: 47.75\\nAdj Close: 44.361446\\nVolume: 35364900'), Document(metadata={'source': './directorio/microsoft.csv', 'row': 89}, page_content='Date: 2015-05-11\\nOpen: 47.549999\\nHigh: 47.91\\nLow: 47.369999\\nClose: 47.369999\\nAdj Close: 44.008410999999995\\nVolume: 24609400'), Document(metadata={'source': './directorio/microsoft.csv', 'row': 90}, page_content='Date: 2015-05-12\\nOpen: 46.849998\\nHigh: 47.68\\nLow: 46.419998\\nClose: 47.349998\\nAdj Close: 43.989826\\nVolume: 29928300'), Document(metadata={'source': './directorio/microsoft.csv', 'row': 91}, page_content='Date: 2015-05-13\\nOpen: 48.189999\\nHigh: 48.32\\nLow: 47.57\\nClose: 47.630001\\nAdj Close: 44.249966\\nVolume: 34184600'), Document(metadata={'source': './directorio/microsoft.csv', 'row': 92}, page_content='Date: 2015-05-14\\nOpen: 48.029999\\nHigh: 48.82\\nLow: 48.029999\\nClose: 48.720001\\nAdj Close: 45.262611\\nVolume: 32980900'), Document(metadata={'source': './directorio/microsoft.csv', 'row': 93}, page_content='Date: 2015-05-15\\nOpen: 48.869999\\nHigh: 48.91\\nLow: 48.049999\\nClose: 48.299999\\nAdj Close: 44.872414\\nVolume: 28642700'), Document(metadata={'source': './directorio/microsoft.csv', 'row': 94}, page_content='Date: 2015-05-18\\nOpen: 47.98\\nHigh: 48.220001\\nLow: 47.610001000000004\\nClose: 48.009997999999996\\nAdj Close: 44.602993\\nVolume: 23631000'), Document(metadata={'source': './directorio/microsoft.csv', 'row': 95}, page_content='Date: 2015-05-19\\nOpen: 47.560001\\nHigh: 47.810001\\nLow: 47.18\\nClose: 47.580002\\nAdj Close: 44.490788\\nVolume: 28574800'), Document(metadata={'source': './directorio/microsoft.csv', 'row': 96}, page_content='Date: 2015-05-20\\nOpen: 47.389998999999996\\nHigh: 47.93\\nLow: 47.27\\nClose: 47.580002\\nAdj Close: 44.490788\\nVolume: 25047900'), Document(metadata={'source': './directorio/microsoft.csv', 'row': 97}, page_content='Date: 2015-05-21\\nOpen: 47.279999\\nHigh: 47.599998\\nLow: 47.009997999999996\\nClose: 47.419998\\nAdj Close: 44.341179\\nVolume: 22410700'), Document(metadata={'source': './directorio/microsoft.csv', 'row': 98}, page_content='Date: 2015-05-22\\nOpen: 47.299999\\nHigh: 47.349998\\nLow: 46.82\\nClose: 46.900002\\nAdj Close: 43.854939\\nVolume: 25720600'), Document(metadata={'source': './directorio/microsoft.csv', 'row': 99}, page_content='Date: 2015-05-26\\nOpen: 46.830002\\nHigh: 46.880001\\nLow: 46.189999\\nClose: 46.59\\nAdj Close: 43.565056\\nVolume: 29581900'), Document(metadata={'source': './directorio/microsoft.csv', 'row': 100}, page_content='Date: 2015-05-27\\nOpen: 46.82\\nHigh: 47.77\\nLow: 46.619999\\nClose: 47.610001000000004\\nAdj Close: 44.518840999999995\\nVolume: 27335600'), Document(metadata={'source': './directorio/microsoft.csv', 'row': 101}, page_content='Date: 2015-05-28\\nOpen: 47.5\\nHigh: 48.02\\nLow: 47.389998999999996\\nClose: 47.450001\\nAdj Close: 44.369232000000004\\nVolume: 19283700'), Document(metadata={'source': './directorio/microsoft.csv', 'row': 102}, page_content='Date: 2015-05-29\\nOpen: 47.43\\nHigh: 47.57\\nLow: 46.59\\nClose: 46.860001000000004\\nAdj Close: 43.817532\\nVolume: 35428100'), Document(metadata={'source': './directorio/microsoft.csv', 'row': 103}, page_content='Date: 2015-06-01\\nOpen: 47.060001\\nHigh: 47.77\\nLow: 46.619999\\nClose: 47.23\\nAdj Close: 44.163509000000005\\nVolume: 28837300'), Document(metadata={'source': './directorio/microsoft.csv', 'row': 104}, page_content='Date: 2015-06-02\\nOpen: 46.93\\nHigh: 47.349998\\nLow: 46.619999\\nClose: 46.919998\\nAdj Close: 43.873638\\nVolume: 21283400'), Document(metadata={'source': './directorio/microsoft.csv', 'row': 105}, page_content='Date: 2015-06-03\\nOpen: 47.369999\\nHigh: 47.740002000000004\\nLow: 46.82\\nClose: 46.849998\\nAdj Close: 43.808182\\nVolume: 28002200'), Document(metadata={'source': './directorio/microsoft.csv', 'row': 106}, page_content='Date: 2015-06-04\\nOpen: 46.790001000000004\\nHigh: 47.16\\nLow: 46.200001\\nClose: 46.360001000000004\\nAdj Close: 43.349995\\nVolume: 27745500'), Document(metadata={'source': './directorio/microsoft.csv', 'row': 107}, page_content='Date: 2015-06-05\\nOpen: 46.310001\\nHigh: 46.52\\nLow: 45.84\\nClose: 46.139998999999996\\nAdj Close: 43.144287\\nVolume: 25438100'), Document(metadata={'source': './directorio/microsoft.csv', 'row': 108}, page_content='Date: 2015-06-08\\nOpen: 46.299999\\nHigh: 46.43\\nLow: 45.669998\\nClose: 45.73\\nAdj Close: 42.760902\\nVolume: 21822300'), Document(metadata={'source': './directorio/microsoft.csv', 'row': 109}, page_content='Date: 2015-06-09\\nOpen: 45.759997999999996\\nHigh: 45.939999\\nLow: 45.459998999999996\\nClose: 45.650002\\nAdj Close: 42.6861\\nVolume: 24406100'), Document(metadata={'source': './directorio/microsoft.csv', 'row': 110}, page_content='Date: 2015-06-10\\nOpen: 45.790001000000004\\nHigh: 46.830002\\nLow: 45.689999\\nClose: 46.610001000000004\\nAdj Close: 43.583767\\nVolume: 28417400'), Document(metadata={'source': './directorio/microsoft.csv', 'row': 111}, page_content='Date: 2015-06-11\\nOpen: 46.66\\nHigh: 46.919998\\nLow: 46.130001\\nClose: 46.439999\\nAdj Close: 43.424801\\nVolume: 27347800'), Document(metadata={'source': './directorio/microsoft.csv', 'row': 112}, page_content='Date: 2015-06-12\\nOpen: 46.220001\\nHigh: 46.470001\\nLow: 45.900002\\nClose: 45.970001\\nAdj Close: 42.985321\\nVolume: 23931000'), Document(metadata={'source': './directorio/microsoft.csv', 'row': 113}, page_content='Date: 2015-06-15\\nOpen: 45.450001\\nHigh: 45.650002\\nLow: 45.02\\nClose: 45.48\\nAdj Close: 42.527134000000004\\nVolume: 33254500'), Document(metadata={'source': './directorio/microsoft.csv', 'row': 114}, page_content='Date: 2015-06-16\\nOpen: 45.349998\\nHigh: 46.240002000000004\\nLow: 45.299999\\nClose: 45.830002\\nAdj Close: 42.854403999999995\\nVolume: 27070300'), Document(metadata={'source': './directorio/microsoft.csv', 'row': 115}, page_content='Date: 2015-06-17\\nOpen: 45.73\\nHigh: 46.07\\nLow: 45.360001000000004\\nClose: 45.970001\\nAdj Close: 42.985321\\nVolume: 28704100'), Document(metadata={'source': './directorio/microsoft.csv', 'row': 116}, page_content='Date: 2015-06-18\\nOpen: 46.220001\\nHigh: 46.799999\\nLow: 46.169998\\nClose: 46.720001\\nAdj Close: 43.68663\\nVolume: 32658300'), Document(metadata={'source': './directorio/microsoft.csv', 'row': 117}, page_content='Date: 2015-06-19\\nOpen: 46.790001000000004\\nHigh: 46.830002\\nLow: 45.990002000000004\\nClose: 46.099998\\nAdj Close: 43.10688\\nVolume: 63837000'), Document(metadata={'source': './directorio/microsoft.csv', 'row': 118}, page_content='Date: 2015-06-22\\nOpen: 46.330002\\nHigh: 46.720001\\nLow: 46.16\\nClose: 46.23\\nAdj Close: 43.228439\\nVolume: 20318100'), Document(metadata={'source': './directorio/microsoft.csv', 'row': 119}, page_content='Date: 2015-06-23\\nOpen: 46.130001\\nHigh: 46.279999\\nLow: 45.619999\\nClose: 45.91\\nAdj Close: 42.929214\\nVolume: 25896500'), Document(metadata={'source': './directorio/microsoft.csv', 'row': 120}, page_content='Date: 2015-06-24\\nOpen: 45.669998\\nHigh: 46.25\\nLow: 45.549999\\nClose: 45.639998999999996\\nAdj Close: 42.676743\\nVolume: 34890900'), Document(metadata={'source': './directorio/microsoft.csv', 'row': 121}, page_content='Date: 2015-06-25\\nOpen: 46.029999\\nHigh: 46.060001\\nLow: 45.5\\nClose: 45.650002\\nAdj Close: 42.6861\\nVolume: 20616000'), Document(metadata={'source': './directorio/microsoft.csv', 'row': 122}, page_content='Date: 2015-06-26\\nOpen: 45.650002\\nHigh: 46.279999\\nLow: 45.029999\\nClose: 45.259997999999996\\nAdj Close: 42.321407\\nVolume: 49835300'), Document(metadata={'source': './directorio/microsoft.csv', 'row': 123}, page_content='Date: 2015-06-29\\nOpen: 45.040001000000004\\nHigh: 45.23\\nLow: 44.360001000000004\\nClose: 44.369999\\nAdj Close: 41.489201\\nVolume: 34081700'), Document(metadata={'source': './directorio/microsoft.csv', 'row': 124}, page_content='Date: 2015-06-30\\nOpen: 44.709998999999996\\nHigh: 44.720001\\nLow: 43.939999\\nClose: 44.150002\\nAdj Close: 41.283489\\nVolume: 35945400'), Document(metadata={'source': './directorio/microsoft.csv', 'row': 125}, page_content='Date: 2015-07-01\\nOpen: 44.459998999999996\\nHigh: 45.23\\nLow: 44.099998\\nClose: 44.450001\\nAdj Close: 41.564007000000004\\nVolume: 28343900'), Document(metadata={'source': './directorio/microsoft.csv', 'row': 126}, page_content='Date: 2015-07-02\\nOpen: 44.48\\nHigh: 44.75\\nLow: 44.060001\\nClose: 44.400002\\nAdj Close: 41.517258\\nVolume: 21752000'), Document(metadata={'source': './directorio/microsoft.csv', 'row': 127}, page_content='Date: 2015-07-06\\nOpen: 43.959998999999996\\nHigh: 44.48\\nLow: 43.950001\\nClose: 44.389998999999996\\nAdj Close: 41.507896\\nVolume: 23034000'), Document(metadata={'source': './directorio/microsoft.csv', 'row': 128}, page_content='Date: 2015-07-07\\nOpen: 44.34\\nHigh: 44.490002000000004\\nLow: 43.32\\nClose: 44.299999\\nAdj Close: 41.423747999999996\\nVolume: 36435800'), Document(metadata={'source': './directorio/microsoft.csv', 'row': 129}, page_content='Date: 2015-07-08\\nOpen: 44.439999\\nHigh: 44.900002\\nLow: 44.029999\\nClose: 44.240002000000004\\nAdj Close: 41.367645\\nVolume: 39785900'), Document(metadata={'source': './directorio/microsoft.csv', 'row': 130}, page_content='Date: 2015-07-09\\nOpen: 44.75\\nHigh: 45.220001\\nLow: 44.5\\nClose: 44.52\\nAdj Close: 41.629467\\nVolume: 32424700'), Document(metadata={'source': './directorio/microsoft.csv', 'row': 131}, page_content='Date: 2015-07-10\\nOpen: 45.009997999999996\\nHigh: 45.139998999999996\\nLow: 44.57\\nClose: 44.610001000000004\\nAdj Close: 41.713612\\nVolume: 25465800'), Document(metadata={'source': './directorio/microsoft.csv', 'row': 132}, page_content='Date: 2015-07-13\\nOpen: 44.98\\nHigh: 45.619999\\nLow: 44.950001\\nClose: 45.540001000000004\\nAdj Close: 42.583237\\nVolume: 28178300'), Document(metadata={'source': './directorio/microsoft.csv', 'row': 133}, page_content='Date: 2015-07-14\\nOpen: 45.450001\\nHigh: 45.959998999999996\\nLow: 45.310001\\nClose: 45.619999\\nAdj Close: 42.658035\\nVolume: 22880300'), Document(metadata={'source': './directorio/microsoft.csv', 'row': 134}, page_content='Date: 2015-07-15\\nOpen: 45.68\\nHigh: 45.889998999999996\\nLow: 45.43\\nClose: 45.759997999999996\\nAdj Close: 42.788948\\nVolume: 26629600'), Document(metadata={'source': './directorio/microsoft.csv', 'row': 135}, page_content='Date: 2015-07-16\\nOpen: 46.009997999999996\\nHigh: 46.689999\\nLow: 45.970001\\nClose: 46.66\\nAdj Close: 43.630520000000004\\nVolume: 26271700'), Document(metadata={'source': './directorio/microsoft.csv', 'row': 136}, page_content='Date: 2015-07-17\\nOpen: 46.549999\\nHigh: 46.779999\\nLow: 46.259997999999996\\nClose: 46.619999\\nAdj Close: 43.593117\\nVolume: 29467100'), Document(metadata={'source': './directorio/microsoft.csv', 'row': 137}, page_content='Date: 2015-07-20\\nOpen: 46.650002\\nHigh: 47.130001\\nLow: 46.439999\\nClose: 46.919998\\nAdj Close: 43.873638\\nVolume: 30631900'), Document(metadata={'source': './directorio/microsoft.csv', 'row': 138}, page_content='Date: 2015-07-21\\nOpen: 46.779999\\nHigh: 47.330002\\nLow: 46.48\\nClose: 47.279999\\nAdj Close: 44.210266\\nVolume: 42781900'), Document(metadata={'source': './directorio/microsoft.csv', 'row': 139}, page_content='Date: 2015-07-22\\nOpen: 45.439999\\nHigh: 46.93\\nLow: 45.200001\\nClose: 45.540001000000004\\nAdj Close: 42.583237\\nVolume: 59152400'), Document(metadata={'source': './directorio/microsoft.csv', 'row': 140}, page_content='Date: 2015-07-23\\nOpen: 45.27\\nHigh: 46.23\\nLow: 45.099998\\nClose: 46.110001000000004\\nAdj Close: 43.11623\\nVolume: 33934000'), Document(metadata={'source': './directorio/microsoft.csv', 'row': 141}, page_content='Date: 2015-07-24\\nOpen: 45.91\\nHigh: 46.32\\nLow: 45.799999\\nClose: 45.939999\\nAdj Close: 42.95726\\nVolume: 32333200'), Document(metadata={'source': './directorio/microsoft.csv', 'row': 142}, page_content='Date: 2015-07-27\\nOpen: 45.939999\\nHigh: 46.009997999999996\\nLow: 45.25\\nClose: 45.349998\\nAdj Close: 42.405567\\nVolume: 39701400'), Document(metadata={'source': './directorio/microsoft.csv', 'row': 143}, page_content='Date: 2015-07-28\\nOpen: 45.580002\\nHigh: 45.639998999999996\\nLow: 44.790001000000004\\nClose: 45.34\\nAdj Close: 42.396229\\nVolume: 34328900'), Document(metadata={'source': './directorio/microsoft.csv', 'row': 144}, page_content='Date: 2015-07-29\\nOpen: 45.400002\\nHigh: 46.779999\\nLow: 45.259997999999996\\nClose: 46.290001000000004\\nAdj Close: 43.284546\\nVolume: 40945900'), Document(metadata={'source': './directorio/microsoft.csv', 'row': 145}, page_content='Date: 2015-07-30\\nOpen: 46.259997999999996\\nHigh: 47.400002\\nLow: 45.93\\nClose: 46.880001\\nAdj Close: 43.836234999999995\\nVolume: 39777900'), Document(metadata={'source': './directorio/microsoft.csv', 'row': 146}, page_content='Date: 2015-07-31\\nOpen: 47.290001000000004\\nHigh: 47.369999\\nLow: 46.5\\nClose: 46.700001\\nAdj Close: 43.667922999999995\\nVolume: 31201500'), Document(metadata={'source': './directorio/microsoft.csv', 'row': 147}, page_content='Date: 2015-08-03\\nOpen: 46.98\\nHigh: 47.0\\nLow: 46.450001\\nClose: 46.810001\\nAdj Close: 43.770782000000004\\nVolume: 24125900'), Document(metadata={'source': './directorio/microsoft.csv', 'row': 148}, page_content='Date: 2015-08-04\\nOpen: 46.75\\nHigh: 47.709998999999996\\nLow: 46.68\\nClose: 47.540001000000004\\nAdj Close: 44.453377\\nVolume: 33403900'), Document(metadata={'source': './directorio/microsoft.csv', 'row': 149}, page_content='Date: 2015-08-05\\nOpen: 47.98\\nHigh: 48.41\\nLow: 47.540001000000004\\nClose: 47.580002\\nAdj Close: 44.490788\\nVolume: 26959700'), Document(metadata={'source': './directorio/microsoft.csv', 'row': 150}, page_content='Date: 2015-08-06\\nOpen: 47.709998999999996\\nHigh: 47.77\\nLow: 46.330002\\nClose: 46.619999\\nAdj Close: 43.593117\\nVolume: 27368000'), Document(metadata={'source': './directorio/microsoft.csv', 'row': 151}, page_content='Date: 2015-08-07\\nOpen: 46.389998999999996\\nHigh: 46.779999\\nLow: 46.259997999999996\\nClose: 46.740002000000004\\nAdj Close: 43.705326\\nVolume: 19163000'), Document(metadata={'source': './directorio/microsoft.csv', 'row': 152}, page_content='Date: 2015-08-10\\nOpen: 46.950001\\nHigh: 47.490002000000004\\nLow: 46.84\\nClose: 47.330002\\nAdj Close: 44.257019\\nVolume: 23079900'), Document(metadata={'source': './directorio/microsoft.csv', 'row': 153}, page_content='Date: 2015-08-11\\nOpen: 46.82\\nHigh: 46.939999\\nLow: 45.900002\\nClose: 46.41\\nAdj Close: 43.396747999999995\\nVolume: 28384300'), Document(metadata={'source': './directorio/microsoft.csv', 'row': 154}, page_content='Date: 2015-08-12\\nOpen: 46.189999\\nHigh: 46.900002\\nLow: 45.709998999999996\\nClose: 46.740002000000004\\nAdj Close: 43.705326\\nVolume: 30181400'), Document(metadata={'source': './directorio/microsoft.csv', 'row': 155}, page_content='Date: 2015-08-13\\nOpen: 47.060001\\nHigh: 47.099998\\nLow: 46.490002000000004\\nClose: 46.73\\nAdj Close: 43.695976\\nVolume: 22627200'), Document(metadata={'source': './directorio/microsoft.csv', 'row': 156}, page_content='Date: 2015-08-14\\nOpen: 46.529999\\nHigh: 47.099998\\nLow: 46.52\\nClose: 47.0\\nAdj Close: 43.948440999999995\\nVolume: 21356800'), Document(metadata={'source': './directorio/microsoft.csv', 'row': 157}, page_content='Date: 2015-08-17\\nOpen: 46.810001\\nHigh: 47.450001\\nLow: 46.57\\nClose: 47.32\\nAdj Close: 44.247669\\nVolume: 21099700'), Document(metadata={'source': './directorio/microsoft.csv', 'row': 158}, page_content='Date: 2015-08-18\\nOpen: 46.84\\nHigh: 47.43\\nLow: 46.700001\\nClose: 47.27\\nAdj Close: 44.49239\\nVolume: 23574100'), Document(metadata={'source': './directorio/microsoft.csv', 'row': 159}, page_content='Date: 2015-08-19\\nOpen: 46.779999\\nHigh: 47.080002\\nLow: 46.299999\\nClose: 46.610001000000004\\nAdj Close: 43.871173999999996\\nVolume: 31485500'), Document(metadata={'source': './directorio/microsoft.csv', 'row': 160}, page_content='Date: 2015-08-20\\nOpen: 46.07\\nHigh: 46.470001\\nLow: 45.66\\nClose: 45.66\\nAdj Close: 42.977001\\nVolume: 36238200'), Document(metadata={'source': './directorio/microsoft.csv', 'row': 161}, page_content='Date: 2015-08-21\\nOpen: 45.299999\\nHigh: 45.48\\nLow: 43.07\\nClose: 43.07\\nAdj Close: 40.539184999999996\\nVolume: 70053100'), Document(metadata={'source': './directorio/microsoft.csv', 'row': 162}, page_content='Date: 2015-08-24\\nOpen: 40.450001\\nHigh: 42.689999\\nLow: 39.720001\\nClose: 41.68\\nAdj Close: 39.230865\\nVolume: 88753700'), Document(metadata={'source': './directorio/microsoft.csv', 'row': 163}, page_content='Date: 2015-08-25\\nOpen: 42.57\\nHigh: 43.240002000000004\\nLow: 40.389998999999996\\nClose: 40.470001\\nAdj Close: 38.091969\\nVolume: 70616600'), Document(metadata={'source': './directorio/microsoft.csv', 'row': 164}, page_content='Date: 2015-08-26\\nOpen: 42.009997999999996\\nHigh: 42.84\\nLow: 41.060001\\nClose: 42.709998999999996\\nAdj Close: 40.200336\\nVolume: 63408000'), Document(metadata={'source': './directorio/microsoft.csv', 'row': 165}, page_content='Date: 2015-08-27\\nOpen: 43.23\\nHigh: 43.950001\\nLow: 42.93\\nClose: 43.900002\\nAdj Close: 41.320408\\nVolume: 50943200'), Document(metadata={'source': './directorio/microsoft.csv', 'row': 166}, page_content='Date: 2015-08-28\\nOpen: 43.400002\\nHigh: 44.150002\\nLow: 43.389998999999996\\nClose: 43.93\\nAdj Close: 41.348652\\nVolume: 28246700'), Document(metadata={'source': './directorio/microsoft.csv', 'row': 167}, page_content='Date: 2015-08-31\\nOpen: 43.560001\\nHigh: 43.93\\nLow: 43.099998\\nClose: 43.52\\nAdj Close: 40.962753\\nVolume: 34159100'), Document(metadata={'source': './directorio/microsoft.csv', 'row': 168}, page_content='Date: 2015-09-01\\nOpen: 42.169998\\nHigh: 42.59\\nLow: 41.66\\nClose: 41.82\\nAdj Close: 39.362629\\nVolume: 49688900'), Document(metadata={'source': './directorio/microsoft.csv', 'row': 169}, page_content='Date: 2015-09-02\\nOpen: 42.360001000000004\\nHigh: 43.380001\\nLow: 41.880001\\nClose: 43.360001000000004\\nAdj Close: 40.812145\\nVolume: 37671500'), Document(metadata={'source': './directorio/microsoft.csv', 'row': 170}, page_content='Date: 2015-09-03\\nOpen: 43.41\\nHigh: 43.98\\nLow: 43.279999\\nClose: 43.5\\nAdj Close: 40.943913\\nVolume: 28285200'), Document(metadata={'source': './directorio/microsoft.csv', 'row': 171}, page_content='Date: 2015-09-04\\nOpen: 42.810001\\nHigh: 43.040001000000004\\nLow: 42.200001\\nClose: 42.610001000000004\\nAdj Close: 40.106215999999996\\nVolume: 37138800'), Document(metadata={'source': './directorio/microsoft.csv', 'row': 172}, page_content='Date: 2015-09-08\\nOpen: 43.299999\\nHigh: 44.0\\nLow: 43.200001\\nClose: 43.889998999999996\\nAdj Close: 41.311001\\nVolume: 32469800'), Document(metadata={'source': './directorio/microsoft.csv', 'row': 173}, page_content='Date: 2015-09-09\\nOpen: 44.209998999999996\\nHigh: 44.400002\\nLow: 42.91\\nClose: 43.07\\nAdj Close: 40.539184999999996\\nVolume: 33318800'), Document(metadata={'source': './directorio/microsoft.csv', 'row': 174}, page_content='Date: 2015-09-10\\nOpen: 43.119999\\nHigh: 43.790001000000004\\nLow: 42.75\\nClose: 43.290001000000004\\nAdj Close: 40.746258000000005\\nVolume: 31366600'), Document(metadata={'source': './directorio/microsoft.csv', 'row': 175}, page_content='Date: 2015-09-11\\nOpen: 43.139998999999996\\nHigh: 43.59\\nLow: 42.939999\\nClose: 43.48\\nAdj Close: 40.925087\\nVolume: 27132500'), Document(metadata={'source': './directorio/microsoft.csv', 'row': 176}, page_content='Date: 2015-09-14\\nOpen: 43.43\\nHigh: 43.439999\\nLow: 42.860001000000004\\nClose: 43.040001000000004\\nAdj Close: 40.510948\\nVolume: 23656000'), Document(metadata={'source': './directorio/microsoft.csv', 'row': 177}, page_content='Date: 2015-09-15\\nOpen: 43.189999\\nHigh: 44.290001000000004\\nLow: 43.080002\\nClose: 43.98\\nAdj Close: 41.395714\\nVolume: 28662100'), Document(metadata={'source': './directorio/microsoft.csv', 'row': 178}, page_content='Date: 2015-09-16\\nOpen: 43.970001\\nHigh: 44.380001\\nLow: 43.84\\nClose: 44.299999\\nAdj Close: 41.696911\\nVolume: 23372200'), Document(metadata={'source': './directorio/microsoft.csv', 'row': 179}, page_content='Date: 2015-09-17\\nOpen: 44.290001000000004\\nHigh: 45.0\\nLow: 44.080002\\nClose: 44.25\\nAdj Close: 41.649848999999996\\nVolume: 32768200'), Document(metadata={'source': './directorio/microsoft.csv', 'row': 180}, page_content='Date: 2015-09-18\\nOpen: 43.5\\nHigh: 43.990002000000004\\nLow: 43.330002\\nClose: 43.48\\nAdj Close: 40.925087\\nVolume: 62221600'), Document(metadata={'source': './directorio/microsoft.csv', 'row': 181}, page_content='Date: 2015-09-21\\nOpen: 43.619999\\nHigh: 44.470001\\nLow: 43.599998\\nClose: 44.110001000000004\\nAdj Close: 41.518074\\nVolume: 26177200'), Document(metadata={'source': './directorio/microsoft.csv', 'row': 182}, page_content='Date: 2015-09-22\\nOpen: 43.380001\\nHigh: 44.049999\\nLow: 43.310001\\nClose: 43.900002\\nAdj Close: 41.320408\\nVolume: 28085900'), Document(metadata={'source': './directorio/microsoft.csv', 'row': 183}, page_content='Date: 2015-09-23\\nOpen: 43.93\\nHigh: 44.169998\\nLow: 43.509997999999996\\nClose: 43.869999\\nAdj Close: 41.292171\\nVolume: 17145200'), Document(metadata={'source': './directorio/microsoft.csv', 'row': 184}, page_content='Date: 2015-09-24\\nOpen: 43.450001\\nHigh: 44.130001\\nLow: 43.27\\nClose: 43.91\\nAdj Close: 41.329826000000004\\nVolume: 27905600'), Document(metadata={'source': './directorio/microsoft.csv', 'row': 185}, page_content='Date: 2015-09-25\\nOpen: 44.48\\nHigh: 44.73\\nLow: 43.759997999999996\\nClose: 43.939999\\nAdj Close: 41.358063\\nVolume: 29384600'), Document(metadata={'source': './directorio/microsoft.csv', 'row': 186}, page_content='Date: 2015-09-28\\nOpen: 43.830002\\nHigh: 44.09\\nLow: 43.209998999999996\\nClose: 43.290001000000004\\nAdj Close: 40.746258000000005\\nVolume: 27613800'), Document(metadata={'source': './directorio/microsoft.csv', 'row': 187}, page_content='Date: 2015-09-29\\nOpen: 43.369999\\nHigh: 43.57\\nLow: 43.049999\\nClose: 43.439999\\nAdj Close: 40.887444\\nVolume: 32763600'), Document(metadata={'source': './directorio/microsoft.csv', 'row': 188}, page_content='Date: 2015-09-30\\nOpen: 43.880001\\nHigh: 44.299999\\nLow: 43.66\\nClose: 44.259997999999996\\nAdj Close: 41.659259999999996\\nVolume: 34589500'), Document(metadata={'source': './directorio/microsoft.csv', 'row': 189}, page_content='Date: 2015-10-01\\nOpen: 44.75\\nHigh: 44.75\\nLow: 43.75\\nClose: 44.610001000000004\\nAdj Close: 41.988696999999995\\nVolume: 28657900'), Document(metadata={'source': './directorio/microsoft.csv', 'row': 190}, page_content='Date: 2015-10-02\\nOpen: 44.27\\nHigh: 45.57\\nLow: 43.919998\\nClose: 45.57\\nAdj Close: 42.892284000000004\\nVolume: 41839000'), Document(metadata={'source': './directorio/microsoft.csv', 'row': 191}, page_content='Date: 2015-10-05\\nOpen: 45.75\\nHigh: 46.889998999999996\\nLow: 45.700001\\nClose: 46.630001\\nAdj Close: 43.889998999999996\\nVolume: 34369300'), Document(metadata={'source': './directorio/microsoft.csv', 'row': 192}, page_content='Date: 2015-10-06\\nOpen: 46.330002\\nHigh: 47.18\\nLow: 46.220001\\nClose: 46.75\\nAdj Close: 44.002945000000004\\nVolume: 27017200'), Document(metadata={'source': './directorio/microsoft.csv', 'row': 193}, page_content='Date: 2015-10-07\\nOpen: 47.099998\\nHigh: 47.349998\\nLow: 45.950001\\nClose: 46.799999\\nAdj Close: 44.050011\\nVolume: 27711500'), Document(metadata={'source': './directorio/microsoft.csv', 'row': 194}, page_content='Date: 2015-10-08\\nOpen: 46.560001\\nHigh: 47.52\\nLow: 46.5\\nClose: 47.450001\\nAdj Close: 44.661815999999995\\nVolume: 33772700'), Document(metadata={'source': './directorio/microsoft.csv', 'row': 195}, page_content='Date: 2015-10-09\\nOpen: 47.450001\\nHigh: 47.540001000000004\\nLow: 46.919998\\nClose: 47.110001000000004\\nAdj Close: 44.341797\\nVolume: 28600600'), Document(metadata={'source': './directorio/microsoft.csv', 'row': 196}, page_content='Date: 2015-10-12\\nOpen: 46.98\\nHigh: 47.07\\nLow: 46.5\\nClose: 47.0\\nAdj Close: 44.238258\\nVolume: 19769100'), Document(metadata={'source': './directorio/microsoft.csv', 'row': 197}, page_content='Date: 2015-10-13\\nOpen: 46.560001\\nHigh: 47.130001\\nLow: 46.560001\\nClose: 46.889998999999996\\nAdj Close: 44.13472\\nVolume: 19987800'), Document(metadata={'source': './directorio/microsoft.csv', 'row': 198}, page_content='Date: 2015-10-14\\nOpen: 46.650002\\nHigh: 47.099998\\nLow: 46.529999\\nClose: 46.68\\nAdj Close: 43.937053999999996\\nVolume: 24697800'), Document(metadata={'source': './directorio/microsoft.csv', 'row': 199}, page_content='Date: 2015-10-15\\nOpen: 47.009997999999996\\nHigh: 47.029999\\nLow: 46.529999\\nClose: 47.009997999999996\\nAdj Close: 44.247669\\nVolume: 27189400'), Document(metadata={'source': './directorio/microsoft.csv', 'row': 200}, page_content='Date: 2015-10-16\\nOpen: 47.02\\nHigh: 47.540001000000004\\nLow: 46.900002\\nClose: 47.509997999999996\\nAdj Close: 44.718284999999995\\nVolume: 26450300'), Document(metadata={'source': './directorio/microsoft.csv', 'row': 201}, page_content='Date: 2015-10-19\\nOpen: 47.419998\\nHigh: 47.880001\\nLow: 47.02\\nClose: 47.619999\\nAdj Close: 44.821822999999995\\nVolume: 29387600'), Document(metadata={'source': './directorio/microsoft.csv', 'row': 202}, page_content='Date: 2015-10-20\\nOpen: 47.439999\\nHigh: 47.810001\\nLow: 47.02\\nClose: 47.77\\nAdj Close: 44.963004999999995\\nVolume: 30574000'), Document(metadata={'source': './directorio/microsoft.csv', 'row': 203}, page_content='Date: 2015-10-21\\nOpen: 47.919998\\nHigh: 47.990002000000004\\nLow: 47.110001000000004\\nClose: 47.200001\\nAdj Close: 44.426505999999996\\nVolume: 25144300'), Document(metadata={'source': './directorio/microsoft.csv', 'row': 204}, page_content='Date: 2015-10-22\\nOpen: 47.529999\\nHigh: 48.950001\\nLow: 47.09\\nClose: 48.029999\\nAdj Close: 45.207737\\nVolume: 56637100'), Document(metadata={'source': './directorio/microsoft.csv', 'row': 205}, page_content='Date: 2015-10-23\\nOpen: 52.299999\\nHigh: 54.07\\nLow: 52.25\\nClose: 52.869999\\nAdj Close: 49.763332\\nVolume: 135227100'), Document(metadata={'source': './directorio/microsoft.csv', 'row': 206}, page_content='Date: 2015-10-26\\nOpen: 52.529999\\nHigh: 54.32\\nLow: 52.5\\nClose: 54.25\\nAdj Close: 51.062241\\nVolume: 64633300'), Document(metadata={'source': './directorio/microsoft.csv', 'row': 207}, page_content='Date: 2015-10-27\\nOpen: 53.990002000000004\\nHigh: 54.369999\\nLow: 53.580002\\nClose: 53.689999\\nAdj Close: 50.535149\\nVolume: 50999900'), Document(metadata={'source': './directorio/microsoft.csv', 'row': 208}, page_content='Date: 2015-10-28\\nOpen: 53.540001000000004\\nHigh: 53.98\\nLow: 52.860001000000004\\nClose: 53.98\\nAdj Close: 50.808102000000005\\nVolume: 47000800'), Document(metadata={'source': './directorio/microsoft.csv', 'row': 209}, page_content='Date: 2015-10-29\\nOpen: 53.540001000000004\\nHigh: 53.830002\\nLow: 53.220001\\nClose: 53.360001000000004\\nAdj Close: 50.224545\\nVolume: 30036300'), Document(metadata={'source': './directorio/microsoft.csv', 'row': 210}, page_content='Date: 2015-10-30\\nOpen: 53.32\\nHigh: 53.990002000000004\\nLow: 52.619999\\nClose: 52.639998999999996\\nAdj Close: 49.546844\\nVolume: 46619800'), Document(metadata={'source': './directorio/microsoft.csv', 'row': 211}, page_content='Date: 2015-11-02\\nOpen: 52.849998\\nHigh: 53.360001000000004\\nLow: 52.619999\\nClose: 53.240002000000004\\nAdj Close: 50.111588\\nVolume: 30285000'), Document(metadata={'source': './directorio/microsoft.csv', 'row': 212}, page_content='Date: 2015-11-03\\nOpen: 52.93\\nHigh: 54.389998999999996\\nLow: 52.900002\\nClose: 54.150002\\nAdj Close: 50.968117\\nVolume: 36596900'), Document(metadata={'source': './directorio/microsoft.csv', 'row': 213}, page_content='Date: 2015-11-04\\nOpen: 54.18\\nHigh: 54.880001\\nLow: 54.060001\\nClose: 54.400002\\nAdj Close: 51.203426\\nVolume: 37020400'), Document(metadata={'source': './directorio/microsoft.csv', 'row': 214}, page_content='Date: 2015-11-05\\nOpen: 54.490002000000004\\nHigh: 54.700001\\nLow: 54.0\\nClose: 54.380001\\nAdj Close: 51.184605\\nVolume: 31468500'), Document(metadata={'source': './directorio/microsoft.csv', 'row': 215}, page_content='Date: 2015-11-06\\nOpen: 54.09\\nHigh: 54.98\\nLow: 53.959998999999996\\nClose: 54.919998\\nAdj Close: 51.692871000000004\\nVolume: 32851200'), Document(metadata={'source': './directorio/microsoft.csv', 'row': 216}, page_content='Date: 2015-11-09\\nOpen: 54.549999\\nHigh: 54.869999\\nLow: 53.560001\\nClose: 54.16\\nAdj Close: 50.977528\\nVolume: 32513100'), Document(metadata={'source': './directorio/microsoft.csv', 'row': 217}, page_content='Date: 2015-11-10\\nOpen: 54.07\\nHigh: 54.130001\\nLow: 53.27\\nClose: 53.509997999999996\\nAdj Close: 50.365719\\nVolume: 55283700'), Document(metadata={'source': './directorio/microsoft.csv', 'row': 218}, page_content='Date: 2015-11-11\\nOpen: 53.700001\\nHigh: 54.200001\\nLow: 53.459998999999996\\nClose: 53.650002\\nAdj Close: 50.497498\\nVolume: 36516300'), Document(metadata={'source': './directorio/microsoft.csv', 'row': 219}, page_content='Date: 2015-11-12\\nOpen: 53.48\\nHigh: 53.98\\nLow: 53.189999\\nClose: 53.32\\nAdj Close: 50.186890000000005\\nVolume: 35361100'), Document(metadata={'source': './directorio/microsoft.csv', 'row': 220}, page_content='Date: 2015-11-13\\nOpen: 53.07\\nHigh: 53.290001000000004\\nLow: 52.529999\\nClose: 52.84\\nAdj Close: 49.735096\\nVolume: 36848200'), Document(metadata={'source': './directorio/microsoft.csv', 'row': 221}, page_content='Date: 2015-11-16\\nOpen: 53.080002\\nHigh: 53.889998999999996\\nLow: 52.849998\\nClose: 53.77\\nAdj Close: 50.610451\\nVolume: 32165200'), Document(metadata={'source': './directorio/microsoft.csv', 'row': 222}, page_content='Date: 2015-11-17\\nOpen: 53.169998\\nHigh: 53.529999\\nLow: 52.849998\\nClose: 52.970001\\nAdj Close: 50.193512\\nVolume: 31551300'), Document(metadata={'source': './directorio/microsoft.csv', 'row': 223}, page_content='Date: 2015-11-18\\nOpen: 53.0\\nHigh: 53.98\\nLow: 52.98\\nClose: 53.849998\\nAdj Close: 51.027382\\nVolume: 29710000'), Document(metadata={'source': './directorio/microsoft.csv', 'row': 224}, page_content='Date: 2015-11-19\\nOpen: 53.990002000000004\\nHigh: 54.66\\nLow: 53.779999\\nClose: 53.939999\\nAdj Close: 51.112663\\nVolume: 28149200'), Document(metadata={'source': './directorio/microsoft.csv', 'row': 225}, page_content='Date: 2015-11-20\\nOpen: 54.25\\nHigh: 54.299999\\nLow: 53.27\\nClose: 54.189999\\nAdj Close: 51.34956\\nVolume: 37147600'), Document(metadata={'source': './directorio/microsoft.csv', 'row': 226}, page_content='Date: 2015-11-23\\nOpen: 54.25\\nHigh: 54.459998999999996\\nLow: 53.75\\nClose: 54.189999\\nAdj Close: 51.34956\\nVolume: 28235900'), Document(metadata={'source': './directorio/microsoft.csv', 'row': 227}, page_content='Date: 2015-11-24\\nOpen: 53.919998\\nHigh: 54.439999\\nLow: 53.580002\\nClose: 54.25\\nAdj Close: 51.406422\\nVolume: 24600000'), Document(metadata={'source': './directorio/microsoft.csv', 'row': 228}, page_content='Date: 2015-11-25\\nOpen: 54.09\\nHigh: 54.23\\nLow: 53.689999\\nClose: 53.689999\\nAdj Close: 50.875771\\nVolume: 21005100'), Document(metadata={'source': './directorio/microsoft.csv', 'row': 229}, page_content='Date: 2015-11-27\\nOpen: 53.799999\\nHigh: 54.080002\\nLow: 53.790001000000004\\nClose: 53.93\\nAdj Close: 51.103188\\nVolume: 9009100'), Document(metadata={'source': './directorio/microsoft.csv', 'row': 230}, page_content='Date: 2015-11-30\\nOpen: 54.540001000000004\\nHigh: 54.959998999999996\\nLow: 54.0\\nClose: 54.349998\\nAdj Close: 51.501175\\nVolume: 56241400'), Document(metadata={'source': './directorio/microsoft.csv', 'row': 231}, page_content='Date: 2015-12-01\\nOpen: 54.41\\nHigh: 55.23\\nLow: 54.299999\\nClose: 55.220001\\nAdj Close: 52.325581\\nVolume: 39952800'), Document(metadata={'source': './directorio/microsoft.csv', 'row': 232}, page_content='Date: 2015-12-02\\nOpen: 55.32\\nHigh: 55.959998999999996\\nLow: 55.060001\\nClose: 55.209998999999996\\nAdj Close: 52.316093\\nVolume: 47274900'), Document(metadata={'source': './directorio/microsoft.csv', 'row': 233}, page_content='Date: 2015-12-03\\nOpen: 55.490002000000004\\nHigh: 55.77\\nLow: 53.93\\nClose: 54.200001\\nAdj Close: 51.359039\\nVolume: 38627800'), Document(metadata={'source': './directorio/microsoft.csv', 'row': 234}, page_content='Date: 2015-12-04\\nOpen: 54.119999\\nHigh: 56.23\\nLow: 54.099998\\nClose: 55.91\\nAdj Close: 52.979404\\nVolume: 43963700'), Document(metadata={'source': './directorio/microsoft.csv', 'row': 235}, page_content='Date: 2015-12-07\\nOpen: 55.790001000000004\\nHigh: 55.970001\\nLow: 55.290001000000004\\nClose: 55.810001\\nAdj Close: 52.884646999999994\\nVolume: 30709800'), Document(metadata={'source': './directorio/microsoft.csv', 'row': 236}, page_content='Date: 2015-12-08\\nOpen: 55.470001\\nHigh: 56.099998\\nLow: 54.990002000000004\\nClose: 55.790001000000004\\nAdj Close: 52.865696\\nVolume: 32878000'), Document(metadata={'source': './directorio/microsoft.csv', 'row': 237}, page_content='Date: 2015-12-09\\nOpen: 55.369999\\nHigh: 55.869999\\nLow: 54.509997999999996\\nClose: 54.98\\nAdj Close: 52.098156\\nVolume: 36373200'), Document(metadata={'source': './directorio/microsoft.csv', 'row': 238}, page_content='Date: 2015-12-10\\nOpen: 55.389998999999996\\nHigh: 55.66\\nLow: 55.009997999999996\\nClose: 55.27\\nAdj Close: 52.372955\\nVolume: 31620700'), Document(metadata={'source': './directorio/microsoft.csv', 'row': 239}, page_content='Date: 2015-12-11\\nOpen: 54.709998999999996\\nHigh: 55.099998\\nLow: 54.009997999999996\\nClose: 54.060001\\nAdj Close: 51.226376\\nVolume: 39549500'), Document(metadata={'source': './directorio/microsoft.csv', 'row': 240}, page_content='Date: 2015-12-14\\nOpen: 54.330002\\nHigh: 55.209998999999996\\nLow: 53.68\\nClose: 55.139998999999996\\nAdj Close: 52.249763\\nVolume: 46768900'), Document(metadata={'source': './directorio/microsoft.csv', 'row': 241}, page_content='Date: 2015-12-15\\nOpen: 55.66\\nHigh: 55.900002\\nLow: 55.09\\nClose: 55.200001\\nAdj Close: 52.306625\\nVolume: 39843000'), Document(metadata={'source': './directorio/microsoft.csv', 'row': 242}, page_content='Date: 2015-12-16\\nOpen: 55.540001000000004\\nHigh: 56.25\\nLow: 54.759997999999996\\nClose: 56.130001\\nAdj Close: 53.187874\\nVolume: 37503300'), Document(metadata={'source': './directorio/microsoft.csv', 'row': 243}, page_content='Date: 2015-12-17\\nOpen: 56.360001000000004\\nHigh: 56.790001000000004\\nLow: 55.529999\\nClose: 55.700001\\nAdj Close: 52.780415000000005\\nVolume: 41280900'), Document(metadata={'source': './directorio/microsoft.csv', 'row': 244}, page_content='Date: 2015-12-18\\nOpen: 55.77\\nHigh: 56.0\\nLow: 54.029999\\nClose: 54.130001\\nAdj Close: 51.292709\\nVolume: 84684200'), Document(metadata={'source': './directorio/microsoft.csv', 'row': 245}, page_content='Date: 2015-12-21\\nOpen: 54.880001\\nHigh: 55.349998\\nLow: 54.23\\nClose: 54.830002\\nAdj Close: 51.95602\\nVolume: 37246300'), Document(metadata={'source': './directorio/microsoft.csv', 'row': 246}, page_content='Date: 2015-12-22\\nOpen: 54.990002000000004\\nHigh: 55.48\\nLow: 54.5\\nClose: 55.349998\\nAdj Close: 52.448761\\nVolume: 28300300'), Document(metadata={'source': './directorio/microsoft.csv', 'row': 247}, page_content='Date: 2015-12-23\\nOpen: 55.700001\\nHigh: 55.880001\\nLow: 55.439999\\nClose: 55.82\\nAdj Close: 52.894127000000005\\nVolume: 27279800'), Document(metadata={'source': './directorio/microsoft.csv', 'row': 248}, page_content='Date: 2015-12-24\\nOpen: 55.860001000000004\\nHigh: 55.959998999999996\\nLow: 55.43\\nClose: 55.669998\\nAdj Close: 52.75198\\nVolume: 9570000'), Document(metadata={'source': './directorio/microsoft.csv', 'row': 249}, page_content='Date: 2015-12-28\\nOpen: 55.349998\\nHigh: 55.950001\\nLow: 54.98\\nClose: 55.950001\\nAdj Close: 53.017315\\nVolume: 21698000'), Document(metadata={'source': './directorio/microsoft.csv', 'row': 250}, page_content='Date: 2015-12-29\\nOpen: 56.290001000000004\\nHigh: 56.849998\\nLow: 56.060001\\nClose: 56.549999\\nAdj Close: 53.585861\\nVolume: 27731400'), Document(metadata={'source': './directorio/microsoft.csv', 'row': 251}, page_content='Date: 2015-12-30\\nOpen: 56.470001\\nHigh: 56.779999\\nLow: 56.290001000000004\\nClose: 56.310001\\nAdj Close: 53.35844399999999\\nVolume: 21704500'), Document(metadata={'source': './directorio/microsoft.csv', 'row': 252}, page_content='Date: 2015-12-31\\nOpen: 56.040001000000004\\nHigh: 56.189999\\nLow: 55.419998\\nClose: 55.48\\nAdj Close: 52.57194499999999\\nVolume: 27334100'), Document(metadata={'source': './directorio/microsoft.csv', 'row': 253}, page_content='Date: 2016-01-04\\nOpen: 54.32\\nHigh: 54.799999\\nLow: 53.389998999999996\\nClose: 54.799999\\nAdj Close: 51.927593\\nVolume: 53778000'), Document(metadata={'source': './directorio/microsoft.csv', 'row': 254}, page_content='Date: 2016-01-05\\nOpen: 54.93\\nHigh: 55.389998999999996\\nLow: 54.540001000000004\\nClose: 55.049999\\nAdj Close: 52.16449\\nVolume: 34079700'), Document(metadata={'source': './directorio/microsoft.csv', 'row': 255}, page_content='Date: 2016-01-06\\nOpen: 54.32\\nHigh: 54.400002\\nLow: 53.639998999999996\\nClose: 54.049999\\nAdj Close: 51.2169\\nVolume: 39518900'), Document(metadata={'source': './directorio/microsoft.csv', 'row': 256}, page_content='Date: 2016-01-07\\nOpen: 52.700001\\nHigh: 53.490002000000004\\nLow: 52.07\\nClose: 52.169998\\nAdj Close: 49.435444\\nVolume: 56564900'), Document(metadata={'source': './directorio/microsoft.csv', 'row': 257}, page_content='Date: 2016-01-08\\nOpen: 52.369999\\nHigh: 53.279999\\nLow: 52.150002\\nClose: 52.330002\\nAdj Close: 49.587063\\nVolume: 48754000'), Document(metadata={'source': './directorio/microsoft.csv', 'row': 258}, page_content='Date: 2016-01-11\\nOpen: 52.509997999999996\\nHigh: 52.849998\\nLow: 51.459998999999996\\nClose: 52.299999\\nAdj Close: 49.558632\\nVolume: 36663600'), Document(metadata={'source': './directorio/microsoft.csv', 'row': 259}, page_content='Date: 2016-01-12\\nOpen: 52.759997999999996\\nHigh: 53.099998\\nLow: 52.060001\\nClose: 52.779999\\nAdj Close: 50.01347\\nVolume: 36095500'), Document(metadata={'source': './directorio/microsoft.csv', 'row': 260}, page_content='Date: 2016-01-13\\nOpen: 53.799999\\nHigh: 54.07\\nLow: 51.299999\\nClose: 51.639998999999996\\nAdj Close: 48.933223999999996\\nVolume: 66883600'), Document(metadata={'source': './directorio/microsoft.csv', 'row': 261}, page_content='Date: 2016-01-14\\nOpen: 52.0\\nHigh: 53.419998\\nLow: 51.57\\nClose: 53.110001000000004\\nAdj Close: 50.32618\\nVolume: 52381900'), Document(metadata={'source': './directorio/microsoft.csv', 'row': 262}, page_content='Date: 2016-01-15\\nOpen: 51.310001\\nHigh: 51.970001\\nLow: 50.34\\nClose: 50.990002000000004\\nAdj Close: 48.317295\\nVolume: 71820700'), Document(metadata={'source': './directorio/microsoft.csv', 'row': 263}, page_content='Date: 2016-01-19\\nOpen: 51.48\\nHigh: 51.68\\nLow: 50.060001\\nClose: 50.560001\\nAdj Close: 47.909836\\nVolume: 43564500'), Document(metadata={'source': './directorio/microsoft.csv', 'row': 264}, page_content='Date: 2016-01-20\\nOpen: 49.98\\nHigh: 51.380001\\nLow: 49.099998\\nClose: 50.790001000000004\\nAdj Close: 48.127781\\nVolume: 63273000'), Document(metadata={'source': './directorio/microsoft.csv', 'row': 265}, page_content='Date: 2016-01-21\\nOpen: 51.0\\nHigh: 51.580002\\nLow: 50.299999\\nClose: 50.48\\nAdj Close: 47.83403\\nVolume: 40191200'), Document(metadata={'source': './directorio/microsoft.csv', 'row': 266}, page_content='Date: 2016-01-22\\nOpen: 51.41\\nHigh: 52.330002\\nLow: 51.259997999999996\\nClose: 52.290001000000004\\nAdj Close: 49.549152\\nVolume: 37555800'), Document(metadata={'source': './directorio/microsoft.csv', 'row': 267}, page_content='Date: 2016-01-25\\nOpen: 51.939999\\nHigh: 52.650002\\nLow: 51.650002\\nClose: 51.790001000000004\\nAdj Close: 49.075359000000006\\nVolume: 34707700'), Document(metadata={'source': './directorio/microsoft.csv', 'row': 268}, page_content='Date: 2016-01-26\\nOpen: 51.790001000000004\\nHigh: 52.439999\\nLow: 51.549999\\nClose: 52.169998\\nAdj Close: 49.435444\\nVolume: 28699500'), Document(metadata={'source': './directorio/microsoft.csv', 'row': 269}, page_content='Date: 2016-01-27\\nOpen: 52.009997999999996\\nHigh: 52.200001\\nLow: 51.02\\nClose: 51.220001\\nAdj Close: 48.53524\\nVolume: 36775200'), Document(metadata={'source': './directorio/microsoft.csv', 'row': 270}, page_content='Date: 2016-01-28\\nOpen: 51.860001000000004\\nHigh: 52.209998999999996\\nLow: 51.25\\nClose: 52.060001\\nAdj Close: 49.331215\\nVolume: 62513800'), Document(metadata={'source': './directorio/microsoft.csv', 'row': 271}, page_content='Date: 2016-01-29\\nOpen: 54.73\\nHigh: 55.09\\nLow: 54.0\\nClose: 55.09\\nAdj Close: 52.202389000000004\\nVolume: 83611700'), Document(metadata={'source': './directorio/microsoft.csv', 'row': 272}, page_content='Date: 2016-02-01\\nOpen: 54.880001\\nHigh: 55.09\\nLow: 54.5\\nClose: 54.709998999999996\\nAdj Close: 51.842304\\nVolume: 44208500'), Document(metadata={'source': './directorio/microsoft.csv', 'row': 273}, page_content='Date: 2016-02-02\\nOpen: 54.169998\\nHigh: 54.259997999999996\\nLow: 52.650002\\nClose: 53.0\\nAdj Close: 50.221934999999995\\nVolume: 56313800'), Document(metadata={'source': './directorio/microsoft.csv', 'row': 274}, page_content='Date: 2016-02-03\\nOpen: 53.25\\nHigh: 53.389998999999996\\nLow: 51.259997999999996\\nClose: 52.16\\nAdj Close: 49.425968\\nVolume: 57559800'), Document(metadata={'source': './directorio/microsoft.csv', 'row': 275}, page_content='Date: 2016-02-04\\nOpen: 52.099998\\nHigh: 52.810001\\nLow: 51.369999\\nClose: 52.0\\nAdj Close: 49.274361\\nVolume: 46803400'), Document(metadata={'source': './directorio/microsoft.csv', 'row': 276}, page_content='Date: 2016-02-05\\nOpen: 51.939999\\nHigh: 52.0\\nLow: 49.560001\\nClose: 50.16\\nAdj Close: 47.530803999999996\\nVolume: 62009000'), Document(metadata={'source': './directorio/microsoft.csv', 'row': 277}, page_content='Date: 2016-02-08\\nOpen: 49.549999\\nHigh: 49.57\\nLow: 48.189999\\nClose: 49.41\\nAdj Close: 46.82011\\nVolume: 59290500'), Document(metadata={'source': './directorio/microsoft.csv', 'row': 278}, page_content='Date: 2016-02-09\\nOpen: 49.02\\nHigh: 50.240002000000004\\nLow: 48.669998\\nClose: 49.279999\\nAdj Close: 46.696926\\nVolume: 45822200'), Document(metadata={'source': './directorio/microsoft.csv', 'row': 279}, page_content='Date: 2016-02-10\\nOpen: 49.889998999999996\\nHigh: 50.389998999999996\\nLow: 49.52\\nClose: 49.709998999999996\\nAdj Close: 47.104385\\nVolume: 38237000'), Document(metadata={'source': './directorio/microsoft.csv', 'row': 280}, page_content='Date: 2016-02-11\\nOpen: 48.68\\nHigh: 50.110001000000004\\nLow: 48.509997999999996\\nClose: 49.689999\\nAdj Close: 47.085438\\nVolume: 48878600'), Document(metadata={'source': './directorio/microsoft.csv', 'row': 281}, page_content='Date: 2016-02-12\\nOpen: 50.25\\nHigh: 50.68\\nLow: 49.75\\nClose: 50.5\\nAdj Close: 47.852978\\nVolume: 34243300'), Document(metadata={'source': './directorio/microsoft.csv', 'row': 282}, page_content='Date: 2016-02-16\\nOpen: 50.900002\\nHigh: 51.09\\nLow: 50.130001\\nClose: 51.09\\nAdj Close: 48.759646999999994\\nVolume: 37291200'), Document(metadata={'source': './directorio/microsoft.csv', 'row': 283}, page_content='Date: 2016-02-17\\nOpen: 51.490002000000004\\nHigh: 52.77\\nLow: 51.450001\\nClose: 52.419998\\nAdj Close: 50.02898\\nVolume: 40789000'), Document(metadata={'source': './directorio/microsoft.csv', 'row': 284}, page_content='Date: 2016-02-18\\nOpen: 52.330002\\nHigh: 52.950001\\nLow: 52.099998\\nClose: 52.189999\\nAdj Close: 49.809478999999996\\nVolume: 27176000'), Document(metadata={'source': './directorio/microsoft.csv', 'row': 285}, page_content='Date: 2016-02-19\\nOpen: 51.970001\\nHigh: 52.279999\\nLow: 51.529999\\nClose: 51.82\\nAdj Close: 49.456352\\nVolume: 33559100'), Document(metadata={'source': './directorio/microsoft.csv', 'row': 286}, page_content='Date: 2016-02-22\\nOpen: 52.279999\\nHigh: 53.0\\nLow: 52.279999\\nClose: 52.650002\\nAdj Close: 50.248489\\nVolume: 25008300'), Document(metadata={'source': './directorio/microsoft.csv', 'row': 287}, page_content='Date: 2016-02-23\\nOpen: 52.34\\nHigh: 52.369999\\nLow: 50.98\\nClose: 51.18\\nAdj Close: 48.845543\\nVolume: 28895300'), Document(metadata={'source': './directorio/microsoft.csv', 'row': 288}, page_content='Date: 2016-02-24\\nOpen: 50.689999\\nHigh: 51.5\\nLow: 50.200001\\nClose: 51.360001000000004\\nAdj Close: 49.017334000000005\\nVolume: 33014500'), Document(metadata={'source': './directorio/microsoft.csv', 'row': 289}, page_content='Date: 2016-02-25\\nOpen: 51.73\\nHigh: 52.099998\\nLow: 50.610001000000004\\nClose: 52.099998\\nAdj Close: 49.723579\\nVolume: 26695900'), Document(metadata={'source': './directorio/microsoft.csv', 'row': 290}, page_content='Date: 2016-02-26\\nOpen: 52.599998\\nHigh: 52.68\\nLow: 51.099998\\nClose: 51.299999\\nAdj Close: 48.960068\\nVolume: 35975900'), Document(metadata={'source': './directorio/microsoft.csv', 'row': 291}, page_content='Date: 2016-02-29\\nOpen: 51.349998\\nHigh: 51.650002\\nLow: 50.66\\nClose: 50.880001\\nAdj Close: 48.559227\\nVolume: 31654000'), Document(metadata={'source': './directorio/microsoft.csv', 'row': 292}, page_content='Date: 2016-03-01\\nOpen: 50.970001\\nHigh: 52.59\\nLow: 50.919998\\nClose: 52.580002\\nAdj Close: 50.18169\\nVolume: 33024500'), Document(metadata={'source': './directorio/microsoft.csv', 'row': 293}, page_content='Date: 2016-03-02\\nOpen: 52.41\\nHigh: 52.959998999999996\\nLow: 52.16\\nClose: 52.950001\\nAdj Close: 50.534809\\nVolume: 29289900'), Document(metadata={'source': './directorio/microsoft.csv', 'row': 294}, page_content='Date: 2016-03-03\\nOpen: 52.970001\\nHigh: 52.970001\\nLow: 51.779999\\nClose: 52.349998\\nAdj Close: 49.962177000000004\\nVolume: 24418100'), Document(metadata={'source': './directorio/microsoft.csv', 'row': 295}, page_content='Date: 2016-03-04\\nOpen: 52.400002\\nHigh: 52.450001\\nLow: 51.709998999999996\\nClose: 52.029999\\nAdj Close: 49.656769\\nVolume: 33034200'), Document(metadata={'source': './directorio/microsoft.csv', 'row': 296}, page_content='Date: 2016-03-07\\nOpen: 51.560001\\nHigh: 51.799999\\nLow: 50.580002\\nClose: 51.029999\\nAdj Close: 48.702377\\nVolume: 38407800'), Document(metadata={'source': './directorio/microsoft.csv', 'row': 297}, page_content='Date: 2016-03-08\\nOpen: 50.799999\\nHigh: 52.130001\\nLow: 50.599998\\nClose: 51.650002\\nAdj Close: 49.294113\\nVolume: 33835100'), Document(metadata={'source': './directorio/microsoft.csv', 'row': 298}, page_content='Date: 2016-03-09\\nOpen: 51.889998999999996\\nHigh: 52.849998\\nLow: 51.860001000000004\\nClose: 52.84\\nAdj Close: 50.429821000000004\\nVolume: 28251600'), Document(metadata={'source': './directorio/microsoft.csv', 'row': 299}, page_content='Date: 2016-03-10\\nOpen: 52.93\\nHigh: 52.939999\\nLow: 51.16\\nClose: 52.049999\\nAdj Close: 49.675858000000005\\nVolume: 38384200'), Document(metadata={'source': './directorio/microsoft.csv', 'row': 300}, page_content='Date: 2016-03-11\\nOpen: 53.0\\nHigh: 53.07\\nLow: 52.380001\\nClose: 53.07\\nAdj Close: 50.649334\\nVolume: 32275700'), Document(metadata={'source': './directorio/microsoft.csv', 'row': 301}, page_content='Date: 2016-03-14\\nOpen: 52.709998999999996\\nHigh: 53.59\\nLow: 52.630001\\nClose: 53.169998\\nAdj Close: 50.74477\\nVolume: 24083600'), Document(metadata={'source': './directorio/microsoft.csv', 'row': 302}, page_content='Date: 2016-03-15\\nOpen: 52.75\\nHigh: 53.59\\nLow: 52.740002000000004\\nClose: 53.59\\nAdj Close: 51.145618\\nVolume: 21104800'), Document(metadata={'source': './directorio/microsoft.csv', 'row': 303}, page_content='Date: 2016-03-16\\nOpen: 53.450001\\nHigh: 54.599998\\nLow: 53.400002\\nClose: 54.349998\\nAdj Close: 51.870948999999996\\nVolume: 31691700'), Document(metadata={'source': './directorio/microsoft.csv', 'row': 304}, page_content='Date: 2016-03-17\\nOpen: 54.209998999999996\\nHigh: 55.0\\nLow: 54.0\\nClose: 54.66\\nAdj Close: 52.166809\\nVolume: 28223900'), Document(metadata={'source': './directorio/microsoft.csv', 'row': 305}, page_content='Date: 2016-03-18\\nOpen: 54.919998\\nHigh: 54.970001\\nLow: 53.450001\\nClose: 53.490002000000004\\nAdj Close: 51.050182\\nVolume: 67625500'), Document(metadata={'source': './directorio/microsoft.csv', 'row': 306}, page_content='Date: 2016-03-21\\nOpen: 53.25\\nHigh: 53.93\\nLow: 52.93\\nClose: 53.860001000000004\\nAdj Close: 51.403304999999996\\nVolume: 23925700'), Document(metadata={'source': './directorio/microsoft.csv', 'row': 307}, page_content='Date: 2016-03-22\\nOpen: 53.610001000000004\\nHigh: 54.25\\nLow: 53.459998999999996\\nClose: 54.07\\nAdj Close: 51.603722\\nVolume: 23124100'), Document(metadata={'source': './directorio/microsoft.csv', 'row': 308}, page_content='Date: 2016-03-23\\nOpen: 54.110001000000004\\nHigh: 54.240002000000004\\nLow: 53.740002000000004\\nClose: 53.970001\\nAdj Close: 51.508286\\nVolume: 20129000'), Document(metadata={'source': './directorio/microsoft.csv', 'row': 309}, page_content='Date: 2016-03-24\\nOpen: 53.84\\nHigh: 54.330002\\nLow: 53.73\\nClose: 54.209998999999996\\nAdj Close: 51.737339\\nVolume: 19950000'), Document(metadata={'source': './directorio/microsoft.csv', 'row': 310}, page_content='Date: 2016-03-28\\nOpen: 54.209998999999996\\nHigh: 54.290001000000004\\nLow: 53.330002\\nClose: 53.540001000000004\\nAdj Close: 51.097896999999996\\nVolume: 17025100'), Document(metadata={'source': './directorio/microsoft.csv', 'row': 311}, page_content='Date: 2016-03-29\\nOpen: 53.66\\nHigh: 54.860001000000004\\nLow: 53.450001\\nClose: 54.709998999999996\\nAdj Close: 52.214527000000004\\nVolume: 23375000'), Document(metadata={'source': './directorio/microsoft.csv', 'row': 312}, page_content='Date: 2016-03-30\\nOpen: 54.93\\nHigh: 55.639998999999996\\nLow: 54.900002\\nClose: 55.049999\\nAdj Close: 52.539024\\nVolume: 23008300'), Document(metadata={'source': './directorio/microsoft.csv', 'row': 313}, page_content='Date: 2016-03-31\\nOpen: 54.950001\\nHigh: 55.59\\nLow: 54.860001000000004\\nClose: 55.23\\nAdj Close: 52.710804\\nVolume: 26360500'), Document(metadata={'source': './directorio/microsoft.csv', 'row': 314}, page_content='Date: 2016-04-01\\nOpen: 55.049999\\nHigh: 55.610001000000004\\nLow: 54.57\\nClose: 55.57\\nAdj Close: 53.03530500000001\\nVolume: 24399200'), Document(metadata={'source': './directorio/microsoft.csv', 'row': 315}, page_content='Date: 2016-04-04\\nOpen: 55.43\\nHigh: 55.66\\nLow: 55.0\\nClose: 55.43\\nAdj Close: 52.901688\\nVolume: 18928800'), Document(metadata={'source': './directorio/microsoft.csv', 'row': 316}, page_content='Date: 2016-04-05\\nOpen: 55.189999\\nHigh: 55.299999\\nLow: 54.459998999999996\\nClose: 54.560001\\nAdj Close: 52.071373\\nVolume: 19272300'), Document(metadata={'source': './directorio/microsoft.csv', 'row': 317}, page_content='Date: 2016-04-06\\nOpen: 54.360001000000004\\nHigh: 55.200001\\nLow: 54.209998999999996\\nClose: 55.119999\\nAdj Close: 52.605819999999994\\nVolume: 21032100'), Document(metadata={'source': './directorio/microsoft.csv', 'row': 318}, page_content='Date: 2016-04-07\\nOpen: 54.869999\\nHigh: 54.91\\nLow: 54.23\\nClose: 54.459998999999996\\nAdj Close: 51.975929\\nVolume: 19225100'), Document(metadata={'source': './directorio/microsoft.csv', 'row': 319}, page_content='Date: 2016-04-08\\nOpen: 54.669998\\nHigh: 55.279999\\nLow: 54.32\\nClose: 54.419998\\nAdj Close: 51.937748\\nVolume: 22167200'), Document(metadata={'source': './directorio/microsoft.csv', 'row': 320}, page_content='Date: 2016-04-11\\nOpen: 54.490002000000004\\nHigh: 55.150002\\nLow: 54.299999\\nClose: 54.310001\\nAdj Close: 51.832778999999995\\nVolume: 21414200'), Document(metadata={'source': './directorio/microsoft.csv', 'row': 321}, page_content='Date: 2016-04-12\\nOpen: 54.369999\\nHigh: 54.779999\\nLow: 53.759997999999996\\nClose: 54.650002\\nAdj Close: 52.157269\\nVolume: 24574200'), Document(metadata={'source': './directorio/microsoft.csv', 'row': 322}, page_content='Date: 2016-04-13\\nOpen: 55.119999\\nHigh: 55.439999\\nLow: 54.889998999999996\\nClose: 55.349998\\nAdj Close: 52.825340000000004\\nVolume: 20818000'), Document(metadata={'source': './directorio/microsoft.csv', 'row': 323}, page_content='Date: 2016-04-14\\nOpen: 55.220001\\nHigh: 55.580002\\nLow: 55.07\\nClose: 55.360001000000004\\nAdj Close: 52.834881\\nVolume: 20875100'), Document(metadata={'source': './directorio/microsoft.csv', 'row': 324}, page_content='Date: 2016-04-15\\nOpen: 55.299999\\nHigh: 55.919998\\nLow: 55.110001000000004\\nClose: 55.650002\\nAdj Close: 53.11166\\nVolume: 28793800'), Document(metadata={'source': './directorio/microsoft.csv', 'row': 325}, page_content='Date: 2016-04-18\\nOpen: 55.490002000000004\\nHigh: 56.59\\nLow: 55.209998999999996\\nClose: 56.459998999999996\\nAdj Close: 53.884712\\nVolume: 23150300'), Document(metadata={'source': './directorio/microsoft.csv', 'row': 326}, page_content='Date: 2016-04-19\\nOpen: 56.630001\\nHigh: 56.77\\nLow: 55.68\\nClose: 56.389998999999996\\nAdj Close: 53.817902000000004\\nVolume: 29596800'), Document(metadata={'source': './directorio/microsoft.csv', 'row': 327}, page_content='Date: 2016-04-20\\nOpen: 56.290001000000004\\nHigh: 56.5\\nLow: 55.490002000000004\\nClose: 55.59\\nAdj Close: 53.054393999999995\\nVolume: 36195700'), Document(metadata={'source': './directorio/microsoft.csv', 'row': 328}, page_content='Date: 2016-04-21\\nOpen: 55.799999\\nHigh: 56.23\\nLow: 55.419998\\nClose: 55.779999\\nAdj Close: 53.235721999999996\\nVolume: 38909100'), Document(metadata={'source': './directorio/microsoft.csv', 'row': 329}, page_content='Date: 2016-04-22\\nOpen: 51.91\\nHigh: 52.43\\nLow: 50.77\\nClose: 51.779999\\nAdj Close: 49.418178999999995\\nVolume: 126834100'), Document(metadata={'source': './directorio/microsoft.csv', 'row': 330}, page_content='Date: 2016-04-25\\nOpen: 51.779999\\nHigh: 52.130001\\nLow: 51.630001\\nClose: 52.110001000000004\\nAdj Close: 49.733128\\nVolume: 33226900'), Document(metadata={'source': './directorio/microsoft.csv', 'row': 331}, page_content='Date: 2016-04-26\\nOpen: 52.259997999999996\\nHigh: 52.349998\\nLow: 51.09\\nClose: 51.439999\\nAdj Close: 49.093678000000004\\nVolume: 33532600'), Document(metadata={'source': './directorio/microsoft.csv', 'row': 332}, page_content='Date: 2016-04-27\\nOpen: 51.48\\nHigh: 51.5\\nLow: 50.549999\\nClose: 50.939999\\nAdj Close: 48.616486\\nVolume: 43369300'), Document(metadata={'source': './directorio/microsoft.csv', 'row': 333}, page_content='Date: 2016-04-28\\nOpen: 50.619999\\nHigh: 50.77\\nLow: 49.560001\\nClose: 49.900002\\nAdj Close: 47.623924\\nVolume: 43134800'), Document(metadata={'source': './directorio/microsoft.csv', 'row': 334}, page_content='Date: 2016-04-29\\nOpen: 49.349998\\nHigh: 50.25\\nLow: 49.349998\\nClose: 49.869999\\nAdj Close: 47.595295\\nVolume: 48411700'), Document(metadata={'source': './directorio/microsoft.csv', 'row': 335}, page_content='Date: 2016-05-02\\nOpen: 50.0\\nHigh: 50.75\\nLow: 49.779999\\nClose: 50.610001000000004\\nAdj Close: 48.301548\\nVolume: 33114500'), Document(metadata={'source': './directorio/microsoft.csv', 'row': 336}, page_content='Date: 2016-05-03\\nOpen: 50.34\\nHigh: 50.41\\nLow: 49.599998\\nClose: 49.779999\\nAdj Close: 47.509399\\nVolume: 26460200'), Document(metadata={'source': './directorio/microsoft.csv', 'row': 337}, page_content='Date: 2016-05-04\\nOpen: 49.84\\nHigh: 50.060001\\nLow: 49.459998999999996\\nClose: 49.869999\\nAdj Close: 47.595295\\nVolume: 24257600'), Document(metadata={'source': './directorio/microsoft.csv', 'row': 338}, page_content='Date: 2016-05-05\\nOpen: 49.869999\\nHigh: 50.299999\\nLow: 49.73\\nClose: 49.939999\\nAdj Close: 47.662098\\nVolume: 25390700'), Document(metadata={'source': './directorio/microsoft.csv', 'row': 339}, page_content='Date: 2016-05-06\\nOpen: 49.919998\\nHigh: 50.389998999999996\\nLow: 49.66\\nClose: 50.389998999999996\\nAdj Close: 48.091576\\nVolume: 24787300'), Document(metadata={'source': './directorio/microsoft.csv', 'row': 340}, page_content='Date: 2016-05-09\\nOpen: 50.490002000000004\\nHigh: 50.59\\nLow: 50.0\\nClose: 50.07\\nAdj Close: 47.786171\\nVolume: 17951600'), Document(metadata={'source': './directorio/microsoft.csv', 'row': 341}, page_content='Date: 2016-05-10\\nOpen: 50.330002\\nHigh: 51.099998\\nLow: 50.189999\\nClose: 51.02\\nAdj Close: 48.692840999999994\\nVolume: 22741500'), Document(metadata={'source': './directorio/microsoft.csv', 'row': 342}, page_content='Date: 2016-05-11\\nOpen: 51.130001\\nHigh: 51.779999\\nLow: 51.0\\nClose: 51.049999\\nAdj Close: 48.721470000000004\\nVolume: 24039100'), Document(metadata={'source': './directorio/microsoft.csv', 'row': 343}, page_content='Date: 2016-05-12\\nOpen: 51.200001\\nHigh: 51.810001\\nLow: 50.919998\\nClose: 51.509997999999996\\nAdj Close: 49.160488\\nVolume: 24102800'), Document(metadata={'source': './directorio/microsoft.csv', 'row': 344}, page_content='Date: 2016-05-13\\nOpen: 51.439999\\nHigh: 51.900002\\nLow: 51.040001000000004\\nClose: 51.080002\\nAdj Close: 48.750107\\nVolume: 22592300'), Document(metadata={'source': './directorio/microsoft.csv', 'row': 345}, page_content='Date: 2016-05-16\\nOpen: 50.799999\\nHigh: 51.959998999999996\\nLow: 50.75\\nClose: 51.830002\\nAdj Close: 49.465893\\nVolume: 20032000'), Document(metadata={'source': './directorio/microsoft.csv', 'row': 346}, page_content='Date: 2016-05-17\\nOpen: 51.720001\\nHigh: 51.73\\nLow: 50.360001000000004\\nClose: 50.509997999999996\\nAdj Close: 48.543274\\nVolume: 27803500'), Document(metadata={'source': './directorio/microsoft.csv', 'row': 347}, page_content='Date: 2016-05-18\\nOpen: 50.48\\nHigh: 51.139998999999996\\nLow: 50.299999\\nClose: 50.810001\\nAdj Close: 48.831589\\nVolume: 24907500'), Document(metadata={'source': './directorio/microsoft.csv', 'row': 348}, page_content='Date: 2016-05-19\\nOpen: 50.470001\\nHigh: 50.619999\\nLow: 49.82\\nClose: 50.32\\nAdj Close: 48.360671999999994\\nVolume: 23842400'), Document(metadata={'source': './directorio/microsoft.csv', 'row': 349}, page_content='Date: 2016-05-20\\nOpen: 50.48\\nHigh: 51.220001\\nLow: 50.400002\\nClose: 50.619999\\nAdj Close: 48.648998\\nVolume: 23905800'), Document(metadata={'source': './directorio/microsoft.csv', 'row': 350}, page_content='Date: 2016-05-23\\nOpen: 50.599998\\nHigh: 50.68\\nLow: 49.98\\nClose: 50.029999\\nAdj Close: 48.081965999999994\\nVolume: 25999700'), Document(metadata={'source': './directorio/microsoft.csv', 'row': 351}, page_content='Date: 2016-05-24\\nOpen: 50.700001\\nHigh: 51.709998999999996\\nLow: 50.400002\\nClose: 51.59\\nAdj Close: 49.581226\\nVolume: 34757900'), Document(metadata={'source': './directorio/microsoft.csv', 'row': 352}, page_content='Date: 2016-05-25\\nOpen: 51.919998\\nHigh: 52.490002000000004\\nLow: 51.790001000000004\\nClose: 52.119999\\nAdj Close: 50.090584\\nVolume: 24040200'), Document(metadata={'source': './directorio/microsoft.csv', 'row': 353}, page_content='Date: 2016-05-26\\nOpen: 51.93\\nHigh: 51.98\\nLow: 51.360001000000004\\nClose: 51.889998999999996\\nAdj Close: 49.869537\\nVolume: 24182900'), Document(metadata={'source': './directorio/microsoft.csv', 'row': 354}, page_content='Date: 2016-05-27\\nOpen: 51.919998\\nHigh: 52.32\\nLow: 51.77\\nClose: 52.32\\nAdj Close: 50.282799\\nVolume: 17721400'), Document(metadata={'source': './directorio/microsoft.csv', 'row': 355}, page_content='Date: 2016-05-31\\nOpen: 52.259997999999996\\nHigh: 53.0\\nLow: 52.080002\\nClose: 53.0\\nAdj Close: 50.936321\\nVolume: 37653100'), Document(metadata={'source': './directorio/microsoft.csv', 'row': 356}, page_content='Date: 2016-06-01\\nOpen: 52.439999\\nHigh: 52.950001\\nLow: 52.439999\\nClose: 52.849998\\nAdj Close: 50.792159999999996\\nVolume: 25324800'), Document(metadata={'source': './directorio/microsoft.csv', 'row': 357}, page_content='Date: 2016-06-02\\nOpen: 52.639998999999996\\nHigh: 52.740002000000004\\nLow: 51.84\\nClose: 52.48\\nAdj Close: 50.436569\\nVolume: 22565300'), Document(metadata={'source': './directorio/microsoft.csv', 'row': 358}, page_content='Date: 2016-06-03\\nOpen: 52.380001\\nHigh: 52.419998\\nLow: 51.599998\\nClose: 51.790001000000004\\nAdj Close: 49.773438\\nVolume: 23368300'), Document(metadata={'source': './directorio/microsoft.csv', 'row': 359}, page_content='Date: 2016-06-06\\nOpen: 51.990002000000004\\nHigh: 52.349998\\nLow: 51.889998999999996\\nClose: 52.130001\\nAdj Close: 50.100196999999994\\nVolume: 18243300'), Document(metadata={'source': './directorio/microsoft.csv', 'row': 360}, page_content='Date: 2016-06-07\\nOpen: 52.240002000000004\\nHigh: 52.73\\nLow: 52.099998\\nClose: 52.099998\\nAdj Close: 50.071362\\nVolume: 20866800'), Document(metadata={'source': './directorio/microsoft.csv', 'row': 361}, page_content='Date: 2016-06-08\\nOpen: 52.02\\nHigh: 52.439999\\nLow: 51.869999\\nClose: 52.040001000000004\\nAdj Close: 50.013699\\nVolume: 21149400'), Document(metadata={'source': './directorio/microsoft.csv', 'row': 362}, page_content='Date: 2016-06-09\\nOpen: 52.0\\nHigh: 52.0\\nLow: 51.490002000000004\\nClose: 51.619999\\nAdj Close: 49.610054\\nVolume: 20305700'), Document(metadata={'source': './directorio/microsoft.csv', 'row': 363}, page_content='Date: 2016-06-10\\nOpen: 51.049999\\nHigh: 52.049999\\nLow: 51.040001000000004\\nClose: 51.48\\nAdj Close: 49.475506\\nVolume: 25833200'), Document(metadata={'source': './directorio/microsoft.csv', 'row': 364}, page_content='Date: 2016-06-13\\nOpen: 49.580002\\nHigh: 50.720001\\nLow: 49.060001\\nClose: 50.139998999999996\\nAdj Close: 48.187678999999996\\nVolume: 83217800'), Document(metadata={'source': './directorio/microsoft.csv', 'row': 365}, page_content='Date: 2016-06-14\\nOpen: 49.900002\\nHigh: 50.099998\\nLow: 49.57\\nClose: 49.830002\\nAdj Close: 47.889751000000004\\nVolume: 42577100'), Document(metadata={'source': './directorio/microsoft.csv', 'row': 366}, page_content='Date: 2016-06-15\\nOpen: 49.779999\\nHigh: 50.119999\\nLow: 49.689999\\nClose: 49.689999\\nAdj Close: 47.755203\\nVolume: 33757600'), Document(metadata={'source': './directorio/microsoft.csv', 'row': 367}, page_content='Date: 2016-06-16\\nOpen: 49.52\\nHigh: 50.470001\\nLow: 49.509997999999996\\nClose: 50.389998999999996\\nAdj Close: 48.427944000000004\\nVolume: 31188600'), Document(metadata={'source': './directorio/microsoft.csv', 'row': 368}, page_content='Date: 2016-06-17\\nOpen: 50.41\\nHigh: 50.43\\nLow: 49.82\\nClose: 50.130001\\nAdj Close: 48.178074\\nVolume: 45710500'), Document(metadata={'source': './directorio/microsoft.csv', 'row': 369}, page_content='Date: 2016-06-20\\nOpen: 50.639998999999996\\nHigh: 50.830002\\nLow: 50.029999\\nClose: 50.07\\nAdj Close: 48.120407\\nVolume: 35607900'), Document(metadata={'source': './directorio/microsoft.csv', 'row': 370}, page_content='Date: 2016-06-21\\nOpen: 50.200001\\nHigh: 51.43\\nLow: 50.16\\nClose: 51.189999\\nAdj Close: 49.196793\\nVolume: 34097800'), Document(metadata={'source': './directorio/microsoft.csv', 'row': 371}, page_content='Date: 2016-06-22\\nOpen: 51.080002\\nHigh: 51.459998999999996\\nLow: 50.950001\\nClose: 50.990002000000004\\nAdj Close: 49.004589\\nVolume: 28816800'), Document(metadata={'source': './directorio/microsoft.csv', 'row': 372}, page_content='Date: 2016-06-23\\nOpen: 51.279999\\nHigh: 52.060001\\nLow: 51.150002\\nClose: 51.91\\nAdj Close: 49.88876\\nVolume: 29028800'), Document(metadata={'source': './directorio/microsoft.csv', 'row': 373}, page_content='Date: 2016-06-24\\nOpen: 49.810001\\nHigh: 50.939999\\nLow: 49.52\\nClose: 49.830002\\nAdj Close: 47.889751000000004\\nVolume: 133503000'), Document(metadata={'source': './directorio/microsoft.csv', 'row': 374}, page_content='Date: 2016-06-27\\nOpen: 49.099998\\nHigh: 49.150002\\nLow: 48.040001000000004\\nClose: 48.43\\nAdj Close: 46.544270000000004\\nVolume: 50216300'), Document(metadata={'source': './directorio/microsoft.csv', 'row': 375}, page_content='Date: 2016-06-28\\nOpen: 48.919998\\nHigh: 49.470001\\nLow: 48.669998\\nClose: 49.439999\\nAdj Close: 47.514938\\nVolume: 38140700'), Document(metadata={'source': './directorio/microsoft.csv', 'row': 376}, page_content='Date: 2016-06-29\\nOpen: 49.91\\nHigh: 50.720001\\nLow: 49.799999\\nClose: 50.540001000000004\\nAdj Close: 48.572105\\nVolume: 31304000'), Document(metadata={'source': './directorio/microsoft.csv', 'row': 377}, page_content='Date: 2016-06-30\\nOpen: 50.720001\\nHigh: 51.299999\\nLow: 50.5\\nClose: 51.169998\\nAdj Close: 49.177578000000004\\nVolume: 28527800'), Document(metadata={'source': './directorio/microsoft.csv', 'row': 378}, page_content='Date: 2016-07-01\\nOpen: 51.130001\\nHigh: 51.720001\\nLow: 51.07\\nClose: 51.16\\nAdj Close: 49.167969\\nVolume: 21400400'), Document(metadata={'source': './directorio/microsoft.csv', 'row': 379}, page_content='Date: 2016-07-05\\nOpen: 50.830002\\nHigh: 51.279999\\nLow: 50.740002000000004\\nClose: 51.169998\\nAdj Close: 49.177578000000004\\nVolume: 24806400'), Document(metadata={'source': './directorio/microsoft.csv', 'row': 380}, page_content='Date: 2016-07-06\\nOpen: 50.779999\\nHigh: 51.540001000000004\\nLow: 50.389998999999996\\nClose: 51.380001\\nAdj Close: 49.379402\\nVolume: 28167500'), Document(metadata={'source': './directorio/microsoft.csv', 'row': 381}, page_content='Date: 2016-07-07\\nOpen: 51.419998\\nHigh: 51.610001000000004\\nLow: 51.07\\nClose: 51.380001\\nAdj Close: 49.379402\\nVolume: 19580800'), Document(metadata={'source': './directorio/microsoft.csv', 'row': 382}, page_content='Date: 2016-07-08\\nOpen: 51.73\\nHigh: 52.360001000000004\\nLow: 51.549999\\nClose: 52.299999\\nAdj Close: 50.26358\\nVolume: 28391000'), Document(metadata={'source': './directorio/microsoft.csv', 'row': 383}, page_content='Date: 2016-07-11\\nOpen: 52.5\\nHigh: 52.830002\\nLow: 52.470001\\nClose: 52.59\\nAdj Close: 50.54229\\nVolume: 22269200'), Document(metadata={'source': './directorio/microsoft.csv', 'row': 384}, page_content='Date: 2016-07-12\\nOpen: 52.939999\\nHigh: 53.400002\\nLow: 52.790001000000004\\nClose: 53.209998999999996\\nAdj Close: 51.138145\\nVolume: 27317600'), Document(metadata={'source': './directorio/microsoft.csv', 'row': 385}, page_content='Date: 2016-07-13\\nOpen: 53.560001\\nHigh: 53.860001000000004\\nLow: 53.18\\nClose: 53.509997999999996\\nAdj Close: 51.42646\\nVolume: 25356800'), Document(metadata={'source': './directorio/microsoft.csv', 'row': 386}, page_content='Date: 2016-07-14\\nOpen: 53.84\\nHigh: 53.990002000000004\\nLow: 53.580002\\nClose: 53.740002000000004\\nAdj Close: 51.647511\\nVolume: 24545500'), Document(metadata={'source': './directorio/microsoft.csv', 'row': 387}, page_content='Date: 2016-07-15\\nOpen: 53.950001\\nHigh: 54.0\\nLow: 53.209998999999996\\nClose: 53.700001\\nAdj Close: 51.609066\\nVolume: 32024400'), Document(metadata={'source': './directorio/microsoft.csv', 'row': 388}, page_content='Date: 2016-07-18\\nOpen: 53.700001\\nHigh: 54.34\\nLow: 53.549999\\nClose: 53.959998999999996\\nAdj Close: 51.858940000000004\\nVolume: 31433900'), Document(metadata={'source': './directorio/microsoft.csv', 'row': 389}, page_content='Date: 2016-07-19\\nOpen: 53.709998999999996\\nHigh: 53.900002\\nLow: 52.93\\nClose: 53.09\\nAdj Close: 51.02282\\nVolume: 53336500'), Document(metadata={'source': './directorio/microsoft.csv', 'row': 390}, page_content='Date: 2016-07-20\\nOpen: 56.150002\\nHigh: 56.84\\nLow: 55.529999\\nClose: 55.91\\nAdj Close: 53.733013\\nVolume: 89893300'), Document(metadata={'source': './directorio/microsoft.csv', 'row': 391}, page_content='Date: 2016-07-21\\nOpen: 55.98\\nHigh: 56.23\\nLow: 55.759997999999996\\nClose: 55.799999\\nAdj Close: 53.627295999999994\\nVolume: 32776700'), Document(metadata={'source': './directorio/microsoft.csv', 'row': 392}, page_content='Date: 2016-07-22\\nOpen: 56.080002\\nHigh: 56.630001\\nLow: 55.779999\\nClose: 56.57\\nAdj Close: 54.367309999999996\\nVolume: 32157200'), Document(metadata={'source': './directorio/microsoft.csv', 'row': 393}, page_content='Date: 2016-07-25\\nOpen: 56.470001\\nHigh: 56.740002000000004\\nLow: 56.259997999999996\\nClose: 56.73\\nAdj Close: 54.521083999999995\\nVolume: 25610600'), Document(metadata={'source': './directorio/microsoft.csv', 'row': 394}, page_content='Date: 2016-07-26\\nOpen: 56.52\\nHigh: 57.290001000000004\\nLow: 56.509997999999996\\nClose: 56.759997999999996\\nAdj Close: 54.549915000000006\\nVolume: 28079000'), Document(metadata={'source': './directorio/microsoft.csv', 'row': 395}, page_content='Date: 2016-07-27\\nOpen: 56.610001000000004\\nHigh: 56.799999\\nLow: 56.110001000000004\\nClose: 56.189999\\nAdj Close: 54.002106000000005\\nVolume: 32095300'), Document(metadata={'source': './directorio/microsoft.csv', 'row': 396}, page_content='Date: 2016-07-28\\nOpen: 56.0\\nHigh: 56.369999\\nLow: 55.720001\\nClose: 56.209998999999996\\nAdj Close: 54.021328000000004\\nVolume: 37550400'), Document(metadata={'source': './directorio/microsoft.csv', 'row': 397}, page_content='Date: 2016-07-29\\nOpen: 56.259997999999996\\nHigh: 56.759997999999996\\nLow: 56.049999\\nClose: 56.68\\nAdj Close: 54.47303\\nVolume: 30558700'), Document(metadata={'source': './directorio/microsoft.csv', 'row': 398}, page_content='Date: 2016-08-01\\nOpen: 56.599998\\nHigh: 56.75\\nLow: 56.139998999999996\\nClose: 56.580002\\nAdj Close: 54.37693\\nVolume: 26003400'), Document(metadata={'source': './directorio/microsoft.csv', 'row': 399}, page_content='Date: 2016-08-02\\nOpen: 56.849998\\nHigh: 56.900002\\nLow: 56.310001\\nClose: 56.580002\\nAdj Close: 54.37693\\nVolume: 35122000'), Document(metadata={'source': './directorio/microsoft.csv', 'row': 400}, page_content='Date: 2016-08-03\\nOpen: 56.68\\nHigh: 57.110001000000004\\nLow: 56.490002000000004\\nClose: 56.970001\\nAdj Close: 54.751743000000005\\nVolume: 22075600'), Document(metadata={'source': './directorio/microsoft.csv', 'row': 401}, page_content='Date: 2016-08-04\\nOpen: 56.799999\\nHigh: 57.52\\nLow: 56.669998\\nClose: 57.389998999999996\\nAdj Close: 55.155388\\nVolume: 26466400'), Document(metadata={'source': './directorio/microsoft.csv', 'row': 402}, page_content='Date: 2016-08-05\\nOpen: 57.650002\\nHigh: 58.209998999999996\\nLow: 57.450001\\nClose: 57.959998999999996\\nAdj Close: 55.703185999999995\\nVolume: 29335200'), Document(metadata={'source': './directorio/microsoft.csv', 'row': 403}, page_content='Date: 2016-08-08\\nOpen: 58.060001\\nHigh: 58.09\\nLow: 57.779999\\nClose: 58.060001\\nAdj Close: 55.799296999999996\\nVolume: 19473500'), Document(metadata={'source': './directorio/microsoft.csv', 'row': 404}, page_content='Date: 2016-08-09\\nOpen: 58.169998\\nHigh: 58.5\\nLow: 58.02\\nClose: 58.200001\\nAdj Close: 55.933849\\nVolume: 16920700'), Document(metadata={'source': './directorio/microsoft.csv', 'row': 405}, page_content='Date: 2016-08-10\\nOpen: 58.16\\nHigh: 58.32\\nLow: 57.82\\nClose: 58.02\\nAdj Close: 55.760853000000004\\nVolume: 15756900'), Document(metadata={'source': './directorio/microsoft.csv', 'row': 406}, page_content='Date: 2016-08-11\\nOpen: 58.029999\\nHigh: 58.450001\\nLow: 58.029999\\nClose: 58.299999\\nAdj Close: 56.029949\\nVolume: 18133800'), Document(metadata={'source': './directorio/microsoft.csv', 'row': 407}, page_content='Date: 2016-08-12\\nOpen: 58.029999\\nHigh: 58.189999\\nLow: 57.619999\\nClose: 57.939999\\nAdj Close: 55.68396800000001\\nVolume: 21655200'), Document(metadata={'source': './directorio/microsoft.csv', 'row': 408}, page_content='Date: 2016-08-15\\nOpen: 58.009997999999996\\nHigh: 58.5\\nLow: 57.959998999999996\\nClose: 58.119999\\nAdj Close: 55.856956000000004\\nVolume: 19283900'), Document(metadata={'source': './directorio/microsoft.csv', 'row': 409}, page_content='Date: 2016-08-16\\nOpen: 57.610001000000004\\nHigh: 57.619999\\nLow: 57.27\\nClose: 57.439999\\nAdj Close: 55.547501000000004\\nVolume: 20523500'), Document(metadata={'source': './directorio/microsoft.csv', 'row': 410}, page_content='Date: 2016-08-17\\nOpen: 57.540001000000004\\nHigh: 57.68\\nLow: 57.23\\nClose: 57.560001\\nAdj Close: 55.663548\\nVolume: 18856400'), Document(metadata={'source': './directorio/microsoft.csv', 'row': 411}, page_content='Date: 2016-08-18\\nOpen: 57.419998\\nHigh: 57.700001\\nLow: 57.27\\nClose: 57.599998\\nAdj Close: 55.702231999999995\\nVolume: 14214300'), Document(metadata={'source': './directorio/microsoft.csv', 'row': 412}, page_content='Date: 2016-08-19\\nOpen: 57.43\\nHigh: 57.73\\nLow: 57.200001\\nClose: 57.619999\\nAdj Close: 55.721573\\nVolume: 17271000'), Document(metadata={'source': './directorio/microsoft.csv', 'row': 413}, page_content='Date: 2016-08-22\\nOpen: 57.599998\\nHigh: 57.75\\nLow: 57.259997999999996\\nClose: 57.669998\\nAdj Close: 55.769923999999996\\nVolume: 15221900'), Document(metadata={'source': './directorio/microsoft.csv', 'row': 414}, page_content='Date: 2016-08-23\\nOpen: 57.900002\\nHigh: 58.18\\nLow: 57.849998\\nClose: 57.889998999999996\\nAdj Close: 55.982677\\nVolume: 18732400'), Document(metadata={'source': './directorio/microsoft.csv', 'row': 415}, page_content='Date: 2016-08-24\\nOpen: 57.799999\\nHigh: 58.040001000000004\\nLow: 57.720001\\nClose: 57.950001\\nAdj Close: 56.040699\\nVolume: 18151500'), Document(metadata={'source': './directorio/microsoft.csv', 'row': 416}, page_content='Date: 2016-08-25\\nOpen: 57.880001\\nHigh: 58.290001000000004\\nLow: 57.779999\\nClose: 58.169998\\nAdj Close: 56.253452\\nVolume: 18552600'), Document(metadata={'source': './directorio/microsoft.csv', 'row': 417}, page_content='Date: 2016-08-26\\nOpen: 58.279999\\nHigh: 58.700001\\nLow: 57.689999\\nClose: 58.029999\\nAdj Close: 56.118065\\nVolume: 20971200'), Document(metadata={'source': './directorio/microsoft.csv', 'row': 418}, page_content='Date: 2016-08-29\\nOpen: 58.18\\nHigh: 58.599998\\nLow: 58.099998\\nClose: 58.099998\\nAdj Close: 56.185756999999995\\nVolume: 16217900'), Document(metadata={'source': './directorio/microsoft.csv', 'row': 419}, page_content='Date: 2016-08-30\\nOpen: 57.98\\nHigh: 58.189999\\nLow: 57.610001000000004\\nClose: 57.889998999999996\\nAdj Close: 55.982677\\nVolume: 16930200'), Document(metadata={'source': './directorio/microsoft.csv', 'row': 420}, page_content='Date: 2016-08-31\\nOpen: 57.650002\\nHigh: 57.799999\\nLow: 57.299999\\nClose: 57.459998999999996\\nAdj Close: 55.566841000000004\\nVolume: 20860300'), Document(metadata={'source': './directorio/microsoft.csv', 'row': 421}, page_content='Date: 2016-09-01\\nOpen: 57.009997999999996\\nHigh: 57.82\\nLow: 57.009997999999996\\nClose: 57.59\\nAdj Close: 55.692554\\nVolume: 26075400'), Document(metadata={'source': './directorio/microsoft.csv', 'row': 422}, page_content='Date: 2016-09-02\\nOpen: 57.669998\\nHigh: 58.189999\\nLow: 57.419998\\nClose: 57.669998\\nAdj Close: 55.769923999999996\\nVolume: 18900500'), Document(metadata={'source': './directorio/microsoft.csv', 'row': 423}, page_content='Date: 2016-09-06\\nOpen: 57.779999\\nHigh: 57.799999\\nLow: 57.209998999999996\\nClose: 57.610001000000004\\nAdj Close: 55.711906000000006\\nVolume: 16278400'), Document(metadata={'source': './directorio/microsoft.csv', 'row': 424}, page_content='Date: 2016-09-07\\nOpen: 57.470001\\nHigh: 57.84\\nLow: 57.41\\nClose: 57.66\\nAdj Close: 55.760254\\nVolume: 17493400'), Document(metadata={'source': './directorio/microsoft.csv', 'row': 425}, page_content='Date: 2016-09-08\\nOpen: 57.630001\\nHigh: 57.790001000000004\\nLow: 57.18\\nClose: 57.43\\nAdj Close: 55.53783000000001\\nVolume: 19972500'), Document(metadata={'source': './directorio/microsoft.csv', 'row': 426}, page_content='Date: 2016-09-09\\nOpen: 56.790001000000004\\nHigh: 57.52\\nLow: 56.209998999999996\\nClose: 56.209998999999996\\nAdj Close: 54.358028000000004\\nVolume: 35113900'), Document(metadata={'source': './directorio/microsoft.csv', 'row': 427}, page_content='Date: 2016-09-12\\nOpen: 56.0\\nHigh: 57.209998999999996\\nLow: 55.610001000000004\\nClose: 57.049999\\nAdj Close: 55.170349\\nVolume: 29303000'), Document(metadata={'source': './directorio/microsoft.csv', 'row': 428}, page_content='Date: 2016-09-13\\nOpen: 56.5\\nHigh: 56.650002\\nLow: 56.049999\\nClose: 56.529999\\nAdj Close: 54.667483999999995\\nVolume: 30130200'), Document(metadata={'source': './directorio/microsoft.csv', 'row': 429}, page_content='Date: 2016-09-14\\nOpen: 56.389998999999996\\nHigh: 56.630001\\nLow: 56.029999\\nClose: 56.259997999999996\\nAdj Close: 54.406380000000006\\nVolume: 24062500'), Document(metadata={'source': './directorio/microsoft.csv', 'row': 430}, page_content='Date: 2016-09-15\\nOpen: 56.150002\\nHigh: 57.349998\\nLow: 55.98\\nClose: 57.189999\\nAdj Close: 55.30574\\nVolume: 26847000'), Document(metadata={'source': './directorio/microsoft.csv', 'row': 431}, page_content='Date: 2016-09-16\\nOpen: 57.630001\\nHigh: 57.630001\\nLow: 56.75\\nClose: 57.25\\nAdj Close: 55.363766000000005\\nVolume: 44607000'), Document(metadata={'source': './directorio/microsoft.csv', 'row': 432}, page_content='Date: 2016-09-19\\nOpen: 57.27\\nHigh: 57.75\\nLow: 56.849998\\nClose: 56.93\\nAdj Close: 55.054306000000004\\nVolume: 20879200'), Document(metadata={'source': './directorio/microsoft.csv', 'row': 433}, page_content='Date: 2016-09-20\\nOpen: 57.349998\\nHigh: 57.349998\\nLow: 56.75\\nClose: 56.810001\\nAdj Close: 54.938263\\nVolume: 17384000'), Document(metadata={'source': './directorio/microsoft.csv', 'row': 434}, page_content='Date: 2016-09-21\\nOpen: 57.509997999999996\\nHigh: 57.849998\\nLow: 57.080002\\nClose: 57.759997999999996\\nAdj Close: 55.856953000000004\\nVolume: 33707300'), Document(metadata={'source': './directorio/microsoft.csv', 'row': 435}, page_content='Date: 2016-09-22\\nOpen: 57.919998\\nHigh: 58.0\\nLow: 57.630001\\nClose: 57.82\\nAdj Close: 55.914981999999995\\nVolume: 19822200'), Document(metadata={'source': './directorio/microsoft.csv', 'row': 436}, page_content='Date: 2016-09-23\\nOpen: 57.869999\\nHigh: 57.91\\nLow: 57.380001\\nClose: 57.43\\nAdj Close: 55.53783000000001\\nVolume: 19955300'), Document(metadata={'source': './directorio/microsoft.csv', 'row': 437}, page_content='Date: 2016-09-26\\nOpen: 57.080002\\nHigh: 57.139998999999996\\nLow: 56.830002\\nClose: 56.900002\\nAdj Close: 55.02529499999999\\nVolume: 21688700'), Document(metadata={'source': './directorio/microsoft.csv', 'row': 438}, page_content='Date: 2016-09-27\\nOpen: 56.93\\nHigh: 58.060001\\nLow: 56.68\\nClose: 57.950001\\nAdj Close: 56.040699\\nVolume: 28065100'), Document(metadata={'source': './directorio/microsoft.csv', 'row': 439}, page_content='Date: 2016-09-28\\nOpen: 57.880001\\nHigh: 58.060001\\nLow: 57.669998\\nClose: 58.029999\\nAdj Close: 56.118065\\nVolume: 20536400'), Document(metadata={'source': './directorio/microsoft.csv', 'row': 440}, page_content='Date: 2016-09-29\\nOpen: 57.810001\\nHigh: 58.169998\\nLow: 57.209998999999996\\nClose: 57.400002\\nAdj Close: 55.50881999999999\\nVolume: 25463500'), Document(metadata={'source': './directorio/microsoft.csv', 'row': 441}, page_content='Date: 2016-09-30\\nOpen: 57.57\\nHigh: 57.77\\nLow: 57.34\\nClose: 57.599998\\nAdj Close: 55.702231999999995\\nVolume: 29910800'), Document(metadata={'source': './directorio/microsoft.csv', 'row': 442}, page_content='Date: 2016-10-03\\nOpen: 57.41\\nHigh: 57.549999\\nLow: 57.060001\\nClose: 57.419998\\nAdj Close: 55.528164000000004\\nVolume: 19189500'), Document(metadata={'source': './directorio/microsoft.csv', 'row': 443}, page_content='Date: 2016-10-04\\nOpen: 57.27\\nHigh: 57.599998\\nLow: 56.970001\\nClose: 57.240002000000004\\nAdj Close: 55.354088\\nVolume: 20085900'), Document(metadata={'source': './directorio/microsoft.csv', 'row': 444}, page_content='Date: 2016-10-05\\nOpen: 57.290001000000004\\nHigh: 57.959998999999996\\nLow: 57.259997999999996\\nClose: 57.639998999999996\\nAdj Close: 55.740913\\nVolume: 16726400'), Document(metadata={'source': './directorio/microsoft.csv', 'row': 445}, page_content='Date: 2016-10-06\\nOpen: 57.740002000000004\\nHigh: 57.860001000000004\\nLow: 57.279999\\nClose: 57.740002000000004\\nAdj Close: 55.837627000000005\\nVolume: 16212600'), Document(metadata={'source': './directorio/microsoft.csv', 'row': 446}, page_content='Date: 2016-10-07\\nOpen: 57.849998\\nHigh: 57.98\\nLow: 57.419998\\nClose: 57.799999\\nAdj Close: 55.895641000000005\\nVolume: 20089000'), Document(metadata={'source': './directorio/microsoft.csv', 'row': 447}, page_content='Date: 2016-10-10\\nOpen: 57.91\\nHigh: 58.389998999999996\\nLow: 57.869999\\nClose: 58.040001000000004\\nAdj Close: 56.127734999999994\\nVolume: 18084400'), Document(metadata={'source': './directorio/microsoft.csv', 'row': 448}, page_content='Date: 2016-10-11\\nOpen: 57.889998999999996\\nHigh: 58.02\\nLow: 56.889998999999996\\nClose: 57.189999\\nAdj Close: 55.30574\\nVolume: 26497400'), Document(metadata={'source': './directorio/microsoft.csv', 'row': 449}, page_content='Date: 2016-10-12\\nOpen: 57.110001000000004\\nHigh: 57.27\\nLow: 56.400002\\nClose: 57.110001000000004\\nAdj Close: 55.228374\\nVolume: 22177500'), Document(metadata={'source': './directorio/microsoft.csv', 'row': 450}, page_content='Date: 2016-10-13\\nOpen: 56.700001\\nHigh: 57.299999\\nLow: 56.32\\nClose: 56.919998\\nAdj Close: 55.044628\\nVolume: 25313700'), Document(metadata={'source': './directorio/microsoft.csv', 'row': 451}, page_content='Date: 2016-10-14\\nOpen: 57.119999\\nHigh: 57.740002000000004\\nLow: 57.119999\\nClose: 57.419998\\nAdj Close: 55.528164000000004\\nVolume: 27402500'), Document(metadata={'source': './directorio/microsoft.csv', 'row': 452}, page_content='Date: 2016-10-17\\nOpen: 57.360001000000004\\nHigh: 57.459998999999996\\nLow: 56.869999\\nClose: 57.220001\\nAdj Close: 55.334755\\nVolume: 23830000'), Document(metadata={'source': './directorio/microsoft.csv', 'row': 453}, page_content='Date: 2016-10-18\\nOpen: 57.529999\\nHigh: 57.950001\\nLow: 57.41\\nClose: 57.66\\nAdj Close: 55.760254\\nVolume: 18631500'), Document(metadata={'source': './directorio/microsoft.csv', 'row': 454}, page_content='Date: 2016-10-19\\nOpen: 57.470001\\nHigh: 57.84\\nLow: 57.400002\\nClose: 57.529999\\nAdj Close: 55.634537\\nVolume: 22878400'), Document(metadata={'source': './directorio/microsoft.csv', 'row': 455}, page_content='Date: 2016-10-20\\nOpen: 57.5\\nHigh: 57.52\\nLow: 56.66\\nClose: 57.25\\nAdj Close: 55.363766000000005\\nVolume: 49455600'), Document(metadata={'source': './directorio/microsoft.csv', 'row': 456}, page_content='Date: 2016-10-21\\nOpen: 60.279999\\nHigh: 60.450001\\nLow: 59.490002000000004\\nClose: 59.66\\nAdj Close: 57.694359\\nVolume: 80032200'), Document(metadata={'source': './directorio/microsoft.csv', 'row': 457}, page_content='Date: 2016-10-24\\nOpen: 59.939999\\nHigh: 61.0\\nLow: 59.93\\nClose: 61.0\\nAdj Close: 58.990215\\nVolume: 54067000'), Document(metadata={'source': './directorio/microsoft.csv', 'row': 458}, page_content='Date: 2016-10-25\\nOpen: 60.849998\\nHigh: 61.369999\\nLow: 60.799999\\nClose: 60.990002000000004\\nAdj Close: 58.980541\\nVolume: 35137200'), Document(metadata={'source': './directorio/microsoft.csv', 'row': 459}, page_content='Date: 2016-10-26\\nOpen: 60.810001\\nHigh: 61.200001\\nLow: 60.470001\\nClose: 60.630001\\nAdj Close: 58.632401\\nVolume: 29911600'), Document(metadata={'source': './directorio/microsoft.csv', 'row': 460}, page_content='Date: 2016-10-27\\nOpen: 60.610001000000004\\nHigh: 60.830002\\nLow: 60.09\\nClose: 60.099998\\nAdj Close: 58.119862\\nVolume: 28479900'), Document(metadata={'source': './directorio/microsoft.csv', 'row': 461}, page_content='Date: 2016-10-28\\nOpen: 60.009997999999996\\nHigh: 60.52\\nLow: 59.580002\\nClose: 59.869999\\nAdj Close: 57.897442000000005\\nVolume: 33574700'), Document(metadata={'source': './directorio/microsoft.csv', 'row': 462}, page_content='Date: 2016-10-31\\nOpen: 60.16\\nHigh: 60.419998\\nLow: 59.919998\\nClose: 59.919998\\nAdj Close: 57.945789000000005\\nVolume: 26434700'), Document(metadata={'source': './directorio/microsoft.csv', 'row': 463}, page_content='Date: 2016-11-01\\nOpen: 59.970001\\nHigh: 60.02\\nLow: 59.25\\nClose: 59.799999\\nAdj Close: 57.82975\\nVolume: 24533000'), Document(metadata={'source': './directorio/microsoft.csv', 'row': 464}, page_content='Date: 2016-11-02\\nOpen: 59.82\\nHigh: 59.93\\nLow: 59.299999\\nClose: 59.43\\nAdj Close: 57.471939\\nVolume: 22147000'), Document(metadata={'source': './directorio/microsoft.csv', 'row': 465}, page_content='Date: 2016-11-03\\nOpen: 59.529999\\nHigh: 59.639998999999996\\nLow: 59.110001000000004\\nClose: 59.209998999999996\\nAdj Close: 57.259181999999996\\nVolume: 21600400'), Document(metadata={'source': './directorio/microsoft.csv', 'row': 466}, page_content='Date: 2016-11-04\\nOpen: 58.650002\\nHigh: 59.279999\\nLow: 58.52\\nClose: 58.709998999999996\\nAdj Close: 56.775661\\nVolume: 28697000'), Document(metadata={'source': './directorio/microsoft.csv', 'row': 467}, page_content='Date: 2016-11-07\\nOpen: 59.779999\\nHigh: 60.52\\nLow: 59.779999\\nClose: 60.419998\\nAdj Close: 58.429320999999995\\nVolume: 31664800'), Document(metadata={'source': './directorio/microsoft.csv', 'row': 468}, page_content='Date: 2016-11-08\\nOpen: 60.549999\\nHigh: 60.779999\\nLow: 60.150002\\nClose: 60.470001\\nAdj Close: 58.477672999999996\\nVolume: 22862000'), Document(metadata={'source': './directorio/microsoft.csv', 'row': 469}, page_content='Date: 2016-11-09\\nOpen: 60.0\\nHigh: 60.59\\nLow: 59.200001\\nClose: 60.169998\\nAdj Close: 58.187553\\nVolume: 49632500'), Document(metadata={'source': './directorio/microsoft.csv', 'row': 470}, page_content='Date: 2016-11-10\\nOpen: 60.48\\nHigh: 60.490002000000004\\nLow: 57.630001\\nClose: 58.700001\\nAdj Close: 56.76599100000001\\nVolume: 57822400'), Document(metadata={'source': './directorio/microsoft.csv', 'row': 471}, page_content='Date: 2016-11-11\\nOpen: 58.23\\nHigh: 59.119999\\nLow: 58.009997999999996\\nClose: 59.02\\nAdj Close: 57.075447\\nVolume: 38767800'), Document(metadata={'source': './directorio/microsoft.csv', 'row': 472}, page_content='Date: 2016-11-14\\nOpen: 59.02\\nHigh: 59.080002\\nLow: 57.279999\\nClose: 58.119999\\nAdj Close: 56.205093000000005\\nVolume: 40861900'), Document(metadata={'source': './directorio/microsoft.csv', 'row': 473}, page_content='Date: 2016-11-15\\nOpen: 58.330002\\nHigh: 59.490002000000004\\nLow: 58.32\\nClose: 58.869999\\nAdj Close: 57.314983\\nVolume: 35904100'), Document(metadata={'source': './directorio/microsoft.csv', 'row': 474}, page_content='Date: 2016-11-16\\nOpen: 58.939999\\nHigh: 59.66\\nLow: 58.810001\\nClose: 59.650002\\nAdj Close: 58.074383\\nVolume: 26851400'), Document(metadata={'source': './directorio/microsoft.csv', 'row': 475}, page_content='Date: 2016-11-17\\nOpen: 60.41\\nHigh: 60.950001\\nLow: 59.970001\\nClose: 60.639998999999996\\nAdj Close: 59.038235\\nVolume: 32132700'), Document(metadata={'source': './directorio/microsoft.csv', 'row': 476}, page_content='Date: 2016-11-18\\nOpen: 60.779999\\nHigh: 61.139998999999996\\nLow: 60.299999\\nClose: 60.349998\\nAdj Close: 58.755894\\nVolume: 27686300'), Document(metadata={'source': './directorio/microsoft.csv', 'row': 477}, page_content='Date: 2016-11-21\\nOpen: 60.5\\nHigh: 60.970001\\nLow: 60.419998\\nClose: 60.860001000000004\\nAdj Close: 59.252421999999996\\nVolume: 19652600'), Document(metadata={'source': './directorio/microsoft.csv', 'row': 478}, page_content='Date: 2016-11-22\\nOpen: 60.98\\nHigh: 61.259997999999996\\nLow: 60.810001\\nClose: 61.119999\\nAdj Close: 59.50555\\nVolume: 23206700'), Document(metadata={'source': './directorio/microsoft.csv', 'row': 479}, page_content='Date: 2016-11-23\\nOpen: 61.009997999999996\\nHigh: 61.099998\\nLow: 60.25\\nClose: 60.400002\\nAdj Close: 58.804568999999994\\nVolume: 21847200'), Document(metadata={'source': './directorio/microsoft.csv', 'row': 480}, page_content='Date: 2016-11-25\\nOpen: 60.299999\\nHigh: 60.529999\\nLow: 60.130001\\nClose: 60.529999\\nAdj Close: 58.931132999999996\\nVolume: 8409600'), Document(metadata={'source': './directorio/microsoft.csv', 'row': 481}, page_content='Date: 2016-11-28\\nOpen: 60.34\\nHigh: 61.02\\nLow: 60.209998999999996\\nClose: 60.610001000000004\\nAdj Close: 59.009021999999995\\nVolume: 20732600'), Document(metadata={'source': './directorio/microsoft.csv', 'row': 482}, page_content='Date: 2016-11-29\\nOpen: 60.650002\\nHigh: 61.41\\nLow: 60.52\\nClose: 61.09\\nAdj Close: 59.476349\\nVolume: 22366700'), Document(metadata={'source': './directorio/microsoft.csv', 'row': 483}, page_content='Date: 2016-11-30\\nOpen: 60.860001000000004\\nHigh: 61.18\\nLow: 60.220001\\nClose: 60.259997999999996\\nAdj Close: 58.668266\\nVolume: 34655400'), Document(metadata={'source': './directorio/microsoft.csv', 'row': 484}, page_content='Date: 2016-12-01\\nOpen: 60.110001000000004\\nHigh: 60.150002\\nLow: 58.939999\\nClose: 59.200001\\nAdj Close: 57.636265\\nVolume: 34542100'), Document(metadata={'source': './directorio/microsoft.csv', 'row': 485}, page_content='Date: 2016-12-02\\nOpen: 59.080002\\nHigh: 59.470001\\nLow: 58.799999\\nClose: 59.25\\nAdj Close: 57.684943999999994\\nVolume: 25515700'), Document(metadata={'source': './directorio/microsoft.csv', 'row': 486}, page_content='Date: 2016-12-05\\nOpen: 59.700001\\nHigh: 60.59\\nLow: 59.560001\\nClose: 60.220001\\nAdj Close: 58.62933\\nVolume: 23552700'), Document(metadata={'source': './directorio/microsoft.csv', 'row': 487}, page_content='Date: 2016-12-06\\nOpen: 60.43\\nHigh: 60.459998999999996\\nLow: 59.799999\\nClose: 59.950001\\nAdj Close: 58.366463\\nVolume: 19907000'), Document(metadata={'source': './directorio/microsoft.csv', 'row': 488}, page_content='Date: 2016-12-07\\nOpen: 60.009997999999996\\nHigh: 61.380001\\nLow: 59.799999\\nClose: 61.369999\\nAdj Close: 59.748951\\nVolume: 30809000'), Document(metadata={'source': './directorio/microsoft.csv', 'row': 489}, page_content='Date: 2016-12-08\\nOpen: 61.299999\\nHigh: 61.580002\\nLow: 60.84\\nClose: 61.009997999999996\\nAdj Close: 59.39845699999999\\nVolume: 21220800'), Document(metadata={'source': './directorio/microsoft.csv', 'row': 490}, page_content='Date: 2016-12-09\\nOpen: 61.18\\nHigh: 61.990002000000004\\nLow: 61.130001\\nClose: 61.970001\\nAdj Close: 60.333103\\nVolume: 27349400'), Document(metadata={'source': './directorio/microsoft.csv', 'row': 491}, page_content='Date: 2016-12-12\\nOpen: 61.82\\nHigh: 62.299999\\nLow: 61.720001\\nClose: 62.169998\\nAdj Close: 60.527817000000006\\nVolume: 20198100'), Document(metadata={'source': './directorio/microsoft.csv', 'row': 492}, page_content='Date: 2016-12-13\\nOpen: 62.5\\nHigh: 63.419998\\nLow: 62.240002000000004\\nClose: 62.98\\nAdj Close: 61.316421999999996\\nVolume: 35718900'), Document(metadata={'source': './directorio/microsoft.csv', 'row': 493}, page_content='Date: 2016-12-14\\nOpen: 63.0\\nHigh: 63.450001\\nLow: 62.529999\\nClose: 62.68\\nAdj Close: 61.024345\\nVolume: 30352700'), Document(metadata={'source': './directorio/microsoft.csv', 'row': 494}, page_content='Date: 2016-12-15\\nOpen: 62.700001\\nHigh: 63.150002\\nLow: 62.299999\\nClose: 62.580002\\nAdj Close: 60.926991\\nVolume: 27669900'), Document(metadata={'source': './directorio/microsoft.csv', 'row': 495}, page_content='Date: 2016-12-16\\nOpen: 62.950001\\nHigh: 62.950001\\nLow: 62.119999\\nClose: 62.299999\\nAdj Close: 60.65438100000001\\nVolume: 42204700'), Document(metadata={'source': './directorio/microsoft.csv', 'row': 496}, page_content='Date: 2016-12-19\\nOpen: 62.560001\\nHigh: 63.77\\nLow: 62.419998\\nClose: 63.619999\\nAdj Close: 61.93951800000001\\nVolume: 34338200'), Document(metadata={'source': './directorio/microsoft.csv', 'row': 497}, page_content='Date: 2016-12-20\\nOpen: 63.689999\\nHigh: 63.799999\\nLow: 63.029999\\nClose: 63.540001000000004\\nAdj Close: 61.861633\\nVolume: 26028400'), Document(metadata={'source': './directorio/microsoft.csv', 'row': 498}, page_content='Date: 2016-12-21\\nOpen: 63.43\\nHigh: 63.700001\\nLow: 63.119999\\nClose: 63.540001000000004\\nAdj Close: 61.861633\\nVolume: 17096300'), Document(metadata={'source': './directorio/microsoft.csv', 'row': 499}, page_content='Date: 2016-12-22\\nOpen: 63.84\\nHigh: 64.099998\\nLow: 63.41\\nClose: 63.549999\\nAdj Close: 61.871365000000004\\nVolume: 22176600'), Document(metadata={'source': './directorio/microsoft.csv', 'row': 500}, page_content='Date: 2016-12-23\\nOpen: 63.450001\\nHigh: 63.540001000000004\\nLow: 62.799999\\nClose: 63.240002000000004\\nAdj Close: 61.569556999999996\\nVolume: 12398000'), Document(metadata={'source': './directorio/microsoft.csv', 'row': 501}, page_content='Date: 2016-12-27\\nOpen: 63.209998999999996\\nHigh: 64.07\\nLow: 63.209998999999996\\nClose: 63.279999\\nAdj Close: 61.60849\\nVolume: 11763200'), Document(metadata={'source': './directorio/microsoft.csv', 'row': 502}, page_content='Date: 2016-12-28\\nOpen: 63.400002\\nHigh: 63.400002\\nLow: 62.830002\\nClose: 62.990002000000004\\nAdj Close: 61.326156999999995\\nVolume: 14653300'), Document(metadata={'source': './directorio/microsoft.csv', 'row': 503}, page_content='Date: 2016-12-29\\nOpen: 62.860001000000004\\nHigh: 63.200001\\nLow: 62.73\\nClose: 62.900002\\nAdj Close: 61.238541000000005\\nVolume: 10181600'), Document(metadata={'source': './directorio/microsoft.csv', 'row': 504}, page_content='Date: 2016-12-30\\nOpen: 62.959998999999996\\nHigh: 62.990002000000004\\nLow: 62.029999\\nClose: 62.139998999999996\\nAdj Close: 60.498604\\nVolume: 25579900'), Document(metadata={'source': './directorio/microsoft.csv', 'row': 505}, page_content='Date: 2017-01-03\\nOpen: 62.790001000000004\\nHigh: 62.84\\nLow: 62.130001\\nClose: 62.580002\\nAdj Close: 60.926991\\nVolume: 20694100'), Document(metadata={'source': './directorio/microsoft.csv', 'row': 506}, page_content='Date: 2017-01-04\\nOpen: 62.48\\nHigh: 62.75\\nLow: 62.119999\\nClose: 62.299999\\nAdj Close: 60.65438100000001\\nVolume: 21340000'), Document(metadata={'source': './directorio/microsoft.csv', 'row': 507}, page_content='Date: 2017-01-05\\nOpen: 62.189999\\nHigh: 62.66\\nLow: 62.029999\\nClose: 62.299999\\nAdj Close: 60.65438100000001\\nVolume: 24876000'), Document(metadata={'source': './directorio/microsoft.csv', 'row': 508}, page_content='Date: 2017-01-06\\nOpen: 62.299999\\nHigh: 63.150002\\nLow: 62.040001000000004\\nClose: 62.84\\nAdj Close: 61.180119\\nVolume: 19922900'), Document(metadata={'source': './directorio/microsoft.csv', 'row': 509}, page_content='Date: 2017-01-09\\nOpen: 62.759997999999996\\nHigh: 63.080002\\nLow: 62.540001000000004\\nClose: 62.639998999999996\\nAdj Close: 60.98540500000001\\nVolume: 20256600'), Document(metadata={'source': './directorio/microsoft.csv', 'row': 510}, page_content='Date: 2017-01-10\\nOpen: 62.73\\nHigh: 63.07\\nLow: 62.279999\\nClose: 62.619999\\nAdj Close: 60.965931000000005\\nVolume: 18593000'), Document(metadata={'source': './directorio/microsoft.csv', 'row': 511}, page_content='Date: 2017-01-11\\nOpen: 62.610001000000004\\nHigh: 63.23\\nLow: 62.43\\nClose: 63.189999\\nAdj Close: 61.520874\\nVolume: 21517300'), Document(metadata={'source': './directorio/microsoft.csv', 'row': 512}, page_content='Date: 2017-01-12\\nOpen: 63.060001\\nHigh: 63.400002\\nLow: 61.950001\\nClose: 62.610001000000004\\nAdj Close: 60.956196\\nVolume: 20968200'), Document(metadata={'source': './directorio/microsoft.csv', 'row': 513}, page_content='Date: 2017-01-13\\nOpen: 62.619999\\nHigh: 62.869999\\nLow: 62.349998\\nClose: 62.700001\\nAdj Close: 61.04381899999999\\nVolume: 19422300'), Document(metadata={'source': './directorio/microsoft.csv', 'row': 514}, page_content='Date: 2017-01-17\\nOpen: 62.68\\nHigh: 62.700001\\nLow: 62.029999\\nClose: 62.529999\\nAdj Close: 60.87830699999999\\nVolume: 20620400'), Document(metadata={'source': './directorio/microsoft.csv', 'row': 515}, page_content='Date: 2017-01-18\\nOpen: 62.669998\\nHigh: 62.700001\\nLow: 62.119999\\nClose: 62.5\\nAdj Close: 60.849106000000006\\nVolume: 19670100'), Document(metadata={'source': './directorio/microsoft.csv', 'row': 516}, page_content='Date: 2017-01-19\\nOpen: 62.240002000000004\\nHigh: 62.98\\nLow: 62.200001\\nClose: 62.299999\\nAdj Close: 60.65438100000001\\nVolume: 18451700'), Document(metadata={'source': './directorio/microsoft.csv', 'row': 517}, page_content='Date: 2017-01-20\\nOpen: 62.669998\\nHigh: 62.82\\nLow: 62.369999\\nClose: 62.740002000000004\\nAdj Close: 61.08276\\nVolume: 30213500'), Document(metadata={'source': './directorio/microsoft.csv', 'row': 518}, page_content='Date: 2017-01-23\\nOpen: 62.700001\\nHigh: 63.119999\\nLow: 62.57\\nClose: 62.959998999999996\\nAdj Close: 61.296946999999996\\nVolume: 23097600'), Document(metadata={'source': './directorio/microsoft.csv', 'row': 519}, page_content='Date: 2017-01-24\\nOpen: 63.200001\\nHigh: 63.740002000000004\\nLow: 62.939999\\nClose: 63.52\\nAdj Close: 61.842158999999995\\nVolume: 24672900'), Document(metadata={'source': './directorio/microsoft.csv', 'row': 520}, page_content='Date: 2017-01-25\\nOpen: 63.950001\\nHigh: 64.099998\\nLow: 63.450001\\nClose: 63.68\\nAdj Close: 61.997929000000006\\nVolume: 23672700'), Document(metadata={'source': './directorio/microsoft.csv', 'row': 521}, page_content='Date: 2017-01-26\\nOpen: 64.120003\\nHigh: 64.540001\\nLow: 63.549999\\nClose: 64.269997\\nAdj Close: 62.572345999999996\\nVolume: 43554600'), Document(metadata={'source': './directorio/microsoft.csv', 'row': 522}, page_content='Date: 2017-01-27\\nOpen: 65.389999\\nHigh: 65.910004\\nLow: 64.889999\\nClose: 65.779999\\nAdj Close: 64.042465\\nVolume: 44818000'), Document(metadata={'source': './directorio/microsoft.csv', 'row': 523}, page_content='Date: 2017-01-30\\nOpen: 65.690002\\nHigh: 65.790001\\nLow: 64.800003\\nClose: 65.129997\\nAdj Close: 63.409626\\nVolume: 31651400'), Document(metadata={'source': './directorio/microsoft.csv', 'row': 524}, page_content='Date: 2017-01-31\\nOpen: 64.860001\\nHigh: 65.150002\\nLow: 64.260002\\nClose: 64.650002\\nAdj Close: 62.94231\\nVolume: 25270500'), Document(metadata={'source': './directorio/microsoft.csv', 'row': 525}, page_content='Date: 2017-02-01\\nOpen: 64.360001\\nHigh: 64.620003\\nLow: 63.470001\\nClose: 63.580002\\nAdj Close: 61.900574\\nVolume: 39671500'), Document(metadata={'source': './directorio/microsoft.csv', 'row': 526}, page_content='Date: 2017-02-02\\nOpen: 63.25\\nHigh: 63.41\\nLow: 62.75\\nClose: 63.169998\\nAdj Close: 61.5014\\nVolume: 45827000'), Document(metadata={'source': './directorio/microsoft.csv', 'row': 527}, page_content='Date: 2017-02-03\\nOpen: 63.5\\nHigh: 63.700001\\nLow: 63.07\\nClose: 63.68\\nAdj Close: 61.997929000000006\\nVolume: 30301800'), Document(metadata={'source': './directorio/microsoft.csv', 'row': 528}, page_content='Date: 2017-02-06\\nOpen: 63.5\\nHigh: 63.650002\\nLow: 63.139998999999996\\nClose: 63.639998999999996\\nAdj Close: 61.958992\\nVolume: 19796400'), Document(metadata={'source': './directorio/microsoft.csv', 'row': 529}, page_content='Date: 2017-02-07\\nOpen: 63.740002000000004\\nHigh: 63.779999\\nLow: 63.23\\nClose: 63.43\\nAdj Close: 61.754536\\nVolume: 20277200'), Document(metadata={'source': './directorio/microsoft.csv', 'row': 530}, page_content='Date: 2017-02-08\\nOpen: 63.57\\nHigh: 63.810001\\nLow: 63.220001\\nClose: 63.34\\nAdj Close: 61.666916\\nVolume: 18096400'), Document(metadata={'source': './directorio/microsoft.csv', 'row': 531}, page_content='Date: 2017-02-09\\nOpen: 63.52\\nHigh: 64.440002\\nLow: 63.32\\nClose: 64.059998\\nAdj Close: 62.367889\\nVolume: 22644400'), Document(metadata={'source': './directorio/microsoft.csv', 'row': 532}, page_content='Date: 2017-02-10\\nOpen: 64.25\\nHigh: 64.300003\\nLow: 63.98\\nClose: 64.0\\nAdj Close: 62.309475\\nVolume: 18170700'), Document(metadata={'source': './directorio/microsoft.csv', 'row': 533}, page_content='Date: 2017-02-13\\nOpen: 64.239998\\nHigh: 64.860001\\nLow: 64.129997\\nClose: 64.720001\\nAdj Close: 63.010464\\nVolume: 22920100'), Document(metadata={'source': './directorio/microsoft.csv', 'row': 534}, page_content='Date: 2017-02-14\\nOpen: 64.410004\\nHigh: 64.720001\\nLow: 64.019997\\nClose: 64.57\\nAdj Close: 63.245537\\nVolume: 23065900'), Document(metadata={'source': './directorio/microsoft.csv', 'row': 535}, page_content='Date: 2017-02-15\\nOpen: 64.5\\nHigh: 64.57\\nLow: 64.160004\\nClose: 64.529999\\nAdj Close: 63.20636\\nVolume: 17005200'), Document(metadata={'source': './directorio/microsoft.csv', 'row': 536}, page_content='Date: 2017-02-16\\nOpen: 64.739998\\nHigh: 65.239998\\nLow: 64.440002\\nClose: 64.519997\\nAdj Close: 63.196564\\nVolume: 20546300'), Document(metadata={'source': './directorio/microsoft.csv', 'row': 537}, page_content='Date: 2017-02-17\\nOpen: 64.470001\\nHigh: 64.690002\\nLow: 64.300003\\nClose: 64.620003\\nAdj Close: 63.294514\\nVolume: 21248800'), Document(metadata={'source': './directorio/microsoft.csv', 'row': 538}, page_content='Date: 2017-02-21\\nOpen: 64.610001\\nHigh: 64.949997\\nLow: 64.449997\\nClose: 64.489998\\nAdj Close: 63.167179000000004\\nVolume: 20655900'), Document(metadata={'source': './directorio/microsoft.csv', 'row': 539}, page_content='Date: 2017-02-22\\nOpen: 64.33000200000001\\nHigh: 64.389999\\nLow: 64.050003\\nClose: 64.360001\\nAdj Close: 63.03984499999999\\nVolume: 19292700'), Document(metadata={'source': './directorio/microsoft.csv', 'row': 540}, page_content='Date: 2017-02-23\\nOpen: 64.41999799999999\\nHigh: 64.730003\\nLow: 64.190002\\nClose: 64.620003\\nAdj Close: 63.294514\\nVolume: 20273100'), Document(metadata={'source': './directorio/microsoft.csv', 'row': 541}, page_content='Date: 2017-02-24\\nOpen: 64.529999\\nHigh: 64.800003\\nLow: 64.139999\\nClose: 64.620003\\nAdj Close: 63.294514\\nVolume: 21796800'), Document(metadata={'source': './directorio/microsoft.csv', 'row': 542}, page_content='Date: 2017-02-27\\nOpen: 64.540001\\nHigh: 64.540001\\nLow: 64.050003\\nClose: 64.230003\\nAdj Close: 62.912518000000006\\nVolume: 15871500'), Document(metadata={'source': './directorio/microsoft.csv', 'row': 543}, page_content='Date: 2017-02-28\\nOpen: 64.08000200000001\\nHigh: 64.199997\\nLow: 63.759997999999996\\nClose: 63.98\\nAdj Close: 62.667637\\nVolume: 23239800'), Document(metadata={'source': './directorio/microsoft.csv', 'row': 544}, page_content='Date: 2017-03-01\\nOpen: 64.129997\\nHigh: 64.989998\\nLow: 64.019997\\nClose: 64.940002\\nAdj Close: 63.60795600000001\\nVolume: 26937500'), Document(metadata={'source': './directorio/microsoft.csv', 'row': 545}, page_content='Date: 2017-03-02\\nOpen: 64.690002\\nHigh: 64.75\\nLow: 63.880001\\nClose: 64.010002\\nAdj Close: 62.697029\\nVolume: 24539600'), Document(metadata={'source': './directorio/microsoft.csv', 'row': 546}, page_content='Date: 2017-03-03\\nOpen: 63.990002000000004\\nHigh: 64.279999\\nLow: 63.619999\\nClose: 64.25\\nAdj Close: 62.932102\\nVolume: 18135900'), Document(metadata={'source': './directorio/microsoft.csv', 'row': 547}, page_content='Date: 2017-03-06\\nOpen: 63.970001\\nHigh: 64.559998\\nLow: 63.810001\\nClose: 64.269997\\nAdj Close: 62.951691000000004\\nVolume: 18750300'), Document(metadata={'source': './directorio/microsoft.csv', 'row': 548}, page_content='Date: 2017-03-07\\nOpen: 64.190002\\nHigh: 64.779999\\nLow: 64.190002\\nClose: 64.400002\\nAdj Close: 63.079025\\nVolume: 18521000'), Document(metadata={'source': './directorio/microsoft.csv', 'row': 549}, page_content='Date: 2017-03-08\\nOpen: 64.260002\\nHigh: 65.08000200000001\\nLow: 64.25\\nClose: 64.989998\\nAdj Close: 63.656918000000005\\nVolume: 21510900'), Document(metadata={'source': './directorio/microsoft.csv', 'row': 550}, page_content='Date: 2017-03-09\\nOpen: 65.190002\\nHigh: 65.199997\\nLow: 64.480003\\nClose: 64.730003\\nAdj Close: 63.402267\\nVolume: 19846800'), Document(metadata={'source': './directorio/microsoft.csv', 'row': 551}, page_content='Date: 2017-03-10\\nOpen: 65.110001\\nHigh: 65.260002\\nLow: 64.75\\nClose: 64.93\\nAdj Close: 63.598156\\nVolume: 19538200'), Document(metadata={'source': './directorio/microsoft.csv', 'row': 552}, page_content='Date: 2017-03-13\\nOpen: 65.010002\\nHigh: 65.190002\\nLow: 64.57\\nClose: 64.709999\\nAdj Close: 63.382668\\nVolume: 20100000'), Document(metadata={'source': './directorio/microsoft.csv', 'row': 553}, page_content='Date: 2017-03-14\\nOpen: 64.529999\\nHigh: 64.550003\\nLow: 64.150002\\nClose: 64.410004\\nAdj Close: 63.088825\\nVolume: 14280200'), Document(metadata={'source': './directorio/microsoft.csv', 'row': 554}, page_content='Date: 2017-03-15\\nOpen: 64.550003\\nHigh: 64.91999799999999\\nLow: 64.25\\nClose: 64.75\\nAdj Close: 63.421848\\nVolume: 24833800'), Document(metadata={'source': './directorio/microsoft.csv', 'row': 555}, page_content='Date: 2017-03-16\\nOpen: 64.75\\nHigh: 64.760002\\nLow: 64.300003\\nClose: 64.639999\\nAdj Close: 63.314102\\nVolume: 20674300'), Document(metadata={'source': './directorio/microsoft.csv', 'row': 556}, page_content='Date: 2017-03-17\\nOpen: 64.910004\\nHigh: 65.239998\\nLow: 64.68\\nClose: 64.870003\\nAdj Close: 63.539387\\nVolume: 49219700'), Document(metadata={'source': './directorio/microsoft.csv', 'row': 557}, page_content='Date: 2017-03-20\\nOpen: 64.910004\\nHigh: 65.18\\nLow: 64.720001\\nClose: 64.93\\nAdj Close: 63.598156\\nVolume: 14598100'), Document(metadata={'source': './directorio/microsoft.csv', 'row': 558}, page_content='Date: 2017-03-21\\nOpen: 65.190002\\nHigh: 65.5\\nLow: 64.129997\\nClose: 64.209999\\nAdj Close: 62.892925\\nVolume: 26640500'), Document(metadata={'source': './directorio/microsoft.csv', 'row': 559}, page_content='Date: 2017-03-22\\nOpen: 64.120003\\nHigh: 65.139999\\nLow: 64.120003\\nClose: 65.029999\\nAdj Close: 63.696102\\nVolume: 20680000'), Document(metadata={'source': './directorio/microsoft.csv', 'row': 560}, page_content='Date: 2017-03-23\\nOpen: 64.940002\\nHigh: 65.239998\\nLow: 64.769997\\nClose: 64.870003\\nAdj Close: 63.539387\\nVolume: 19269200'), Document(metadata={'source': './directorio/microsoft.csv', 'row': 561}, page_content='Date: 2017-03-24\\nOpen: 65.360001\\nHigh: 65.449997\\nLow: 64.760002\\nClose: 64.980003\\nAdj Close: 63.647133\\nVolume: 22617100'), Document(metadata={'source': './directorio/microsoft.csv', 'row': 562}, page_content='Date: 2017-03-27\\nOpen: 64.629997\\nHigh: 65.220001\\nLow: 64.349998\\nClose: 65.099998\\nAdj Close: 63.76466\\nVolume: 18614700'), Document(metadata={'source': './directorio/microsoft.csv', 'row': 563}, page_content='Date: 2017-03-28\\nOpen: 64.959999\\nHigh: 65.470001\\nLow: 64.650002\\nClose: 65.290001\\nAdj Close: 63.950768000000004\\nVolume: 20080400'), Document(metadata={'source': './directorio/microsoft.csv', 'row': 564}, page_content='Date: 2017-03-29\\nOpen: 65.120003\\nHigh: 65.5\\nLow: 64.949997\\nClose: 65.470001\\nAdj Close: 64.12709\\nVolume: 13618400'), Document(metadata={'source': './directorio/microsoft.csv', 'row': 565}, page_content='Date: 2017-03-30\\nOpen: 65.41999799999999\\nHigh: 65.980003\\nLow: 65.360001\\nClose: 65.709999\\nAdj Close: 64.36216\\nVolume: 15122800'), Document(metadata={'source': './directorio/microsoft.csv', 'row': 566}, page_content='Date: 2017-03-31\\nOpen: 65.650002\\nHigh: 66.190002\\nLow: 65.449997\\nClose: 65.860001\\nAdj Close: 64.509079\\nVolume: 21040300'), Document(metadata={'source': './directorio/microsoft.csv', 'row': 567}, page_content='Date: 2017-04-03\\nOpen: 65.809998\\nHigh: 65.940002\\nLow: 65.190002\\nClose: 65.550003\\nAdj Close: 64.205437\\nVolume: 20400900'), Document(metadata={'source': './directorio/microsoft.csv', 'row': 568}, page_content='Date: 2017-04-04\\nOpen: 65.389999\\nHigh: 65.809998\\nLow: 65.279999\\nClose: 65.730003\\nAdj Close: 64.381752\\nVolume: 12997400'), Document(metadata={'source': './directorio/microsoft.csv', 'row': 569}, page_content='Date: 2017-04-05\\nOpen: 66.300003\\nHigh: 66.349998\\nLow: 65.440002\\nClose: 65.559998\\nAdj Close: 64.215225\\nVolume: 21448600'), Document(metadata={'source': './directorio/microsoft.csv', 'row': 570}, page_content='Date: 2017-04-06\\nOpen: 65.599998\\nHigh: 66.059998\\nLow: 65.480003\\nClose: 65.730003\\nAdj Close: 64.381752\\nVolume: 18103500'), Document(metadata={'source': './directorio/microsoft.csv', 'row': 571}, page_content='Date: 2017-04-07\\nOpen: 65.849998\\nHigh: 65.959999\\nLow: 65.440002\\nClose: 65.68\\nAdj Close: 64.332779\\nVolume: 14108500'), Document(metadata={'source': './directorio/microsoft.csv', 'row': 572}, page_content='Date: 2017-04-10\\nOpen: 65.610001\\nHigh: 65.82\\nLow: 65.360001\\nClose: 65.529999\\nAdj Close: 64.18584399999999\\nVolume: 17952700'), Document(metadata={'source': './directorio/microsoft.csv', 'row': 573}, page_content='Date: 2017-04-11\\nOpen: 65.599998\\nHigh: 65.610001\\nLow: 64.849998\\nClose: 65.480003\\nAdj Close: 64.136871\\nVolume: 18791500'), Document(metadata={'source': './directorio/microsoft.csv', 'row': 574}, page_content='Date: 2017-04-12\\nOpen: 65.41999799999999\\nHigh: 65.510002\\nLow: 65.110001\\nClose: 65.230003\\nAdj Close: 63.892002000000005\\nVolume: 17108500'), Document(metadata={'source': './directorio/microsoft.csv', 'row': 575}, page_content='Date: 2017-04-13\\nOpen: 65.290001\\nHigh: 65.860001\\nLow: 64.949997\\nClose: 64.949997\\nAdj Close: 63.617741\\nVolume: 17896500'), Document(metadata={'source': './directorio/microsoft.csv', 'row': 576}, page_content='Date: 2017-04-17\\nOpen: 65.040001\\nHigh: 65.489998\\nLow: 65.010002\\nClose: 65.480003\\nAdj Close: 64.136871\\nVolume: 16689300'), Document(metadata={'source': './directorio/microsoft.csv', 'row': 577}, page_content='Date: 2017-04-18\\nOpen: 65.33000200000001\\nHigh: 65.709999\\nLow: 65.160004\\nClose: 65.389999\\nAdj Close: 64.048721\\nVolume: 15155600'), Document(metadata={'source': './directorio/microsoft.csv', 'row': 578}, page_content='Date: 2017-04-19\\nOpen: 65.650002\\nHigh: 65.75\\nLow: 64.889999\\nClose: 65.040001\\nAdj Close: 63.705902\\nVolume: 26992800'), Document(metadata={'source': './directorio/microsoft.csv', 'row': 579}, page_content='Date: 2017-04-20\\nOpen: 65.459999\\nHigh: 65.75\\nLow: 65.139999\\nClose: 65.5\\nAdj Close: 64.156456\\nVolume: 22299500'), Document(metadata={'source': './directorio/microsoft.csv', 'row': 580}, page_content='Date: 2017-04-21\\nOpen: 65.66999799999999\\nHigh: 66.699997\\nLow: 65.449997\\nClose: 66.400002\\nAdj Close: 65.038002\\nVolume: 32522600'), Document(metadata={'source': './directorio/microsoft.csv', 'row': 581}, page_content='Date: 2017-04-24\\nOpen: 67.480003\\nHigh: 67.660004\\nLow: 67.099998\\nClose: 67.529999\\nAdj Close: 66.144821\\nVolume: 29770000'), Document(metadata={'source': './directorio/microsoft.csv', 'row': 582}, page_content='Date: 2017-04-25\\nOpen: 67.900002\\nHigh: 68.040001\\nLow: 67.599998\\nClose: 67.91999799999999\\nAdj Close: 66.52681700000001\\nVolume: 30242700'), Document(metadata={'source': './directorio/microsoft.csv', 'row': 583}, page_content='Date: 2017-04-26\\nOpen: 68.08000200000001\\nHigh: 68.309998\\nLow: 67.620003\\nClose: 67.83000200000001\\nAdj Close: 66.438675\\nVolume: 26190800'), Document(metadata={'source': './directorio/microsoft.csv', 'row': 584}, page_content='Date: 2017-04-27\\nOpen: 68.150002\\nHigh: 68.379997\\nLow: 67.58000200000001\\nClose: 68.269997\\nAdj Close: 66.869644\\nVolume: 34971000'), Document(metadata={'source': './directorio/microsoft.csv', 'row': 585}, page_content='Date: 2017-04-28\\nOpen: 68.910004\\nHigh: 69.139999\\nLow: 67.690002\\nClose: 68.459999\\nAdj Close: 67.05574\\nVolume: 39423500'), Document(metadata={'source': './directorio/microsoft.csv', 'row': 586}, page_content='Date: 2017-05-01\\nOpen: 68.68\\nHigh: 69.550003\\nLow: 68.5\\nClose: 69.410004\\nAdj Close: 67.98625899999999\\nVolume: 31954400'), Document(metadata={'source': './directorio/microsoft.csv', 'row': 587}, page_content='Date: 2017-05-02\\nOpen: 69.709999\\nHigh: 69.709999\\nLow: 69.129997\\nClose: 69.300003\\nAdj Close: 67.878525\\nVolume: 23906100'), Document(metadata={'source': './directorio/microsoft.csv', 'row': 588}, page_content='Date: 2017-05-03\\nOpen: 69.379997\\nHigh: 69.379997\\nLow: 68.709999\\nClose: 69.08000200000001\\nAdj Close: 67.663025\\nVolume: 28928000'), Document(metadata={'source': './directorio/microsoft.csv', 'row': 589}, page_content='Date: 2017-05-04\\nOpen: 69.029999\\nHigh: 69.08000200000001\\nLow: 68.639999\\nClose: 68.809998\\nAdj Close: 67.398567\\nVolume: 21749400'), Document(metadata={'source': './directorio/microsoft.csv', 'row': 590}, page_content='Date: 2017-05-05\\nOpen: 68.900002\\nHigh: 69.029999\\nLow: 68.489998\\nClose: 69.0\\nAdj Close: 67.584671\\nVolume: 19128800'), Document(metadata={'source': './directorio/microsoft.csv', 'row': 591}, page_content='Date: 2017-05-08\\nOpen: 68.970001\\nHigh: 69.050003\\nLow: 68.41999799999999\\nClose: 68.940002\\nAdj Close: 67.525909\\nVolume: 18566100'), Document(metadata={'source': './directorio/microsoft.csv', 'row': 592}, page_content='Date: 2017-05-09\\nOpen: 68.860001\\nHigh: 69.279999\\nLow: 68.68\\nClose: 69.040001\\nAdj Close: 67.623856\\nVolume: 22858400'), Document(metadata={'source': './directorio/microsoft.csv', 'row': 593}, page_content='Date: 2017-05-10\\nOpen: 68.989998\\nHigh: 69.559998\\nLow: 68.91999799999999\\nClose: 69.309998\\nAdj Close: 67.888306\\nVolume: 17977800'), Document(metadata={'source': './directorio/microsoft.csv', 'row': 594}, page_content='Date: 2017-05-11\\nOpen: 68.360001\\nHigh: 68.730003\\nLow: 68.120003\\nClose: 68.459999\\nAdj Close: 67.05574\\nVolume: 28789400'), Document(metadata={'source': './directorio/microsoft.csv', 'row': 595}, page_content='Date: 2017-05-12\\nOpen: 68.610001\\nHigh: 68.610001\\nLow: 68.040001\\nClose: 68.379997\\nAdj Close: 66.977386\\nVolume: 18714100'), Document(metadata={'source': './directorio/microsoft.csv', 'row': 596}, page_content='Date: 2017-05-15\\nOpen: 68.139999\\nHigh: 68.480003\\nLow: 67.57\\nClose: 68.43\\nAdj Close: 67.02636\\nVolume: 31530300'), Document(metadata={'source': './directorio/microsoft.csv', 'row': 597}, page_content='Date: 2017-05-16\\nOpen: 68.230003\\nHigh: 69.440002\\nLow: 68.160004\\nClose: 69.410004\\nAdj Close: 68.375961\\nVolume: 34956000'), Document(metadata={'source': './directorio/microsoft.csv', 'row': 598}, page_content='Date: 2017-05-17\\nOpen: 68.889999\\nHigh: 69.099998\\nLow: 67.43\\nClose: 67.480003\\nAdj Close: 66.47470899999999\\nVolume: 30548800'), Document(metadata={'source': './directorio/microsoft.csv', 'row': 599}, page_content='Date: 2017-05-18\\nOpen: 67.400002\\nHigh: 68.129997\\nLow: 67.139999\\nClose: 67.709999\\nAdj Close: 66.701279\\nVolume: 25201300'), Document(metadata={'source': './directorio/microsoft.csv', 'row': 600}, page_content='Date: 2017-05-19\\nOpen: 67.5\\nHigh: 68.099998\\nLow: 67.43\\nClose: 67.690002\\nAdj Close: 66.68158000000001\\nVolume: 26961100'), Document(metadata={'source': './directorio/microsoft.csv', 'row': 601}, page_content='Date: 2017-05-22\\nOpen: 67.889999\\nHigh: 68.5\\nLow: 67.5\\nClose: 68.449997\\nAdj Close: 67.430252\\nVolume: 16237600'), Document(metadata={'source': './directorio/microsoft.csv', 'row': 602}, page_content='Date: 2017-05-23\\nOpen: 68.720001\\nHigh: 68.75\\nLow: 68.379997\\nClose: 68.68\\nAdj Close: 67.65683\\nVolume: 15425800'), Document(metadata={'source': './directorio/microsoft.csv', 'row': 603}, page_content='Date: 2017-05-24\\nOpen: 68.870003\\nHigh: 68.879997\\nLow: 68.449997\\nClose: 68.769997\\nAdj Close: 67.745491\\nVolume: 14593900'), Document(metadata={'source': './directorio/microsoft.csv', 'row': 604}, page_content='Date: 2017-05-25\\nOpen: 68.970001\\nHigh: 69.879997\\nLow: 68.910004\\nClose: 69.620003\\nAdj Close: 68.582832\\nVolume: 21854100'), Document(metadata={'source': './directorio/microsoft.csv', 'row': 605}, page_content='Date: 2017-05-26\\nOpen: 69.800003\\nHigh: 70.220001\\nLow: 69.519997\\nClose: 69.959999\\nAdj Close: 68.917755\\nVolume: 19827900'), Document(metadata={'source': './directorio/microsoft.csv', 'row': 606}, page_content='Date: 2017-05-30\\nOpen: 69.790001\\nHigh: 70.410004\\nLow: 69.769997\\nClose: 70.410004\\nAdj Close: 69.36106099999999\\nVolume: 17072800'), Document(metadata={'source': './directorio/microsoft.csv', 'row': 607}, page_content='Date: 2017-05-31\\nOpen: 70.529999\\nHigh: 70.739998\\nLow: 69.809998\\nClose: 69.839996\\nAdj Close: 68.799545\\nVolume: 30436400'), Document(metadata={'source': './directorio/microsoft.csv', 'row': 608}, page_content='Date: 2017-06-01\\nOpen: 70.239998\\nHigh: 70.610001\\nLow: 69.449997\\nClose: 70.099998\\nAdj Close: 69.055672\\nVolume: 21603600'), Document(metadata={'source': './directorio/microsoft.csv', 'row': 609}, page_content='Date: 2017-06-02\\nOpen: 70.440002\\nHigh: 71.860001\\nLow: 70.239998\\nClose: 71.760002\\nAdj Close: 70.69094799999999\\nVolume: 34770300'), Document(metadata={'source': './directorio/microsoft.csv', 'row': 610}, page_content='Date: 2017-06-05\\nOpen: 71.970001\\nHigh: 72.889999\\nLow: 71.809998\\nClose: 72.279999\\nAdj Close: 71.203201\\nVolume: 33316800'), Document(metadata={'source': './directorio/microsoft.csv', 'row': 611}, page_content='Date: 2017-06-06\\nOpen: 72.300003\\nHigh: 72.620003\\nLow: 72.269997\\nClose: 72.519997\\nAdj Close: 71.439613\\nVolume: 31511100'), Document(metadata={'source': './directorio/microsoft.csv', 'row': 612}, page_content='Date: 2017-06-07\\nOpen: 72.639999\\nHigh: 72.769997\\nLow: 71.949997\\nClose: 72.389999\\nAdj Close: 71.311562\\nVolume: 22301800'), Document(metadata={'source': './directorio/microsoft.csv', 'row': 613}, page_content='Date: 2017-06-08\\nOpen: 72.510002\\nHigh: 72.519997\\nLow: 71.5\\nClose: 71.949997\\nAdj Close: 70.878113\\nVolume: 24456300'), Document(metadata={'source': './directorio/microsoft.csv', 'row': 614}, page_content='Date: 2017-06-09\\nOpen: 72.040001\\nHigh: 72.08000200000001\\nLow: 68.589996\\nClose: 70.32\\nAdj Close: 69.2724\\nVolume: 49187400'), Document(metadata={'source': './directorio/microsoft.csv', 'row': 615}, page_content='Date: 2017-06-12\\nOpen: 69.25\\nHigh: 69.940002\\nLow: 68.129997\\nClose: 69.779999\\nAdj Close: 68.74044\\nVolume: 47761700'), Document(metadata={'source': './directorio/microsoft.csv', 'row': 616}, page_content='Date: 2017-06-13\\nOpen: 70.019997\\nHigh: 70.82\\nLow: 69.959999\\nClose: 70.650002\\nAdj Close: 69.597481\\nVolume: 25258600'), Document(metadata={'source': './directorio/microsoft.csv', 'row': 617}, page_content='Date: 2017-06-14\\nOpen: 70.910004\\nHigh: 71.099998\\nLow: 69.43\\nClose: 70.269997\\nAdj Close: 69.223137\\nVolume: 25510700'), Document(metadata={'source': './directorio/microsoft.csv', 'row': 618}, page_content='Date: 2017-06-15\\nOpen: 69.269997\\nHigh: 70.209999\\nLow: 68.800003\\nClose: 69.900002\\nAdj Close: 68.85865\\nVolume: 26068700'), Document(metadata={'source': './directorio/microsoft.csv', 'row': 619}, page_content='Date: 2017-06-16\\nOpen: 69.730003\\nHigh: 70.029999\\nLow: 69.220001\\nClose: 70.0\\nAdj Close: 68.957169\\nVolume: 48345100'), Document(metadata={'source': './directorio/microsoft.csv', 'row': 620}, page_content='Date: 2017-06-19\\nOpen: 70.5\\nHigh: 70.940002\\nLow: 70.349998\\nClose: 70.870003\\nAdj Close: 69.814201\\nVolume: 23798300'), Document(metadata={'source': './directorio/microsoft.csv', 'row': 621}, page_content='Date: 2017-06-20\\nOpen: 70.82\\nHigh: 70.870003\\nLow: 69.870003\\nClose: 69.910004\\nAdj Close: 68.868507\\nVolume: 21512200'), Document(metadata={'source': './directorio/microsoft.csv', 'row': 622}, page_content='Date: 2017-06-21\\nOpen: 70.209999\\nHigh: 70.620003\\nLow: 69.940002\\nClose: 70.269997\\nAdj Close: 69.223137\\nVolume: 19891100'), Document(metadata={'source': './directorio/microsoft.csv', 'row': 623}, page_content='Date: 2017-06-22\\nOpen: 70.540001\\nHigh: 70.589996\\nLow: 69.709999\\nClose: 70.260002\\nAdj Close: 69.213295\\nVolume: 22965700'), Document(metadata={'source': './directorio/microsoft.csv', 'row': 624}, page_content='Date: 2017-06-23\\nOpen: 70.089996\\nHigh: 71.25\\nLow: 69.91999799999999\\nClose: 71.209999\\nAdj Close: 70.149139\\nVolume: 27617300'), Document(metadata={'source': './directorio/microsoft.csv', 'row': 625}, page_content='Date: 2017-06-26\\nOpen: 71.400002\\nHigh: 71.709999\\nLow: 70.440002\\nClose: 70.529999\\nAdj Close: 69.479271\\nVolume: 19607000'), Document(metadata={'source': './directorio/microsoft.csv', 'row': 626}, page_content='Date: 2017-06-27\\nOpen: 70.110001\\nHigh: 70.18\\nLow: 69.18\\nClose: 69.209999\\nAdj Close: 68.17893199999999\\nVolume: 25215100'), Document(metadata={'source': './directorio/microsoft.csv', 'row': 627}, page_content='Date: 2017-06-28\\nOpen: 69.209999\\nHigh: 69.839996\\nLow: 68.790001\\nClose: 69.800003\\nAdj Close: 68.760147\\nVolume: 25806200'), Document(metadata={'source': './directorio/microsoft.csv', 'row': 628}, page_content='Date: 2017-06-29\\nOpen: 69.379997\\nHigh: 69.489998\\nLow: 68.089996\\nClose: 68.489998\\nAdj Close: 67.469658\\nVolume: 28918700'), Document(metadata={'source': './directorio/microsoft.csv', 'row': 629}, page_content='Date: 2017-06-30\\nOpen: 68.779999\\nHigh: 69.379997\\nLow: 68.739998\\nClose: 68.93\\nAdj Close: 67.90310699999999\\nVolume: 24161100'), Document(metadata={'source': './directorio/microsoft.csv', 'row': 630}, page_content='Date: 2017-07-03\\nOpen: 69.33000200000001\\nHigh: 69.599998\\nLow: 68.019997\\nClose: 68.16999799999999\\nAdj Close: 67.154427\\nVolume: 16165500'), Document(metadata={'source': './directorio/microsoft.csv', 'row': 631}, page_content='Date: 2017-07-05\\nOpen: 68.260002\\nHigh: 69.440002\\nLow: 68.220001\\nClose: 69.08000200000001\\nAdj Close: 68.05088\\nVolume: 21176300'), Document(metadata={'source': './directorio/microsoft.csv', 'row': 632}, page_content='Date: 2017-07-06\\nOpen: 68.269997\\nHigh: 68.779999\\nLow: 68.120003\\nClose: 68.57\\nAdj Close: 67.54847\\nVolume: 21117600'), Document(metadata={'source': './directorio/microsoft.csv', 'row': 633}, page_content='Date: 2017-07-07\\nOpen: 68.699997\\nHigh: 69.839996\\nLow: 68.699997\\nClose: 69.459999\\nAdj Close: 68.425209\\nVolume: 16878300'), Document(metadata={'source': './directorio/microsoft.csv', 'row': 634}, page_content='Date: 2017-07-10\\nOpen: 69.459999\\nHigh: 70.25\\nLow: 69.199997\\nClose: 69.980003\\nAdj Close: 68.937469\\nVolume: 15014500'), Document(metadata={'source': './directorio/microsoft.csv', 'row': 635}, page_content='Date: 2017-07-11\\nOpen: 70.0\\nHigh: 70.68\\nLow: 69.75\\nClose: 69.989998\\nAdj Close: 68.947319\\nVolume: 17460000'), Document(metadata={'source': './directorio/microsoft.csv', 'row': 636}, page_content='Date: 2017-07-12\\nOpen: 70.690002\\nHigh: 71.279999\\nLow: 70.550003\\nClose: 71.150002\\nAdj Close: 70.090034\\nVolume: 17750900'), Document(metadata={'source': './directorio/microsoft.csv', 'row': 637}, page_content='Date: 2017-07-13\\nOpen: 71.5\\nHigh: 72.040001\\nLow: 71.309998\\nClose: 71.769997\\nAdj Close: 70.70079\\nVolume: 20269800'), Document(metadata={'source': './directorio/microsoft.csv', 'row': 638}, page_content='Date: 2017-07-14\\nOpen: 72.239998\\nHigh: 73.269997\\nLow: 71.959999\\nClose: 72.779999\\nAdj Close: 71.695747\\nVolume: 25868100'), Document(metadata={'source': './directorio/microsoft.csv', 'row': 639}, page_content='Date: 2017-07-17\\nOpen: 72.800003\\nHigh: 73.449997\\nLow: 72.720001\\nClose: 73.349998\\nAdj Close: 72.257263\\nVolume: 21803900'), Document(metadata={'source': './directorio/microsoft.csv', 'row': 640}, page_content='Date: 2017-07-18\\nOpen: 73.089996\\nHigh: 73.389999\\nLow: 72.660004\\nClose: 73.300003\\nAdj Close: 72.208\\nVolume: 26435300'), Document(metadata={'source': './directorio/microsoft.csv', 'row': 641}, page_content='Date: 2017-07-19\\nOpen: 73.5\\nHigh: 74.040001\\nLow: 73.449997\\nClose: 73.860001\\nAdj Close: 72.759651\\nVolume: 22416200'), Document(metadata={'source': './directorio/microsoft.csv', 'row': 642}, page_content='Date: 2017-07-20\\nOpen: 74.18\\nHigh: 74.300003\\nLow: 73.279999\\nClose: 74.220001\\nAdj Close: 73.114296\\nVolume: 42361000'), Document(metadata={'source': './directorio/microsoft.csv', 'row': 643}, page_content='Date: 2017-07-21\\nOpen: 73.449997\\nHigh: 74.290001\\nLow: 73.16999799999999\\nClose: 73.790001\\nAdj Close: 72.690704\\nVolume: 46717100'), Document(metadata={'source': './directorio/microsoft.csv', 'row': 644}, page_content='Date: 2017-07-24\\nOpen: 73.529999\\nHigh: 73.75\\nLow: 73.129997\\nClose: 73.599998\\nAdj Close: 72.50353199999999\\nVolume: 21394800'), Document(metadata={'source': './directorio/microsoft.csv', 'row': 645}, page_content='Date: 2017-07-25\\nOpen: 73.800003\\nHigh: 74.309998\\nLow: 73.5\\nClose: 74.190002\\nAdj Close: 73.08474\\nVolume: 22018700'), Document(metadata={'source': './directorio/microsoft.csv', 'row': 646}, page_content='Date: 2017-07-26\\nOpen: 74.339996\\nHigh: 74.379997\\nLow: 73.809998\\nClose: 74.050003\\nAdj Close: 72.946831\\nVolume: 16252200'), Document(metadata={'source': './directorio/microsoft.csv', 'row': 647}, page_content='Date: 2017-07-27\\nOpen: 73.760002\\nHigh: 74.41999799999999\\nLow: 72.32\\nClose: 73.160004\\nAdj Close: 72.070091\\nVolume: 36844200'), Document(metadata={'source': './directorio/microsoft.csv', 'row': 648}, page_content='Date: 2017-07-28\\nOpen: 72.66999799999999\\nHigh: 73.309998\\nLow: 72.540001\\nClose: 73.040001\\nAdj Close: 71.951881\\nVolume: 18306700'), Document(metadata={'source': './directorio/microsoft.csv', 'row': 649}, page_content='Date: 2017-07-31\\nOpen: 73.300003\\nHigh: 73.440002\\nLow: 72.410004\\nClose: 72.699997\\nAdj Close: 71.616936\\nVolume: 23600100'), Document(metadata={'source': './directorio/microsoft.csv', 'row': 650}, page_content='Date: 2017-08-01\\nOpen: 73.099998\\nHigh: 73.41999799999999\\nLow: 72.489998\\nClose: 72.58000200000001\\nAdj Close: 71.498734\\nVolume: 22132300'), Document(metadata={'source': './directorio/microsoft.csv', 'row': 651}, page_content='Date: 2017-08-02\\nOpen: 72.550003\\nHigh: 72.559998\\nLow: 71.440002\\nClose: 72.260002\\nAdj Close: 71.183502\\nVolume: 26499200'), Document(metadata={'source': './directorio/microsoft.csv', 'row': 652}, page_content='Date: 2017-08-03\\nOpen: 72.190002\\nHigh: 72.440002\\nLow: 71.849998\\nClose: 72.150002\\nAdj Close: 71.07513399999999\\nVolume: 18214400'), Document(metadata={'source': './directorio/microsoft.csv', 'row': 653}, page_content='Date: 2017-08-04\\nOpen: 72.400002\\nHigh: 73.040001\\nLow: 72.239998\\nClose: 72.68\\nAdj Close: 71.59723699999999\\nVolume: 22579000'), Document(metadata={'source': './directorio/microsoft.csv', 'row': 654}, page_content='Date: 2017-08-07\\nOpen: 72.800003\\nHigh: 72.900002\\nLow: 72.260002\\nClose: 72.400002\\nAdj Close: 71.32141899999999\\nVolume: 18705700'), Document(metadata={'source': './directorio/microsoft.csv', 'row': 655}, page_content='Date: 2017-08-08\\nOpen: 72.089996\\nHigh: 73.129997\\nLow: 71.75\\nClose: 72.790001\\nAdj Close: 71.705597\\nVolume: 22044600'), Document(metadata={'source': './directorio/microsoft.csv', 'row': 656}, page_content='Date: 2017-08-09\\nOpen: 72.25\\nHigh: 72.510002\\nLow: 72.050003\\nClose: 72.470001\\nAdj Close: 71.390366\\nVolume: 22213400'), Document(metadata={'source': './directorio/microsoft.csv', 'row': 657}, page_content='Date: 2017-08-10\\nOpen: 71.900002\\nHigh: 72.190002\\nLow: 71.349998\\nClose: 71.410004\\nAdj Close: 70.346161\\nVolume: 24734500'), Document(metadata={'source': './directorio/microsoft.csv', 'row': 658}, page_content='Date: 2017-08-11\\nOpen: 71.610001\\nHigh: 72.699997\\nLow: 71.279999\\nClose: 72.5\\nAdj Close: 71.419914\\nVolume: 21443700'), Document(metadata={'source': './directorio/microsoft.csv', 'row': 659}, page_content='Date: 2017-08-14\\nOpen: 73.059998\\nHigh: 73.720001\\nLow: 72.949997\\nClose: 73.589996\\nAdj Close: 72.493675\\nVolume: 20067300'), Document(metadata={'source': './directorio/microsoft.csv', 'row': 660}, page_content='Date: 2017-08-15\\nOpen: 73.589996\\nHigh: 73.589996\\nLow: 73.040001\\nClose: 73.220001\\nAdj Close: 72.513489\\nVolume: 19181400'), Document(metadata={'source': './directorio/microsoft.csv', 'row': 661}, page_content='Date: 2017-08-16\\nOpen: 73.339996\\nHigh: 74.099998\\nLow: 73.16999799999999\\nClose: 73.650002\\nAdj Close: 72.939346\\nVolume: 18150400'), Document(metadata={'source': './directorio/microsoft.csv', 'row': 662}, page_content='Date: 2017-08-17\\nOpen: 73.58000200000001\\nHigh: 73.870003\\nLow: 72.400002\\nClose: 72.400002\\nAdj Close: 71.701401\\nVolume: 22977500'), Document(metadata={'source': './directorio/microsoft.csv', 'row': 663}, page_content='Date: 2017-08-18\\nOpen: 72.269997\\nHigh: 72.839996\\nLow: 71.93\\nClose: 72.489998\\nAdj Close: 71.790527\\nVolume: 18761500'), Document(metadata={'source': './directorio/microsoft.csv', 'row': 664}, page_content='Date: 2017-08-21\\nOpen: 72.470001\\nHigh: 72.480003\\nLow: 71.699997\\nClose: 72.150002\\nAdj Close: 71.453812\\nVolume: 17734800'), Document(metadata={'source': './directorio/microsoft.csv', 'row': 665}, page_content='Date: 2017-08-22\\nOpen: 72.349998\\nHigh: 73.239998\\nLow: 72.349998\\nClose: 73.160004\\nAdj Close: 72.454071\\nVolume: 14343700'), Document(metadata={'source': './directorio/microsoft.csv', 'row': 666}, page_content='Date: 2017-08-23\\nOpen: 72.959999\\nHigh: 73.150002\\nLow: 72.529999\\nClose: 72.720001\\nAdj Close: 72.01831800000001\\nVolume: 13766500'), Document(metadata={'source': './directorio/microsoft.csv', 'row': 667}, page_content='Date: 2017-08-24\\nOpen: 72.739998\\nHigh: 72.860001\\nLow: 72.07\\nClose: 72.690002\\nAdj Close: 71.988602\\nVolume: 17098300'), Document(metadata={'source': './directorio/microsoft.csv', 'row': 668}, page_content='Date: 2017-08-25\\nOpen: 72.860001\\nHigh: 73.349998\\nLow: 72.480003\\nClose: 72.82\\nAdj Close: 72.11734799999999\\nVolume: 12794300'), Document(metadata={'source': './directorio/microsoft.csv', 'row': 669}, page_content='Date: 2017-08-28\\nOpen: 73.059998\\nHigh: 73.089996\\nLow: 72.550003\\nClose: 72.83000200000001\\nAdj Close: 72.127258\\nVolume: 14569700'), Document(metadata={'source': './directorio/microsoft.csv', 'row': 670}, page_content='Date: 2017-08-29\\nOpen: 72.25\\nHigh: 73.160004\\nLow: 72.050003\\nClose: 73.050003\\nAdj Close: 72.345139\\nVolume: 11478400'), Document(metadata={'source': './directorio/microsoft.csv', 'row': 671}, page_content='Date: 2017-08-30\\nOpen: 73.010002\\nHigh: 74.209999\\nLow: 72.83000200000001\\nClose: 74.010002\\nAdj Close: 73.295868\\nVolume: 16897800'), Document(metadata={'source': './directorio/microsoft.csv', 'row': 672}, page_content='Date: 2017-08-31\\nOpen: 74.029999\\nHigh: 74.959999\\nLow: 73.800003\\nClose: 74.769997\\nAdj Close: 74.04853100000001\\nVolume: 27652800'), Document(metadata={'source': './directorio/microsoft.csv', 'row': 673}, page_content='Date: 2017-09-01\\nOpen: 74.709999\\nHigh: 74.739998\\nLow: 73.639999\\nClose: 73.940002\\nAdj Close: 73.226547\\nVolume: 21736200'), Document(metadata={'source': './directorio/microsoft.csv', 'row': 674}, page_content='Date: 2017-09-05\\nOpen: 73.339996\\nHigh: 73.889999\\nLow: 72.980003\\nClose: 73.610001\\nAdj Close: 72.899727\\nVolume: 21556000'), Document(metadata={'source': './directorio/microsoft.csv', 'row': 675}, page_content='Date: 2017-09-06\\nOpen: 73.739998\\nHigh: 74.040001\\nLow: 73.349998\\nClose: 73.400002\\nAdj Close: 72.69175\\nVolume: 16535800'), Document(metadata={'source': './directorio/microsoft.csv', 'row': 676}, page_content='Date: 2017-09-07\\nOpen: 73.68\\nHigh: 74.599998\\nLow: 73.599998\\nClose: 74.339996\\nAdj Close: 73.622681\\nVolume: 17471200'), Document(metadata={'source': './directorio/microsoft.csv', 'row': 677}, page_content='Date: 2017-09-08\\nOpen: 74.33000200000001\\nHigh: 74.440002\\nLow: 73.839996\\nClose: 73.980003\\nAdj Close: 73.266159\\nVolume: 14703800'), Document(metadata={'source': './directorio/microsoft.csv', 'row': 678}, page_content='Date: 2017-09-11\\nOpen: 74.309998\\nHigh: 74.940002\\nLow: 74.309998\\nClose: 74.760002\\nAdj Close: 74.038635\\nVolume: 17910400'), Document(metadata={'source': './directorio/microsoft.csv', 'row': 679}, page_content='Date: 2017-09-12\\nOpen: 74.760002\\nHigh: 75.239998\\nLow: 74.370003\\nClose: 74.68\\nAdj Close: 73.959404\\nVolume: 14394900'), Document(metadata={'source': './directorio/microsoft.csv', 'row': 680}, page_content='Date: 2017-09-13\\nOpen: 74.93\\nHigh: 75.230003\\nLow: 74.550003\\nClose: 75.209999\\nAdj Close: 74.484291\\nVolume: 13380800'), Document(metadata={'source': './directorio/microsoft.csv', 'row': 681}, page_content='Date: 2017-09-14\\nOpen: 75.0\\nHigh: 75.489998\\nLow: 74.519997\\nClose: 74.769997\\nAdj Close: 74.04853100000001\\nVolume: 15733900'), Document(metadata={'source': './directorio/microsoft.csv', 'row': 682}, page_content='Date: 2017-09-15\\nOpen: 74.83000200000001\\nHigh: 75.389999\\nLow: 74.07\\nClose: 75.309998\\nAdj Close: 74.583321\\nVolume: 38578400'), Document(metadata={'source': './directorio/microsoft.csv', 'row': 683}, page_content='Date: 2017-09-18\\nOpen: 75.230003\\nHigh: 75.970001\\nLow: 75.040001\\nClose: 75.160004\\nAdj Close: 74.434776\\nVolume: 23307000'), Document(metadata={'source': './directorio/microsoft.csv', 'row': 684}, page_content='Date: 2017-09-19\\nOpen: 75.209999\\nHigh: 75.709999\\nLow: 75.010002\\nClose: 75.440002\\nAdj Close: 74.712067\\nVolume: 16093300'), Document(metadata={'source': './directorio/microsoft.csv', 'row': 685}, page_content='Date: 2017-09-20\\nOpen: 75.349998\\nHigh: 75.550003\\nLow: 74.309998\\nClose: 74.940002\\nAdj Close: 74.21689599999999\\nVolume: 21587900'), Document(metadata={'source': './directorio/microsoft.csv', 'row': 686}, page_content='Date: 2017-09-21\\nOpen: 75.110001\\nHigh: 75.239998\\nLow: 74.110001\\nClose: 74.209999\\nAdj Close: 73.493935\\nVolume: 19186100'), Document(metadata={'source': './directorio/microsoft.csv', 'row': 687}, page_content='Date: 2017-09-22\\nOpen: 73.989998\\nHigh: 74.510002\\nLow: 73.849998\\nClose: 74.410004\\nAdj Close: 73.692009\\nVolume: 14111400'), Document(metadata={'source': './directorio/microsoft.csv', 'row': 688}, page_content='Date: 2017-09-25\\nOpen: 74.089996\\nHigh: 74.25\\nLow: 72.91999799999999\\nClose: 73.260002\\nAdj Close: 72.553108\\nVolume: 24149200'), Document(metadata={'source': './directorio/microsoft.csv', 'row': 689}, page_content='Date: 2017-09-26\\nOpen: 73.66999799999999\\nHigh: 73.809998\\nLow: 72.989998\\nClose: 73.260002\\nAdj Close: 72.553108\\nVolume: 18019600'), Document(metadata={'source': './directorio/microsoft.csv', 'row': 690}, page_content='Date: 2017-09-27\\nOpen: 73.550003\\nHigh: 74.16999799999999\\nLow: 73.16999799999999\\nClose: 73.849998\\nAdj Close: 73.137413\\nVolume: 19565100'), Document(metadata={'source': './directorio/microsoft.csv', 'row': 691}, page_content='Date: 2017-09-28\\nOpen: 73.540001\\nHigh: 73.970001\\nLow: 73.309998\\nClose: 73.870003\\nAdj Close: 73.157219\\nVolume: 10883800'), Document(metadata={'source': './directorio/microsoft.csv', 'row': 692}, page_content='Date: 2017-09-29\\nOpen: 73.940002\\nHigh: 74.540001\\nLow: 73.879997\\nClose: 74.489998\\nAdj Close: 73.771233\\nVolume: 17079100'), Document(metadata={'source': './directorio/microsoft.csv', 'row': 693}, page_content='Date: 2017-10-02\\nOpen: 74.709999\\nHigh: 75.010002\\nLow: 74.300003\\nClose: 74.610001\\nAdj Close: 73.89007600000001\\nVolume: 15304800'), Document(metadata={'source': './directorio/microsoft.csv', 'row': 694}, page_content='Date: 2017-10-03\\nOpen: 74.66999799999999\\nHigh: 74.879997\\nLow: 74.190002\\nClose: 74.260002\\nAdj Close: 73.54345699999999\\nVolume: 12190400'), Document(metadata={'source': './directorio/microsoft.csv', 'row': 695}, page_content='Date: 2017-10-04\\nOpen: 74.089996\\nHigh: 74.720001\\nLow: 73.709999\\nClose: 74.690002\\nAdj Close: 73.969307\\nVolume: 13317700'), Document(metadata={'source': './directorio/microsoft.csv', 'row': 696}, page_content='Date: 2017-10-05\\nOpen: 75.220001\\nHigh: 76.120003\\nLow: 74.959999\\nClose: 75.970001\\nAdj Close: 75.236954\\nVolume: 21195300'), Document(metadata={'source': './directorio/microsoft.csv', 'row': 697}, page_content='Date: 2017-10-06\\nOpen: 75.66999799999999\\nHigh: 76.029999\\nLow: 75.540001\\nClose: 76.0\\nAdj Close: 75.266663\\nVolume: 13959800'), Document(metadata={'source': './directorio/microsoft.csv', 'row': 698}, page_content='Date: 2017-10-09\\nOpen: 75.970001\\nHigh: 76.550003\\nLow: 75.860001\\nClose: 76.290001\\nAdj Close: 75.553864\\nVolume: 11386500'), Document(metadata={'source': './directorio/microsoft.csv', 'row': 699}, page_content='Date: 2017-10-10\\nOpen: 76.33000200000001\\nHigh: 76.629997\\nLow: 76.139999\\nClose: 76.290001\\nAdj Close: 75.553864\\nVolume: 13944500'), Document(metadata={'source': './directorio/microsoft.csv', 'row': 700}, page_content='Date: 2017-10-11\\nOpen: 76.360001\\nHigh: 76.459999\\nLow: 75.949997\\nClose: 76.41999799999999\\nAdj Close: 75.68261\\nVolume: 15388900'), Document(metadata={'source': './directorio/microsoft.csv', 'row': 701}, page_content='Date: 2017-10-12\\nOpen: 76.489998\\nHigh: 77.290001\\nLow: 76.370003\\nClose: 77.120003\\nAdj Close: 76.375862\\nVolume: 16876500'), Document(metadata={'source': './directorio/microsoft.csv', 'row': 702}, page_content='Date: 2017-10-13\\nOpen: 77.589996\\nHigh: 77.870003\\nLow: 77.290001\\nClose: 77.489998\\nAdj Close: 76.74227900000001\\nVolume: 15335700'), Document(metadata={'source': './directorio/microsoft.csv', 'row': 703}, page_content='Date: 2017-10-16\\nOpen: 77.41999799999999\\nHigh: 77.809998\\nLow: 77.349998\\nClose: 77.650002\\nAdj Close: 76.900749\\nVolume: 12380100'), Document(metadata={'source': './directorio/microsoft.csv', 'row': 704}, page_content='Date: 2017-10-17\\nOpen: 77.470001\\nHigh: 77.620003\\nLow: 77.25\\nClose: 77.589996\\nAdj Close: 76.841316\\nVolume: 16824000'), Document(metadata={'source': './directorio/microsoft.csv', 'row': 705}, page_content='Date: 2017-10-18\\nOpen: 77.66999799999999\\nHigh: 77.849998\\nLow: 77.370003\\nClose: 77.610001\\nAdj Close: 76.86113\\nVolume: 13300700'), Document(metadata={'source': './directorio/microsoft.csv', 'row': 706}, page_content='Date: 2017-10-19\\nOpen: 77.57\\nHigh: 77.93\\nLow: 77.349998\\nClose: 77.910004\\nAdj Close: 77.158234\\nVolume: 15092800'), Document(metadata={'source': './directorio/microsoft.csv', 'row': 707}, page_content='Date: 2017-10-20\\nOpen: 78.32\\nHigh: 78.970001\\nLow: 78.220001\\nClose: 78.809998\\nAdj Close: 78.049545\\nVolume: 22866400'), Document(metadata={'source': './directorio/microsoft.csv', 'row': 708}, page_content='Date: 2017-10-23\\nOpen: 78.989998\\nHigh: 79.339996\\nLow: 78.760002\\nClose: 78.83000200000001\\nAdj Close: 78.06935899999999\\nVolume: 20627200'), Document(metadata={'source': './directorio/microsoft.csv', 'row': 709}, page_content='Date: 2017-10-24\\nOpen: 78.900002\\nHigh: 79.199997\\nLow: 78.459999\\nClose: 78.860001\\nAdj Close: 78.099068\\nVolume: 17517200'), Document(metadata={'source': './directorio/microsoft.csv', 'row': 710}, page_content='Date: 2017-10-25\\nOpen: 78.58000200000001\\nHigh: 79.099998\\nLow: 78.010002\\nClose: 78.629997\\nAdj Close: 77.871284\\nVolume: 20410800'), Document(metadata={'source': './directorio/microsoft.csv', 'row': 711}, page_content='Date: 2017-10-26\\nOpen: 79.199997\\nHigh: 79.41999799999999\\nLow: 78.75\\nClose: 78.760002\\nAdj Close: 78.000038\\nVolume: 32120700'), Document(metadata={'source': './directorio/microsoft.csv', 'row': 712}, page_content='Date: 2017-10-27\\nOpen: 84.370003\\nHigh: 86.199997\\nLow: 83.610001\\nClose: 83.809998\\nAdj Close: 83.001305\\nVolume: 71066700'), Document(metadata={'source': './directorio/microsoft.csv', 'row': 713}, page_content='Date: 2017-10-30\\nOpen: 83.699997\\nHigh: 84.33000200000001\\nLow: 83.110001\\nClose: 83.889999\\nAdj Close: 83.080536\\nVolume: 31756700'), Document(metadata={'source': './directorio/microsoft.csv', 'row': 714}, page_content='Date: 2017-10-31\\nOpen: 84.360001\\nHigh: 84.360001\\nLow: 83.110001\\nClose: 83.18\\nAdj Close: 82.377388\\nVolume: 27086600'), Document(metadata={'source': './directorio/microsoft.csv', 'row': 715}, page_content='Date: 2017-11-01\\nOpen: 83.68\\nHigh: 83.760002\\nLow: 82.879997\\nClose: 83.18\\nAdj Close: 82.377388\\nVolume: 22307400'), Document(metadata={'source': './directorio/microsoft.csv', 'row': 716}, page_content='Date: 2017-11-02\\nOpen: 83.349998\\nHigh: 84.459999\\nLow: 83.120003\\nClose: 84.050003\\nAdj Close: 83.238991\\nVolume: 23992900'), Document(metadata={'source': './directorio/microsoft.csv', 'row': 717}, page_content='Date: 2017-11-03\\nOpen: 84.08000200000001\\nHigh: 84.540001\\nLow: 83.400002\\nClose: 84.139999\\nAdj Close: 83.328117\\nVolume: 17633500'), Document(metadata={'source': './directorio/microsoft.csv', 'row': 718}, page_content='Date: 2017-11-06\\nOpen: 84.199997\\nHigh: 84.699997\\nLow: 84.08000200000001\\nClose: 84.470001\\nAdj Close: 83.654938\\nVolume: 19860900'), Document(metadata={'source': './directorio/microsoft.csv', 'row': 719}, page_content='Date: 2017-11-07\\nOpen: 84.769997\\nHigh: 84.900002\\nLow: 83.93\\nClose: 84.269997\\nAdj Close: 83.456863\\nVolume: 17939700'), Document(metadata={'source': './directorio/microsoft.csv', 'row': 720}, page_content='Date: 2017-11-08\\nOpen: 84.139999\\nHigh: 84.610001\\nLow: 83.83000200000001\\nClose: 84.559998\\nAdj Close: 83.744064\\nVolume: 18034200'), Document(metadata={'source': './directorio/microsoft.csv', 'row': 721}, page_content='Date: 2017-11-09\\nOpen: 84.110001\\nHigh: 84.269997\\nLow: 82.900002\\nClose: 84.089996\\nAdj Close: 83.278603\\nVolume: 21178400'), Document(metadata={'source': './directorio/microsoft.csv', 'row': 722}, page_content='Date: 2017-11-10\\nOpen: 83.790001\\nHigh: 84.099998\\nLow: 83.230003\\nClose: 83.870003\\nAdj Close: 83.06073\\nVolume: 19397800'), Document(metadata={'source': './directorio/microsoft.csv', 'row': 723}, page_content='Date: 2017-11-13\\nOpen: 83.660004\\nHigh: 83.940002\\nLow: 83.459999\\nClose: 83.93\\nAdj Close: 83.12014\\nVolume: 14196900'), Document(metadata={'source': './directorio/microsoft.csv', 'row': 724}, page_content='Date: 2017-11-14\\nOpen: 83.5\\nHigh: 84.099998\\nLow: 82.980003\\nClose: 84.050003\\nAdj Close: 83.238991\\nVolume: 18801300'), Document(metadata={'source': './directorio/microsoft.csv', 'row': 725}, page_content='Date: 2017-11-15\\nOpen: 83.470001\\nHigh: 83.690002\\nLow: 82.690002\\nClose: 82.980003\\nAdj Close: 82.592033\\nVolume: 19383100'), Document(metadata={'source': './directorio/microsoft.csv', 'row': 726}, page_content='Date: 2017-11-16\\nOpen: 83.099998\\nHigh: 83.41999799999999\\nLow: 82.940002\\nClose: 83.199997\\nAdj Close: 82.810997\\nVolume: 20962800'), Document(metadata={'source': './directorio/microsoft.csv', 'row': 727}, page_content='Date: 2017-11-17\\nOpen: 83.120003\\nHigh: 83.120003\\nLow: 82.239998\\nClose: 82.400002\\nAdj Close: 82.01474\\nVolume: 22079000'), Document(metadata={'source': './directorio/microsoft.csv', 'row': 728}, page_content='Date: 2017-11-20\\nOpen: 82.400002\\nHigh: 82.589996\\nLow: 82.25\\nClose: 82.529999\\nAdj Close: 82.144127\\nVolume: 16315000'), Document(metadata={'source': './directorio/microsoft.csv', 'row': 729}, page_content='Date: 2017-11-21\\nOpen: 82.739998\\nHigh: 83.839996\\nLow: 82.739998\\nClose: 83.720001\\nAdj Close: 83.328568\\nVolume: 21237500'), Document(metadata={'source': './directorio/microsoft.csv', 'row': 730}, page_content='Date: 2017-11-22\\nOpen: 83.83000200000001\\nHigh: 83.900002\\nLow: 83.040001\\nClose: 83.110001\\nAdj Close: 82.72142\\nVolume: 20553100'), Document(metadata={'source': './directorio/microsoft.csv', 'row': 731}, page_content='Date: 2017-11-24\\nOpen: 83.010002\\nHigh: 83.43\\nLow: 82.779999\\nClose: 83.260002\\nAdj Close: 82.87071999999999\\nVolume: 7425600'), Document(metadata={'source': './directorio/microsoft.csv', 'row': 732}, page_content='Date: 2017-11-27\\nOpen: 83.309998\\nHigh: 83.980003\\nLow: 83.300003\\nClose: 83.870003\\nAdj Close: 83.477867\\nVolume: 18265200'), Document(metadata={'source': './directorio/microsoft.csv', 'row': 733}, page_content='Date: 2017-11-28\\nOpen: 84.07\\nHigh: 85.059998\\nLow: 84.019997\\nClose: 84.879997\\nAdj Close: 84.48313900000001\\nVolume: 21926000'), Document(metadata={'source': './directorio/microsoft.csv', 'row': 734}, page_content='Date: 2017-11-29\\nOpen: 84.709999\\nHigh: 84.91999799999999\\nLow: 83.18\\nClose: 83.339996\\nAdj Close: 82.95034\\nVolume: 27381100'), Document(metadata={'source': './directorio/microsoft.csv', 'row': 735}, page_content='Date: 2017-11-30\\nOpen: 83.510002\\nHigh: 84.519997\\nLow: 83.339996\\nClose: 84.16999799999999\\nAdj Close: 83.776459\\nVolume: 33054600'), Document(metadata={'source': './directorio/microsoft.csv', 'row': 736}, page_content='Date: 2017-12-01\\nOpen: 83.599998\\nHigh: 84.809998\\nLow: 83.220001\\nClose: 84.260002\\nAdj Close: 83.866043\\nVolume: 29532100'), Document(metadata={'source': './directorio/microsoft.csv', 'row': 737}, page_content='Date: 2017-12-04\\nOpen: 84.41999799999999\\nHigh: 84.43\\nLow: 80.699997\\nClose: 81.08000200000001\\nAdj Close: 80.700912\\nVolume: 39094900'), Document(metadata={'source': './directorio/microsoft.csv', 'row': 738}, page_content='Date: 2017-12-05\\nOpen: 81.339996\\nHigh: 82.68\\nLow: 80.980003\\nClose: 81.589996\\nAdj Close: 81.208519\\nVolume: 26152300'), Document(metadata={'source': './directorio/microsoft.csv', 'row': 739}, page_content='Date: 2017-12-06\\nOpen: 81.550003\\nHigh: 83.139999\\nLow: 81.43\\nClose: 82.779999\\nAdj Close: 82.39296\\nVolume: 26162100'), Document(metadata={'source': './directorio/microsoft.csv', 'row': 740}, page_content='Date: 2017-12-07\\nOpen: 82.540001\\nHigh: 82.800003\\nLow: 82.0\\nClose: 82.489998\\nAdj Close: 82.10431700000001\\nVolume: 23184500'), Document(metadata={'source': './directorio/microsoft.csv', 'row': 741}, page_content='Date: 2017-12-08\\nOpen: 83.629997\\nHigh: 84.58000200000001\\nLow: 83.33000200000001\\nClose: 84.160004\\nAdj Close: 83.76651\\nVolume: 24489100'), Document(metadata={'source': './directorio/microsoft.csv', 'row': 742}, page_content='Date: 2017-12-11\\nOpen: 84.290001\\nHigh: 85.370003\\nLow: 84.120003\\nClose: 85.230003\\nAdj Close: 84.831512\\nVolume: 22857900'), Document(metadata={'source': './directorio/microsoft.csv', 'row': 743}, page_content='Date: 2017-12-12\\nOpen: 85.309998\\nHigh: 86.050003\\nLow: 85.08000200000001\\nClose: 85.58000200000001\\nAdj Close: 85.17987099999999\\nVolume: 23924100'), Document(metadata={'source': './directorio/microsoft.csv', 'row': 744}, page_content='Date: 2017-12-13\\nOpen: 85.739998\\nHigh: 86.0\\nLow: 85.16999799999999\\nClose: 85.349998\\nAdj Close: 84.95094300000001\\nVolume: 22062700'), Document(metadata={'source': './directorio/microsoft.csv', 'row': 745}, page_content='Date: 2017-12-14\\nOpen: 85.43\\nHigh: 85.870003\\nLow: 84.529999\\nClose: 84.690002\\nAdj Close: 84.294037\\nVolume: 19306000'), Document(metadata={'source': './directorio/microsoft.csv', 'row': 746}, page_content='Date: 2017-12-15\\nOpen: 85.260002\\nHigh: 87.089996\\nLow: 84.879997\\nClose: 86.849998\\nAdj Close: 86.44393199999999\\nVolume: 53936700'), Document(metadata={'source': './directorio/microsoft.csv', 'row': 747}, page_content='Date: 2017-12-18\\nOpen: 87.120003\\nHigh: 87.5\\nLow: 86.230003\\nClose: 86.379997\\nAdj Close: 85.976128\\nVolume: 22283800'), Document(metadata={'source': './directorio/microsoft.csv', 'row': 748}, page_content='Date: 2017-12-19\\nOpen: 86.349998\\nHigh: 86.349998\\nLow: 85.269997\\nClose: 85.83000200000001\\nAdj Close: 85.428703\\nVolume: 23524800'), Document(metadata={'source': './directorio/microsoft.csv', 'row': 749}, page_content='Date: 2017-12-20\\nOpen: 86.199997\\nHigh: 86.300003\\nLow: 84.709999\\nClose: 85.519997\\nAdj Close: 85.120148\\nVolume: 23674900'), Document(metadata={'source': './directorio/microsoft.csv', 'row': 750}, page_content='Date: 2017-12-21\\nOpen: 86.050003\\nHigh: 86.099998\\nLow: 85.400002\\nClose: 85.5\\nAdj Close: 85.100243\\nVolume: 17990700'), Document(metadata={'source': './directorio/microsoft.csv', 'row': 751}, page_content='Date: 2017-12-22\\nOpen: 85.400002\\nHigh: 85.629997\\nLow: 84.91999799999999\\nClose: 85.510002\\nAdj Close: 85.110199\\nVolume: 14145800'), Document(metadata={'source': './directorio/microsoft.csv', 'row': 752}, page_content='Date: 2017-12-26\\nOpen: 85.309998\\nHigh: 85.529999\\nLow: 85.029999\\nClose: 85.400002\\nAdj Close: 85.00071\\nVolume: 9891200'), Document(metadata={'source': './directorio/microsoft.csv', 'row': 753}, page_content='Date: 2017-12-27\\nOpen: 85.650002\\nHigh: 85.980003\\nLow: 85.220001\\nClose: 85.709999\\nAdj Close: 85.309265\\nVolume: 14678000'), Document(metadata={'source': './directorio/microsoft.csv', 'row': 754}, page_content='Date: 2017-12-28\\nOpen: 85.900002\\nHigh: 85.93\\nLow: 85.550003\\nClose: 85.720001\\nAdj Close: 85.319214\\nVolume: 10594300'), Document(metadata={'source': './directorio/microsoft.csv', 'row': 755}, page_content='Date: 2017-12-29\\nOpen: 85.629997\\nHigh: 86.050003\\nLow: 85.5\\nClose: 85.540001\\nAdj Close: 85.14005999999999\\nVolume: 18717400'), Document(metadata={'source': './directorio/microsoft.csv', 'row': 756}, page_content='Date: 2018-01-02\\nOpen: 86.129997\\nHigh: 86.309998\\nLow: 85.5\\nClose: 85.949997\\nAdj Close: 85.54813399999999\\nVolume: 22483800'), Document(metadata={'source': './directorio/microsoft.csv', 'row': 757}, page_content='Date: 2018-01-03\\nOpen: 86.059998\\nHigh: 86.510002\\nLow: 85.970001\\nClose: 86.349998\\nAdj Close: 85.94626600000001\\nVolume: 26061400'), Document(metadata={'source': './directorio/microsoft.csv', 'row': 758}, page_content='Date: 2018-01-04\\nOpen: 86.589996\\nHigh: 87.660004\\nLow: 86.57\\nClose: 87.110001\\nAdj Close: 86.702721\\nVolume: 21912000'), Document(metadata={'source': './directorio/microsoft.csv', 'row': 759}, page_content='Date: 2018-01-05\\nOpen: 87.660004\\nHigh: 88.410004\\nLow: 87.43\\nClose: 88.190002\\nAdj Close: 87.777672\\nVolume: 23407100'), Document(metadata={'source': './directorio/microsoft.csv', 'row': 760}, page_content='Date: 2018-01-08\\nOpen: 88.199997\\nHigh: 88.58000200000001\\nLow: 87.599998\\nClose: 88.279999\\nAdj Close: 87.867249\\nVolume: 22113000'), Document(metadata={'source': './directorio/microsoft.csv', 'row': 761}, page_content='Date: 2018-01-09\\nOpen: 88.650002\\nHigh: 88.730003\\nLow: 87.860001\\nClose: 88.220001\\nAdj Close: 87.807526\\nVolume: 19484300'), Document(metadata={'source': './directorio/microsoft.csv', 'row': 762}, page_content='Date: 2018-01-10\\nOpen: 87.860001\\nHigh: 88.190002\\nLow: 87.410004\\nClose: 87.82\\nAdj Close: 87.40939300000001\\nVolume: 18652200'), Document(metadata={'source': './directorio/microsoft.csv', 'row': 763}, page_content='Date: 2018-01-11\\nOpen: 88.129997\\nHigh: 88.129997\\nLow: 87.239998\\nClose: 88.08000200000001\\nAdj Close: 87.668182\\nVolume: 17808900'), Document(metadata={'source': './directorio/microsoft.csv', 'row': 764}, page_content='Date: 2018-01-12\\nOpen: 88.66999799999999\\nHigh: 89.779999\\nLow: 88.449997\\nClose: 89.599998\\nAdj Close: 89.181076\\nVolume: 24271500'), Document(metadata={'source': './directorio/microsoft.csv', 'row': 765}, page_content='Date: 2018-01-16\\nOpen: 90.099998\\nHigh: 90.790001\\nLow: 88.010002\\nClose: 88.349998\\nAdj Close: 87.93692\\nVolume: 36599700'), Document(metadata={'source': './directorio/microsoft.csv', 'row': 766}, page_content='Date: 2018-01-17\\nOpen: 89.08000200000001\\nHigh: 90.279999\\nLow: 88.75\\nClose: 90.139999\\nAdj Close: 89.718552\\nVolume: 25621200'), Document(metadata={'source': './directorio/microsoft.csv', 'row': 767}, page_content='Date: 2018-01-18\\nOpen: 89.800003\\nHigh: 90.66999799999999\\nLow: 89.660004\\nClose: 90.099998\\nAdj Close: 89.67873399999999\\nVolume: 24159700'), Document(metadata={'source': './directorio/microsoft.csv', 'row': 768}, page_content='Date: 2018-01-19\\nOpen: 90.139999\\nHigh: 90.610001\\nLow: 89.660004\\nClose: 90.0\\nAdj Close: 89.579201\\nVolume: 36875000'), Document(metadata={'source': './directorio/microsoft.csv', 'row': 769}, page_content='Date: 2018-01-22\\nOpen: 90.0\\nHigh: 91.620003\\nLow: 89.739998\\nClose: 91.610001\\nAdj Close: 91.181679\\nVolume: 23601600'), Document(metadata={'source': './directorio/microsoft.csv', 'row': 770}, page_content='Date: 2018-01-23\\nOpen: 91.900002\\nHigh: 92.300003\\nLow: 91.540001\\nClose: 91.900002\\nAdj Close: 91.470322\\nVolume: 23412800'), Document(metadata={'source': './directorio/microsoft.csv', 'row': 771}, page_content='Date: 2018-01-24\\nOpen: 92.550003\\nHigh: 93.43\\nLow: 91.58000200000001\\nClose: 91.82\\nAdj Close: 91.390694\\nVolume: 33277500'), Document(metadata={'source': './directorio/microsoft.csv', 'row': 772}, page_content='Date: 2018-01-25\\nOpen: 92.470001\\nHigh: 93.239998\\nLow: 91.93\\nClose: 92.33000200000001\\nAdj Close: 91.898315\\nVolume: 26383200'), Document(metadata={'source': './directorio/microsoft.csv', 'row': 773}, page_content='Date: 2018-01-26\\nOpen: 93.120003\\nHigh: 94.059998\\nLow: 92.58000200000001\\nClose: 94.059998\\nAdj Close: 93.620216\\nVolume: 29172200'), Document(metadata={'source': './directorio/microsoft.csv', 'row': 774}, page_content='Date: 2018-01-29\\nOpen: 95.139999\\nHigh: 95.449997\\nLow: 93.720001\\nClose: 93.91999799999999\\nAdj Close: 93.480873\\nVolume: 31569900'), Document(metadata={'source': './directorio/microsoft.csv', 'row': 775}, page_content='Date: 2018-01-30\\nOpen: 93.300003\\nHigh: 93.660004\\nLow: 92.099998\\nClose: 92.739998\\nAdj Close: 92.306389\\nVolume: 38635100'), Document(metadata={'source': './directorio/microsoft.csv', 'row': 776}, page_content='Date: 2018-01-31\\nOpen: 93.75\\nHigh: 95.400002\\nLow: 93.510002\\nClose: 95.010002\\nAdj Close: 94.565781\\nVolume: 48756300'), Document(metadata={'source': './directorio/microsoft.csv', 'row': 777}, page_content='Date: 2018-02-01\\nOpen: 94.790001\\nHigh: 96.07\\nLow: 93.58000200000001\\nClose: 94.260002\\nAdj Close: 93.81929000000001\\nVolume: 47227900'), Document(metadata={'source': './directorio/microsoft.csv', 'row': 778}, page_content='Date: 2018-02-02\\nOpen: 93.639999\\nHigh: 93.970001\\nLow: 91.5\\nClose: 91.779999\\nAdj Close: 91.350883\\nVolume: 47867800'), Document(metadata={'source': './directorio/microsoft.csv', 'row': 779}, page_content='Date: 2018-02-05\\nOpen: 90.559998\\nHigh: 93.239998\\nLow: 88.0\\nClose: 88.0\\nAdj Close: 87.588554\\nVolume: 51031500')]\n",
      "*************************************\n",
      "Numero de Documents -\n",
      " 780\n",
      "*************************************\n"
     ]
    }
   ],
   "source": [
    "# Datos bursatiles sobre Microsoft\n",
    "loader = CSVLoader(file_path=\"./directorio/microsoft.csv\")\n",
    "data = loader.load()\n",
    "print(\"Documento completo -\\n\", data)    # Imprimir documento completo\n",
    "print(\"*************************************\")\n",
    "print(\"Numero de Documents -\\n\", len(data))\n",
    "print(\"*************************************\")\n"
   ]
  },
  {
   "cell_type": "code",
   "execution_count": 7,
   "metadata": {
    "collapsed": true,
    "jupyter": {
     "outputs_hidden": true
    }
   },
   "outputs": [
    {
     "name": "stdout",
     "output_type": "stream",
     "text": [
      "Imprimir una fila -\n",
      " page_content='Date: 2015-01-15\n",
      "Open: 46.220001\n",
      "High: 46.380001\n",
      "Low: 45.41\n",
      "Close: 45.48\n",
      "Adj Close: 41.953959999999995\n",
      "Volume: 32750800' metadata={'source': './directorio/microsoft.csv', 'row': 10}\n",
      "*************************************\n",
      "Imprimir el texto de una fila -\n",
      " Date: 2014-12-31\n",
      "Open: 46.73\n",
      "High: 47.439999\n",
      "Low: 46.450001\n",
      "Close: 46.450001\n",
      "Adj Close: 42.848763\n",
      "Volume: 21552500\n",
      "*************************************\n",
      "Imprimir los metadatos -\n",
      " {'source': './directorio/microsoft.csv', 'row': 2}\n"
     ]
    }
   ],
   "source": [
    "# Imprimir una fila. Se demuestra que cada fila ocupa una pagina.\n",
    "print(\"Imprimir una fila -\\n\", data[10]) \n",
    "print(\"*************************************\")\n",
    "print(\"Imprimir el texto de una fila -\\n\", data[0].page_content[0:500])\n",
    "print(\"*************************************\")\n",
    "print(\"Imprimir los metadatos -\\n\", data[2].metadata)"
   ]
  },
  {
   "cell_type": "code",
   "execution_count": null,
   "metadata": {
    "collapsed": true,
    "jupyter": {
     "outputs_hidden": true
    }
   },
   "outputs": [],
   "source": []
  },
  {
   "cell_type": "code",
   "execution_count": null,
   "metadata": {
    "collapsed": true,
    "jupyter": {
     "outputs_hidden": true
    }
   },
   "outputs": [],
   "source": []
  },
  {
   "cell_type": "markdown",
   "metadata": {},
   "source": [
    "##### Imprimir todas las filas"
   ]
  },
  {
   "cell_type": "code",
   "execution_count": 8,
   "metadata": {
    "collapsed": true,
    "jupyter": {
     "outputs_hidden": true
    }
   },
   "outputs": [
    {
     "data": {
      "text/plain": [
       "['Date: 2014-12-31\\nOpen: 46.73\\nHigh: 47.439999\\nLow: 46.450001\\nClose: 46.450001\\nAdj Close: 42.848763\\nVolume: 21552500',\n",
       " 'Date: 2015-01-02\\nOpen: 46.66\\nHigh: 47.419998\\nLow: 46.540001000000004\\nClose: 46.759997999999996\\nAdj Close: 43.134731\\nVolume: 27913900',\n",
       " 'Date: 2015-01-05\\nOpen: 46.369999\\nHigh: 46.73\\nLow: 46.25\\nClose: 46.330002\\nAdj Close: 42.738068\\nVolume: 39673900',\n",
       " 'Date: 2015-01-06\\nOpen: 46.380001\\nHigh: 46.75\\nLow: 45.540001000000004\\nClose: 45.650002\\nAdj Close: 42.110783000000005\\nVolume: 36447900',\n",
       " 'Date: 2015-01-07\\nOpen: 45.98\\nHigh: 46.459998999999996\\nLow: 45.490002000000004\\nClose: 46.23\\nAdj Close: 42.645817\\nVolume: 29114100',\n",
       " 'Date: 2015-01-08\\nOpen: 46.75\\nHigh: 47.75\\nLow: 46.720001\\nClose: 47.59\\nAdj Close: 43.900375\\nVolume: 29645200',\n",
       " 'Date: 2015-01-09\\nOpen: 47.610001000000004\\nHigh: 47.82\\nLow: 46.900002\\nClose: 47.189999\\nAdj Close: 43.531395\\nVolume: 23942800',\n",
       " 'Date: 2015-01-12\\nOpen: 47.419998\\nHigh: 47.540001000000004\\nLow: 46.360001000000004\\nClose: 46.599998\\nAdj Close: 42.987128999999996\\nVolume: 23651900',\n",
       " 'Date: 2015-01-13\\nOpen: 46.970001\\nHigh: 47.91\\nLow: 46.060001\\nClose: 46.360001000000004\\nAdj Close: 42.765747\\nVolume: 35270600',\n",
       " 'Date: 2015-01-14\\nOpen: 45.959998999999996\\nHigh: 46.240002000000004\\nLow: 45.619999\\nClose: 45.959998999999996\\nAdj Close: 42.396751\\nVolume: 29719600',\n",
       " 'Date: 2015-01-15\\nOpen: 46.220001\\nHigh: 46.380001\\nLow: 45.41\\nClose: 45.48\\nAdj Close: 41.953959999999995\\nVolume: 32750800',\n",
       " 'Date: 2015-01-16\\nOpen: 45.310001\\nHigh: 46.279999\\nLow: 45.169998\\nClose: 46.240002000000004\\nAdj Close: 42.655041\\nVolume: 35695300',\n",
       " 'Date: 2015-01-20\\nOpen: 46.299999\\nHigh: 46.650002\\nLow: 45.57\\nClose: 46.389998999999996\\nAdj Close: 42.793415\\nVolume: 36041400',\n",
       " 'Date: 2015-01-21\\nOpen: 45.939999\\nHigh: 46.139998999999996\\nLow: 45.48\\nClose: 45.919998\\nAdj Close: 42.359848\\nVolume: 39081100',\n",
       " 'Date: 2015-01-22\\nOpen: 46.380001\\nHigh: 47.139998999999996\\nLow: 46.080002\\nClose: 47.130001\\nAdj Close: 43.476044\\nVolume: 35898000',\n",
       " 'Date: 2015-01-23\\nOpen: 47.360001000000004\\nHigh: 47.389998999999996\\nLow: 46.799999\\nClose: 47.18\\nAdj Close: 43.522166999999996\\nVolume: 26047800',\n",
       " 'Date: 2015-01-26\\nOpen: 47.0\\nHigh: 47.130001\\nLow: 46.240002000000004\\nClose: 47.009997999999996\\nAdj Close: 43.365345\\nVolume: 42525500',\n",
       " 'Date: 2015-01-27\\nOpen: 42.950001\\nHigh: 43.200001\\nLow: 42.110001000000004\\nClose: 42.66\\nAdj Close: 39.352604\\nVolume: 169164000',\n",
       " 'Date: 2015-01-28\\nOpen: 42.740002000000004\\nHigh: 42.790001000000004\\nLow: 41.16\\nClose: 41.189999\\nAdj Close: 37.996563\\nVolume: 84507100',\n",
       " 'Date: 2015-01-29\\nOpen: 40.93\\nHigh: 42.119999\\nLow: 40.790001000000004\\nClose: 42.009997999999996\\nAdj Close: 38.752987\\nVolume: 63585300',\n",
       " 'Date: 2015-01-30\\nOpen: 41.549999\\nHigh: 41.580002\\nLow: 40.349998\\nClose: 40.400002\\nAdj Close: 37.267815\\nVolume: 78004900',\n",
       " 'Date: 2015-02-02\\nOpen: 40.59\\nHigh: 41.369999\\nLow: 40.23\\nClose: 41.279999\\nAdj Close: 38.079586\\nVolume: 50352500',\n",
       " 'Date: 2015-02-03\\nOpen: 41.630001\\nHigh: 41.93\\nLow: 41.049999\\nClose: 41.599998\\nAdj Close: 38.374779\\nVolume: 51890200',\n",
       " 'Date: 2015-02-04\\nOpen: 41.939999\\nHigh: 42.209998999999996\\nLow: 41.360001000000004\\nClose: 41.84\\nAdj Close: 38.596184\\nVolume: 41614800',\n",
       " 'Date: 2015-02-05\\nOpen: 42.220001\\nHigh: 42.639998999999996\\nLow: 41.860001000000004\\nClose: 42.450001\\nAdj Close: 39.158878\\nVolume: 36548200',\n",
       " 'Date: 2015-02-06\\nOpen: 42.68\\nHigh: 42.790001000000004\\nLow: 42.150002\\nClose: 42.41\\nAdj Close: 39.121983\\nVolume: 34311700',\n",
       " 'Date: 2015-02-09\\nOpen: 42.240002000000004\\nHigh: 42.740002000000004\\nLow: 42.209998999999996\\nClose: 42.360001000000004\\nAdj Close: 39.075859\\nVolume: 31381100',\n",
       " 'Date: 2015-02-10\\nOpen: 42.740002000000004\\nHigh: 42.77\\nLow: 42.18\\nClose: 42.599998\\nAdj Close: 39.297249\\nVolume: 29670700',\n",
       " 'Date: 2015-02-11\\nOpen: 42.650002\\nHigh: 42.650002\\nLow: 42.209998999999996\\nClose: 42.380001\\nAdj Close: 39.094307\\nVolume: 38262500',\n",
       " 'Date: 2015-02-12\\nOpen: 42.66\\nHigh: 43.09\\nLow: 42.509997999999996\\nClose: 43.09\\nAdj Close: 39.749268\\nVolume: 33268800',\n",
       " 'Date: 2015-02-13\\nOpen: 43.380001\\nHigh: 43.869999\\nLow: 43.150002\\nClose: 43.869999\\nAdj Close: 40.468792\\nVolume: 40264900',\n",
       " 'Date: 2015-02-17\\nOpen: 43.970001\\nHigh: 44.0\\nLow: 43.189999\\nClose: 43.580002\\nAdj Close: 40.487365999999994\\nVolume: 33695700',\n",
       " 'Date: 2015-02-18\\nOpen: 43.630001\\nHigh: 43.700001\\nLow: 43.389998999999996\\nClose: 43.529999\\nAdj Close: 40.440917999999996\\nVolume: 27074900',\n",
       " 'Date: 2015-02-19\\nOpen: 43.18\\nHigh: 43.529999\\nLow: 43.049999\\nClose: 43.5\\nAdj Close: 40.413047999999996\\nVolume: 27603400',\n",
       " 'Date: 2015-02-20\\nOpen: 43.509997999999996\\nHigh: 43.880001\\nLow: 43.290001000000004\\nClose: 43.860001000000004\\nAdj Close: 40.747498\\nVolume: 29721100',\n",
       " 'Date: 2015-02-23\\nOpen: 43.700001\\nHigh: 44.189999\\nLow: 43.650002\\nClose: 44.150002\\nAdj Close: 41.016921999999994\\nVolume: 32518800',\n",
       " 'Date: 2015-02-24\\nOpen: 44.150002\\nHigh: 44.299999\\nLow: 43.919998\\nClose: 44.09\\nAdj Close: 40.961182\\nVolume: 25253000',\n",
       " 'Date: 2015-02-25\\nOpen: 43.950001\\nHigh: 44.09\\nLow: 43.799999\\nClose: 43.990002000000004\\nAdj Close: 40.868279\\nVolume: 29759800',\n",
       " 'Date: 2015-02-26\\nOpen: 43.990002000000004\\nHigh: 44.23\\nLow: 43.889998999999996\\nClose: 44.060001\\nAdj Close: 40.933308000000004\\nVolume: 28957300',\n",
       " 'Date: 2015-02-27\\nOpen: 44.130001\\nHigh: 44.200001\\nLow: 43.66\\nClose: 43.849998\\nAdj Close: 40.738205\\nVolume: 33807700',\n",
       " 'Date: 2015-03-02\\nOpen: 43.669998\\nHigh: 44.189999\\nLow: 43.549999\\nClose: 43.880001\\nAdj Close: 40.766083\\nVolume: 31924000',\n",
       " 'Date: 2015-03-03\\nOpen: 43.560001\\nHigh: 43.830002\\nLow: 43.09\\nClose: 43.279999\\nAdj Close: 40.208659999999995\\nVolume: 31748600',\n",
       " 'Date: 2015-03-04\\nOpen: 43.009997999999996\\nHigh: 43.209998999999996\\nLow: 42.880001\\nClose: 43.060001\\nAdj Close: 40.004272\\nVolume: 25705800',\n",
       " 'Date: 2015-03-05\\nOpen: 43.07\\nHigh: 43.240002000000004\\nLow: 42.82\\nClose: 43.110001000000004\\nAdj Close: 40.050724\\nVolume: 23193500',\n",
       " 'Date: 2015-03-06\\nOpen: 43.0\\nHigh: 43.110001000000004\\nLow: 42.150002\\nClose: 42.360001000000004\\nAdj Close: 39.353951\\nVolume: 36248800',\n",
       " 'Date: 2015-03-09\\nOpen: 42.189999\\nHigh: 43.130001\\nLow: 42.189999\\nClose: 42.849998\\nAdj Close: 39.809166\\nVolume: 32108000',\n",
       " 'Date: 2015-03-10\\nOpen: 42.349998\\nHigh: 42.709998999999996\\nLow: 42.029999\\nClose: 42.029999\\nAdj Close: 39.047363\\nVolume: 38506100',\n",
       " 'Date: 2015-03-11\\nOpen: 42.310001\\nHigh: 42.369999\\nLow: 41.84\\nClose: 41.98\\nAdj Close: 39.000904\\nVolume: 32215300',\n",
       " 'Date: 2015-03-12\\nOpen: 41.330002\\nHigh: 41.650002\\nLow: 40.860001000000004\\nClose: 41.02\\nAdj Close: 38.109039\\nVolume: 59992500',\n",
       " 'Date: 2015-03-13\\nOpen: 40.700001\\nHigh: 41.470001\\nLow: 40.610001000000004\\nClose: 41.380001\\nAdj Close: 38.443489\\nVolume: 58007700',\n",
       " 'Date: 2015-03-16\\nOpen: 41.470001\\nHigh: 41.639998999999996\\nLow: 41.279999\\nClose: 41.560001\\nAdj Close: 38.610714\\nVolume: 35273500',\n",
       " 'Date: 2015-03-17\\nOpen: 41.369999\\nHigh: 41.830002\\nLow: 41.150002\\nClose: 41.700001\\nAdj Close: 38.740784000000005\\nVolume: 31587200',\n",
       " 'Date: 2015-03-18\\nOpen: 41.43\\nHigh: 42.830002\\nLow: 41.330002\\nClose: 42.5\\nAdj Close: 39.484009\\nVolume: 43971800',\n",
       " 'Date: 2015-03-19\\nOpen: 42.259997999999996\\nHigh: 42.59\\nLow: 42.220001\\nClose: 42.290001000000004\\nAdj Close: 39.288918\\nVolume: 33879100',\n",
       " 'Date: 2015-03-20\\nOpen: 42.560001\\nHigh: 42.98\\nLow: 42.490002000000004\\nClose: 42.880001\\nAdj Close: 39.837051\\nVolume: 71904500',\n",
       " 'Date: 2015-03-23\\nOpen: 42.880001\\nHigh: 43.130001\\nLow: 42.779999\\nClose: 42.860001000000004\\nAdj Close: 39.818462\\nVolume: 26049000',\n",
       " 'Date: 2015-03-24\\nOpen: 42.779999\\nHigh: 43.169998\\nLow: 42.75\\nClose: 42.900002\\nAdj Close: 39.855629\\nVolume: 25513300',\n",
       " 'Date: 2015-03-25\\nOpen: 42.919998\\nHigh: 42.93\\nLow: 41.439999\\nClose: 41.459998999999996\\nAdj Close: 38.517811\\nVolume: 43469900',\n",
       " 'Date: 2015-03-26\\nOpen: 41.220001\\nHigh: 41.610001000000004\\nLow: 40.919998\\nClose: 41.209998999999996\\nAdj Close: 38.285557\\nVolume: 37495600',\n",
       " 'Date: 2015-03-27\\nOpen: 41.119999\\nHigh: 41.43\\nLow: 40.830002\\nClose: 40.970001\\nAdj Close: 38.062588\\nVolume: 33820300',\n",
       " 'Date: 2015-03-30\\nOpen: 41.099998\\nHigh: 41.540001000000004\\nLow: 40.91\\nClose: 40.959998999999996\\nAdj Close: 38.053295\\nVolume: 35049700',\n",
       " 'Date: 2015-03-31\\nOpen: 40.779999\\nHigh: 41.029999\\nLow: 40.540001000000004\\nClose: 40.66\\nAdj Close: 37.774592999999996\\nVolume: 34887200',\n",
       " 'Date: 2015-04-01\\nOpen: 40.599998\\nHigh: 40.759997999999996\\nLow: 40.310001\\nClose: 40.720001\\nAdj Close: 37.83033\\nVolume: 36752000',\n",
       " 'Date: 2015-04-02\\nOpen: 40.66\\nHigh: 40.740002000000004\\nLow: 40.119999\\nClose: 40.290001000000004\\nAdj Close: 37.43084\\nVolume: 37487500',\n",
       " 'Date: 2015-04-06\\nOpen: 40.34\\nHigh: 41.779999\\nLow: 40.18\\nClose: 41.549999\\nAdj Close: 38.601428999999996\\nVolume: 39223700',\n",
       " 'Date: 2015-04-07\\nOpen: 41.610001000000004\\nHigh: 41.91\\nLow: 41.310001\\nClose: 41.529999\\nAdj Close: 38.582848\\nVolume: 28809400',\n",
       " 'Date: 2015-04-08\\nOpen: 41.459998999999996\\nHigh: 41.689999\\nLow: 41.040001000000004\\nClose: 41.419998\\nAdj Close: 38.480652\\nVolume: 24753400',\n",
       " 'Date: 2015-04-09\\nOpen: 41.25\\nHigh: 41.619999\\nLow: 41.25\\nClose: 41.48\\nAdj Close: 38.536404\\nVolume: 25723900',\n",
       " 'Date: 2015-04-10\\nOpen: 41.630001\\nHigh: 41.950001\\nLow: 41.41\\nClose: 41.720001\\nAdj Close: 38.759365\\nVolume: 28022000',\n",
       " 'Date: 2015-04-13\\nOpen: 41.400002\\nHigh: 42.060001\\nLow: 41.389998999999996\\nClose: 41.759997999999996\\nAdj Close: 38.796524\\nVolume: 30276700',\n",
       " 'Date: 2015-04-14\\nOpen: 41.799999\\nHigh: 42.029999\\nLow: 41.389998999999996\\nClose: 41.650002\\nAdj Close: 38.694324\\nVolume: 24078000',\n",
       " 'Date: 2015-04-15\\nOpen: 41.759997999999996\\nHigh: 42.459998999999996\\nLow: 41.68\\nClose: 42.259997999999996\\nAdj Close: 39.261036\\nVolume: 27343600',\n",
       " 'Date: 2015-04-16\\nOpen: 41.950001\\nHigh: 42.34\\nLow: 41.82\\nClose: 42.16\\nAdj Close: 39.16814\\nVolume: 22509700',\n",
       " 'Date: 2015-04-17\\nOpen: 41.669998\\nHigh: 41.740002000000004\\nLow: 41.16\\nClose: 41.619999\\nAdj Close: 38.666462\\nVolume: 42387600',\n",
       " 'Date: 2015-04-20\\nOpen: 41.73\\nHigh: 43.169998\\nLow: 41.68\\nClose: 42.91\\nAdj Close: 39.864917999999996\\nVolume: 45738800',\n",
       " 'Date: 2015-04-21\\nOpen: 43.0\\nHigh: 43.150002\\nLow: 42.529999\\nClose: 42.639998999999996\\nAdj Close: 39.614071\\nVolume: 26013800',\n",
       " 'Date: 2015-04-22\\nOpen: 42.669998\\nHigh: 43.130001\\nLow: 42.549999\\nClose: 42.990002000000004\\nAdj Close: 39.939236\\nVolume: 25064300',\n",
       " 'Date: 2015-04-23\\nOpen: 42.889998999999996\\nHigh: 43.610001000000004\\nLow: 42.799999\\nClose: 43.34\\nAdj Close: 40.2644\\nVolume: 46309500',\n",
       " 'Date: 2015-04-24\\nOpen: 45.66\\nHigh: 48.139998999999996\\nLow: 45.650002\\nClose: 47.869999\\nAdj Close: 44.472935\\nVolume: 130933700',\n",
       " 'Date: 2015-04-27\\nOpen: 47.23\\nHigh: 48.130001\\nLow: 47.220001\\nClose: 48.029999\\nAdj Close: 44.621574\\nVolume: 59248200',\n",
       " 'Date: 2015-04-28\\nOpen: 47.779999\\nHigh: 49.209998999999996\\nLow: 47.700001\\nClose: 49.16\\nAdj Close: 45.671391\\nVolume: 60730800',\n",
       " 'Date: 2015-04-29\\nOpen: 48.720001\\nHigh: 49.310001\\nLow: 48.5\\nClose: 49.060001\\nAdj Close: 45.578487\\nVolume: 47804600',\n",
       " 'Date: 2015-04-30\\nOpen: 48.700001\\nHigh: 49.540001000000004\\nLow: 48.599998\\nClose: 48.639998999999996\\nAdj Close: 45.188286\\nVolume: 64725500',\n",
       " 'Date: 2015-05-01\\nOpen: 48.580002\\nHigh: 48.880001\\nLow: 48.400002\\nClose: 48.66\\nAdj Close: 45.206875\\nVolume: 38937300',\n",
       " 'Date: 2015-05-04\\nOpen: 48.369999\\nHigh: 48.869999\\nLow: 48.18\\nClose: 48.240002000000004\\nAdj Close: 44.816669\\nVolume: 34039500',\n",
       " 'Date: 2015-05-05\\nOpen: 47.82\\nHigh: 48.16\\nLow: 47.310001\\nClose: 47.599998\\nAdj Close: 44.222088\\nVolume: 50369200',\n",
       " 'Date: 2015-05-06\\nOpen: 47.57\\nHigh: 47.77\\nLow: 46.02\\nClose: 46.279999\\nAdj Close: 42.995765999999996\\nVolume: 52433000',\n",
       " 'Date: 2015-05-07\\nOpen: 46.27\\nHigh: 47.09\\nLow: 46.16\\nClose: 46.700001\\nAdj Close: 43.385963000000004\\nVolume: 32971700',\n",
       " 'Date: 2015-05-08\\nOpen: 47.549999\\nHigh: 47.98\\nLow: 47.52\\nClose: 47.75\\nAdj Close: 44.361446\\nVolume: 35364900',\n",
       " 'Date: 2015-05-11\\nOpen: 47.549999\\nHigh: 47.91\\nLow: 47.369999\\nClose: 47.369999\\nAdj Close: 44.008410999999995\\nVolume: 24609400',\n",
       " 'Date: 2015-05-12\\nOpen: 46.849998\\nHigh: 47.68\\nLow: 46.419998\\nClose: 47.349998\\nAdj Close: 43.989826\\nVolume: 29928300',\n",
       " 'Date: 2015-05-13\\nOpen: 48.189999\\nHigh: 48.32\\nLow: 47.57\\nClose: 47.630001\\nAdj Close: 44.249966\\nVolume: 34184600',\n",
       " 'Date: 2015-05-14\\nOpen: 48.029999\\nHigh: 48.82\\nLow: 48.029999\\nClose: 48.720001\\nAdj Close: 45.262611\\nVolume: 32980900',\n",
       " 'Date: 2015-05-15\\nOpen: 48.869999\\nHigh: 48.91\\nLow: 48.049999\\nClose: 48.299999\\nAdj Close: 44.872414\\nVolume: 28642700',\n",
       " 'Date: 2015-05-18\\nOpen: 47.98\\nHigh: 48.220001\\nLow: 47.610001000000004\\nClose: 48.009997999999996\\nAdj Close: 44.602993\\nVolume: 23631000',\n",
       " 'Date: 2015-05-19\\nOpen: 47.560001\\nHigh: 47.810001\\nLow: 47.18\\nClose: 47.580002\\nAdj Close: 44.490788\\nVolume: 28574800',\n",
       " 'Date: 2015-05-20\\nOpen: 47.389998999999996\\nHigh: 47.93\\nLow: 47.27\\nClose: 47.580002\\nAdj Close: 44.490788\\nVolume: 25047900',\n",
       " 'Date: 2015-05-21\\nOpen: 47.279999\\nHigh: 47.599998\\nLow: 47.009997999999996\\nClose: 47.419998\\nAdj Close: 44.341179\\nVolume: 22410700',\n",
       " 'Date: 2015-05-22\\nOpen: 47.299999\\nHigh: 47.349998\\nLow: 46.82\\nClose: 46.900002\\nAdj Close: 43.854939\\nVolume: 25720600',\n",
       " 'Date: 2015-05-26\\nOpen: 46.830002\\nHigh: 46.880001\\nLow: 46.189999\\nClose: 46.59\\nAdj Close: 43.565056\\nVolume: 29581900',\n",
       " 'Date: 2015-05-27\\nOpen: 46.82\\nHigh: 47.77\\nLow: 46.619999\\nClose: 47.610001000000004\\nAdj Close: 44.518840999999995\\nVolume: 27335600',\n",
       " 'Date: 2015-05-28\\nOpen: 47.5\\nHigh: 48.02\\nLow: 47.389998999999996\\nClose: 47.450001\\nAdj Close: 44.369232000000004\\nVolume: 19283700',\n",
       " 'Date: 2015-05-29\\nOpen: 47.43\\nHigh: 47.57\\nLow: 46.59\\nClose: 46.860001000000004\\nAdj Close: 43.817532\\nVolume: 35428100',\n",
       " 'Date: 2015-06-01\\nOpen: 47.060001\\nHigh: 47.77\\nLow: 46.619999\\nClose: 47.23\\nAdj Close: 44.163509000000005\\nVolume: 28837300',\n",
       " 'Date: 2015-06-02\\nOpen: 46.93\\nHigh: 47.349998\\nLow: 46.619999\\nClose: 46.919998\\nAdj Close: 43.873638\\nVolume: 21283400',\n",
       " 'Date: 2015-06-03\\nOpen: 47.369999\\nHigh: 47.740002000000004\\nLow: 46.82\\nClose: 46.849998\\nAdj Close: 43.808182\\nVolume: 28002200',\n",
       " 'Date: 2015-06-04\\nOpen: 46.790001000000004\\nHigh: 47.16\\nLow: 46.200001\\nClose: 46.360001000000004\\nAdj Close: 43.349995\\nVolume: 27745500',\n",
       " 'Date: 2015-06-05\\nOpen: 46.310001\\nHigh: 46.52\\nLow: 45.84\\nClose: 46.139998999999996\\nAdj Close: 43.144287\\nVolume: 25438100',\n",
       " 'Date: 2015-06-08\\nOpen: 46.299999\\nHigh: 46.43\\nLow: 45.669998\\nClose: 45.73\\nAdj Close: 42.760902\\nVolume: 21822300',\n",
       " 'Date: 2015-06-09\\nOpen: 45.759997999999996\\nHigh: 45.939999\\nLow: 45.459998999999996\\nClose: 45.650002\\nAdj Close: 42.6861\\nVolume: 24406100',\n",
       " 'Date: 2015-06-10\\nOpen: 45.790001000000004\\nHigh: 46.830002\\nLow: 45.689999\\nClose: 46.610001000000004\\nAdj Close: 43.583767\\nVolume: 28417400',\n",
       " 'Date: 2015-06-11\\nOpen: 46.66\\nHigh: 46.919998\\nLow: 46.130001\\nClose: 46.439999\\nAdj Close: 43.424801\\nVolume: 27347800',\n",
       " 'Date: 2015-06-12\\nOpen: 46.220001\\nHigh: 46.470001\\nLow: 45.900002\\nClose: 45.970001\\nAdj Close: 42.985321\\nVolume: 23931000',\n",
       " 'Date: 2015-06-15\\nOpen: 45.450001\\nHigh: 45.650002\\nLow: 45.02\\nClose: 45.48\\nAdj Close: 42.527134000000004\\nVolume: 33254500',\n",
       " 'Date: 2015-06-16\\nOpen: 45.349998\\nHigh: 46.240002000000004\\nLow: 45.299999\\nClose: 45.830002\\nAdj Close: 42.854403999999995\\nVolume: 27070300',\n",
       " 'Date: 2015-06-17\\nOpen: 45.73\\nHigh: 46.07\\nLow: 45.360001000000004\\nClose: 45.970001\\nAdj Close: 42.985321\\nVolume: 28704100',\n",
       " 'Date: 2015-06-18\\nOpen: 46.220001\\nHigh: 46.799999\\nLow: 46.169998\\nClose: 46.720001\\nAdj Close: 43.68663\\nVolume: 32658300',\n",
       " 'Date: 2015-06-19\\nOpen: 46.790001000000004\\nHigh: 46.830002\\nLow: 45.990002000000004\\nClose: 46.099998\\nAdj Close: 43.10688\\nVolume: 63837000',\n",
       " 'Date: 2015-06-22\\nOpen: 46.330002\\nHigh: 46.720001\\nLow: 46.16\\nClose: 46.23\\nAdj Close: 43.228439\\nVolume: 20318100',\n",
       " 'Date: 2015-06-23\\nOpen: 46.130001\\nHigh: 46.279999\\nLow: 45.619999\\nClose: 45.91\\nAdj Close: 42.929214\\nVolume: 25896500',\n",
       " 'Date: 2015-06-24\\nOpen: 45.669998\\nHigh: 46.25\\nLow: 45.549999\\nClose: 45.639998999999996\\nAdj Close: 42.676743\\nVolume: 34890900',\n",
       " 'Date: 2015-06-25\\nOpen: 46.029999\\nHigh: 46.060001\\nLow: 45.5\\nClose: 45.650002\\nAdj Close: 42.6861\\nVolume: 20616000',\n",
       " 'Date: 2015-06-26\\nOpen: 45.650002\\nHigh: 46.279999\\nLow: 45.029999\\nClose: 45.259997999999996\\nAdj Close: 42.321407\\nVolume: 49835300',\n",
       " 'Date: 2015-06-29\\nOpen: 45.040001000000004\\nHigh: 45.23\\nLow: 44.360001000000004\\nClose: 44.369999\\nAdj Close: 41.489201\\nVolume: 34081700',\n",
       " 'Date: 2015-06-30\\nOpen: 44.709998999999996\\nHigh: 44.720001\\nLow: 43.939999\\nClose: 44.150002\\nAdj Close: 41.283489\\nVolume: 35945400',\n",
       " 'Date: 2015-07-01\\nOpen: 44.459998999999996\\nHigh: 45.23\\nLow: 44.099998\\nClose: 44.450001\\nAdj Close: 41.564007000000004\\nVolume: 28343900',\n",
       " 'Date: 2015-07-02\\nOpen: 44.48\\nHigh: 44.75\\nLow: 44.060001\\nClose: 44.400002\\nAdj Close: 41.517258\\nVolume: 21752000',\n",
       " 'Date: 2015-07-06\\nOpen: 43.959998999999996\\nHigh: 44.48\\nLow: 43.950001\\nClose: 44.389998999999996\\nAdj Close: 41.507896\\nVolume: 23034000',\n",
       " 'Date: 2015-07-07\\nOpen: 44.34\\nHigh: 44.490002000000004\\nLow: 43.32\\nClose: 44.299999\\nAdj Close: 41.423747999999996\\nVolume: 36435800',\n",
       " 'Date: 2015-07-08\\nOpen: 44.439999\\nHigh: 44.900002\\nLow: 44.029999\\nClose: 44.240002000000004\\nAdj Close: 41.367645\\nVolume: 39785900',\n",
       " 'Date: 2015-07-09\\nOpen: 44.75\\nHigh: 45.220001\\nLow: 44.5\\nClose: 44.52\\nAdj Close: 41.629467\\nVolume: 32424700',\n",
       " 'Date: 2015-07-10\\nOpen: 45.009997999999996\\nHigh: 45.139998999999996\\nLow: 44.57\\nClose: 44.610001000000004\\nAdj Close: 41.713612\\nVolume: 25465800',\n",
       " 'Date: 2015-07-13\\nOpen: 44.98\\nHigh: 45.619999\\nLow: 44.950001\\nClose: 45.540001000000004\\nAdj Close: 42.583237\\nVolume: 28178300',\n",
       " 'Date: 2015-07-14\\nOpen: 45.450001\\nHigh: 45.959998999999996\\nLow: 45.310001\\nClose: 45.619999\\nAdj Close: 42.658035\\nVolume: 22880300',\n",
       " 'Date: 2015-07-15\\nOpen: 45.68\\nHigh: 45.889998999999996\\nLow: 45.43\\nClose: 45.759997999999996\\nAdj Close: 42.788948\\nVolume: 26629600',\n",
       " 'Date: 2015-07-16\\nOpen: 46.009997999999996\\nHigh: 46.689999\\nLow: 45.970001\\nClose: 46.66\\nAdj Close: 43.630520000000004\\nVolume: 26271700',\n",
       " 'Date: 2015-07-17\\nOpen: 46.549999\\nHigh: 46.779999\\nLow: 46.259997999999996\\nClose: 46.619999\\nAdj Close: 43.593117\\nVolume: 29467100',\n",
       " 'Date: 2015-07-20\\nOpen: 46.650002\\nHigh: 47.130001\\nLow: 46.439999\\nClose: 46.919998\\nAdj Close: 43.873638\\nVolume: 30631900',\n",
       " 'Date: 2015-07-21\\nOpen: 46.779999\\nHigh: 47.330002\\nLow: 46.48\\nClose: 47.279999\\nAdj Close: 44.210266\\nVolume: 42781900',\n",
       " 'Date: 2015-07-22\\nOpen: 45.439999\\nHigh: 46.93\\nLow: 45.200001\\nClose: 45.540001000000004\\nAdj Close: 42.583237\\nVolume: 59152400',\n",
       " 'Date: 2015-07-23\\nOpen: 45.27\\nHigh: 46.23\\nLow: 45.099998\\nClose: 46.110001000000004\\nAdj Close: 43.11623\\nVolume: 33934000',\n",
       " 'Date: 2015-07-24\\nOpen: 45.91\\nHigh: 46.32\\nLow: 45.799999\\nClose: 45.939999\\nAdj Close: 42.95726\\nVolume: 32333200',\n",
       " 'Date: 2015-07-27\\nOpen: 45.939999\\nHigh: 46.009997999999996\\nLow: 45.25\\nClose: 45.349998\\nAdj Close: 42.405567\\nVolume: 39701400',\n",
       " 'Date: 2015-07-28\\nOpen: 45.580002\\nHigh: 45.639998999999996\\nLow: 44.790001000000004\\nClose: 45.34\\nAdj Close: 42.396229\\nVolume: 34328900',\n",
       " 'Date: 2015-07-29\\nOpen: 45.400002\\nHigh: 46.779999\\nLow: 45.259997999999996\\nClose: 46.290001000000004\\nAdj Close: 43.284546\\nVolume: 40945900',\n",
       " 'Date: 2015-07-30\\nOpen: 46.259997999999996\\nHigh: 47.400002\\nLow: 45.93\\nClose: 46.880001\\nAdj Close: 43.836234999999995\\nVolume: 39777900',\n",
       " 'Date: 2015-07-31\\nOpen: 47.290001000000004\\nHigh: 47.369999\\nLow: 46.5\\nClose: 46.700001\\nAdj Close: 43.667922999999995\\nVolume: 31201500',\n",
       " 'Date: 2015-08-03\\nOpen: 46.98\\nHigh: 47.0\\nLow: 46.450001\\nClose: 46.810001\\nAdj Close: 43.770782000000004\\nVolume: 24125900',\n",
       " 'Date: 2015-08-04\\nOpen: 46.75\\nHigh: 47.709998999999996\\nLow: 46.68\\nClose: 47.540001000000004\\nAdj Close: 44.453377\\nVolume: 33403900',\n",
       " 'Date: 2015-08-05\\nOpen: 47.98\\nHigh: 48.41\\nLow: 47.540001000000004\\nClose: 47.580002\\nAdj Close: 44.490788\\nVolume: 26959700',\n",
       " 'Date: 2015-08-06\\nOpen: 47.709998999999996\\nHigh: 47.77\\nLow: 46.330002\\nClose: 46.619999\\nAdj Close: 43.593117\\nVolume: 27368000',\n",
       " 'Date: 2015-08-07\\nOpen: 46.389998999999996\\nHigh: 46.779999\\nLow: 46.259997999999996\\nClose: 46.740002000000004\\nAdj Close: 43.705326\\nVolume: 19163000',\n",
       " 'Date: 2015-08-10\\nOpen: 46.950001\\nHigh: 47.490002000000004\\nLow: 46.84\\nClose: 47.330002\\nAdj Close: 44.257019\\nVolume: 23079900',\n",
       " 'Date: 2015-08-11\\nOpen: 46.82\\nHigh: 46.939999\\nLow: 45.900002\\nClose: 46.41\\nAdj Close: 43.396747999999995\\nVolume: 28384300',\n",
       " 'Date: 2015-08-12\\nOpen: 46.189999\\nHigh: 46.900002\\nLow: 45.709998999999996\\nClose: 46.740002000000004\\nAdj Close: 43.705326\\nVolume: 30181400',\n",
       " 'Date: 2015-08-13\\nOpen: 47.060001\\nHigh: 47.099998\\nLow: 46.490002000000004\\nClose: 46.73\\nAdj Close: 43.695976\\nVolume: 22627200',\n",
       " 'Date: 2015-08-14\\nOpen: 46.529999\\nHigh: 47.099998\\nLow: 46.52\\nClose: 47.0\\nAdj Close: 43.948440999999995\\nVolume: 21356800',\n",
       " 'Date: 2015-08-17\\nOpen: 46.810001\\nHigh: 47.450001\\nLow: 46.57\\nClose: 47.32\\nAdj Close: 44.247669\\nVolume: 21099700',\n",
       " 'Date: 2015-08-18\\nOpen: 46.84\\nHigh: 47.43\\nLow: 46.700001\\nClose: 47.27\\nAdj Close: 44.49239\\nVolume: 23574100',\n",
       " 'Date: 2015-08-19\\nOpen: 46.779999\\nHigh: 47.080002\\nLow: 46.299999\\nClose: 46.610001000000004\\nAdj Close: 43.871173999999996\\nVolume: 31485500',\n",
       " 'Date: 2015-08-20\\nOpen: 46.07\\nHigh: 46.470001\\nLow: 45.66\\nClose: 45.66\\nAdj Close: 42.977001\\nVolume: 36238200',\n",
       " 'Date: 2015-08-21\\nOpen: 45.299999\\nHigh: 45.48\\nLow: 43.07\\nClose: 43.07\\nAdj Close: 40.539184999999996\\nVolume: 70053100',\n",
       " 'Date: 2015-08-24\\nOpen: 40.450001\\nHigh: 42.689999\\nLow: 39.720001\\nClose: 41.68\\nAdj Close: 39.230865\\nVolume: 88753700',\n",
       " 'Date: 2015-08-25\\nOpen: 42.57\\nHigh: 43.240002000000004\\nLow: 40.389998999999996\\nClose: 40.470001\\nAdj Close: 38.091969\\nVolume: 70616600',\n",
       " 'Date: 2015-08-26\\nOpen: 42.009997999999996\\nHigh: 42.84\\nLow: 41.060001\\nClose: 42.709998999999996\\nAdj Close: 40.200336\\nVolume: 63408000',\n",
       " 'Date: 2015-08-27\\nOpen: 43.23\\nHigh: 43.950001\\nLow: 42.93\\nClose: 43.900002\\nAdj Close: 41.320408\\nVolume: 50943200',\n",
       " 'Date: 2015-08-28\\nOpen: 43.400002\\nHigh: 44.150002\\nLow: 43.389998999999996\\nClose: 43.93\\nAdj Close: 41.348652\\nVolume: 28246700',\n",
       " 'Date: 2015-08-31\\nOpen: 43.560001\\nHigh: 43.93\\nLow: 43.099998\\nClose: 43.52\\nAdj Close: 40.962753\\nVolume: 34159100',\n",
       " 'Date: 2015-09-01\\nOpen: 42.169998\\nHigh: 42.59\\nLow: 41.66\\nClose: 41.82\\nAdj Close: 39.362629\\nVolume: 49688900',\n",
       " 'Date: 2015-09-02\\nOpen: 42.360001000000004\\nHigh: 43.380001\\nLow: 41.880001\\nClose: 43.360001000000004\\nAdj Close: 40.812145\\nVolume: 37671500',\n",
       " 'Date: 2015-09-03\\nOpen: 43.41\\nHigh: 43.98\\nLow: 43.279999\\nClose: 43.5\\nAdj Close: 40.943913\\nVolume: 28285200',\n",
       " 'Date: 2015-09-04\\nOpen: 42.810001\\nHigh: 43.040001000000004\\nLow: 42.200001\\nClose: 42.610001000000004\\nAdj Close: 40.106215999999996\\nVolume: 37138800',\n",
       " 'Date: 2015-09-08\\nOpen: 43.299999\\nHigh: 44.0\\nLow: 43.200001\\nClose: 43.889998999999996\\nAdj Close: 41.311001\\nVolume: 32469800',\n",
       " 'Date: 2015-09-09\\nOpen: 44.209998999999996\\nHigh: 44.400002\\nLow: 42.91\\nClose: 43.07\\nAdj Close: 40.539184999999996\\nVolume: 33318800',\n",
       " 'Date: 2015-09-10\\nOpen: 43.119999\\nHigh: 43.790001000000004\\nLow: 42.75\\nClose: 43.290001000000004\\nAdj Close: 40.746258000000005\\nVolume: 31366600',\n",
       " 'Date: 2015-09-11\\nOpen: 43.139998999999996\\nHigh: 43.59\\nLow: 42.939999\\nClose: 43.48\\nAdj Close: 40.925087\\nVolume: 27132500',\n",
       " 'Date: 2015-09-14\\nOpen: 43.43\\nHigh: 43.439999\\nLow: 42.860001000000004\\nClose: 43.040001000000004\\nAdj Close: 40.510948\\nVolume: 23656000',\n",
       " 'Date: 2015-09-15\\nOpen: 43.189999\\nHigh: 44.290001000000004\\nLow: 43.080002\\nClose: 43.98\\nAdj Close: 41.395714\\nVolume: 28662100',\n",
       " 'Date: 2015-09-16\\nOpen: 43.970001\\nHigh: 44.380001\\nLow: 43.84\\nClose: 44.299999\\nAdj Close: 41.696911\\nVolume: 23372200',\n",
       " 'Date: 2015-09-17\\nOpen: 44.290001000000004\\nHigh: 45.0\\nLow: 44.080002\\nClose: 44.25\\nAdj Close: 41.649848999999996\\nVolume: 32768200',\n",
       " 'Date: 2015-09-18\\nOpen: 43.5\\nHigh: 43.990002000000004\\nLow: 43.330002\\nClose: 43.48\\nAdj Close: 40.925087\\nVolume: 62221600',\n",
       " 'Date: 2015-09-21\\nOpen: 43.619999\\nHigh: 44.470001\\nLow: 43.599998\\nClose: 44.110001000000004\\nAdj Close: 41.518074\\nVolume: 26177200',\n",
       " 'Date: 2015-09-22\\nOpen: 43.380001\\nHigh: 44.049999\\nLow: 43.310001\\nClose: 43.900002\\nAdj Close: 41.320408\\nVolume: 28085900',\n",
       " 'Date: 2015-09-23\\nOpen: 43.93\\nHigh: 44.169998\\nLow: 43.509997999999996\\nClose: 43.869999\\nAdj Close: 41.292171\\nVolume: 17145200',\n",
       " 'Date: 2015-09-24\\nOpen: 43.450001\\nHigh: 44.130001\\nLow: 43.27\\nClose: 43.91\\nAdj Close: 41.329826000000004\\nVolume: 27905600',\n",
       " 'Date: 2015-09-25\\nOpen: 44.48\\nHigh: 44.73\\nLow: 43.759997999999996\\nClose: 43.939999\\nAdj Close: 41.358063\\nVolume: 29384600',\n",
       " 'Date: 2015-09-28\\nOpen: 43.830002\\nHigh: 44.09\\nLow: 43.209998999999996\\nClose: 43.290001000000004\\nAdj Close: 40.746258000000005\\nVolume: 27613800',\n",
       " 'Date: 2015-09-29\\nOpen: 43.369999\\nHigh: 43.57\\nLow: 43.049999\\nClose: 43.439999\\nAdj Close: 40.887444\\nVolume: 32763600',\n",
       " 'Date: 2015-09-30\\nOpen: 43.880001\\nHigh: 44.299999\\nLow: 43.66\\nClose: 44.259997999999996\\nAdj Close: 41.659259999999996\\nVolume: 34589500',\n",
       " 'Date: 2015-10-01\\nOpen: 44.75\\nHigh: 44.75\\nLow: 43.75\\nClose: 44.610001000000004\\nAdj Close: 41.988696999999995\\nVolume: 28657900',\n",
       " 'Date: 2015-10-02\\nOpen: 44.27\\nHigh: 45.57\\nLow: 43.919998\\nClose: 45.57\\nAdj Close: 42.892284000000004\\nVolume: 41839000',\n",
       " 'Date: 2015-10-05\\nOpen: 45.75\\nHigh: 46.889998999999996\\nLow: 45.700001\\nClose: 46.630001\\nAdj Close: 43.889998999999996\\nVolume: 34369300',\n",
       " 'Date: 2015-10-06\\nOpen: 46.330002\\nHigh: 47.18\\nLow: 46.220001\\nClose: 46.75\\nAdj Close: 44.002945000000004\\nVolume: 27017200',\n",
       " 'Date: 2015-10-07\\nOpen: 47.099998\\nHigh: 47.349998\\nLow: 45.950001\\nClose: 46.799999\\nAdj Close: 44.050011\\nVolume: 27711500',\n",
       " 'Date: 2015-10-08\\nOpen: 46.560001\\nHigh: 47.52\\nLow: 46.5\\nClose: 47.450001\\nAdj Close: 44.661815999999995\\nVolume: 33772700',\n",
       " 'Date: 2015-10-09\\nOpen: 47.450001\\nHigh: 47.540001000000004\\nLow: 46.919998\\nClose: 47.110001000000004\\nAdj Close: 44.341797\\nVolume: 28600600',\n",
       " 'Date: 2015-10-12\\nOpen: 46.98\\nHigh: 47.07\\nLow: 46.5\\nClose: 47.0\\nAdj Close: 44.238258\\nVolume: 19769100',\n",
       " 'Date: 2015-10-13\\nOpen: 46.560001\\nHigh: 47.130001\\nLow: 46.560001\\nClose: 46.889998999999996\\nAdj Close: 44.13472\\nVolume: 19987800',\n",
       " 'Date: 2015-10-14\\nOpen: 46.650002\\nHigh: 47.099998\\nLow: 46.529999\\nClose: 46.68\\nAdj Close: 43.937053999999996\\nVolume: 24697800',\n",
       " 'Date: 2015-10-15\\nOpen: 47.009997999999996\\nHigh: 47.029999\\nLow: 46.529999\\nClose: 47.009997999999996\\nAdj Close: 44.247669\\nVolume: 27189400',\n",
       " 'Date: 2015-10-16\\nOpen: 47.02\\nHigh: 47.540001000000004\\nLow: 46.900002\\nClose: 47.509997999999996\\nAdj Close: 44.718284999999995\\nVolume: 26450300',\n",
       " 'Date: 2015-10-19\\nOpen: 47.419998\\nHigh: 47.880001\\nLow: 47.02\\nClose: 47.619999\\nAdj Close: 44.821822999999995\\nVolume: 29387600',\n",
       " 'Date: 2015-10-20\\nOpen: 47.439999\\nHigh: 47.810001\\nLow: 47.02\\nClose: 47.77\\nAdj Close: 44.963004999999995\\nVolume: 30574000',\n",
       " 'Date: 2015-10-21\\nOpen: 47.919998\\nHigh: 47.990002000000004\\nLow: 47.110001000000004\\nClose: 47.200001\\nAdj Close: 44.426505999999996\\nVolume: 25144300',\n",
       " 'Date: 2015-10-22\\nOpen: 47.529999\\nHigh: 48.950001\\nLow: 47.09\\nClose: 48.029999\\nAdj Close: 45.207737\\nVolume: 56637100',\n",
       " 'Date: 2015-10-23\\nOpen: 52.299999\\nHigh: 54.07\\nLow: 52.25\\nClose: 52.869999\\nAdj Close: 49.763332\\nVolume: 135227100',\n",
       " 'Date: 2015-10-26\\nOpen: 52.529999\\nHigh: 54.32\\nLow: 52.5\\nClose: 54.25\\nAdj Close: 51.062241\\nVolume: 64633300',\n",
       " 'Date: 2015-10-27\\nOpen: 53.990002000000004\\nHigh: 54.369999\\nLow: 53.580002\\nClose: 53.689999\\nAdj Close: 50.535149\\nVolume: 50999900',\n",
       " 'Date: 2015-10-28\\nOpen: 53.540001000000004\\nHigh: 53.98\\nLow: 52.860001000000004\\nClose: 53.98\\nAdj Close: 50.808102000000005\\nVolume: 47000800',\n",
       " 'Date: 2015-10-29\\nOpen: 53.540001000000004\\nHigh: 53.830002\\nLow: 53.220001\\nClose: 53.360001000000004\\nAdj Close: 50.224545\\nVolume: 30036300',\n",
       " 'Date: 2015-10-30\\nOpen: 53.32\\nHigh: 53.990002000000004\\nLow: 52.619999\\nClose: 52.639998999999996\\nAdj Close: 49.546844\\nVolume: 46619800',\n",
       " 'Date: 2015-11-02\\nOpen: 52.849998\\nHigh: 53.360001000000004\\nLow: 52.619999\\nClose: 53.240002000000004\\nAdj Close: 50.111588\\nVolume: 30285000',\n",
       " 'Date: 2015-11-03\\nOpen: 52.93\\nHigh: 54.389998999999996\\nLow: 52.900002\\nClose: 54.150002\\nAdj Close: 50.968117\\nVolume: 36596900',\n",
       " 'Date: 2015-11-04\\nOpen: 54.18\\nHigh: 54.880001\\nLow: 54.060001\\nClose: 54.400002\\nAdj Close: 51.203426\\nVolume: 37020400',\n",
       " 'Date: 2015-11-05\\nOpen: 54.490002000000004\\nHigh: 54.700001\\nLow: 54.0\\nClose: 54.380001\\nAdj Close: 51.184605\\nVolume: 31468500',\n",
       " 'Date: 2015-11-06\\nOpen: 54.09\\nHigh: 54.98\\nLow: 53.959998999999996\\nClose: 54.919998\\nAdj Close: 51.692871000000004\\nVolume: 32851200',\n",
       " 'Date: 2015-11-09\\nOpen: 54.549999\\nHigh: 54.869999\\nLow: 53.560001\\nClose: 54.16\\nAdj Close: 50.977528\\nVolume: 32513100',\n",
       " 'Date: 2015-11-10\\nOpen: 54.07\\nHigh: 54.130001\\nLow: 53.27\\nClose: 53.509997999999996\\nAdj Close: 50.365719\\nVolume: 55283700',\n",
       " 'Date: 2015-11-11\\nOpen: 53.700001\\nHigh: 54.200001\\nLow: 53.459998999999996\\nClose: 53.650002\\nAdj Close: 50.497498\\nVolume: 36516300',\n",
       " 'Date: 2015-11-12\\nOpen: 53.48\\nHigh: 53.98\\nLow: 53.189999\\nClose: 53.32\\nAdj Close: 50.186890000000005\\nVolume: 35361100',\n",
       " 'Date: 2015-11-13\\nOpen: 53.07\\nHigh: 53.290001000000004\\nLow: 52.529999\\nClose: 52.84\\nAdj Close: 49.735096\\nVolume: 36848200',\n",
       " 'Date: 2015-11-16\\nOpen: 53.080002\\nHigh: 53.889998999999996\\nLow: 52.849998\\nClose: 53.77\\nAdj Close: 50.610451\\nVolume: 32165200',\n",
       " 'Date: 2015-11-17\\nOpen: 53.169998\\nHigh: 53.529999\\nLow: 52.849998\\nClose: 52.970001\\nAdj Close: 50.193512\\nVolume: 31551300',\n",
       " 'Date: 2015-11-18\\nOpen: 53.0\\nHigh: 53.98\\nLow: 52.98\\nClose: 53.849998\\nAdj Close: 51.027382\\nVolume: 29710000',\n",
       " 'Date: 2015-11-19\\nOpen: 53.990002000000004\\nHigh: 54.66\\nLow: 53.779999\\nClose: 53.939999\\nAdj Close: 51.112663\\nVolume: 28149200',\n",
       " 'Date: 2015-11-20\\nOpen: 54.25\\nHigh: 54.299999\\nLow: 53.27\\nClose: 54.189999\\nAdj Close: 51.34956\\nVolume: 37147600',\n",
       " 'Date: 2015-11-23\\nOpen: 54.25\\nHigh: 54.459998999999996\\nLow: 53.75\\nClose: 54.189999\\nAdj Close: 51.34956\\nVolume: 28235900',\n",
       " 'Date: 2015-11-24\\nOpen: 53.919998\\nHigh: 54.439999\\nLow: 53.580002\\nClose: 54.25\\nAdj Close: 51.406422\\nVolume: 24600000',\n",
       " 'Date: 2015-11-25\\nOpen: 54.09\\nHigh: 54.23\\nLow: 53.689999\\nClose: 53.689999\\nAdj Close: 50.875771\\nVolume: 21005100',\n",
       " 'Date: 2015-11-27\\nOpen: 53.799999\\nHigh: 54.080002\\nLow: 53.790001000000004\\nClose: 53.93\\nAdj Close: 51.103188\\nVolume: 9009100',\n",
       " 'Date: 2015-11-30\\nOpen: 54.540001000000004\\nHigh: 54.959998999999996\\nLow: 54.0\\nClose: 54.349998\\nAdj Close: 51.501175\\nVolume: 56241400',\n",
       " 'Date: 2015-12-01\\nOpen: 54.41\\nHigh: 55.23\\nLow: 54.299999\\nClose: 55.220001\\nAdj Close: 52.325581\\nVolume: 39952800',\n",
       " 'Date: 2015-12-02\\nOpen: 55.32\\nHigh: 55.959998999999996\\nLow: 55.060001\\nClose: 55.209998999999996\\nAdj Close: 52.316093\\nVolume: 47274900',\n",
       " 'Date: 2015-12-03\\nOpen: 55.490002000000004\\nHigh: 55.77\\nLow: 53.93\\nClose: 54.200001\\nAdj Close: 51.359039\\nVolume: 38627800',\n",
       " 'Date: 2015-12-04\\nOpen: 54.119999\\nHigh: 56.23\\nLow: 54.099998\\nClose: 55.91\\nAdj Close: 52.979404\\nVolume: 43963700',\n",
       " 'Date: 2015-12-07\\nOpen: 55.790001000000004\\nHigh: 55.970001\\nLow: 55.290001000000004\\nClose: 55.810001\\nAdj Close: 52.884646999999994\\nVolume: 30709800',\n",
       " 'Date: 2015-12-08\\nOpen: 55.470001\\nHigh: 56.099998\\nLow: 54.990002000000004\\nClose: 55.790001000000004\\nAdj Close: 52.865696\\nVolume: 32878000',\n",
       " 'Date: 2015-12-09\\nOpen: 55.369999\\nHigh: 55.869999\\nLow: 54.509997999999996\\nClose: 54.98\\nAdj Close: 52.098156\\nVolume: 36373200',\n",
       " 'Date: 2015-12-10\\nOpen: 55.389998999999996\\nHigh: 55.66\\nLow: 55.009997999999996\\nClose: 55.27\\nAdj Close: 52.372955\\nVolume: 31620700',\n",
       " 'Date: 2015-12-11\\nOpen: 54.709998999999996\\nHigh: 55.099998\\nLow: 54.009997999999996\\nClose: 54.060001\\nAdj Close: 51.226376\\nVolume: 39549500',\n",
       " 'Date: 2015-12-14\\nOpen: 54.330002\\nHigh: 55.209998999999996\\nLow: 53.68\\nClose: 55.139998999999996\\nAdj Close: 52.249763\\nVolume: 46768900',\n",
       " 'Date: 2015-12-15\\nOpen: 55.66\\nHigh: 55.900002\\nLow: 55.09\\nClose: 55.200001\\nAdj Close: 52.306625\\nVolume: 39843000',\n",
       " 'Date: 2015-12-16\\nOpen: 55.540001000000004\\nHigh: 56.25\\nLow: 54.759997999999996\\nClose: 56.130001\\nAdj Close: 53.187874\\nVolume: 37503300',\n",
       " 'Date: 2015-12-17\\nOpen: 56.360001000000004\\nHigh: 56.790001000000004\\nLow: 55.529999\\nClose: 55.700001\\nAdj Close: 52.780415000000005\\nVolume: 41280900',\n",
       " 'Date: 2015-12-18\\nOpen: 55.77\\nHigh: 56.0\\nLow: 54.029999\\nClose: 54.130001\\nAdj Close: 51.292709\\nVolume: 84684200',\n",
       " 'Date: 2015-12-21\\nOpen: 54.880001\\nHigh: 55.349998\\nLow: 54.23\\nClose: 54.830002\\nAdj Close: 51.95602\\nVolume: 37246300',\n",
       " 'Date: 2015-12-22\\nOpen: 54.990002000000004\\nHigh: 55.48\\nLow: 54.5\\nClose: 55.349998\\nAdj Close: 52.448761\\nVolume: 28300300',\n",
       " 'Date: 2015-12-23\\nOpen: 55.700001\\nHigh: 55.880001\\nLow: 55.439999\\nClose: 55.82\\nAdj Close: 52.894127000000005\\nVolume: 27279800',\n",
       " 'Date: 2015-12-24\\nOpen: 55.860001000000004\\nHigh: 55.959998999999996\\nLow: 55.43\\nClose: 55.669998\\nAdj Close: 52.75198\\nVolume: 9570000',\n",
       " 'Date: 2015-12-28\\nOpen: 55.349998\\nHigh: 55.950001\\nLow: 54.98\\nClose: 55.950001\\nAdj Close: 53.017315\\nVolume: 21698000',\n",
       " 'Date: 2015-12-29\\nOpen: 56.290001000000004\\nHigh: 56.849998\\nLow: 56.060001\\nClose: 56.549999\\nAdj Close: 53.585861\\nVolume: 27731400',\n",
       " 'Date: 2015-12-30\\nOpen: 56.470001\\nHigh: 56.779999\\nLow: 56.290001000000004\\nClose: 56.310001\\nAdj Close: 53.35844399999999\\nVolume: 21704500',\n",
       " 'Date: 2015-12-31\\nOpen: 56.040001000000004\\nHigh: 56.189999\\nLow: 55.419998\\nClose: 55.48\\nAdj Close: 52.57194499999999\\nVolume: 27334100',\n",
       " 'Date: 2016-01-04\\nOpen: 54.32\\nHigh: 54.799999\\nLow: 53.389998999999996\\nClose: 54.799999\\nAdj Close: 51.927593\\nVolume: 53778000',\n",
       " 'Date: 2016-01-05\\nOpen: 54.93\\nHigh: 55.389998999999996\\nLow: 54.540001000000004\\nClose: 55.049999\\nAdj Close: 52.16449\\nVolume: 34079700',\n",
       " 'Date: 2016-01-06\\nOpen: 54.32\\nHigh: 54.400002\\nLow: 53.639998999999996\\nClose: 54.049999\\nAdj Close: 51.2169\\nVolume: 39518900',\n",
       " 'Date: 2016-01-07\\nOpen: 52.700001\\nHigh: 53.490002000000004\\nLow: 52.07\\nClose: 52.169998\\nAdj Close: 49.435444\\nVolume: 56564900',\n",
       " 'Date: 2016-01-08\\nOpen: 52.369999\\nHigh: 53.279999\\nLow: 52.150002\\nClose: 52.330002\\nAdj Close: 49.587063\\nVolume: 48754000',\n",
       " 'Date: 2016-01-11\\nOpen: 52.509997999999996\\nHigh: 52.849998\\nLow: 51.459998999999996\\nClose: 52.299999\\nAdj Close: 49.558632\\nVolume: 36663600',\n",
       " 'Date: 2016-01-12\\nOpen: 52.759997999999996\\nHigh: 53.099998\\nLow: 52.060001\\nClose: 52.779999\\nAdj Close: 50.01347\\nVolume: 36095500',\n",
       " 'Date: 2016-01-13\\nOpen: 53.799999\\nHigh: 54.07\\nLow: 51.299999\\nClose: 51.639998999999996\\nAdj Close: 48.933223999999996\\nVolume: 66883600',\n",
       " 'Date: 2016-01-14\\nOpen: 52.0\\nHigh: 53.419998\\nLow: 51.57\\nClose: 53.110001000000004\\nAdj Close: 50.32618\\nVolume: 52381900',\n",
       " 'Date: 2016-01-15\\nOpen: 51.310001\\nHigh: 51.970001\\nLow: 50.34\\nClose: 50.990002000000004\\nAdj Close: 48.317295\\nVolume: 71820700',\n",
       " 'Date: 2016-01-19\\nOpen: 51.48\\nHigh: 51.68\\nLow: 50.060001\\nClose: 50.560001\\nAdj Close: 47.909836\\nVolume: 43564500',\n",
       " 'Date: 2016-01-20\\nOpen: 49.98\\nHigh: 51.380001\\nLow: 49.099998\\nClose: 50.790001000000004\\nAdj Close: 48.127781\\nVolume: 63273000',\n",
       " 'Date: 2016-01-21\\nOpen: 51.0\\nHigh: 51.580002\\nLow: 50.299999\\nClose: 50.48\\nAdj Close: 47.83403\\nVolume: 40191200',\n",
       " 'Date: 2016-01-22\\nOpen: 51.41\\nHigh: 52.330002\\nLow: 51.259997999999996\\nClose: 52.290001000000004\\nAdj Close: 49.549152\\nVolume: 37555800',\n",
       " 'Date: 2016-01-25\\nOpen: 51.939999\\nHigh: 52.650002\\nLow: 51.650002\\nClose: 51.790001000000004\\nAdj Close: 49.075359000000006\\nVolume: 34707700',\n",
       " 'Date: 2016-01-26\\nOpen: 51.790001000000004\\nHigh: 52.439999\\nLow: 51.549999\\nClose: 52.169998\\nAdj Close: 49.435444\\nVolume: 28699500',\n",
       " 'Date: 2016-01-27\\nOpen: 52.009997999999996\\nHigh: 52.200001\\nLow: 51.02\\nClose: 51.220001\\nAdj Close: 48.53524\\nVolume: 36775200',\n",
       " 'Date: 2016-01-28\\nOpen: 51.860001000000004\\nHigh: 52.209998999999996\\nLow: 51.25\\nClose: 52.060001\\nAdj Close: 49.331215\\nVolume: 62513800',\n",
       " 'Date: 2016-01-29\\nOpen: 54.73\\nHigh: 55.09\\nLow: 54.0\\nClose: 55.09\\nAdj Close: 52.202389000000004\\nVolume: 83611700',\n",
       " 'Date: 2016-02-01\\nOpen: 54.880001\\nHigh: 55.09\\nLow: 54.5\\nClose: 54.709998999999996\\nAdj Close: 51.842304\\nVolume: 44208500',\n",
       " 'Date: 2016-02-02\\nOpen: 54.169998\\nHigh: 54.259997999999996\\nLow: 52.650002\\nClose: 53.0\\nAdj Close: 50.221934999999995\\nVolume: 56313800',\n",
       " 'Date: 2016-02-03\\nOpen: 53.25\\nHigh: 53.389998999999996\\nLow: 51.259997999999996\\nClose: 52.16\\nAdj Close: 49.425968\\nVolume: 57559800',\n",
       " 'Date: 2016-02-04\\nOpen: 52.099998\\nHigh: 52.810001\\nLow: 51.369999\\nClose: 52.0\\nAdj Close: 49.274361\\nVolume: 46803400',\n",
       " 'Date: 2016-02-05\\nOpen: 51.939999\\nHigh: 52.0\\nLow: 49.560001\\nClose: 50.16\\nAdj Close: 47.530803999999996\\nVolume: 62009000',\n",
       " 'Date: 2016-02-08\\nOpen: 49.549999\\nHigh: 49.57\\nLow: 48.189999\\nClose: 49.41\\nAdj Close: 46.82011\\nVolume: 59290500',\n",
       " 'Date: 2016-02-09\\nOpen: 49.02\\nHigh: 50.240002000000004\\nLow: 48.669998\\nClose: 49.279999\\nAdj Close: 46.696926\\nVolume: 45822200',\n",
       " 'Date: 2016-02-10\\nOpen: 49.889998999999996\\nHigh: 50.389998999999996\\nLow: 49.52\\nClose: 49.709998999999996\\nAdj Close: 47.104385\\nVolume: 38237000',\n",
       " 'Date: 2016-02-11\\nOpen: 48.68\\nHigh: 50.110001000000004\\nLow: 48.509997999999996\\nClose: 49.689999\\nAdj Close: 47.085438\\nVolume: 48878600',\n",
       " 'Date: 2016-02-12\\nOpen: 50.25\\nHigh: 50.68\\nLow: 49.75\\nClose: 50.5\\nAdj Close: 47.852978\\nVolume: 34243300',\n",
       " 'Date: 2016-02-16\\nOpen: 50.900002\\nHigh: 51.09\\nLow: 50.130001\\nClose: 51.09\\nAdj Close: 48.759646999999994\\nVolume: 37291200',\n",
       " 'Date: 2016-02-17\\nOpen: 51.490002000000004\\nHigh: 52.77\\nLow: 51.450001\\nClose: 52.419998\\nAdj Close: 50.02898\\nVolume: 40789000',\n",
       " 'Date: 2016-02-18\\nOpen: 52.330002\\nHigh: 52.950001\\nLow: 52.099998\\nClose: 52.189999\\nAdj Close: 49.809478999999996\\nVolume: 27176000',\n",
       " 'Date: 2016-02-19\\nOpen: 51.970001\\nHigh: 52.279999\\nLow: 51.529999\\nClose: 51.82\\nAdj Close: 49.456352\\nVolume: 33559100',\n",
       " 'Date: 2016-02-22\\nOpen: 52.279999\\nHigh: 53.0\\nLow: 52.279999\\nClose: 52.650002\\nAdj Close: 50.248489\\nVolume: 25008300',\n",
       " 'Date: 2016-02-23\\nOpen: 52.34\\nHigh: 52.369999\\nLow: 50.98\\nClose: 51.18\\nAdj Close: 48.845543\\nVolume: 28895300',\n",
       " 'Date: 2016-02-24\\nOpen: 50.689999\\nHigh: 51.5\\nLow: 50.200001\\nClose: 51.360001000000004\\nAdj Close: 49.017334000000005\\nVolume: 33014500',\n",
       " 'Date: 2016-02-25\\nOpen: 51.73\\nHigh: 52.099998\\nLow: 50.610001000000004\\nClose: 52.099998\\nAdj Close: 49.723579\\nVolume: 26695900',\n",
       " 'Date: 2016-02-26\\nOpen: 52.599998\\nHigh: 52.68\\nLow: 51.099998\\nClose: 51.299999\\nAdj Close: 48.960068\\nVolume: 35975900',\n",
       " 'Date: 2016-02-29\\nOpen: 51.349998\\nHigh: 51.650002\\nLow: 50.66\\nClose: 50.880001\\nAdj Close: 48.559227\\nVolume: 31654000',\n",
       " 'Date: 2016-03-01\\nOpen: 50.970001\\nHigh: 52.59\\nLow: 50.919998\\nClose: 52.580002\\nAdj Close: 50.18169\\nVolume: 33024500',\n",
       " 'Date: 2016-03-02\\nOpen: 52.41\\nHigh: 52.959998999999996\\nLow: 52.16\\nClose: 52.950001\\nAdj Close: 50.534809\\nVolume: 29289900',\n",
       " 'Date: 2016-03-03\\nOpen: 52.970001\\nHigh: 52.970001\\nLow: 51.779999\\nClose: 52.349998\\nAdj Close: 49.962177000000004\\nVolume: 24418100',\n",
       " 'Date: 2016-03-04\\nOpen: 52.400002\\nHigh: 52.450001\\nLow: 51.709998999999996\\nClose: 52.029999\\nAdj Close: 49.656769\\nVolume: 33034200',\n",
       " 'Date: 2016-03-07\\nOpen: 51.560001\\nHigh: 51.799999\\nLow: 50.580002\\nClose: 51.029999\\nAdj Close: 48.702377\\nVolume: 38407800',\n",
       " 'Date: 2016-03-08\\nOpen: 50.799999\\nHigh: 52.130001\\nLow: 50.599998\\nClose: 51.650002\\nAdj Close: 49.294113\\nVolume: 33835100',\n",
       " 'Date: 2016-03-09\\nOpen: 51.889998999999996\\nHigh: 52.849998\\nLow: 51.860001000000004\\nClose: 52.84\\nAdj Close: 50.429821000000004\\nVolume: 28251600',\n",
       " 'Date: 2016-03-10\\nOpen: 52.93\\nHigh: 52.939999\\nLow: 51.16\\nClose: 52.049999\\nAdj Close: 49.675858000000005\\nVolume: 38384200',\n",
       " 'Date: 2016-03-11\\nOpen: 53.0\\nHigh: 53.07\\nLow: 52.380001\\nClose: 53.07\\nAdj Close: 50.649334\\nVolume: 32275700',\n",
       " 'Date: 2016-03-14\\nOpen: 52.709998999999996\\nHigh: 53.59\\nLow: 52.630001\\nClose: 53.169998\\nAdj Close: 50.74477\\nVolume: 24083600',\n",
       " 'Date: 2016-03-15\\nOpen: 52.75\\nHigh: 53.59\\nLow: 52.740002000000004\\nClose: 53.59\\nAdj Close: 51.145618\\nVolume: 21104800',\n",
       " 'Date: 2016-03-16\\nOpen: 53.450001\\nHigh: 54.599998\\nLow: 53.400002\\nClose: 54.349998\\nAdj Close: 51.870948999999996\\nVolume: 31691700',\n",
       " 'Date: 2016-03-17\\nOpen: 54.209998999999996\\nHigh: 55.0\\nLow: 54.0\\nClose: 54.66\\nAdj Close: 52.166809\\nVolume: 28223900',\n",
       " 'Date: 2016-03-18\\nOpen: 54.919998\\nHigh: 54.970001\\nLow: 53.450001\\nClose: 53.490002000000004\\nAdj Close: 51.050182\\nVolume: 67625500',\n",
       " 'Date: 2016-03-21\\nOpen: 53.25\\nHigh: 53.93\\nLow: 52.93\\nClose: 53.860001000000004\\nAdj Close: 51.403304999999996\\nVolume: 23925700',\n",
       " 'Date: 2016-03-22\\nOpen: 53.610001000000004\\nHigh: 54.25\\nLow: 53.459998999999996\\nClose: 54.07\\nAdj Close: 51.603722\\nVolume: 23124100',\n",
       " 'Date: 2016-03-23\\nOpen: 54.110001000000004\\nHigh: 54.240002000000004\\nLow: 53.740002000000004\\nClose: 53.970001\\nAdj Close: 51.508286\\nVolume: 20129000',\n",
       " 'Date: 2016-03-24\\nOpen: 53.84\\nHigh: 54.330002\\nLow: 53.73\\nClose: 54.209998999999996\\nAdj Close: 51.737339\\nVolume: 19950000',\n",
       " 'Date: 2016-03-28\\nOpen: 54.209998999999996\\nHigh: 54.290001000000004\\nLow: 53.330002\\nClose: 53.540001000000004\\nAdj Close: 51.097896999999996\\nVolume: 17025100',\n",
       " 'Date: 2016-03-29\\nOpen: 53.66\\nHigh: 54.860001000000004\\nLow: 53.450001\\nClose: 54.709998999999996\\nAdj Close: 52.214527000000004\\nVolume: 23375000',\n",
       " 'Date: 2016-03-30\\nOpen: 54.93\\nHigh: 55.639998999999996\\nLow: 54.900002\\nClose: 55.049999\\nAdj Close: 52.539024\\nVolume: 23008300',\n",
       " 'Date: 2016-03-31\\nOpen: 54.950001\\nHigh: 55.59\\nLow: 54.860001000000004\\nClose: 55.23\\nAdj Close: 52.710804\\nVolume: 26360500',\n",
       " 'Date: 2016-04-01\\nOpen: 55.049999\\nHigh: 55.610001000000004\\nLow: 54.57\\nClose: 55.57\\nAdj Close: 53.03530500000001\\nVolume: 24399200',\n",
       " 'Date: 2016-04-04\\nOpen: 55.43\\nHigh: 55.66\\nLow: 55.0\\nClose: 55.43\\nAdj Close: 52.901688\\nVolume: 18928800',\n",
       " 'Date: 2016-04-05\\nOpen: 55.189999\\nHigh: 55.299999\\nLow: 54.459998999999996\\nClose: 54.560001\\nAdj Close: 52.071373\\nVolume: 19272300',\n",
       " 'Date: 2016-04-06\\nOpen: 54.360001000000004\\nHigh: 55.200001\\nLow: 54.209998999999996\\nClose: 55.119999\\nAdj Close: 52.605819999999994\\nVolume: 21032100',\n",
       " 'Date: 2016-04-07\\nOpen: 54.869999\\nHigh: 54.91\\nLow: 54.23\\nClose: 54.459998999999996\\nAdj Close: 51.975929\\nVolume: 19225100',\n",
       " 'Date: 2016-04-08\\nOpen: 54.669998\\nHigh: 55.279999\\nLow: 54.32\\nClose: 54.419998\\nAdj Close: 51.937748\\nVolume: 22167200',\n",
       " 'Date: 2016-04-11\\nOpen: 54.490002000000004\\nHigh: 55.150002\\nLow: 54.299999\\nClose: 54.310001\\nAdj Close: 51.832778999999995\\nVolume: 21414200',\n",
       " 'Date: 2016-04-12\\nOpen: 54.369999\\nHigh: 54.779999\\nLow: 53.759997999999996\\nClose: 54.650002\\nAdj Close: 52.157269\\nVolume: 24574200',\n",
       " 'Date: 2016-04-13\\nOpen: 55.119999\\nHigh: 55.439999\\nLow: 54.889998999999996\\nClose: 55.349998\\nAdj Close: 52.825340000000004\\nVolume: 20818000',\n",
       " 'Date: 2016-04-14\\nOpen: 55.220001\\nHigh: 55.580002\\nLow: 55.07\\nClose: 55.360001000000004\\nAdj Close: 52.834881\\nVolume: 20875100',\n",
       " 'Date: 2016-04-15\\nOpen: 55.299999\\nHigh: 55.919998\\nLow: 55.110001000000004\\nClose: 55.650002\\nAdj Close: 53.11166\\nVolume: 28793800',\n",
       " 'Date: 2016-04-18\\nOpen: 55.490002000000004\\nHigh: 56.59\\nLow: 55.209998999999996\\nClose: 56.459998999999996\\nAdj Close: 53.884712\\nVolume: 23150300',\n",
       " 'Date: 2016-04-19\\nOpen: 56.630001\\nHigh: 56.77\\nLow: 55.68\\nClose: 56.389998999999996\\nAdj Close: 53.817902000000004\\nVolume: 29596800',\n",
       " 'Date: 2016-04-20\\nOpen: 56.290001000000004\\nHigh: 56.5\\nLow: 55.490002000000004\\nClose: 55.59\\nAdj Close: 53.054393999999995\\nVolume: 36195700',\n",
       " 'Date: 2016-04-21\\nOpen: 55.799999\\nHigh: 56.23\\nLow: 55.419998\\nClose: 55.779999\\nAdj Close: 53.235721999999996\\nVolume: 38909100',\n",
       " 'Date: 2016-04-22\\nOpen: 51.91\\nHigh: 52.43\\nLow: 50.77\\nClose: 51.779999\\nAdj Close: 49.418178999999995\\nVolume: 126834100',\n",
       " 'Date: 2016-04-25\\nOpen: 51.779999\\nHigh: 52.130001\\nLow: 51.630001\\nClose: 52.110001000000004\\nAdj Close: 49.733128\\nVolume: 33226900',\n",
       " 'Date: 2016-04-26\\nOpen: 52.259997999999996\\nHigh: 52.349998\\nLow: 51.09\\nClose: 51.439999\\nAdj Close: 49.093678000000004\\nVolume: 33532600',\n",
       " 'Date: 2016-04-27\\nOpen: 51.48\\nHigh: 51.5\\nLow: 50.549999\\nClose: 50.939999\\nAdj Close: 48.616486\\nVolume: 43369300',\n",
       " 'Date: 2016-04-28\\nOpen: 50.619999\\nHigh: 50.77\\nLow: 49.560001\\nClose: 49.900002\\nAdj Close: 47.623924\\nVolume: 43134800',\n",
       " 'Date: 2016-04-29\\nOpen: 49.349998\\nHigh: 50.25\\nLow: 49.349998\\nClose: 49.869999\\nAdj Close: 47.595295\\nVolume: 48411700',\n",
       " 'Date: 2016-05-02\\nOpen: 50.0\\nHigh: 50.75\\nLow: 49.779999\\nClose: 50.610001000000004\\nAdj Close: 48.301548\\nVolume: 33114500',\n",
       " 'Date: 2016-05-03\\nOpen: 50.34\\nHigh: 50.41\\nLow: 49.599998\\nClose: 49.779999\\nAdj Close: 47.509399\\nVolume: 26460200',\n",
       " 'Date: 2016-05-04\\nOpen: 49.84\\nHigh: 50.060001\\nLow: 49.459998999999996\\nClose: 49.869999\\nAdj Close: 47.595295\\nVolume: 24257600',\n",
       " 'Date: 2016-05-05\\nOpen: 49.869999\\nHigh: 50.299999\\nLow: 49.73\\nClose: 49.939999\\nAdj Close: 47.662098\\nVolume: 25390700',\n",
       " 'Date: 2016-05-06\\nOpen: 49.919998\\nHigh: 50.389998999999996\\nLow: 49.66\\nClose: 50.389998999999996\\nAdj Close: 48.091576\\nVolume: 24787300',\n",
       " 'Date: 2016-05-09\\nOpen: 50.490002000000004\\nHigh: 50.59\\nLow: 50.0\\nClose: 50.07\\nAdj Close: 47.786171\\nVolume: 17951600',\n",
       " 'Date: 2016-05-10\\nOpen: 50.330002\\nHigh: 51.099998\\nLow: 50.189999\\nClose: 51.02\\nAdj Close: 48.692840999999994\\nVolume: 22741500',\n",
       " 'Date: 2016-05-11\\nOpen: 51.130001\\nHigh: 51.779999\\nLow: 51.0\\nClose: 51.049999\\nAdj Close: 48.721470000000004\\nVolume: 24039100',\n",
       " 'Date: 2016-05-12\\nOpen: 51.200001\\nHigh: 51.810001\\nLow: 50.919998\\nClose: 51.509997999999996\\nAdj Close: 49.160488\\nVolume: 24102800',\n",
       " 'Date: 2016-05-13\\nOpen: 51.439999\\nHigh: 51.900002\\nLow: 51.040001000000004\\nClose: 51.080002\\nAdj Close: 48.750107\\nVolume: 22592300',\n",
       " 'Date: 2016-05-16\\nOpen: 50.799999\\nHigh: 51.959998999999996\\nLow: 50.75\\nClose: 51.830002\\nAdj Close: 49.465893\\nVolume: 20032000',\n",
       " 'Date: 2016-05-17\\nOpen: 51.720001\\nHigh: 51.73\\nLow: 50.360001000000004\\nClose: 50.509997999999996\\nAdj Close: 48.543274\\nVolume: 27803500',\n",
       " 'Date: 2016-05-18\\nOpen: 50.48\\nHigh: 51.139998999999996\\nLow: 50.299999\\nClose: 50.810001\\nAdj Close: 48.831589\\nVolume: 24907500',\n",
       " 'Date: 2016-05-19\\nOpen: 50.470001\\nHigh: 50.619999\\nLow: 49.82\\nClose: 50.32\\nAdj Close: 48.360671999999994\\nVolume: 23842400',\n",
       " 'Date: 2016-05-20\\nOpen: 50.48\\nHigh: 51.220001\\nLow: 50.400002\\nClose: 50.619999\\nAdj Close: 48.648998\\nVolume: 23905800',\n",
       " 'Date: 2016-05-23\\nOpen: 50.599998\\nHigh: 50.68\\nLow: 49.98\\nClose: 50.029999\\nAdj Close: 48.081965999999994\\nVolume: 25999700',\n",
       " 'Date: 2016-05-24\\nOpen: 50.700001\\nHigh: 51.709998999999996\\nLow: 50.400002\\nClose: 51.59\\nAdj Close: 49.581226\\nVolume: 34757900',\n",
       " 'Date: 2016-05-25\\nOpen: 51.919998\\nHigh: 52.490002000000004\\nLow: 51.790001000000004\\nClose: 52.119999\\nAdj Close: 50.090584\\nVolume: 24040200',\n",
       " 'Date: 2016-05-26\\nOpen: 51.93\\nHigh: 51.98\\nLow: 51.360001000000004\\nClose: 51.889998999999996\\nAdj Close: 49.869537\\nVolume: 24182900',\n",
       " 'Date: 2016-05-27\\nOpen: 51.919998\\nHigh: 52.32\\nLow: 51.77\\nClose: 52.32\\nAdj Close: 50.282799\\nVolume: 17721400',\n",
       " 'Date: 2016-05-31\\nOpen: 52.259997999999996\\nHigh: 53.0\\nLow: 52.080002\\nClose: 53.0\\nAdj Close: 50.936321\\nVolume: 37653100',\n",
       " 'Date: 2016-06-01\\nOpen: 52.439999\\nHigh: 52.950001\\nLow: 52.439999\\nClose: 52.849998\\nAdj Close: 50.792159999999996\\nVolume: 25324800',\n",
       " 'Date: 2016-06-02\\nOpen: 52.639998999999996\\nHigh: 52.740002000000004\\nLow: 51.84\\nClose: 52.48\\nAdj Close: 50.436569\\nVolume: 22565300',\n",
       " 'Date: 2016-06-03\\nOpen: 52.380001\\nHigh: 52.419998\\nLow: 51.599998\\nClose: 51.790001000000004\\nAdj Close: 49.773438\\nVolume: 23368300',\n",
       " 'Date: 2016-06-06\\nOpen: 51.990002000000004\\nHigh: 52.349998\\nLow: 51.889998999999996\\nClose: 52.130001\\nAdj Close: 50.100196999999994\\nVolume: 18243300',\n",
       " 'Date: 2016-06-07\\nOpen: 52.240002000000004\\nHigh: 52.73\\nLow: 52.099998\\nClose: 52.099998\\nAdj Close: 50.071362\\nVolume: 20866800',\n",
       " 'Date: 2016-06-08\\nOpen: 52.02\\nHigh: 52.439999\\nLow: 51.869999\\nClose: 52.040001000000004\\nAdj Close: 50.013699\\nVolume: 21149400',\n",
       " 'Date: 2016-06-09\\nOpen: 52.0\\nHigh: 52.0\\nLow: 51.490002000000004\\nClose: 51.619999\\nAdj Close: 49.610054\\nVolume: 20305700',\n",
       " 'Date: 2016-06-10\\nOpen: 51.049999\\nHigh: 52.049999\\nLow: 51.040001000000004\\nClose: 51.48\\nAdj Close: 49.475506\\nVolume: 25833200',\n",
       " 'Date: 2016-06-13\\nOpen: 49.580002\\nHigh: 50.720001\\nLow: 49.060001\\nClose: 50.139998999999996\\nAdj Close: 48.187678999999996\\nVolume: 83217800',\n",
       " 'Date: 2016-06-14\\nOpen: 49.900002\\nHigh: 50.099998\\nLow: 49.57\\nClose: 49.830002\\nAdj Close: 47.889751000000004\\nVolume: 42577100',\n",
       " 'Date: 2016-06-15\\nOpen: 49.779999\\nHigh: 50.119999\\nLow: 49.689999\\nClose: 49.689999\\nAdj Close: 47.755203\\nVolume: 33757600',\n",
       " 'Date: 2016-06-16\\nOpen: 49.52\\nHigh: 50.470001\\nLow: 49.509997999999996\\nClose: 50.389998999999996\\nAdj Close: 48.427944000000004\\nVolume: 31188600',\n",
       " 'Date: 2016-06-17\\nOpen: 50.41\\nHigh: 50.43\\nLow: 49.82\\nClose: 50.130001\\nAdj Close: 48.178074\\nVolume: 45710500',\n",
       " 'Date: 2016-06-20\\nOpen: 50.639998999999996\\nHigh: 50.830002\\nLow: 50.029999\\nClose: 50.07\\nAdj Close: 48.120407\\nVolume: 35607900',\n",
       " 'Date: 2016-06-21\\nOpen: 50.200001\\nHigh: 51.43\\nLow: 50.16\\nClose: 51.189999\\nAdj Close: 49.196793\\nVolume: 34097800',\n",
       " 'Date: 2016-06-22\\nOpen: 51.080002\\nHigh: 51.459998999999996\\nLow: 50.950001\\nClose: 50.990002000000004\\nAdj Close: 49.004589\\nVolume: 28816800',\n",
       " 'Date: 2016-06-23\\nOpen: 51.279999\\nHigh: 52.060001\\nLow: 51.150002\\nClose: 51.91\\nAdj Close: 49.88876\\nVolume: 29028800',\n",
       " 'Date: 2016-06-24\\nOpen: 49.810001\\nHigh: 50.939999\\nLow: 49.52\\nClose: 49.830002\\nAdj Close: 47.889751000000004\\nVolume: 133503000',\n",
       " 'Date: 2016-06-27\\nOpen: 49.099998\\nHigh: 49.150002\\nLow: 48.040001000000004\\nClose: 48.43\\nAdj Close: 46.544270000000004\\nVolume: 50216300',\n",
       " 'Date: 2016-06-28\\nOpen: 48.919998\\nHigh: 49.470001\\nLow: 48.669998\\nClose: 49.439999\\nAdj Close: 47.514938\\nVolume: 38140700',\n",
       " 'Date: 2016-06-29\\nOpen: 49.91\\nHigh: 50.720001\\nLow: 49.799999\\nClose: 50.540001000000004\\nAdj Close: 48.572105\\nVolume: 31304000',\n",
       " 'Date: 2016-06-30\\nOpen: 50.720001\\nHigh: 51.299999\\nLow: 50.5\\nClose: 51.169998\\nAdj Close: 49.177578000000004\\nVolume: 28527800',\n",
       " 'Date: 2016-07-01\\nOpen: 51.130001\\nHigh: 51.720001\\nLow: 51.07\\nClose: 51.16\\nAdj Close: 49.167969\\nVolume: 21400400',\n",
       " 'Date: 2016-07-05\\nOpen: 50.830002\\nHigh: 51.279999\\nLow: 50.740002000000004\\nClose: 51.169998\\nAdj Close: 49.177578000000004\\nVolume: 24806400',\n",
       " 'Date: 2016-07-06\\nOpen: 50.779999\\nHigh: 51.540001000000004\\nLow: 50.389998999999996\\nClose: 51.380001\\nAdj Close: 49.379402\\nVolume: 28167500',\n",
       " 'Date: 2016-07-07\\nOpen: 51.419998\\nHigh: 51.610001000000004\\nLow: 51.07\\nClose: 51.380001\\nAdj Close: 49.379402\\nVolume: 19580800',\n",
       " 'Date: 2016-07-08\\nOpen: 51.73\\nHigh: 52.360001000000004\\nLow: 51.549999\\nClose: 52.299999\\nAdj Close: 50.26358\\nVolume: 28391000',\n",
       " 'Date: 2016-07-11\\nOpen: 52.5\\nHigh: 52.830002\\nLow: 52.470001\\nClose: 52.59\\nAdj Close: 50.54229\\nVolume: 22269200',\n",
       " 'Date: 2016-07-12\\nOpen: 52.939999\\nHigh: 53.400002\\nLow: 52.790001000000004\\nClose: 53.209998999999996\\nAdj Close: 51.138145\\nVolume: 27317600',\n",
       " 'Date: 2016-07-13\\nOpen: 53.560001\\nHigh: 53.860001000000004\\nLow: 53.18\\nClose: 53.509997999999996\\nAdj Close: 51.42646\\nVolume: 25356800',\n",
       " 'Date: 2016-07-14\\nOpen: 53.84\\nHigh: 53.990002000000004\\nLow: 53.580002\\nClose: 53.740002000000004\\nAdj Close: 51.647511\\nVolume: 24545500',\n",
       " 'Date: 2016-07-15\\nOpen: 53.950001\\nHigh: 54.0\\nLow: 53.209998999999996\\nClose: 53.700001\\nAdj Close: 51.609066\\nVolume: 32024400',\n",
       " 'Date: 2016-07-18\\nOpen: 53.700001\\nHigh: 54.34\\nLow: 53.549999\\nClose: 53.959998999999996\\nAdj Close: 51.858940000000004\\nVolume: 31433900',\n",
       " 'Date: 2016-07-19\\nOpen: 53.709998999999996\\nHigh: 53.900002\\nLow: 52.93\\nClose: 53.09\\nAdj Close: 51.02282\\nVolume: 53336500',\n",
       " 'Date: 2016-07-20\\nOpen: 56.150002\\nHigh: 56.84\\nLow: 55.529999\\nClose: 55.91\\nAdj Close: 53.733013\\nVolume: 89893300',\n",
       " 'Date: 2016-07-21\\nOpen: 55.98\\nHigh: 56.23\\nLow: 55.759997999999996\\nClose: 55.799999\\nAdj Close: 53.627295999999994\\nVolume: 32776700',\n",
       " 'Date: 2016-07-22\\nOpen: 56.080002\\nHigh: 56.630001\\nLow: 55.779999\\nClose: 56.57\\nAdj Close: 54.367309999999996\\nVolume: 32157200',\n",
       " 'Date: 2016-07-25\\nOpen: 56.470001\\nHigh: 56.740002000000004\\nLow: 56.259997999999996\\nClose: 56.73\\nAdj Close: 54.521083999999995\\nVolume: 25610600',\n",
       " 'Date: 2016-07-26\\nOpen: 56.52\\nHigh: 57.290001000000004\\nLow: 56.509997999999996\\nClose: 56.759997999999996\\nAdj Close: 54.549915000000006\\nVolume: 28079000',\n",
       " 'Date: 2016-07-27\\nOpen: 56.610001000000004\\nHigh: 56.799999\\nLow: 56.110001000000004\\nClose: 56.189999\\nAdj Close: 54.002106000000005\\nVolume: 32095300',\n",
       " 'Date: 2016-07-28\\nOpen: 56.0\\nHigh: 56.369999\\nLow: 55.720001\\nClose: 56.209998999999996\\nAdj Close: 54.021328000000004\\nVolume: 37550400',\n",
       " 'Date: 2016-07-29\\nOpen: 56.259997999999996\\nHigh: 56.759997999999996\\nLow: 56.049999\\nClose: 56.68\\nAdj Close: 54.47303\\nVolume: 30558700',\n",
       " 'Date: 2016-08-01\\nOpen: 56.599998\\nHigh: 56.75\\nLow: 56.139998999999996\\nClose: 56.580002\\nAdj Close: 54.37693\\nVolume: 26003400',\n",
       " 'Date: 2016-08-02\\nOpen: 56.849998\\nHigh: 56.900002\\nLow: 56.310001\\nClose: 56.580002\\nAdj Close: 54.37693\\nVolume: 35122000',\n",
       " 'Date: 2016-08-03\\nOpen: 56.68\\nHigh: 57.110001000000004\\nLow: 56.490002000000004\\nClose: 56.970001\\nAdj Close: 54.751743000000005\\nVolume: 22075600',\n",
       " 'Date: 2016-08-04\\nOpen: 56.799999\\nHigh: 57.52\\nLow: 56.669998\\nClose: 57.389998999999996\\nAdj Close: 55.155388\\nVolume: 26466400',\n",
       " 'Date: 2016-08-05\\nOpen: 57.650002\\nHigh: 58.209998999999996\\nLow: 57.450001\\nClose: 57.959998999999996\\nAdj Close: 55.703185999999995\\nVolume: 29335200',\n",
       " 'Date: 2016-08-08\\nOpen: 58.060001\\nHigh: 58.09\\nLow: 57.779999\\nClose: 58.060001\\nAdj Close: 55.799296999999996\\nVolume: 19473500',\n",
       " 'Date: 2016-08-09\\nOpen: 58.169998\\nHigh: 58.5\\nLow: 58.02\\nClose: 58.200001\\nAdj Close: 55.933849\\nVolume: 16920700',\n",
       " 'Date: 2016-08-10\\nOpen: 58.16\\nHigh: 58.32\\nLow: 57.82\\nClose: 58.02\\nAdj Close: 55.760853000000004\\nVolume: 15756900',\n",
       " 'Date: 2016-08-11\\nOpen: 58.029999\\nHigh: 58.450001\\nLow: 58.029999\\nClose: 58.299999\\nAdj Close: 56.029949\\nVolume: 18133800',\n",
       " 'Date: 2016-08-12\\nOpen: 58.029999\\nHigh: 58.189999\\nLow: 57.619999\\nClose: 57.939999\\nAdj Close: 55.68396800000001\\nVolume: 21655200',\n",
       " 'Date: 2016-08-15\\nOpen: 58.009997999999996\\nHigh: 58.5\\nLow: 57.959998999999996\\nClose: 58.119999\\nAdj Close: 55.856956000000004\\nVolume: 19283900',\n",
       " 'Date: 2016-08-16\\nOpen: 57.610001000000004\\nHigh: 57.619999\\nLow: 57.27\\nClose: 57.439999\\nAdj Close: 55.547501000000004\\nVolume: 20523500',\n",
       " 'Date: 2016-08-17\\nOpen: 57.540001000000004\\nHigh: 57.68\\nLow: 57.23\\nClose: 57.560001\\nAdj Close: 55.663548\\nVolume: 18856400',\n",
       " 'Date: 2016-08-18\\nOpen: 57.419998\\nHigh: 57.700001\\nLow: 57.27\\nClose: 57.599998\\nAdj Close: 55.702231999999995\\nVolume: 14214300',\n",
       " 'Date: 2016-08-19\\nOpen: 57.43\\nHigh: 57.73\\nLow: 57.200001\\nClose: 57.619999\\nAdj Close: 55.721573\\nVolume: 17271000',\n",
       " 'Date: 2016-08-22\\nOpen: 57.599998\\nHigh: 57.75\\nLow: 57.259997999999996\\nClose: 57.669998\\nAdj Close: 55.769923999999996\\nVolume: 15221900',\n",
       " 'Date: 2016-08-23\\nOpen: 57.900002\\nHigh: 58.18\\nLow: 57.849998\\nClose: 57.889998999999996\\nAdj Close: 55.982677\\nVolume: 18732400',\n",
       " 'Date: 2016-08-24\\nOpen: 57.799999\\nHigh: 58.040001000000004\\nLow: 57.720001\\nClose: 57.950001\\nAdj Close: 56.040699\\nVolume: 18151500',\n",
       " 'Date: 2016-08-25\\nOpen: 57.880001\\nHigh: 58.290001000000004\\nLow: 57.779999\\nClose: 58.169998\\nAdj Close: 56.253452\\nVolume: 18552600',\n",
       " 'Date: 2016-08-26\\nOpen: 58.279999\\nHigh: 58.700001\\nLow: 57.689999\\nClose: 58.029999\\nAdj Close: 56.118065\\nVolume: 20971200',\n",
       " 'Date: 2016-08-29\\nOpen: 58.18\\nHigh: 58.599998\\nLow: 58.099998\\nClose: 58.099998\\nAdj Close: 56.185756999999995\\nVolume: 16217900',\n",
       " 'Date: 2016-08-30\\nOpen: 57.98\\nHigh: 58.189999\\nLow: 57.610001000000004\\nClose: 57.889998999999996\\nAdj Close: 55.982677\\nVolume: 16930200',\n",
       " 'Date: 2016-08-31\\nOpen: 57.650002\\nHigh: 57.799999\\nLow: 57.299999\\nClose: 57.459998999999996\\nAdj Close: 55.566841000000004\\nVolume: 20860300',\n",
       " 'Date: 2016-09-01\\nOpen: 57.009997999999996\\nHigh: 57.82\\nLow: 57.009997999999996\\nClose: 57.59\\nAdj Close: 55.692554\\nVolume: 26075400',\n",
       " 'Date: 2016-09-02\\nOpen: 57.669998\\nHigh: 58.189999\\nLow: 57.419998\\nClose: 57.669998\\nAdj Close: 55.769923999999996\\nVolume: 18900500',\n",
       " 'Date: 2016-09-06\\nOpen: 57.779999\\nHigh: 57.799999\\nLow: 57.209998999999996\\nClose: 57.610001000000004\\nAdj Close: 55.711906000000006\\nVolume: 16278400',\n",
       " 'Date: 2016-09-07\\nOpen: 57.470001\\nHigh: 57.84\\nLow: 57.41\\nClose: 57.66\\nAdj Close: 55.760254\\nVolume: 17493400',\n",
       " 'Date: 2016-09-08\\nOpen: 57.630001\\nHigh: 57.790001000000004\\nLow: 57.18\\nClose: 57.43\\nAdj Close: 55.53783000000001\\nVolume: 19972500',\n",
       " 'Date: 2016-09-09\\nOpen: 56.790001000000004\\nHigh: 57.52\\nLow: 56.209998999999996\\nClose: 56.209998999999996\\nAdj Close: 54.358028000000004\\nVolume: 35113900',\n",
       " 'Date: 2016-09-12\\nOpen: 56.0\\nHigh: 57.209998999999996\\nLow: 55.610001000000004\\nClose: 57.049999\\nAdj Close: 55.170349\\nVolume: 29303000',\n",
       " 'Date: 2016-09-13\\nOpen: 56.5\\nHigh: 56.650002\\nLow: 56.049999\\nClose: 56.529999\\nAdj Close: 54.667483999999995\\nVolume: 30130200',\n",
       " 'Date: 2016-09-14\\nOpen: 56.389998999999996\\nHigh: 56.630001\\nLow: 56.029999\\nClose: 56.259997999999996\\nAdj Close: 54.406380000000006\\nVolume: 24062500',\n",
       " 'Date: 2016-09-15\\nOpen: 56.150002\\nHigh: 57.349998\\nLow: 55.98\\nClose: 57.189999\\nAdj Close: 55.30574\\nVolume: 26847000',\n",
       " 'Date: 2016-09-16\\nOpen: 57.630001\\nHigh: 57.630001\\nLow: 56.75\\nClose: 57.25\\nAdj Close: 55.363766000000005\\nVolume: 44607000',\n",
       " 'Date: 2016-09-19\\nOpen: 57.27\\nHigh: 57.75\\nLow: 56.849998\\nClose: 56.93\\nAdj Close: 55.054306000000004\\nVolume: 20879200',\n",
       " 'Date: 2016-09-20\\nOpen: 57.349998\\nHigh: 57.349998\\nLow: 56.75\\nClose: 56.810001\\nAdj Close: 54.938263\\nVolume: 17384000',\n",
       " 'Date: 2016-09-21\\nOpen: 57.509997999999996\\nHigh: 57.849998\\nLow: 57.080002\\nClose: 57.759997999999996\\nAdj Close: 55.856953000000004\\nVolume: 33707300',\n",
       " 'Date: 2016-09-22\\nOpen: 57.919998\\nHigh: 58.0\\nLow: 57.630001\\nClose: 57.82\\nAdj Close: 55.914981999999995\\nVolume: 19822200',\n",
       " 'Date: 2016-09-23\\nOpen: 57.869999\\nHigh: 57.91\\nLow: 57.380001\\nClose: 57.43\\nAdj Close: 55.53783000000001\\nVolume: 19955300',\n",
       " 'Date: 2016-09-26\\nOpen: 57.080002\\nHigh: 57.139998999999996\\nLow: 56.830002\\nClose: 56.900002\\nAdj Close: 55.02529499999999\\nVolume: 21688700',\n",
       " 'Date: 2016-09-27\\nOpen: 56.93\\nHigh: 58.060001\\nLow: 56.68\\nClose: 57.950001\\nAdj Close: 56.040699\\nVolume: 28065100',\n",
       " 'Date: 2016-09-28\\nOpen: 57.880001\\nHigh: 58.060001\\nLow: 57.669998\\nClose: 58.029999\\nAdj Close: 56.118065\\nVolume: 20536400',\n",
       " 'Date: 2016-09-29\\nOpen: 57.810001\\nHigh: 58.169998\\nLow: 57.209998999999996\\nClose: 57.400002\\nAdj Close: 55.50881999999999\\nVolume: 25463500',\n",
       " 'Date: 2016-09-30\\nOpen: 57.57\\nHigh: 57.77\\nLow: 57.34\\nClose: 57.599998\\nAdj Close: 55.702231999999995\\nVolume: 29910800',\n",
       " 'Date: 2016-10-03\\nOpen: 57.41\\nHigh: 57.549999\\nLow: 57.060001\\nClose: 57.419998\\nAdj Close: 55.528164000000004\\nVolume: 19189500',\n",
       " 'Date: 2016-10-04\\nOpen: 57.27\\nHigh: 57.599998\\nLow: 56.970001\\nClose: 57.240002000000004\\nAdj Close: 55.354088\\nVolume: 20085900',\n",
       " 'Date: 2016-10-05\\nOpen: 57.290001000000004\\nHigh: 57.959998999999996\\nLow: 57.259997999999996\\nClose: 57.639998999999996\\nAdj Close: 55.740913\\nVolume: 16726400',\n",
       " 'Date: 2016-10-06\\nOpen: 57.740002000000004\\nHigh: 57.860001000000004\\nLow: 57.279999\\nClose: 57.740002000000004\\nAdj Close: 55.837627000000005\\nVolume: 16212600',\n",
       " 'Date: 2016-10-07\\nOpen: 57.849998\\nHigh: 57.98\\nLow: 57.419998\\nClose: 57.799999\\nAdj Close: 55.895641000000005\\nVolume: 20089000',\n",
       " 'Date: 2016-10-10\\nOpen: 57.91\\nHigh: 58.389998999999996\\nLow: 57.869999\\nClose: 58.040001000000004\\nAdj Close: 56.127734999999994\\nVolume: 18084400',\n",
       " 'Date: 2016-10-11\\nOpen: 57.889998999999996\\nHigh: 58.02\\nLow: 56.889998999999996\\nClose: 57.189999\\nAdj Close: 55.30574\\nVolume: 26497400',\n",
       " 'Date: 2016-10-12\\nOpen: 57.110001000000004\\nHigh: 57.27\\nLow: 56.400002\\nClose: 57.110001000000004\\nAdj Close: 55.228374\\nVolume: 22177500',\n",
       " 'Date: 2016-10-13\\nOpen: 56.700001\\nHigh: 57.299999\\nLow: 56.32\\nClose: 56.919998\\nAdj Close: 55.044628\\nVolume: 25313700',\n",
       " 'Date: 2016-10-14\\nOpen: 57.119999\\nHigh: 57.740002000000004\\nLow: 57.119999\\nClose: 57.419998\\nAdj Close: 55.528164000000004\\nVolume: 27402500',\n",
       " 'Date: 2016-10-17\\nOpen: 57.360001000000004\\nHigh: 57.459998999999996\\nLow: 56.869999\\nClose: 57.220001\\nAdj Close: 55.334755\\nVolume: 23830000',\n",
       " 'Date: 2016-10-18\\nOpen: 57.529999\\nHigh: 57.950001\\nLow: 57.41\\nClose: 57.66\\nAdj Close: 55.760254\\nVolume: 18631500',\n",
       " 'Date: 2016-10-19\\nOpen: 57.470001\\nHigh: 57.84\\nLow: 57.400002\\nClose: 57.529999\\nAdj Close: 55.634537\\nVolume: 22878400',\n",
       " 'Date: 2016-10-20\\nOpen: 57.5\\nHigh: 57.52\\nLow: 56.66\\nClose: 57.25\\nAdj Close: 55.363766000000005\\nVolume: 49455600',\n",
       " 'Date: 2016-10-21\\nOpen: 60.279999\\nHigh: 60.450001\\nLow: 59.490002000000004\\nClose: 59.66\\nAdj Close: 57.694359\\nVolume: 80032200',\n",
       " 'Date: 2016-10-24\\nOpen: 59.939999\\nHigh: 61.0\\nLow: 59.93\\nClose: 61.0\\nAdj Close: 58.990215\\nVolume: 54067000',\n",
       " 'Date: 2016-10-25\\nOpen: 60.849998\\nHigh: 61.369999\\nLow: 60.799999\\nClose: 60.990002000000004\\nAdj Close: 58.980541\\nVolume: 35137200',\n",
       " 'Date: 2016-10-26\\nOpen: 60.810001\\nHigh: 61.200001\\nLow: 60.470001\\nClose: 60.630001\\nAdj Close: 58.632401\\nVolume: 29911600',\n",
       " 'Date: 2016-10-27\\nOpen: 60.610001000000004\\nHigh: 60.830002\\nLow: 60.09\\nClose: 60.099998\\nAdj Close: 58.119862\\nVolume: 28479900',\n",
       " 'Date: 2016-10-28\\nOpen: 60.009997999999996\\nHigh: 60.52\\nLow: 59.580002\\nClose: 59.869999\\nAdj Close: 57.897442000000005\\nVolume: 33574700',\n",
       " 'Date: 2016-10-31\\nOpen: 60.16\\nHigh: 60.419998\\nLow: 59.919998\\nClose: 59.919998\\nAdj Close: 57.945789000000005\\nVolume: 26434700',\n",
       " 'Date: 2016-11-01\\nOpen: 59.970001\\nHigh: 60.02\\nLow: 59.25\\nClose: 59.799999\\nAdj Close: 57.82975\\nVolume: 24533000',\n",
       " 'Date: 2016-11-02\\nOpen: 59.82\\nHigh: 59.93\\nLow: 59.299999\\nClose: 59.43\\nAdj Close: 57.471939\\nVolume: 22147000',\n",
       " 'Date: 2016-11-03\\nOpen: 59.529999\\nHigh: 59.639998999999996\\nLow: 59.110001000000004\\nClose: 59.209998999999996\\nAdj Close: 57.259181999999996\\nVolume: 21600400',\n",
       " 'Date: 2016-11-04\\nOpen: 58.650002\\nHigh: 59.279999\\nLow: 58.52\\nClose: 58.709998999999996\\nAdj Close: 56.775661\\nVolume: 28697000',\n",
       " 'Date: 2016-11-07\\nOpen: 59.779999\\nHigh: 60.52\\nLow: 59.779999\\nClose: 60.419998\\nAdj Close: 58.429320999999995\\nVolume: 31664800',\n",
       " 'Date: 2016-11-08\\nOpen: 60.549999\\nHigh: 60.779999\\nLow: 60.150002\\nClose: 60.470001\\nAdj Close: 58.477672999999996\\nVolume: 22862000',\n",
       " 'Date: 2016-11-09\\nOpen: 60.0\\nHigh: 60.59\\nLow: 59.200001\\nClose: 60.169998\\nAdj Close: 58.187553\\nVolume: 49632500',\n",
       " 'Date: 2016-11-10\\nOpen: 60.48\\nHigh: 60.490002000000004\\nLow: 57.630001\\nClose: 58.700001\\nAdj Close: 56.76599100000001\\nVolume: 57822400',\n",
       " 'Date: 2016-11-11\\nOpen: 58.23\\nHigh: 59.119999\\nLow: 58.009997999999996\\nClose: 59.02\\nAdj Close: 57.075447\\nVolume: 38767800',\n",
       " 'Date: 2016-11-14\\nOpen: 59.02\\nHigh: 59.080002\\nLow: 57.279999\\nClose: 58.119999\\nAdj Close: 56.205093000000005\\nVolume: 40861900',\n",
       " 'Date: 2016-11-15\\nOpen: 58.330002\\nHigh: 59.490002000000004\\nLow: 58.32\\nClose: 58.869999\\nAdj Close: 57.314983\\nVolume: 35904100',\n",
       " 'Date: 2016-11-16\\nOpen: 58.939999\\nHigh: 59.66\\nLow: 58.810001\\nClose: 59.650002\\nAdj Close: 58.074383\\nVolume: 26851400',\n",
       " 'Date: 2016-11-17\\nOpen: 60.41\\nHigh: 60.950001\\nLow: 59.970001\\nClose: 60.639998999999996\\nAdj Close: 59.038235\\nVolume: 32132700',\n",
       " 'Date: 2016-11-18\\nOpen: 60.779999\\nHigh: 61.139998999999996\\nLow: 60.299999\\nClose: 60.349998\\nAdj Close: 58.755894\\nVolume: 27686300',\n",
       " 'Date: 2016-11-21\\nOpen: 60.5\\nHigh: 60.970001\\nLow: 60.419998\\nClose: 60.860001000000004\\nAdj Close: 59.252421999999996\\nVolume: 19652600',\n",
       " 'Date: 2016-11-22\\nOpen: 60.98\\nHigh: 61.259997999999996\\nLow: 60.810001\\nClose: 61.119999\\nAdj Close: 59.50555\\nVolume: 23206700',\n",
       " 'Date: 2016-11-23\\nOpen: 61.009997999999996\\nHigh: 61.099998\\nLow: 60.25\\nClose: 60.400002\\nAdj Close: 58.804568999999994\\nVolume: 21847200',\n",
       " 'Date: 2016-11-25\\nOpen: 60.299999\\nHigh: 60.529999\\nLow: 60.130001\\nClose: 60.529999\\nAdj Close: 58.931132999999996\\nVolume: 8409600',\n",
       " 'Date: 2016-11-28\\nOpen: 60.34\\nHigh: 61.02\\nLow: 60.209998999999996\\nClose: 60.610001000000004\\nAdj Close: 59.009021999999995\\nVolume: 20732600',\n",
       " 'Date: 2016-11-29\\nOpen: 60.650002\\nHigh: 61.41\\nLow: 60.52\\nClose: 61.09\\nAdj Close: 59.476349\\nVolume: 22366700',\n",
       " 'Date: 2016-11-30\\nOpen: 60.860001000000004\\nHigh: 61.18\\nLow: 60.220001\\nClose: 60.259997999999996\\nAdj Close: 58.668266\\nVolume: 34655400',\n",
       " 'Date: 2016-12-01\\nOpen: 60.110001000000004\\nHigh: 60.150002\\nLow: 58.939999\\nClose: 59.200001\\nAdj Close: 57.636265\\nVolume: 34542100',\n",
       " 'Date: 2016-12-02\\nOpen: 59.080002\\nHigh: 59.470001\\nLow: 58.799999\\nClose: 59.25\\nAdj Close: 57.684943999999994\\nVolume: 25515700',\n",
       " 'Date: 2016-12-05\\nOpen: 59.700001\\nHigh: 60.59\\nLow: 59.560001\\nClose: 60.220001\\nAdj Close: 58.62933\\nVolume: 23552700',\n",
       " 'Date: 2016-12-06\\nOpen: 60.43\\nHigh: 60.459998999999996\\nLow: 59.799999\\nClose: 59.950001\\nAdj Close: 58.366463\\nVolume: 19907000',\n",
       " 'Date: 2016-12-07\\nOpen: 60.009997999999996\\nHigh: 61.380001\\nLow: 59.799999\\nClose: 61.369999\\nAdj Close: 59.748951\\nVolume: 30809000',\n",
       " 'Date: 2016-12-08\\nOpen: 61.299999\\nHigh: 61.580002\\nLow: 60.84\\nClose: 61.009997999999996\\nAdj Close: 59.39845699999999\\nVolume: 21220800',\n",
       " 'Date: 2016-12-09\\nOpen: 61.18\\nHigh: 61.990002000000004\\nLow: 61.130001\\nClose: 61.970001\\nAdj Close: 60.333103\\nVolume: 27349400',\n",
       " 'Date: 2016-12-12\\nOpen: 61.82\\nHigh: 62.299999\\nLow: 61.720001\\nClose: 62.169998\\nAdj Close: 60.527817000000006\\nVolume: 20198100',\n",
       " 'Date: 2016-12-13\\nOpen: 62.5\\nHigh: 63.419998\\nLow: 62.240002000000004\\nClose: 62.98\\nAdj Close: 61.316421999999996\\nVolume: 35718900',\n",
       " 'Date: 2016-12-14\\nOpen: 63.0\\nHigh: 63.450001\\nLow: 62.529999\\nClose: 62.68\\nAdj Close: 61.024345\\nVolume: 30352700',\n",
       " 'Date: 2016-12-15\\nOpen: 62.700001\\nHigh: 63.150002\\nLow: 62.299999\\nClose: 62.580002\\nAdj Close: 60.926991\\nVolume: 27669900',\n",
       " 'Date: 2016-12-16\\nOpen: 62.950001\\nHigh: 62.950001\\nLow: 62.119999\\nClose: 62.299999\\nAdj Close: 60.65438100000001\\nVolume: 42204700',\n",
       " 'Date: 2016-12-19\\nOpen: 62.560001\\nHigh: 63.77\\nLow: 62.419998\\nClose: 63.619999\\nAdj Close: 61.93951800000001\\nVolume: 34338200',\n",
       " 'Date: 2016-12-20\\nOpen: 63.689999\\nHigh: 63.799999\\nLow: 63.029999\\nClose: 63.540001000000004\\nAdj Close: 61.861633\\nVolume: 26028400',\n",
       " 'Date: 2016-12-21\\nOpen: 63.43\\nHigh: 63.700001\\nLow: 63.119999\\nClose: 63.540001000000004\\nAdj Close: 61.861633\\nVolume: 17096300',\n",
       " 'Date: 2016-12-22\\nOpen: 63.84\\nHigh: 64.099998\\nLow: 63.41\\nClose: 63.549999\\nAdj Close: 61.871365000000004\\nVolume: 22176600',\n",
       " 'Date: 2016-12-23\\nOpen: 63.450001\\nHigh: 63.540001000000004\\nLow: 62.799999\\nClose: 63.240002000000004\\nAdj Close: 61.569556999999996\\nVolume: 12398000',\n",
       " 'Date: 2016-12-27\\nOpen: 63.209998999999996\\nHigh: 64.07\\nLow: 63.209998999999996\\nClose: 63.279999\\nAdj Close: 61.60849\\nVolume: 11763200',\n",
       " 'Date: 2016-12-28\\nOpen: 63.400002\\nHigh: 63.400002\\nLow: 62.830002\\nClose: 62.990002000000004\\nAdj Close: 61.326156999999995\\nVolume: 14653300',\n",
       " 'Date: 2016-12-29\\nOpen: 62.860001000000004\\nHigh: 63.200001\\nLow: 62.73\\nClose: 62.900002\\nAdj Close: 61.238541000000005\\nVolume: 10181600',\n",
       " 'Date: 2016-12-30\\nOpen: 62.959998999999996\\nHigh: 62.990002000000004\\nLow: 62.029999\\nClose: 62.139998999999996\\nAdj Close: 60.498604\\nVolume: 25579900',\n",
       " 'Date: 2017-01-03\\nOpen: 62.790001000000004\\nHigh: 62.84\\nLow: 62.130001\\nClose: 62.580002\\nAdj Close: 60.926991\\nVolume: 20694100',\n",
       " 'Date: 2017-01-04\\nOpen: 62.48\\nHigh: 62.75\\nLow: 62.119999\\nClose: 62.299999\\nAdj Close: 60.65438100000001\\nVolume: 21340000',\n",
       " 'Date: 2017-01-05\\nOpen: 62.189999\\nHigh: 62.66\\nLow: 62.029999\\nClose: 62.299999\\nAdj Close: 60.65438100000001\\nVolume: 24876000',\n",
       " 'Date: 2017-01-06\\nOpen: 62.299999\\nHigh: 63.150002\\nLow: 62.040001000000004\\nClose: 62.84\\nAdj Close: 61.180119\\nVolume: 19922900',\n",
       " 'Date: 2017-01-09\\nOpen: 62.759997999999996\\nHigh: 63.080002\\nLow: 62.540001000000004\\nClose: 62.639998999999996\\nAdj Close: 60.98540500000001\\nVolume: 20256600',\n",
       " 'Date: 2017-01-10\\nOpen: 62.73\\nHigh: 63.07\\nLow: 62.279999\\nClose: 62.619999\\nAdj Close: 60.965931000000005\\nVolume: 18593000',\n",
       " 'Date: 2017-01-11\\nOpen: 62.610001000000004\\nHigh: 63.23\\nLow: 62.43\\nClose: 63.189999\\nAdj Close: 61.520874\\nVolume: 21517300',\n",
       " 'Date: 2017-01-12\\nOpen: 63.060001\\nHigh: 63.400002\\nLow: 61.950001\\nClose: 62.610001000000004\\nAdj Close: 60.956196\\nVolume: 20968200',\n",
       " 'Date: 2017-01-13\\nOpen: 62.619999\\nHigh: 62.869999\\nLow: 62.349998\\nClose: 62.700001\\nAdj Close: 61.04381899999999\\nVolume: 19422300',\n",
       " 'Date: 2017-01-17\\nOpen: 62.68\\nHigh: 62.700001\\nLow: 62.029999\\nClose: 62.529999\\nAdj Close: 60.87830699999999\\nVolume: 20620400',\n",
       " 'Date: 2017-01-18\\nOpen: 62.669998\\nHigh: 62.700001\\nLow: 62.119999\\nClose: 62.5\\nAdj Close: 60.849106000000006\\nVolume: 19670100',\n",
       " 'Date: 2017-01-19\\nOpen: 62.240002000000004\\nHigh: 62.98\\nLow: 62.200001\\nClose: 62.299999\\nAdj Close: 60.65438100000001\\nVolume: 18451700',\n",
       " 'Date: 2017-01-20\\nOpen: 62.669998\\nHigh: 62.82\\nLow: 62.369999\\nClose: 62.740002000000004\\nAdj Close: 61.08276\\nVolume: 30213500',\n",
       " 'Date: 2017-01-23\\nOpen: 62.700001\\nHigh: 63.119999\\nLow: 62.57\\nClose: 62.959998999999996\\nAdj Close: 61.296946999999996\\nVolume: 23097600',\n",
       " 'Date: 2017-01-24\\nOpen: 63.200001\\nHigh: 63.740002000000004\\nLow: 62.939999\\nClose: 63.52\\nAdj Close: 61.842158999999995\\nVolume: 24672900',\n",
       " 'Date: 2017-01-25\\nOpen: 63.950001\\nHigh: 64.099998\\nLow: 63.450001\\nClose: 63.68\\nAdj Close: 61.997929000000006\\nVolume: 23672700',\n",
       " 'Date: 2017-01-26\\nOpen: 64.120003\\nHigh: 64.540001\\nLow: 63.549999\\nClose: 64.269997\\nAdj Close: 62.572345999999996\\nVolume: 43554600',\n",
       " 'Date: 2017-01-27\\nOpen: 65.389999\\nHigh: 65.910004\\nLow: 64.889999\\nClose: 65.779999\\nAdj Close: 64.042465\\nVolume: 44818000',\n",
       " 'Date: 2017-01-30\\nOpen: 65.690002\\nHigh: 65.790001\\nLow: 64.800003\\nClose: 65.129997\\nAdj Close: 63.409626\\nVolume: 31651400',\n",
       " 'Date: 2017-01-31\\nOpen: 64.860001\\nHigh: 65.150002\\nLow: 64.260002\\nClose: 64.650002\\nAdj Close: 62.94231\\nVolume: 25270500',\n",
       " 'Date: 2017-02-01\\nOpen: 64.360001\\nHigh: 64.620003\\nLow: 63.470001\\nClose: 63.580002\\nAdj Close: 61.900574\\nVolume: 39671500',\n",
       " 'Date: 2017-02-02\\nOpen: 63.25\\nHigh: 63.41\\nLow: 62.75\\nClose: 63.169998\\nAdj Close: 61.5014\\nVolume: 45827000',\n",
       " 'Date: 2017-02-03\\nOpen: 63.5\\nHigh: 63.700001\\nLow: 63.07\\nClose: 63.68\\nAdj Close: 61.997929000000006\\nVolume: 30301800',\n",
       " 'Date: 2017-02-06\\nOpen: 63.5\\nHigh: 63.650002\\nLow: 63.139998999999996\\nClose: 63.639998999999996\\nAdj Close: 61.958992\\nVolume: 19796400',\n",
       " 'Date: 2017-02-07\\nOpen: 63.740002000000004\\nHigh: 63.779999\\nLow: 63.23\\nClose: 63.43\\nAdj Close: 61.754536\\nVolume: 20277200',\n",
       " 'Date: 2017-02-08\\nOpen: 63.57\\nHigh: 63.810001\\nLow: 63.220001\\nClose: 63.34\\nAdj Close: 61.666916\\nVolume: 18096400',\n",
       " 'Date: 2017-02-09\\nOpen: 63.52\\nHigh: 64.440002\\nLow: 63.32\\nClose: 64.059998\\nAdj Close: 62.367889\\nVolume: 22644400',\n",
       " 'Date: 2017-02-10\\nOpen: 64.25\\nHigh: 64.300003\\nLow: 63.98\\nClose: 64.0\\nAdj Close: 62.309475\\nVolume: 18170700',\n",
       " 'Date: 2017-02-13\\nOpen: 64.239998\\nHigh: 64.860001\\nLow: 64.129997\\nClose: 64.720001\\nAdj Close: 63.010464\\nVolume: 22920100',\n",
       " 'Date: 2017-02-14\\nOpen: 64.410004\\nHigh: 64.720001\\nLow: 64.019997\\nClose: 64.57\\nAdj Close: 63.245537\\nVolume: 23065900',\n",
       " 'Date: 2017-02-15\\nOpen: 64.5\\nHigh: 64.57\\nLow: 64.160004\\nClose: 64.529999\\nAdj Close: 63.20636\\nVolume: 17005200',\n",
       " 'Date: 2017-02-16\\nOpen: 64.739998\\nHigh: 65.239998\\nLow: 64.440002\\nClose: 64.519997\\nAdj Close: 63.196564\\nVolume: 20546300',\n",
       " 'Date: 2017-02-17\\nOpen: 64.470001\\nHigh: 64.690002\\nLow: 64.300003\\nClose: 64.620003\\nAdj Close: 63.294514\\nVolume: 21248800',\n",
       " 'Date: 2017-02-21\\nOpen: 64.610001\\nHigh: 64.949997\\nLow: 64.449997\\nClose: 64.489998\\nAdj Close: 63.167179000000004\\nVolume: 20655900',\n",
       " 'Date: 2017-02-22\\nOpen: 64.33000200000001\\nHigh: 64.389999\\nLow: 64.050003\\nClose: 64.360001\\nAdj Close: 63.03984499999999\\nVolume: 19292700',\n",
       " 'Date: 2017-02-23\\nOpen: 64.41999799999999\\nHigh: 64.730003\\nLow: 64.190002\\nClose: 64.620003\\nAdj Close: 63.294514\\nVolume: 20273100',\n",
       " 'Date: 2017-02-24\\nOpen: 64.529999\\nHigh: 64.800003\\nLow: 64.139999\\nClose: 64.620003\\nAdj Close: 63.294514\\nVolume: 21796800',\n",
       " 'Date: 2017-02-27\\nOpen: 64.540001\\nHigh: 64.540001\\nLow: 64.050003\\nClose: 64.230003\\nAdj Close: 62.912518000000006\\nVolume: 15871500',\n",
       " 'Date: 2017-02-28\\nOpen: 64.08000200000001\\nHigh: 64.199997\\nLow: 63.759997999999996\\nClose: 63.98\\nAdj Close: 62.667637\\nVolume: 23239800',\n",
       " 'Date: 2017-03-01\\nOpen: 64.129997\\nHigh: 64.989998\\nLow: 64.019997\\nClose: 64.940002\\nAdj Close: 63.60795600000001\\nVolume: 26937500',\n",
       " 'Date: 2017-03-02\\nOpen: 64.690002\\nHigh: 64.75\\nLow: 63.880001\\nClose: 64.010002\\nAdj Close: 62.697029\\nVolume: 24539600',\n",
       " 'Date: 2017-03-03\\nOpen: 63.990002000000004\\nHigh: 64.279999\\nLow: 63.619999\\nClose: 64.25\\nAdj Close: 62.932102\\nVolume: 18135900',\n",
       " 'Date: 2017-03-06\\nOpen: 63.970001\\nHigh: 64.559998\\nLow: 63.810001\\nClose: 64.269997\\nAdj Close: 62.951691000000004\\nVolume: 18750300',\n",
       " 'Date: 2017-03-07\\nOpen: 64.190002\\nHigh: 64.779999\\nLow: 64.190002\\nClose: 64.400002\\nAdj Close: 63.079025\\nVolume: 18521000',\n",
       " 'Date: 2017-03-08\\nOpen: 64.260002\\nHigh: 65.08000200000001\\nLow: 64.25\\nClose: 64.989998\\nAdj Close: 63.656918000000005\\nVolume: 21510900',\n",
       " 'Date: 2017-03-09\\nOpen: 65.190002\\nHigh: 65.199997\\nLow: 64.480003\\nClose: 64.730003\\nAdj Close: 63.402267\\nVolume: 19846800',\n",
       " 'Date: 2017-03-10\\nOpen: 65.110001\\nHigh: 65.260002\\nLow: 64.75\\nClose: 64.93\\nAdj Close: 63.598156\\nVolume: 19538200',\n",
       " 'Date: 2017-03-13\\nOpen: 65.010002\\nHigh: 65.190002\\nLow: 64.57\\nClose: 64.709999\\nAdj Close: 63.382668\\nVolume: 20100000',\n",
       " 'Date: 2017-03-14\\nOpen: 64.529999\\nHigh: 64.550003\\nLow: 64.150002\\nClose: 64.410004\\nAdj Close: 63.088825\\nVolume: 14280200',\n",
       " 'Date: 2017-03-15\\nOpen: 64.550003\\nHigh: 64.91999799999999\\nLow: 64.25\\nClose: 64.75\\nAdj Close: 63.421848\\nVolume: 24833800',\n",
       " 'Date: 2017-03-16\\nOpen: 64.75\\nHigh: 64.760002\\nLow: 64.300003\\nClose: 64.639999\\nAdj Close: 63.314102\\nVolume: 20674300',\n",
       " 'Date: 2017-03-17\\nOpen: 64.910004\\nHigh: 65.239998\\nLow: 64.68\\nClose: 64.870003\\nAdj Close: 63.539387\\nVolume: 49219700',\n",
       " 'Date: 2017-03-20\\nOpen: 64.910004\\nHigh: 65.18\\nLow: 64.720001\\nClose: 64.93\\nAdj Close: 63.598156\\nVolume: 14598100',\n",
       " 'Date: 2017-03-21\\nOpen: 65.190002\\nHigh: 65.5\\nLow: 64.129997\\nClose: 64.209999\\nAdj Close: 62.892925\\nVolume: 26640500',\n",
       " 'Date: 2017-03-22\\nOpen: 64.120003\\nHigh: 65.139999\\nLow: 64.120003\\nClose: 65.029999\\nAdj Close: 63.696102\\nVolume: 20680000',\n",
       " 'Date: 2017-03-23\\nOpen: 64.940002\\nHigh: 65.239998\\nLow: 64.769997\\nClose: 64.870003\\nAdj Close: 63.539387\\nVolume: 19269200',\n",
       " 'Date: 2017-03-24\\nOpen: 65.360001\\nHigh: 65.449997\\nLow: 64.760002\\nClose: 64.980003\\nAdj Close: 63.647133\\nVolume: 22617100',\n",
       " 'Date: 2017-03-27\\nOpen: 64.629997\\nHigh: 65.220001\\nLow: 64.349998\\nClose: 65.099998\\nAdj Close: 63.76466\\nVolume: 18614700',\n",
       " 'Date: 2017-03-28\\nOpen: 64.959999\\nHigh: 65.470001\\nLow: 64.650002\\nClose: 65.290001\\nAdj Close: 63.950768000000004\\nVolume: 20080400',\n",
       " 'Date: 2017-03-29\\nOpen: 65.120003\\nHigh: 65.5\\nLow: 64.949997\\nClose: 65.470001\\nAdj Close: 64.12709\\nVolume: 13618400',\n",
       " 'Date: 2017-03-30\\nOpen: 65.41999799999999\\nHigh: 65.980003\\nLow: 65.360001\\nClose: 65.709999\\nAdj Close: 64.36216\\nVolume: 15122800',\n",
       " 'Date: 2017-03-31\\nOpen: 65.650002\\nHigh: 66.190002\\nLow: 65.449997\\nClose: 65.860001\\nAdj Close: 64.509079\\nVolume: 21040300',\n",
       " 'Date: 2017-04-03\\nOpen: 65.809998\\nHigh: 65.940002\\nLow: 65.190002\\nClose: 65.550003\\nAdj Close: 64.205437\\nVolume: 20400900',\n",
       " 'Date: 2017-04-04\\nOpen: 65.389999\\nHigh: 65.809998\\nLow: 65.279999\\nClose: 65.730003\\nAdj Close: 64.381752\\nVolume: 12997400',\n",
       " 'Date: 2017-04-05\\nOpen: 66.300003\\nHigh: 66.349998\\nLow: 65.440002\\nClose: 65.559998\\nAdj Close: 64.215225\\nVolume: 21448600',\n",
       " 'Date: 2017-04-06\\nOpen: 65.599998\\nHigh: 66.059998\\nLow: 65.480003\\nClose: 65.730003\\nAdj Close: 64.381752\\nVolume: 18103500',\n",
       " 'Date: 2017-04-07\\nOpen: 65.849998\\nHigh: 65.959999\\nLow: 65.440002\\nClose: 65.68\\nAdj Close: 64.332779\\nVolume: 14108500',\n",
       " 'Date: 2017-04-10\\nOpen: 65.610001\\nHigh: 65.82\\nLow: 65.360001\\nClose: 65.529999\\nAdj Close: 64.18584399999999\\nVolume: 17952700',\n",
       " 'Date: 2017-04-11\\nOpen: 65.599998\\nHigh: 65.610001\\nLow: 64.849998\\nClose: 65.480003\\nAdj Close: 64.136871\\nVolume: 18791500',\n",
       " 'Date: 2017-04-12\\nOpen: 65.41999799999999\\nHigh: 65.510002\\nLow: 65.110001\\nClose: 65.230003\\nAdj Close: 63.892002000000005\\nVolume: 17108500',\n",
       " 'Date: 2017-04-13\\nOpen: 65.290001\\nHigh: 65.860001\\nLow: 64.949997\\nClose: 64.949997\\nAdj Close: 63.617741\\nVolume: 17896500',\n",
       " 'Date: 2017-04-17\\nOpen: 65.040001\\nHigh: 65.489998\\nLow: 65.010002\\nClose: 65.480003\\nAdj Close: 64.136871\\nVolume: 16689300',\n",
       " 'Date: 2017-04-18\\nOpen: 65.33000200000001\\nHigh: 65.709999\\nLow: 65.160004\\nClose: 65.389999\\nAdj Close: 64.048721\\nVolume: 15155600',\n",
       " 'Date: 2017-04-19\\nOpen: 65.650002\\nHigh: 65.75\\nLow: 64.889999\\nClose: 65.040001\\nAdj Close: 63.705902\\nVolume: 26992800',\n",
       " 'Date: 2017-04-20\\nOpen: 65.459999\\nHigh: 65.75\\nLow: 65.139999\\nClose: 65.5\\nAdj Close: 64.156456\\nVolume: 22299500',\n",
       " 'Date: 2017-04-21\\nOpen: 65.66999799999999\\nHigh: 66.699997\\nLow: 65.449997\\nClose: 66.400002\\nAdj Close: 65.038002\\nVolume: 32522600',\n",
       " 'Date: 2017-04-24\\nOpen: 67.480003\\nHigh: 67.660004\\nLow: 67.099998\\nClose: 67.529999\\nAdj Close: 66.144821\\nVolume: 29770000',\n",
       " 'Date: 2017-04-25\\nOpen: 67.900002\\nHigh: 68.040001\\nLow: 67.599998\\nClose: 67.91999799999999\\nAdj Close: 66.52681700000001\\nVolume: 30242700',\n",
       " 'Date: 2017-04-26\\nOpen: 68.08000200000001\\nHigh: 68.309998\\nLow: 67.620003\\nClose: 67.83000200000001\\nAdj Close: 66.438675\\nVolume: 26190800',\n",
       " 'Date: 2017-04-27\\nOpen: 68.150002\\nHigh: 68.379997\\nLow: 67.58000200000001\\nClose: 68.269997\\nAdj Close: 66.869644\\nVolume: 34971000',\n",
       " 'Date: 2017-04-28\\nOpen: 68.910004\\nHigh: 69.139999\\nLow: 67.690002\\nClose: 68.459999\\nAdj Close: 67.05574\\nVolume: 39423500',\n",
       " 'Date: 2017-05-01\\nOpen: 68.68\\nHigh: 69.550003\\nLow: 68.5\\nClose: 69.410004\\nAdj Close: 67.98625899999999\\nVolume: 31954400',\n",
       " 'Date: 2017-05-02\\nOpen: 69.709999\\nHigh: 69.709999\\nLow: 69.129997\\nClose: 69.300003\\nAdj Close: 67.878525\\nVolume: 23906100',\n",
       " 'Date: 2017-05-03\\nOpen: 69.379997\\nHigh: 69.379997\\nLow: 68.709999\\nClose: 69.08000200000001\\nAdj Close: 67.663025\\nVolume: 28928000',\n",
       " 'Date: 2017-05-04\\nOpen: 69.029999\\nHigh: 69.08000200000001\\nLow: 68.639999\\nClose: 68.809998\\nAdj Close: 67.398567\\nVolume: 21749400',\n",
       " 'Date: 2017-05-05\\nOpen: 68.900002\\nHigh: 69.029999\\nLow: 68.489998\\nClose: 69.0\\nAdj Close: 67.584671\\nVolume: 19128800',\n",
       " 'Date: 2017-05-08\\nOpen: 68.970001\\nHigh: 69.050003\\nLow: 68.41999799999999\\nClose: 68.940002\\nAdj Close: 67.525909\\nVolume: 18566100',\n",
       " 'Date: 2017-05-09\\nOpen: 68.860001\\nHigh: 69.279999\\nLow: 68.68\\nClose: 69.040001\\nAdj Close: 67.623856\\nVolume: 22858400',\n",
       " 'Date: 2017-05-10\\nOpen: 68.989998\\nHigh: 69.559998\\nLow: 68.91999799999999\\nClose: 69.309998\\nAdj Close: 67.888306\\nVolume: 17977800',\n",
       " 'Date: 2017-05-11\\nOpen: 68.360001\\nHigh: 68.730003\\nLow: 68.120003\\nClose: 68.459999\\nAdj Close: 67.05574\\nVolume: 28789400',\n",
       " 'Date: 2017-05-12\\nOpen: 68.610001\\nHigh: 68.610001\\nLow: 68.040001\\nClose: 68.379997\\nAdj Close: 66.977386\\nVolume: 18714100',\n",
       " 'Date: 2017-05-15\\nOpen: 68.139999\\nHigh: 68.480003\\nLow: 67.57\\nClose: 68.43\\nAdj Close: 67.02636\\nVolume: 31530300',\n",
       " 'Date: 2017-05-16\\nOpen: 68.230003\\nHigh: 69.440002\\nLow: 68.160004\\nClose: 69.410004\\nAdj Close: 68.375961\\nVolume: 34956000',\n",
       " 'Date: 2017-05-17\\nOpen: 68.889999\\nHigh: 69.099998\\nLow: 67.43\\nClose: 67.480003\\nAdj Close: 66.47470899999999\\nVolume: 30548800',\n",
       " 'Date: 2017-05-18\\nOpen: 67.400002\\nHigh: 68.129997\\nLow: 67.139999\\nClose: 67.709999\\nAdj Close: 66.701279\\nVolume: 25201300',\n",
       " 'Date: 2017-05-19\\nOpen: 67.5\\nHigh: 68.099998\\nLow: 67.43\\nClose: 67.690002\\nAdj Close: 66.68158000000001\\nVolume: 26961100',\n",
       " 'Date: 2017-05-22\\nOpen: 67.889999\\nHigh: 68.5\\nLow: 67.5\\nClose: 68.449997\\nAdj Close: 67.430252\\nVolume: 16237600',\n",
       " 'Date: 2017-05-23\\nOpen: 68.720001\\nHigh: 68.75\\nLow: 68.379997\\nClose: 68.68\\nAdj Close: 67.65683\\nVolume: 15425800',\n",
       " 'Date: 2017-05-24\\nOpen: 68.870003\\nHigh: 68.879997\\nLow: 68.449997\\nClose: 68.769997\\nAdj Close: 67.745491\\nVolume: 14593900',\n",
       " 'Date: 2017-05-25\\nOpen: 68.970001\\nHigh: 69.879997\\nLow: 68.910004\\nClose: 69.620003\\nAdj Close: 68.582832\\nVolume: 21854100',\n",
       " 'Date: 2017-05-26\\nOpen: 69.800003\\nHigh: 70.220001\\nLow: 69.519997\\nClose: 69.959999\\nAdj Close: 68.917755\\nVolume: 19827900',\n",
       " 'Date: 2017-05-30\\nOpen: 69.790001\\nHigh: 70.410004\\nLow: 69.769997\\nClose: 70.410004\\nAdj Close: 69.36106099999999\\nVolume: 17072800',\n",
       " 'Date: 2017-05-31\\nOpen: 70.529999\\nHigh: 70.739998\\nLow: 69.809998\\nClose: 69.839996\\nAdj Close: 68.799545\\nVolume: 30436400',\n",
       " 'Date: 2017-06-01\\nOpen: 70.239998\\nHigh: 70.610001\\nLow: 69.449997\\nClose: 70.099998\\nAdj Close: 69.055672\\nVolume: 21603600',\n",
       " 'Date: 2017-06-02\\nOpen: 70.440002\\nHigh: 71.860001\\nLow: 70.239998\\nClose: 71.760002\\nAdj Close: 70.69094799999999\\nVolume: 34770300',\n",
       " 'Date: 2017-06-05\\nOpen: 71.970001\\nHigh: 72.889999\\nLow: 71.809998\\nClose: 72.279999\\nAdj Close: 71.203201\\nVolume: 33316800',\n",
       " 'Date: 2017-06-06\\nOpen: 72.300003\\nHigh: 72.620003\\nLow: 72.269997\\nClose: 72.519997\\nAdj Close: 71.439613\\nVolume: 31511100',\n",
       " 'Date: 2017-06-07\\nOpen: 72.639999\\nHigh: 72.769997\\nLow: 71.949997\\nClose: 72.389999\\nAdj Close: 71.311562\\nVolume: 22301800',\n",
       " 'Date: 2017-06-08\\nOpen: 72.510002\\nHigh: 72.519997\\nLow: 71.5\\nClose: 71.949997\\nAdj Close: 70.878113\\nVolume: 24456300',\n",
       " 'Date: 2017-06-09\\nOpen: 72.040001\\nHigh: 72.08000200000001\\nLow: 68.589996\\nClose: 70.32\\nAdj Close: 69.2724\\nVolume: 49187400',\n",
       " 'Date: 2017-06-12\\nOpen: 69.25\\nHigh: 69.940002\\nLow: 68.129997\\nClose: 69.779999\\nAdj Close: 68.74044\\nVolume: 47761700',\n",
       " 'Date: 2017-06-13\\nOpen: 70.019997\\nHigh: 70.82\\nLow: 69.959999\\nClose: 70.650002\\nAdj Close: 69.597481\\nVolume: 25258600',\n",
       " 'Date: 2017-06-14\\nOpen: 70.910004\\nHigh: 71.099998\\nLow: 69.43\\nClose: 70.269997\\nAdj Close: 69.223137\\nVolume: 25510700',\n",
       " 'Date: 2017-06-15\\nOpen: 69.269997\\nHigh: 70.209999\\nLow: 68.800003\\nClose: 69.900002\\nAdj Close: 68.85865\\nVolume: 26068700',\n",
       " 'Date: 2017-06-16\\nOpen: 69.730003\\nHigh: 70.029999\\nLow: 69.220001\\nClose: 70.0\\nAdj Close: 68.957169\\nVolume: 48345100',\n",
       " 'Date: 2017-06-19\\nOpen: 70.5\\nHigh: 70.940002\\nLow: 70.349998\\nClose: 70.870003\\nAdj Close: 69.814201\\nVolume: 23798300',\n",
       " 'Date: 2017-06-20\\nOpen: 70.82\\nHigh: 70.870003\\nLow: 69.870003\\nClose: 69.910004\\nAdj Close: 68.868507\\nVolume: 21512200',\n",
       " 'Date: 2017-06-21\\nOpen: 70.209999\\nHigh: 70.620003\\nLow: 69.940002\\nClose: 70.269997\\nAdj Close: 69.223137\\nVolume: 19891100',\n",
       " 'Date: 2017-06-22\\nOpen: 70.540001\\nHigh: 70.589996\\nLow: 69.709999\\nClose: 70.260002\\nAdj Close: 69.213295\\nVolume: 22965700',\n",
       " 'Date: 2017-06-23\\nOpen: 70.089996\\nHigh: 71.25\\nLow: 69.91999799999999\\nClose: 71.209999\\nAdj Close: 70.149139\\nVolume: 27617300',\n",
       " 'Date: 2017-06-26\\nOpen: 71.400002\\nHigh: 71.709999\\nLow: 70.440002\\nClose: 70.529999\\nAdj Close: 69.479271\\nVolume: 19607000',\n",
       " 'Date: 2017-06-27\\nOpen: 70.110001\\nHigh: 70.18\\nLow: 69.18\\nClose: 69.209999\\nAdj Close: 68.17893199999999\\nVolume: 25215100',\n",
       " 'Date: 2017-06-28\\nOpen: 69.209999\\nHigh: 69.839996\\nLow: 68.790001\\nClose: 69.800003\\nAdj Close: 68.760147\\nVolume: 25806200',\n",
       " 'Date: 2017-06-29\\nOpen: 69.379997\\nHigh: 69.489998\\nLow: 68.089996\\nClose: 68.489998\\nAdj Close: 67.469658\\nVolume: 28918700',\n",
       " 'Date: 2017-06-30\\nOpen: 68.779999\\nHigh: 69.379997\\nLow: 68.739998\\nClose: 68.93\\nAdj Close: 67.90310699999999\\nVolume: 24161100',\n",
       " 'Date: 2017-07-03\\nOpen: 69.33000200000001\\nHigh: 69.599998\\nLow: 68.019997\\nClose: 68.16999799999999\\nAdj Close: 67.154427\\nVolume: 16165500',\n",
       " 'Date: 2017-07-05\\nOpen: 68.260002\\nHigh: 69.440002\\nLow: 68.220001\\nClose: 69.08000200000001\\nAdj Close: 68.05088\\nVolume: 21176300',\n",
       " 'Date: 2017-07-06\\nOpen: 68.269997\\nHigh: 68.779999\\nLow: 68.120003\\nClose: 68.57\\nAdj Close: 67.54847\\nVolume: 21117600',\n",
       " 'Date: 2017-07-07\\nOpen: 68.699997\\nHigh: 69.839996\\nLow: 68.699997\\nClose: 69.459999\\nAdj Close: 68.425209\\nVolume: 16878300',\n",
       " 'Date: 2017-07-10\\nOpen: 69.459999\\nHigh: 70.25\\nLow: 69.199997\\nClose: 69.980003\\nAdj Close: 68.937469\\nVolume: 15014500',\n",
       " 'Date: 2017-07-11\\nOpen: 70.0\\nHigh: 70.68\\nLow: 69.75\\nClose: 69.989998\\nAdj Close: 68.947319\\nVolume: 17460000',\n",
       " 'Date: 2017-07-12\\nOpen: 70.690002\\nHigh: 71.279999\\nLow: 70.550003\\nClose: 71.150002\\nAdj Close: 70.090034\\nVolume: 17750900',\n",
       " 'Date: 2017-07-13\\nOpen: 71.5\\nHigh: 72.040001\\nLow: 71.309998\\nClose: 71.769997\\nAdj Close: 70.70079\\nVolume: 20269800',\n",
       " 'Date: 2017-07-14\\nOpen: 72.239998\\nHigh: 73.269997\\nLow: 71.959999\\nClose: 72.779999\\nAdj Close: 71.695747\\nVolume: 25868100',\n",
       " 'Date: 2017-07-17\\nOpen: 72.800003\\nHigh: 73.449997\\nLow: 72.720001\\nClose: 73.349998\\nAdj Close: 72.257263\\nVolume: 21803900',\n",
       " 'Date: 2017-07-18\\nOpen: 73.089996\\nHigh: 73.389999\\nLow: 72.660004\\nClose: 73.300003\\nAdj Close: 72.208\\nVolume: 26435300',\n",
       " 'Date: 2017-07-19\\nOpen: 73.5\\nHigh: 74.040001\\nLow: 73.449997\\nClose: 73.860001\\nAdj Close: 72.759651\\nVolume: 22416200',\n",
       " 'Date: 2017-07-20\\nOpen: 74.18\\nHigh: 74.300003\\nLow: 73.279999\\nClose: 74.220001\\nAdj Close: 73.114296\\nVolume: 42361000',\n",
       " 'Date: 2017-07-21\\nOpen: 73.449997\\nHigh: 74.290001\\nLow: 73.16999799999999\\nClose: 73.790001\\nAdj Close: 72.690704\\nVolume: 46717100',\n",
       " 'Date: 2017-07-24\\nOpen: 73.529999\\nHigh: 73.75\\nLow: 73.129997\\nClose: 73.599998\\nAdj Close: 72.50353199999999\\nVolume: 21394800',\n",
       " 'Date: 2017-07-25\\nOpen: 73.800003\\nHigh: 74.309998\\nLow: 73.5\\nClose: 74.190002\\nAdj Close: 73.08474\\nVolume: 22018700',\n",
       " 'Date: 2017-07-26\\nOpen: 74.339996\\nHigh: 74.379997\\nLow: 73.809998\\nClose: 74.050003\\nAdj Close: 72.946831\\nVolume: 16252200',\n",
       " 'Date: 2017-07-27\\nOpen: 73.760002\\nHigh: 74.41999799999999\\nLow: 72.32\\nClose: 73.160004\\nAdj Close: 72.070091\\nVolume: 36844200',\n",
       " 'Date: 2017-07-28\\nOpen: 72.66999799999999\\nHigh: 73.309998\\nLow: 72.540001\\nClose: 73.040001\\nAdj Close: 71.951881\\nVolume: 18306700',\n",
       " 'Date: 2017-07-31\\nOpen: 73.300003\\nHigh: 73.440002\\nLow: 72.410004\\nClose: 72.699997\\nAdj Close: 71.616936\\nVolume: 23600100',\n",
       " 'Date: 2017-08-01\\nOpen: 73.099998\\nHigh: 73.41999799999999\\nLow: 72.489998\\nClose: 72.58000200000001\\nAdj Close: 71.498734\\nVolume: 22132300',\n",
       " 'Date: 2017-08-02\\nOpen: 72.550003\\nHigh: 72.559998\\nLow: 71.440002\\nClose: 72.260002\\nAdj Close: 71.183502\\nVolume: 26499200',\n",
       " 'Date: 2017-08-03\\nOpen: 72.190002\\nHigh: 72.440002\\nLow: 71.849998\\nClose: 72.150002\\nAdj Close: 71.07513399999999\\nVolume: 18214400',\n",
       " 'Date: 2017-08-04\\nOpen: 72.400002\\nHigh: 73.040001\\nLow: 72.239998\\nClose: 72.68\\nAdj Close: 71.59723699999999\\nVolume: 22579000',\n",
       " 'Date: 2017-08-07\\nOpen: 72.800003\\nHigh: 72.900002\\nLow: 72.260002\\nClose: 72.400002\\nAdj Close: 71.32141899999999\\nVolume: 18705700',\n",
       " 'Date: 2017-08-08\\nOpen: 72.089996\\nHigh: 73.129997\\nLow: 71.75\\nClose: 72.790001\\nAdj Close: 71.705597\\nVolume: 22044600',\n",
       " 'Date: 2017-08-09\\nOpen: 72.25\\nHigh: 72.510002\\nLow: 72.050003\\nClose: 72.470001\\nAdj Close: 71.390366\\nVolume: 22213400',\n",
       " 'Date: 2017-08-10\\nOpen: 71.900002\\nHigh: 72.190002\\nLow: 71.349998\\nClose: 71.410004\\nAdj Close: 70.346161\\nVolume: 24734500',\n",
       " 'Date: 2017-08-11\\nOpen: 71.610001\\nHigh: 72.699997\\nLow: 71.279999\\nClose: 72.5\\nAdj Close: 71.419914\\nVolume: 21443700',\n",
       " 'Date: 2017-08-14\\nOpen: 73.059998\\nHigh: 73.720001\\nLow: 72.949997\\nClose: 73.589996\\nAdj Close: 72.493675\\nVolume: 20067300',\n",
       " 'Date: 2017-08-15\\nOpen: 73.589996\\nHigh: 73.589996\\nLow: 73.040001\\nClose: 73.220001\\nAdj Close: 72.513489\\nVolume: 19181400',\n",
       " 'Date: 2017-08-16\\nOpen: 73.339996\\nHigh: 74.099998\\nLow: 73.16999799999999\\nClose: 73.650002\\nAdj Close: 72.939346\\nVolume: 18150400',\n",
       " 'Date: 2017-08-17\\nOpen: 73.58000200000001\\nHigh: 73.870003\\nLow: 72.400002\\nClose: 72.400002\\nAdj Close: 71.701401\\nVolume: 22977500',\n",
       " 'Date: 2017-08-18\\nOpen: 72.269997\\nHigh: 72.839996\\nLow: 71.93\\nClose: 72.489998\\nAdj Close: 71.790527\\nVolume: 18761500',\n",
       " 'Date: 2017-08-21\\nOpen: 72.470001\\nHigh: 72.480003\\nLow: 71.699997\\nClose: 72.150002\\nAdj Close: 71.453812\\nVolume: 17734800',\n",
       " 'Date: 2017-08-22\\nOpen: 72.349998\\nHigh: 73.239998\\nLow: 72.349998\\nClose: 73.160004\\nAdj Close: 72.454071\\nVolume: 14343700',\n",
       " 'Date: 2017-08-23\\nOpen: 72.959999\\nHigh: 73.150002\\nLow: 72.529999\\nClose: 72.720001\\nAdj Close: 72.01831800000001\\nVolume: 13766500',\n",
       " 'Date: 2017-08-24\\nOpen: 72.739998\\nHigh: 72.860001\\nLow: 72.07\\nClose: 72.690002\\nAdj Close: 71.988602\\nVolume: 17098300',\n",
       " 'Date: 2017-08-25\\nOpen: 72.860001\\nHigh: 73.349998\\nLow: 72.480003\\nClose: 72.82\\nAdj Close: 72.11734799999999\\nVolume: 12794300',\n",
       " 'Date: 2017-08-28\\nOpen: 73.059998\\nHigh: 73.089996\\nLow: 72.550003\\nClose: 72.83000200000001\\nAdj Close: 72.127258\\nVolume: 14569700',\n",
       " 'Date: 2017-08-29\\nOpen: 72.25\\nHigh: 73.160004\\nLow: 72.050003\\nClose: 73.050003\\nAdj Close: 72.345139\\nVolume: 11478400',\n",
       " 'Date: 2017-08-30\\nOpen: 73.010002\\nHigh: 74.209999\\nLow: 72.83000200000001\\nClose: 74.010002\\nAdj Close: 73.295868\\nVolume: 16897800',\n",
       " 'Date: 2017-08-31\\nOpen: 74.029999\\nHigh: 74.959999\\nLow: 73.800003\\nClose: 74.769997\\nAdj Close: 74.04853100000001\\nVolume: 27652800',\n",
       " 'Date: 2017-09-01\\nOpen: 74.709999\\nHigh: 74.739998\\nLow: 73.639999\\nClose: 73.940002\\nAdj Close: 73.226547\\nVolume: 21736200',\n",
       " 'Date: 2017-09-05\\nOpen: 73.339996\\nHigh: 73.889999\\nLow: 72.980003\\nClose: 73.610001\\nAdj Close: 72.899727\\nVolume: 21556000',\n",
       " 'Date: 2017-09-06\\nOpen: 73.739998\\nHigh: 74.040001\\nLow: 73.349998\\nClose: 73.400002\\nAdj Close: 72.69175\\nVolume: 16535800',\n",
       " 'Date: 2017-09-07\\nOpen: 73.68\\nHigh: 74.599998\\nLow: 73.599998\\nClose: 74.339996\\nAdj Close: 73.622681\\nVolume: 17471200',\n",
       " 'Date: 2017-09-08\\nOpen: 74.33000200000001\\nHigh: 74.440002\\nLow: 73.839996\\nClose: 73.980003\\nAdj Close: 73.266159\\nVolume: 14703800',\n",
       " 'Date: 2017-09-11\\nOpen: 74.309998\\nHigh: 74.940002\\nLow: 74.309998\\nClose: 74.760002\\nAdj Close: 74.038635\\nVolume: 17910400',\n",
       " 'Date: 2017-09-12\\nOpen: 74.760002\\nHigh: 75.239998\\nLow: 74.370003\\nClose: 74.68\\nAdj Close: 73.959404\\nVolume: 14394900',\n",
       " 'Date: 2017-09-13\\nOpen: 74.93\\nHigh: 75.230003\\nLow: 74.550003\\nClose: 75.209999\\nAdj Close: 74.484291\\nVolume: 13380800',\n",
       " 'Date: 2017-09-14\\nOpen: 75.0\\nHigh: 75.489998\\nLow: 74.519997\\nClose: 74.769997\\nAdj Close: 74.04853100000001\\nVolume: 15733900',\n",
       " 'Date: 2017-09-15\\nOpen: 74.83000200000001\\nHigh: 75.389999\\nLow: 74.07\\nClose: 75.309998\\nAdj Close: 74.583321\\nVolume: 38578400',\n",
       " 'Date: 2017-09-18\\nOpen: 75.230003\\nHigh: 75.970001\\nLow: 75.040001\\nClose: 75.160004\\nAdj Close: 74.434776\\nVolume: 23307000',\n",
       " 'Date: 2017-09-19\\nOpen: 75.209999\\nHigh: 75.709999\\nLow: 75.010002\\nClose: 75.440002\\nAdj Close: 74.712067\\nVolume: 16093300',\n",
       " 'Date: 2017-09-20\\nOpen: 75.349998\\nHigh: 75.550003\\nLow: 74.309998\\nClose: 74.940002\\nAdj Close: 74.21689599999999\\nVolume: 21587900',\n",
       " 'Date: 2017-09-21\\nOpen: 75.110001\\nHigh: 75.239998\\nLow: 74.110001\\nClose: 74.209999\\nAdj Close: 73.493935\\nVolume: 19186100',\n",
       " 'Date: 2017-09-22\\nOpen: 73.989998\\nHigh: 74.510002\\nLow: 73.849998\\nClose: 74.410004\\nAdj Close: 73.692009\\nVolume: 14111400',\n",
       " 'Date: 2017-09-25\\nOpen: 74.089996\\nHigh: 74.25\\nLow: 72.91999799999999\\nClose: 73.260002\\nAdj Close: 72.553108\\nVolume: 24149200',\n",
       " 'Date: 2017-09-26\\nOpen: 73.66999799999999\\nHigh: 73.809998\\nLow: 72.989998\\nClose: 73.260002\\nAdj Close: 72.553108\\nVolume: 18019600',\n",
       " 'Date: 2017-09-27\\nOpen: 73.550003\\nHigh: 74.16999799999999\\nLow: 73.16999799999999\\nClose: 73.849998\\nAdj Close: 73.137413\\nVolume: 19565100',\n",
       " 'Date: 2017-09-28\\nOpen: 73.540001\\nHigh: 73.970001\\nLow: 73.309998\\nClose: 73.870003\\nAdj Close: 73.157219\\nVolume: 10883800',\n",
       " 'Date: 2017-09-29\\nOpen: 73.940002\\nHigh: 74.540001\\nLow: 73.879997\\nClose: 74.489998\\nAdj Close: 73.771233\\nVolume: 17079100',\n",
       " 'Date: 2017-10-02\\nOpen: 74.709999\\nHigh: 75.010002\\nLow: 74.300003\\nClose: 74.610001\\nAdj Close: 73.89007600000001\\nVolume: 15304800',\n",
       " 'Date: 2017-10-03\\nOpen: 74.66999799999999\\nHigh: 74.879997\\nLow: 74.190002\\nClose: 74.260002\\nAdj Close: 73.54345699999999\\nVolume: 12190400',\n",
       " 'Date: 2017-10-04\\nOpen: 74.089996\\nHigh: 74.720001\\nLow: 73.709999\\nClose: 74.690002\\nAdj Close: 73.969307\\nVolume: 13317700',\n",
       " 'Date: 2017-10-05\\nOpen: 75.220001\\nHigh: 76.120003\\nLow: 74.959999\\nClose: 75.970001\\nAdj Close: 75.236954\\nVolume: 21195300',\n",
       " 'Date: 2017-10-06\\nOpen: 75.66999799999999\\nHigh: 76.029999\\nLow: 75.540001\\nClose: 76.0\\nAdj Close: 75.266663\\nVolume: 13959800',\n",
       " 'Date: 2017-10-09\\nOpen: 75.970001\\nHigh: 76.550003\\nLow: 75.860001\\nClose: 76.290001\\nAdj Close: 75.553864\\nVolume: 11386500',\n",
       " 'Date: 2017-10-10\\nOpen: 76.33000200000001\\nHigh: 76.629997\\nLow: 76.139999\\nClose: 76.290001\\nAdj Close: 75.553864\\nVolume: 13944500',\n",
       " 'Date: 2017-10-11\\nOpen: 76.360001\\nHigh: 76.459999\\nLow: 75.949997\\nClose: 76.41999799999999\\nAdj Close: 75.68261\\nVolume: 15388900',\n",
       " 'Date: 2017-10-12\\nOpen: 76.489998\\nHigh: 77.290001\\nLow: 76.370003\\nClose: 77.120003\\nAdj Close: 76.375862\\nVolume: 16876500',\n",
       " 'Date: 2017-10-13\\nOpen: 77.589996\\nHigh: 77.870003\\nLow: 77.290001\\nClose: 77.489998\\nAdj Close: 76.74227900000001\\nVolume: 15335700',\n",
       " 'Date: 2017-10-16\\nOpen: 77.41999799999999\\nHigh: 77.809998\\nLow: 77.349998\\nClose: 77.650002\\nAdj Close: 76.900749\\nVolume: 12380100',\n",
       " 'Date: 2017-10-17\\nOpen: 77.470001\\nHigh: 77.620003\\nLow: 77.25\\nClose: 77.589996\\nAdj Close: 76.841316\\nVolume: 16824000',\n",
       " 'Date: 2017-10-18\\nOpen: 77.66999799999999\\nHigh: 77.849998\\nLow: 77.370003\\nClose: 77.610001\\nAdj Close: 76.86113\\nVolume: 13300700',\n",
       " 'Date: 2017-10-19\\nOpen: 77.57\\nHigh: 77.93\\nLow: 77.349998\\nClose: 77.910004\\nAdj Close: 77.158234\\nVolume: 15092800',\n",
       " 'Date: 2017-10-20\\nOpen: 78.32\\nHigh: 78.970001\\nLow: 78.220001\\nClose: 78.809998\\nAdj Close: 78.049545\\nVolume: 22866400',\n",
       " 'Date: 2017-10-23\\nOpen: 78.989998\\nHigh: 79.339996\\nLow: 78.760002\\nClose: 78.83000200000001\\nAdj Close: 78.06935899999999\\nVolume: 20627200',\n",
       " 'Date: 2017-10-24\\nOpen: 78.900002\\nHigh: 79.199997\\nLow: 78.459999\\nClose: 78.860001\\nAdj Close: 78.099068\\nVolume: 17517200',\n",
       " 'Date: 2017-10-25\\nOpen: 78.58000200000001\\nHigh: 79.099998\\nLow: 78.010002\\nClose: 78.629997\\nAdj Close: 77.871284\\nVolume: 20410800',\n",
       " 'Date: 2017-10-26\\nOpen: 79.199997\\nHigh: 79.41999799999999\\nLow: 78.75\\nClose: 78.760002\\nAdj Close: 78.000038\\nVolume: 32120700',\n",
       " 'Date: 2017-10-27\\nOpen: 84.370003\\nHigh: 86.199997\\nLow: 83.610001\\nClose: 83.809998\\nAdj Close: 83.001305\\nVolume: 71066700',\n",
       " 'Date: 2017-10-30\\nOpen: 83.699997\\nHigh: 84.33000200000001\\nLow: 83.110001\\nClose: 83.889999\\nAdj Close: 83.080536\\nVolume: 31756700',\n",
       " 'Date: 2017-10-31\\nOpen: 84.360001\\nHigh: 84.360001\\nLow: 83.110001\\nClose: 83.18\\nAdj Close: 82.377388\\nVolume: 27086600',\n",
       " 'Date: 2017-11-01\\nOpen: 83.68\\nHigh: 83.760002\\nLow: 82.879997\\nClose: 83.18\\nAdj Close: 82.377388\\nVolume: 22307400',\n",
       " 'Date: 2017-11-02\\nOpen: 83.349998\\nHigh: 84.459999\\nLow: 83.120003\\nClose: 84.050003\\nAdj Close: 83.238991\\nVolume: 23992900',\n",
       " 'Date: 2017-11-03\\nOpen: 84.08000200000001\\nHigh: 84.540001\\nLow: 83.400002\\nClose: 84.139999\\nAdj Close: 83.328117\\nVolume: 17633500',\n",
       " 'Date: 2017-11-06\\nOpen: 84.199997\\nHigh: 84.699997\\nLow: 84.08000200000001\\nClose: 84.470001\\nAdj Close: 83.654938\\nVolume: 19860900',\n",
       " 'Date: 2017-11-07\\nOpen: 84.769997\\nHigh: 84.900002\\nLow: 83.93\\nClose: 84.269997\\nAdj Close: 83.456863\\nVolume: 17939700',\n",
       " 'Date: 2017-11-08\\nOpen: 84.139999\\nHigh: 84.610001\\nLow: 83.83000200000001\\nClose: 84.559998\\nAdj Close: 83.744064\\nVolume: 18034200',\n",
       " 'Date: 2017-11-09\\nOpen: 84.110001\\nHigh: 84.269997\\nLow: 82.900002\\nClose: 84.089996\\nAdj Close: 83.278603\\nVolume: 21178400',\n",
       " 'Date: 2017-11-10\\nOpen: 83.790001\\nHigh: 84.099998\\nLow: 83.230003\\nClose: 83.870003\\nAdj Close: 83.06073\\nVolume: 19397800',\n",
       " 'Date: 2017-11-13\\nOpen: 83.660004\\nHigh: 83.940002\\nLow: 83.459999\\nClose: 83.93\\nAdj Close: 83.12014\\nVolume: 14196900',\n",
       " 'Date: 2017-11-14\\nOpen: 83.5\\nHigh: 84.099998\\nLow: 82.980003\\nClose: 84.050003\\nAdj Close: 83.238991\\nVolume: 18801300',\n",
       " 'Date: 2017-11-15\\nOpen: 83.470001\\nHigh: 83.690002\\nLow: 82.690002\\nClose: 82.980003\\nAdj Close: 82.592033\\nVolume: 19383100',\n",
       " 'Date: 2017-11-16\\nOpen: 83.099998\\nHigh: 83.41999799999999\\nLow: 82.940002\\nClose: 83.199997\\nAdj Close: 82.810997\\nVolume: 20962800',\n",
       " 'Date: 2017-11-17\\nOpen: 83.120003\\nHigh: 83.120003\\nLow: 82.239998\\nClose: 82.400002\\nAdj Close: 82.01474\\nVolume: 22079000',\n",
       " 'Date: 2017-11-20\\nOpen: 82.400002\\nHigh: 82.589996\\nLow: 82.25\\nClose: 82.529999\\nAdj Close: 82.144127\\nVolume: 16315000',\n",
       " 'Date: 2017-11-21\\nOpen: 82.739998\\nHigh: 83.839996\\nLow: 82.739998\\nClose: 83.720001\\nAdj Close: 83.328568\\nVolume: 21237500',\n",
       " 'Date: 2017-11-22\\nOpen: 83.83000200000001\\nHigh: 83.900002\\nLow: 83.040001\\nClose: 83.110001\\nAdj Close: 82.72142\\nVolume: 20553100',\n",
       " 'Date: 2017-11-24\\nOpen: 83.010002\\nHigh: 83.43\\nLow: 82.779999\\nClose: 83.260002\\nAdj Close: 82.87071999999999\\nVolume: 7425600',\n",
       " 'Date: 2017-11-27\\nOpen: 83.309998\\nHigh: 83.980003\\nLow: 83.300003\\nClose: 83.870003\\nAdj Close: 83.477867\\nVolume: 18265200',\n",
       " 'Date: 2017-11-28\\nOpen: 84.07\\nHigh: 85.059998\\nLow: 84.019997\\nClose: 84.879997\\nAdj Close: 84.48313900000001\\nVolume: 21926000',\n",
       " 'Date: 2017-11-29\\nOpen: 84.709999\\nHigh: 84.91999799999999\\nLow: 83.18\\nClose: 83.339996\\nAdj Close: 82.95034\\nVolume: 27381100',\n",
       " 'Date: 2017-11-30\\nOpen: 83.510002\\nHigh: 84.519997\\nLow: 83.339996\\nClose: 84.16999799999999\\nAdj Close: 83.776459\\nVolume: 33054600',\n",
       " 'Date: 2017-12-01\\nOpen: 83.599998\\nHigh: 84.809998\\nLow: 83.220001\\nClose: 84.260002\\nAdj Close: 83.866043\\nVolume: 29532100',\n",
       " 'Date: 2017-12-04\\nOpen: 84.41999799999999\\nHigh: 84.43\\nLow: 80.699997\\nClose: 81.08000200000001\\nAdj Close: 80.700912\\nVolume: 39094900',\n",
       " 'Date: 2017-12-05\\nOpen: 81.339996\\nHigh: 82.68\\nLow: 80.980003\\nClose: 81.589996\\nAdj Close: 81.208519\\nVolume: 26152300',\n",
       " 'Date: 2017-12-06\\nOpen: 81.550003\\nHigh: 83.139999\\nLow: 81.43\\nClose: 82.779999\\nAdj Close: 82.39296\\nVolume: 26162100',\n",
       " 'Date: 2017-12-07\\nOpen: 82.540001\\nHigh: 82.800003\\nLow: 82.0\\nClose: 82.489998\\nAdj Close: 82.10431700000001\\nVolume: 23184500',\n",
       " 'Date: 2017-12-08\\nOpen: 83.629997\\nHigh: 84.58000200000001\\nLow: 83.33000200000001\\nClose: 84.160004\\nAdj Close: 83.76651\\nVolume: 24489100',\n",
       " 'Date: 2017-12-11\\nOpen: 84.290001\\nHigh: 85.370003\\nLow: 84.120003\\nClose: 85.230003\\nAdj Close: 84.831512\\nVolume: 22857900',\n",
       " 'Date: 2017-12-12\\nOpen: 85.309998\\nHigh: 86.050003\\nLow: 85.08000200000001\\nClose: 85.58000200000001\\nAdj Close: 85.17987099999999\\nVolume: 23924100',\n",
       " 'Date: 2017-12-13\\nOpen: 85.739998\\nHigh: 86.0\\nLow: 85.16999799999999\\nClose: 85.349998\\nAdj Close: 84.95094300000001\\nVolume: 22062700',\n",
       " 'Date: 2017-12-14\\nOpen: 85.43\\nHigh: 85.870003\\nLow: 84.529999\\nClose: 84.690002\\nAdj Close: 84.294037\\nVolume: 19306000',\n",
       " 'Date: 2017-12-15\\nOpen: 85.260002\\nHigh: 87.089996\\nLow: 84.879997\\nClose: 86.849998\\nAdj Close: 86.44393199999999\\nVolume: 53936700',\n",
       " 'Date: 2017-12-18\\nOpen: 87.120003\\nHigh: 87.5\\nLow: 86.230003\\nClose: 86.379997\\nAdj Close: 85.976128\\nVolume: 22283800',\n",
       " 'Date: 2017-12-19\\nOpen: 86.349998\\nHigh: 86.349998\\nLow: 85.269997\\nClose: 85.83000200000001\\nAdj Close: 85.428703\\nVolume: 23524800',\n",
       " 'Date: 2017-12-20\\nOpen: 86.199997\\nHigh: 86.300003\\nLow: 84.709999\\nClose: 85.519997\\nAdj Close: 85.120148\\nVolume: 23674900',\n",
       " 'Date: 2017-12-21\\nOpen: 86.050003\\nHigh: 86.099998\\nLow: 85.400002\\nClose: 85.5\\nAdj Close: 85.100243\\nVolume: 17990700',\n",
       " 'Date: 2017-12-22\\nOpen: 85.400002\\nHigh: 85.629997\\nLow: 84.91999799999999\\nClose: 85.510002\\nAdj Close: 85.110199\\nVolume: 14145800',\n",
       " 'Date: 2017-12-26\\nOpen: 85.309998\\nHigh: 85.529999\\nLow: 85.029999\\nClose: 85.400002\\nAdj Close: 85.00071\\nVolume: 9891200',\n",
       " 'Date: 2017-12-27\\nOpen: 85.650002\\nHigh: 85.980003\\nLow: 85.220001\\nClose: 85.709999\\nAdj Close: 85.309265\\nVolume: 14678000',\n",
       " 'Date: 2017-12-28\\nOpen: 85.900002\\nHigh: 85.93\\nLow: 85.550003\\nClose: 85.720001\\nAdj Close: 85.319214\\nVolume: 10594300',\n",
       " 'Date: 2017-12-29\\nOpen: 85.629997\\nHigh: 86.050003\\nLow: 85.5\\nClose: 85.540001\\nAdj Close: 85.14005999999999\\nVolume: 18717400',\n",
       " 'Date: 2018-01-02\\nOpen: 86.129997\\nHigh: 86.309998\\nLow: 85.5\\nClose: 85.949997\\nAdj Close: 85.54813399999999\\nVolume: 22483800',\n",
       " 'Date: 2018-01-03\\nOpen: 86.059998\\nHigh: 86.510002\\nLow: 85.970001\\nClose: 86.349998\\nAdj Close: 85.94626600000001\\nVolume: 26061400',\n",
       " 'Date: 2018-01-04\\nOpen: 86.589996\\nHigh: 87.660004\\nLow: 86.57\\nClose: 87.110001\\nAdj Close: 86.702721\\nVolume: 21912000',\n",
       " 'Date: 2018-01-05\\nOpen: 87.660004\\nHigh: 88.410004\\nLow: 87.43\\nClose: 88.190002\\nAdj Close: 87.777672\\nVolume: 23407100',\n",
       " 'Date: 2018-01-08\\nOpen: 88.199997\\nHigh: 88.58000200000001\\nLow: 87.599998\\nClose: 88.279999\\nAdj Close: 87.867249\\nVolume: 22113000',\n",
       " 'Date: 2018-01-09\\nOpen: 88.650002\\nHigh: 88.730003\\nLow: 87.860001\\nClose: 88.220001\\nAdj Close: 87.807526\\nVolume: 19484300',\n",
       " 'Date: 2018-01-10\\nOpen: 87.860001\\nHigh: 88.190002\\nLow: 87.410004\\nClose: 87.82\\nAdj Close: 87.40939300000001\\nVolume: 18652200',\n",
       " 'Date: 2018-01-11\\nOpen: 88.129997\\nHigh: 88.129997\\nLow: 87.239998\\nClose: 88.08000200000001\\nAdj Close: 87.668182\\nVolume: 17808900',\n",
       " 'Date: 2018-01-12\\nOpen: 88.66999799999999\\nHigh: 89.779999\\nLow: 88.449997\\nClose: 89.599998\\nAdj Close: 89.181076\\nVolume: 24271500',\n",
       " 'Date: 2018-01-16\\nOpen: 90.099998\\nHigh: 90.790001\\nLow: 88.010002\\nClose: 88.349998\\nAdj Close: 87.93692\\nVolume: 36599700',\n",
       " 'Date: 2018-01-17\\nOpen: 89.08000200000001\\nHigh: 90.279999\\nLow: 88.75\\nClose: 90.139999\\nAdj Close: 89.718552\\nVolume: 25621200',\n",
       " 'Date: 2018-01-18\\nOpen: 89.800003\\nHigh: 90.66999799999999\\nLow: 89.660004\\nClose: 90.099998\\nAdj Close: 89.67873399999999\\nVolume: 24159700',\n",
       " 'Date: 2018-01-19\\nOpen: 90.139999\\nHigh: 90.610001\\nLow: 89.660004\\nClose: 90.0\\nAdj Close: 89.579201\\nVolume: 36875000',\n",
       " 'Date: 2018-01-22\\nOpen: 90.0\\nHigh: 91.620003\\nLow: 89.739998\\nClose: 91.610001\\nAdj Close: 91.181679\\nVolume: 23601600',\n",
       " 'Date: 2018-01-23\\nOpen: 91.900002\\nHigh: 92.300003\\nLow: 91.540001\\nClose: 91.900002\\nAdj Close: 91.470322\\nVolume: 23412800',\n",
       " 'Date: 2018-01-24\\nOpen: 92.550003\\nHigh: 93.43\\nLow: 91.58000200000001\\nClose: 91.82\\nAdj Close: 91.390694\\nVolume: 33277500',\n",
       " 'Date: 2018-01-25\\nOpen: 92.470001\\nHigh: 93.239998\\nLow: 91.93\\nClose: 92.33000200000001\\nAdj Close: 91.898315\\nVolume: 26383200',\n",
       " 'Date: 2018-01-26\\nOpen: 93.120003\\nHigh: 94.059998\\nLow: 92.58000200000001\\nClose: 94.059998\\nAdj Close: 93.620216\\nVolume: 29172200',\n",
       " 'Date: 2018-01-29\\nOpen: 95.139999\\nHigh: 95.449997\\nLow: 93.720001\\nClose: 93.91999799999999\\nAdj Close: 93.480873\\nVolume: 31569900',\n",
       " 'Date: 2018-01-30\\nOpen: 93.300003\\nHigh: 93.660004\\nLow: 92.099998\\nClose: 92.739998\\nAdj Close: 92.306389\\nVolume: 38635100',\n",
       " 'Date: 2018-01-31\\nOpen: 93.75\\nHigh: 95.400002\\nLow: 93.510002\\nClose: 95.010002\\nAdj Close: 94.565781\\nVolume: 48756300',\n",
       " 'Date: 2018-02-01\\nOpen: 94.790001\\nHigh: 96.07\\nLow: 93.58000200000001\\nClose: 94.260002\\nAdj Close: 93.81929000000001\\nVolume: 47227900',\n",
       " 'Date: 2018-02-02\\nOpen: 93.639999\\nHigh: 93.970001\\nLow: 91.5\\nClose: 91.779999\\nAdj Close: 91.350883\\nVolume: 47867800',\n",
       " 'Date: 2018-02-05\\nOpen: 90.559998\\nHigh: 93.239998\\nLow: 88.0\\nClose: 88.0\\nAdj Close: 87.588554\\nVolume: 51031500']"
      ]
     },
     "execution_count": 8,
     "metadata": {},
     "output_type": "execute_result"
    }
   ],
   "source": [
    "loader = CSVLoader(file_path=\"./directorio/microsoft.csv\")\n",
    "data = loader.load()\n",
    "datos = []\n",
    "for document in data:\n",
    "    content = document.page_content\n",
    "    datos.append(content)\n",
    "datos"
   ]
  },
  {
   "cell_type": "code",
   "execution_count": null,
   "metadata": {
    "collapsed": true,
    "jupyter": {
     "outputs_hidden": true
    }
   },
   "outputs": [],
   "source": []
  },
  {
   "cell_type": "code",
   "execution_count": null,
   "metadata": {
    "collapsed": true,
    "jupyter": {
     "outputs_hidden": true
    }
   },
   "outputs": [],
   "source": []
  },
  {
   "cell_type": "code",
   "execution_count": null,
   "metadata": {
    "collapsed": true,
    "jupyter": {
     "outputs_hidden": true
    }
   },
   "outputs": [],
   "source": []
  },
  {
   "cell_type": "code",
   "execution_count": null,
   "metadata": {
    "collapsed": true,
    "jupyter": {
     "outputs_hidden": true
    }
   },
   "outputs": [],
   "source": []
  },
  {
   "cell_type": "code",
   "execution_count": null,
   "metadata": {
    "collapsed": true,
    "jupyter": {
     "outputs_hidden": true
    }
   },
   "outputs": [],
   "source": []
  },
  {
   "cell_type": "code",
   "execution_count": null,
   "metadata": {
    "collapsed": true,
    "jupyter": {
     "outputs_hidden": true
    }
   },
   "outputs": [],
   "source": []
  },
  {
   "cell_type": "markdown",
   "metadata": {},
   "source": [
    "#### Carga de documentos en PDF"
   ]
  },
  {
   "cell_type": "code",
   "execution_count": null,
   "metadata": {
    "collapsed": true,
    "jupyter": {
     "outputs_hidden": true
    }
   },
   "outputs": [],
   "source": [
    "#! pip install pypdf"
   ]
  },
  {
   "cell_type": "code",
   "execution_count": 9,
   "metadata": {
    "collapsed": true,
    "jupyter": {
     "outputs_hidden": true
    }
   },
   "outputs": [],
   "source": [
    "from langchain.document_loaders import PyPDFLoader\n",
    "\n",
    "loader = PyPDFLoader(\"directorio/WorldBank.pdf\")\n",
    "pages = loader.load()"
   ]
  },
  {
   "cell_type": "code",
   "execution_count": 10,
   "metadata": {
    "collapsed": true,
    "jupyter": {
     "outputs_hidden": true
    }
   },
   "outputs": [
    {
     "name": "stdout",
     "output_type": "stream",
     "text": [
      "Numero de paginas -\n",
      " 336\n",
      "*************************************\n",
      "Imprimir una pagina \n",
      " page_content='Part II   Transitions    67\n",
      "3 Learning for work and life    68\n",
      "Educational preparation of youth for work and life is low    68\n",
      "A solid foundation: Improving the readiness for postprimary education    71Enhancing postprimary education opportunities    72\n",
      "Better education choices by young people    81\n",
      "Offering second chances    89\n",
      "Spotlight: Vietnamese youth: Managing prosperity    94\n",
      "4 Going to work    96\n",
      "Y outh challenges in the labor market    96\n",
      "What makes youth vulnerable in the labor market?    103Broadening labor market opportunities    106\n",
      "Choosing to work and developing the skills to do so    111\n",
      "Providing a springboard to reintegrate the most vulnerable    114\n",
      "Spotlight: Do baby booms lead to employment busts? \n",
      "Not in OECD countries    120\n",
      "5 Growing up healthy    122\n",
      "Promoting the health of young people stimulates growth and \n",
      "reduces poverty and health care expenditures    123\n",
      "Public intervention is needed to promote youth health    124\n",
      "Strengthening young people’s capability to practice healthy behavior    129Enhancing opportunities to make healthy choices    135\n",
      "What if prevention fails? Helping young people deal with the adverse \n",
      "consequences of poor health behavior or misfortune    137\n",
      "Spotlight: Addressing disparities among Brazil’s youth    142\n",
      "6 Forming families    144\n",
      "Preparing for family formation is good for growth and poverty reduction    144\n",
      "Preparation for family formation is poor    147Providing opportunities for youth to prepare for parenthood    151\n",
      "Strengthening young people’s decision-making capabilities to \n",
      "prepare for parenthood    153\n",
      "Supporting those who become mothers at an early age    156\n",
      "7 Exercising citizenship    160\n",
      "Y outh participation: Rising, declining, or both?    161\n",
      "What youth citizenship means for adult citizenship and development    164vi CONTENTS' metadata={'source': 'directorio/WorldBank.pdf', 'page': 5}\n",
      "*************************************\n",
      "Imprimir los primeros 500 caracteres -\n",
      " 2007world development report\n",
      "Development and \n",
      "the Next Generation\n",
      "35999\n",
      "Public Disclosure Authorized Public Disclosure Authorized Public Disclosure Authorized Public Disclosure Authorized\n",
      "Public Disclosure Authorized Public Disclosure Authorized Public Disclosure Authorized Public Disclosure Authorized\n",
      "*************************************\n",
      "Imprimir los metadatos -\n",
      " {'source': 'directorio/WorldBank.pdf', 'page': 1}\n"
     ]
    }
   ],
   "source": [
    "print(\"Numero de paginas -\\n\", len(pages))\n",
    "print(\"*************************************\")\n",
    "print(\"Imprimir una pagina \\n\", pages[5])\n",
    "print(\"*************************************\")\n",
    "print(\"Imprimir los primeros 500 caracteres -\\n\", pages[0].page_content[0:500])\n",
    "print(\"*************************************\")\n",
    "print(\"Imprimir los metadatos -\\n\", pages[1].metadata)"
   ]
  },
  {
   "cell_type": "code",
   "execution_count": null,
   "metadata": {
    "collapsed": true,
    "jupyter": {
     "outputs_hidden": true
    }
   },
   "outputs": [],
   "source": []
  },
  {
   "cell_type": "code",
   "execution_count": null,
   "metadata": {
    "collapsed": true,
    "jupyter": {
     "outputs_hidden": true
    }
   },
   "outputs": [],
   "source": []
  },
  {
   "cell_type": "code",
   "execution_count": null,
   "metadata": {
    "collapsed": true,
    "jupyter": {
     "outputs_hidden": true
    }
   },
   "outputs": [],
   "source": []
  },
  {
   "cell_type": "code",
   "execution_count": null,
   "metadata": {
    "collapsed": true,
    "jupyter": {
     "outputs_hidden": true
    }
   },
   "outputs": [],
   "source": []
  },
  {
   "cell_type": "code",
   "execution_count": null,
   "metadata": {
    "collapsed": true,
    "jupyter": {
     "outputs_hidden": true
    }
   },
   "outputs": [],
   "source": []
  },
  {
   "cell_type": "code",
   "execution_count": null,
   "metadata": {
    "collapsed": true,
    "jupyter": {
     "outputs_hidden": true
    }
   },
   "outputs": [],
   "source": []
  },
  {
   "cell_type": "markdown",
   "metadata": {},
   "source": [
    "#### Cargar transcripciones de audio de YouTube\n",
    "Descarga con YouTubeLoader"
   ]
  },
  {
   "cell_type": "code",
   "execution_count": 44,
   "metadata": {
    "collapsed": true,
    "jupyter": {
     "outputs_hidden": true
    }
   },
   "outputs": [
    {
     "name": "stdout",
     "output_type": "stream",
     "text": [
      "Requirement already satisfied: youtube-transcript-api in c:\\nuevochatbot\\lib\\site-packages (0.6.2)\n",
      "Requirement already satisfied: requests in c:\\nuevochatbot\\lib\\site-packages (from youtube-transcript-api) (2.32.2)\n",
      "Requirement already satisfied: charset-normalizer<4,>=2 in c:\\nuevochatbot\\lib\\site-packages (from requests->youtube-transcript-api) (3.3.2)\n",
      "Requirement already satisfied: idna<4,>=2.5 in c:\\nuevochatbot\\lib\\site-packages (from requests->youtube-transcript-api) (3.7)\n",
      "Requirement already satisfied: urllib3<3,>=1.21.1 in c:\\nuevochatbot\\lib\\site-packages (from requests->youtube-transcript-api) (2.2.1)\n",
      "Requirement already satisfied: certifi>=2017.4.17 in c:\\nuevochatbot\\lib\\site-packages (from requests->youtube-transcript-api) (2024.2.2)\n"
     ]
    }
   ],
   "source": [
    "#! pip install youtube-transcript-api pytube"
   ]
  },
  {
   "cell_type": "code",
   "execution_count": 11,
   "metadata": {
    "collapsed": true,
    "jupyter": {
     "outputs_hidden": true
    }
   },
   "outputs": [
    {
     "name": "stdout",
     "output_type": "stream",
     "text": [
      "Hola mundo, soy Carrie Anne y bienvenidos\n",
      "a CrashCourse Computer Science. A lo largo de esta serie,\n",
      "pasaremos de bits, bytes, transistores y puertas lógicas hasta sistemas operativos,\n",
      "realidad virtual y robots. Vamos a cubrir mucho, pero sólo para\n",
      "aclarar las cosas: NO le enseñaremos cómo programar. En cambio, exploraremos una variedad\n",
      "de temas informáticos como disciplina y tecnología. Las computadoras son el alma del mundo actual. Si se apagaran repentinamente, de\n",
      "repente, la red eléctrica se \n"
     ]
    }
   ],
   "source": [
    "# Trancripcion traducida del audio\n",
    "from langchain_community.document_loaders import YoutubeLoader\n",
    "\n",
    "loader = YoutubeLoader.from_youtube_url(\n",
    "    \"https://www.youtube.com/watch?v=O5nskjZ_GoI\", \n",
    "    add_video_info=True,\n",
    "    language=[\"en\", \"id\"],\n",
    "    translation=\"es\",\n",
    ")\n",
    "audio = loader.load()\n",
    "print(audio[0].page_content[:500])"
   ]
  },
  {
   "cell_type": "code",
   "execution_count": null,
   "metadata": {
    "collapsed": true,
    "jupyter": {
     "outputs_hidden": true
    }
   },
   "outputs": [],
   "source": []
  },
  {
   "cell_type": "code",
   "execution_count": null,
   "metadata": {
    "collapsed": true,
    "jupyter": {
     "outputs_hidden": true
    }
   },
   "outputs": [],
   "source": []
  },
  {
   "cell_type": "markdown",
   "metadata": {},
   "source": [
    "#### Carga de páginas web"
   ]
  },
  {
   "cell_type": "code",
   "execution_count": 1,
   "metadata": {
    "collapsed": true,
    "jupyter": {
     "outputs_hidden": true
    }
   },
   "outputs": [
    {
     "name": "stderr",
     "output_type": "stream",
     "text": [
      "USER_AGENT environment variable not set, consider setting it to identify your requests.\n"
     ]
    },
    {
     "name": "stdout",
     "output_type": "stream",
     "text": [
      "\n",
      "\n",
      "\n",
      "\n",
      "\n",
      "\n",
      "\n",
      "\n",
      "\n",
      "ESPN - Serving Sports Fans. Anytime. Anywhere.\n",
      "\n",
      "\n",
      "\n",
      "\n",
      "\n",
      "\n",
      "\n",
      "\n",
      "\n",
      "\n",
      "\n",
      "\n",
      "\n",
      "\n",
      "\n",
      "\n",
      "\n",
      "\n",
      "\n",
      "\n",
      "\n",
      "\n",
      "\n",
      "\n",
      "\n",
      "\n",
      "\n",
      "\n",
      "\n",
      "\n",
      "\n",
      "\n",
      "\n",
      "\n",
      "\n",
      "\n",
      "\n",
      "\n",
      "\n",
      "\n",
      "\n",
      "\n",
      "\n",
      "\n",
      "\n",
      "\n",
      "\n",
      "\n",
      "\n",
      "\n",
      "\n",
      "\n",
      "\n",
      "\n",
      "\n",
      "\n",
      "\n",
      "\n",
      "\n",
      "\n",
      "\n",
      "\n",
      "\n",
      "\n",
      "\n",
      "\n",
      "\n",
      "\n",
      "\n",
      "\n",
      "\n",
      "\n",
      "\n",
      "\n",
      "\n",
      "\n",
      "\n",
      "\n",
      "\n",
      "\n",
      "\n",
      "\n",
      "\n",
      "\n",
      "\n",
      "\n",
      "\n",
      "\n",
      "\n",
      "\n",
      "\n",
      "\n",
      "        Skip to main content\n",
      "    \n",
      "\n",
      "        Skip to navigation\n",
      "    \n",
      "\n",
      "\n",
      "\n",
      "\n",
      "\n",
      "\n",
      "\n",
      "\n",
      "\n",
      "\n",
      "\n",
      "\n",
      "\n",
      "\n",
      "\n",
      "\n",
      "\n",
      "\n",
      "\n",
      "\n",
      "\n",
      "\n",
      "\n",
      "\n",
      "\n",
      "\n",
      "\n",
      "\n",
      "\n",
      "\n",
      "\n",
      "\n",
      "\n",
      "<\n",
      "\n",
      ">\n",
      "\n",
      "\n",
      "\n",
      "\n",
      "\n",
      "\n",
      "\n",
      "\n",
      "\n",
      "MenuESPN\n",
      "\n",
      "\n",
      "\n",
      "\n",
      "\n",
      "scores\n",
      "\n",
      "\n",
      "\n",
      "\n",
      "NEW! Find where to watch all of your favorite sports!\n",
      "\n",
      "\n",
      "\n",
      "\n",
      "\n",
      "\n",
      "\n",
      "NFLNBAMLBNCAAFNHLSoccer…WNBABoxingCFLNCAACricketF1GolfHorseLLWSMMANASCARNBA G LeagueNBA Summer LeagueNCAAMNCAAWNWSLOlympicsPLLProfessional WrestlingRaci\n"
     ]
    }
   ],
   "source": [
    "from langchain_community.document_loaders import WebBaseLoader\n",
    "\n",
    "loader = WebBaseLoader(\"https://www.espn.com/\")\n",
    "docs = loader.load()\n",
    "print(docs[0].page_content[:500])"
   ]
  },
  {
   "cell_type": "markdown",
   "metadata": {},
   "source": [
    "##### Limpiar caracteres de fin de linea, \\n."
   ]
  },
  {
   "cell_type": "code",
   "execution_count": 3,
   "metadata": {
    "collapsed": true,
    "jupyter": {
     "outputs_hidden": true
    }
   },
   "outputs": [
    {
     "name": "stdout",
     "output_type": "stream",
     "text": [
      "\n",
      "ESPN - Serving Sports Fans. Anytime. Anywhere.\n",
      "        Skip to main content\n",
      "    \n",
      "        Skip to navigation\n",
      "    \n",
      "<\n",
      ">\n",
      "MenuESPN\n",
      "scores\n",
      "NEW! Find where to watch all of your favorite sports!\n",
      "NFLNBAMLBNCAAFNHLSoccer…WNBABoxingCFLNCAACricketF1GolfHorseLLWSMMANASCARNBA G LeagueNBA Summer LeagueNCAAMNCAAWNWSLOlympicsPLLProfessional WrestlingRacingRN BBRN FBRugbySports BettingTennisX GamesUFLFantasyWatchESPN BETESPN+\n",
      "  \n",
      "Subscribe Now\n",
      "NCAA Football\n",
      "U.S. Open: Women's Final\n",
      "Fight Night: Burns vs. Brady\n",
      "Premier Lacrosse League: Semifinals\n",
      "MLB\n",
      "The Breakdown with Peyton and Belichick\n",
      "Fantasy Football Week 1 Playbook\n",
      "Quick Links\n",
      "2024 US Open\n",
      "MLB Playoff Tracker\n",
      "MLB Standings\n",
      "2024 NFL Schedule\n",
      "WNBA Rookie Tracker\n",
      "Fantasy Football Rankings\n",
      "Sign up: Fantasy Football\n",
      "College Football Schedule\n",
      "ESPN Radio: Listen Live\n",
      "Watch Tennis on ESPN\n",
      "Don't have ESPN? Get Instant Access\n",
      "Favorites\n",
      "      Manage Favorites\n",
      "      \n",
      "Customize ESPNCreate AccountLog InFantasy\n",
      "Football\n",
      "Baseball\n",
      "Basketball\n",
      "Hockey\n",
      "ESPN Sites\n",
      "ESPN Deportes\n",
      "Andscape\n",
      "espnW\n",
      "ESPNFC\n",
      "X Games\n",
      "SEC Network\n",
      "ESPN Apps\n",
      "ESPN\n",
      "ESPN Fantasy\n",
      "Tournament Challenge\n",
      "Follow ESPN\n",
      "Facebook\n",
      "X/Twitter\n",
      "Instagram\n",
      "Snapchat\n",
      "TikTok\n",
      "YouTube\n",
      "Watch live on ESPN: US Open women's finalliveDon't have ESPN? Stream now with instant access!Women's singles bracketTOP HEADLINESSources: Pack's Love believed to have MCL sprainNuggets, Murray agree to 4-year, $208M extensionFormer Clemson receiver Overton dies at age 26Rodman nets golazo, dunks with Magic JohnsonCommanders place Mariota on IR, add HartmanMets' McNeil has broken right wrist, MRI revealsAbuse allegations prompt Rutgers investigationJets to start season without holdout DE ReddickNFL Week 1: Sleepers, buzz, moreCOLLEGE FOOTBALL SCORESSATURDAY'S GAMESSee AllWhere to watch Week 2 gamesTexas-Michigan: Top plays and takeaways from the Horns' huge winIt was just the second meeting between these two blue bloods. Here's the best from the Texas-Michigan game.50mESPN StaffJunfu Han/USA TODAY Network via Imagn ImagesHow Texas dominated Michigan at the Big House7m1:00DEFENSE = OFFENSECOLLEGE FOOTBALLK-State takes 4th-quarter lead on thrilling scoop-and-score58m0:40Pick-six! Oklahoma State's Kale Smith takes it 73 yards to the house2h1:12LOVE HURT IN PACKERS' LOSSWhere will Packers turn at QB if Jordan Love misses time?Love suffered what appeared to be a left leg injury late in Friday night's loss to the Eagles.15hRob DemovskyAP Photo/Doug BencLove injured in game's final seconds16h0:28MLB SCOREBOARDSATURDAY'S GAMESSee AllMLB standingsWild card standingsUFC Fight Night - Welterweight - Main EventExpert picks and best bets for UFC Fight NightWhere's the value between Gilbert Burns and Sean Brady? Can Alexandr Shabliy upset Usman Nurmagomedov? Our experts break it down.3dESPNPhoto by Chris Unger/Zuffa LLCStream live: Fight Night prelimsHow to watch or stream UFC Fight NightGLOBAL SOCCER SCOREBOARDSATURDAY'S MATCHESSee AllMORE MUST-SEE TDSCOLLEGE FOOTBALLArmy kicker motors for a 23-yard TD on thrilling fourth-and-12 trick play1h0:36Haynes King somehow stays on his feet for an electric TD run3h0:30 Top HeadlinesSources: Pack's Love believed to have MCL sprainNuggets, Murray agree to 4-year, $208M extensionFormer Clemson receiver Overton dies at age 26Rodman nets golazo, dunks with Magic JohnsonCommanders place Mariota on IR, add HartmanMets' McNeil has broken right wrist, MRI revealsAbuse allegations prompt Rutgers investigationJets to start season without holdout DE ReddickNFL Week 1: Sleepers, buzz, moreFavorites FantasyManage FavoritesFantasy HomeCustomize ESPNCreate AccountLog InICYMI1:13Chiefs prevail in wild ending as Ravens TD waved off on final playIsaiah Likely comes down with what he thinks is a touchdown, but after review, his toe lands out of bounds to end the game. Best of ESPN+Illustration by ESPN2024 NFL playoff field predictions: 20 teams that could make itEvery year, an average of six NFL teams don't make it to back-to-back postseasons. Who are those teams in 2024? We tried to predict.AP Photo/Ryan Sun2024 NFL stat leader predictions: Passing, rushing, moreWhich QBs could top the league in passing yards and interceptions? Who could dominate rushing and receiving numbers? And what about sack leader candidates?ESPNCollege Football Playoff 2024: Week 2 predictionsHeading into Week 2, Heather Dinich picks the CFP field of 12 and the eight teams on the bubble, then ranks the best of the Group of 5.Mark Goldman/Icon SportswireRanking the MLB playoff races that will rule the final monthIt's now or never for teams trying to lock up a postseason spot. Here's what you need to know about the battles to reach October. Trending NowESPN Illustration2024 MLB playoff tracker: Clinching scenarios, bracket, scheduleWe have everything you need to know as the regular season reaches the homestretch, from current playoff matchups to league races to the postseason schedule.Illustration by ESPNHow tight ends like Travis Kelce helped reshape the positionTight ends like Travis Kelce are among the most productive pass catchers in the league, but there's one area in which they still lag behind.Bob Miller for ESPNInside Kalen DeBoer's first game week as Alabama football coachAlabama rolled in its first game of the post-Nick Saban era. We have an inside look at everything from Kalen DeBoer's first game week. Don't have ESPN? Start streaming now!Photo by Randy Sartin/USA TODAY SportsIt's a big week of sports!Make sure you can watch this week's action, from the US Open to Saturday's showdown between Tennessee and NC State! Sign up to play the #1 Fantasy game!Create A LeagueJoin Public LeagueReactivate A LeagueMock Draft NowSign up for FREE!Create A LeagueJoin a Public LeagueReactivate a LeaguePractice With a Mock DraftSign up for FREE!Create A LeagueJoin a Public LeagueReactivate a LeaguePractice with a Mock DraftGet a custom ESPN experienceEnjoy the benefits of a personalized accountSelect your favorite leagues, teams and players and get the latest scores, news and updates that matter most to you. \n",
      "ESPN+\n",
      "NCAA Football\n",
      "U.S. Open: Women's Final\n",
      "Fight Night: Burns vs. Brady\n",
      "Premier Lacrosse League: Semifinals\n",
      "MLB\n",
      "The Breakdown with Peyton and Belichick\n",
      "Fantasy Football Week 1 Playbook\n",
      "Quick Links\n",
      "2024 US Open\n",
      "MLB Playoff Tracker\n",
      "MLB Standings\n",
      "2024 NFL Schedule\n",
      "WNBA Rookie Tracker\n",
      "Fantasy Football Rankings\n",
      "Sign up: Fantasy Football\n",
      "College Football Schedule\n",
      "ESPN Radio: Listen Live\n",
      "Watch Tennis on ESPN\n",
      "Don't have ESPN? Get Instant Access\n",
      "Fantasy\n",
      "Football\n",
      "Baseball\n",
      "Basketball\n",
      "Hockey\n",
      "ESPN Sites\n",
      "ESPN Deportes\n",
      "Andscape\n",
      "espnW\n",
      "ESPNFC\n",
      "X Games\n",
      "SEC Network\n",
      "ESPN Apps\n",
      "ESPN\n",
      "ESPN Fantasy\n",
      "Tournament Challenge\n",
      "Follow ESPN\n",
      "Facebook\n",
      "X/Twitter\n",
      "Instagram\n",
      "Snapchat\n",
      "TikTok\n",
      "YouTube\n",
      "Condiciones para el usoPolítica de PrivacidadAnuncios basados en intereses© ESPN Internet Ventures. Todos los derechos reservados.\n",
      "\n"
     ]
    }
   ],
   "source": [
    "import re\n",
    "\n",
    "docs[0].page_content = re.sub(\"\\n\\n+\", \"\\n\", docs[0].page_content)\n",
    "print(docs[0].page_content )"
   ]
  },
  {
   "cell_type": "code",
   "execution_count": null,
   "metadata": {
    "collapsed": true,
    "jupyter": {
     "outputs_hidden": true
    }
   },
   "outputs": [],
   "source": []
  },
  {
   "cell_type": "code",
   "execution_count": null,
   "metadata": {
    "collapsed": true,
    "jupyter": {
     "outputs_hidden": true
    }
   },
   "outputs": [],
   "source": []
  },
  {
   "cell_type": "code",
   "execution_count": null,
   "metadata": {
    "collapsed": true,
    "jupyter": {
     "outputs_hidden": true
    }
   },
   "outputs": [],
   "source": []
  },
  {
   "cell_type": "code",
   "execution_count": null,
   "metadata": {
    "collapsed": true,
    "jupyter": {
     "outputs_hidden": true
    }
   },
   "outputs": [],
   "source": []
  },
  {
   "cell_type": "code",
   "execution_count": null,
   "metadata": {
    "collapsed": true,
    "jupyter": {
     "outputs_hidden": true
    }
   },
   "outputs": [],
   "source": []
  },
  {
   "cell_type": "code",
   "execution_count": null,
   "metadata": {
    "collapsed": true,
    "jupyter": {
     "outputs_hidden": true
    }
   },
   "outputs": [],
   "source": []
  },
  {
   "cell_type": "markdown",
   "metadata": {},
   "source": [
    "#### Descarga de artículos de arXiv.org\n",
    "El sitio Arxiv.org guarda millones de artículos científicos. "
   ]
  },
  {
   "cell_type": "code",
   "execution_count": 49,
   "metadata": {
    "collapsed": true,
    "jupyter": {
     "outputs_hidden": true
    }
   },
   "outputs": [
    {
     "name": "stdout",
     "output_type": "stream",
     "text": [
      "Note: you may need to restart the kernel to use updated packages.\n"
     ]
    }
   ],
   "source": [
    "# Modulo de descarga\n",
    "%pip install --upgrade --quiet  arxiv   \n",
    "# Convierte de PDF a texto\n",
    "!pip install --upgrade --quiet  pymupdf   "
   ]
  },
  {
   "cell_type": "markdown",
   "metadata": {},
   "source": [
    "##### https://info.arxiv.org\n",
    "2406.17809 "
   ]
  },
  {
   "cell_type": "code",
   "execution_count": 5,
   "metadata": {
    "collapsed": true,
    "jupyter": {
     "outputs_hidden": true
    }
   },
   "outputs": [
    {
     "name": "stdout",
     "output_type": "stream",
     "text": [
      "2\n",
      "{'Published': '2021-04-10', 'Title': 'Designing Effective Interview Chatbots: Automatic Chatbot Profiling and Design Suggestion Generation for Chatbot Debugging', 'Authors': 'Xu Han, Michelle Zhou, Matthew Turner, Tom Yeh', 'Summary': 'Recent studies show the effectiveness of interview chatbots for information\\nelicitation. However, designing an effective interview chatbot is non-trivial.\\nFew tools exist to help designers design, evaluate, and improve an interview\\nchatbot iteratively. Based on a formative study and literature reviews, we\\npropose a computational framework for quantifying the performance of interview\\nchatbots. Incorporating the framework, we have developed iChatProfile, an\\nassistive chatbot design tool that can automatically generate a profile of an\\ninterview chatbot with quantified performance metrics and offer design\\nsuggestions for improving the chatbot based on such metrics. To validate the\\neffectiveness of iChatProfile, we designed and conducted a between-subject\\nstudy that compared the performance of 10 interview chatbots designed with or\\nwithout using iChatProfile. Based on the live chats between the 10 chatbots and\\n1349 users, our results show that iChatProfile helped the designers build\\nsignificantly more effective interview chatbots, improving both interview\\nquality and user experience.'}\n"
     ]
    },
    {
     "data": {
      "text/plain": [
       "\" \\nAbstract \\n \\nWith the rapid development of artificial intelligence and \\nbreakthroughs in machine learning and natural language \\nprocessing, intelligent question-answering robots have \\nbecome widely used in government affairs. This paper \\nconducts a horizontal comparison between Guangdong \\nProvince's government chatbots, ChatGPT, and Wenxin \\nErnie, two large language models, to analyze the strengt\""
      ]
     },
     "execution_count": 5,
     "metadata": {},
     "output_type": "execute_result"
    }
   ],
   "source": [
    "from langchain_community.document_loaders import ArxivLoader\n",
    "\n",
    "#docs = ArxivLoader(query=\"2406.17809\").load()\n",
    "docs = ArxivLoader(query=\"chatbot\", load_max_docs=2).load()\n",
    "print(len(docs))              # Cantidad de documentos descargados\n",
    "print(docs[0].metadata)       # Recuperar los metadatos\n",
    "docs[1].page_content[:400]    # Recuperar parte del contenido\n",
    "\n",
    "#\"1509.04264\""
   ]
  },
  {
   "cell_type": "code",
   "execution_count": null,
   "metadata": {
    "collapsed": true,
    "jupyter": {
     "outputs_hidden": true
    }
   },
   "outputs": [],
   "source": []
  },
  {
   "cell_type": "code",
   "execution_count": null,
   "metadata": {
    "collapsed": true,
    "jupyter": {
     "outputs_hidden": true
    }
   },
   "outputs": [],
   "source": []
  },
  {
   "cell_type": "code",
   "execution_count": null,
   "metadata": {
    "collapsed": true,
    "jupyter": {
     "outputs_hidden": true
    }
   },
   "outputs": [],
   "source": []
  },
  {
   "cell_type": "code",
   "execution_count": null,
   "metadata": {
    "collapsed": true,
    "jupyter": {
     "outputs_hidden": true
    }
   },
   "outputs": [],
   "source": []
  },
  {
   "cell_type": "code",
   "execution_count": null,
   "metadata": {
    "collapsed": true,
    "jupyter": {
     "outputs_hidden": true
    }
   },
   "outputs": [],
   "source": []
  },
  {
   "cell_type": "markdown",
   "metadata": {},
   "source": [
    "#### Cargar el contenido de un directorio"
   ]
  },
  {
   "cell_type": "code",
   "execution_count": 2,
   "metadata": {
    "collapsed": true,
    "jupyter": {
     "outputs_hidden": true
    }
   },
   "outputs": [
    {
     "name": "stdout",
     "output_type": "stream",
     "text": [
      "Collecting python-magic-bin\n",
      "  Downloading python_magic_bin-0.4.14-py2.py3-none-win_amd64.whl.metadata (710 bytes)\n",
      "Downloading python_magic_bin-0.4.14-py2.py3-none-win_amd64.whl (409 kB)\n",
      "Installing collected packages: python-magic-bin\n",
      "Successfully installed python-magic-bin-0.4.14\n",
      "Requirement already satisfied: python-magic in c:\\nuevochatbot\\lib\\site-packages (0.4.27)\n"
     ]
    }
   ],
   "source": [
    "# # Instalar paquetes\n",
    "#!pip install python-magic-bin\n",
    "#! pip install python-magic\n",
    "#!pip install --upgrade --quiet  \"unstructured[all-docs]\""
   ]
  },
  {
   "cell_type": "code",
   "execution_count": 10,
   "metadata": {
    "collapsed": true,
    "jupyter": {
     "outputs_hidden": true
    }
   },
   "outputs": [
    {
     "name": "stdout",
     "output_type": "stream",
     "text": [
      "6\n",
      "{'source': 'directorio\\\\Constitucion1853.pdf'}\n",
      "{'source': 'directorio\\\\Estructuras.pdf'}\n",
      "{'source': 'directorio\\\\Modulo2.pdf'}\n",
      "{'source': 'directorio\\\\Modulo3.pdf'}\n",
      "{'source': 'directorio\\\\Plata-o-Plomo-Bribe-DiTella.pdf'}\n",
      "{'source': 'directorio\\\\WorldBank.pdf'}\n"
     ]
    }
   ],
   "source": [
    "from langchain_community.document_loaders import DirectoryLoader\n",
    "\n",
    "loader = DirectoryLoader(\"./directorio\", glob=\"*.pdf\")\n",
    "pages = loader.load()\n",
    "print(len(pages))   # devuelve el número de documentos cargados.\n",
    "for i in pages:\n",
    "    print(i.metadata)"
   ]
  },
  {
   "cell_type": "code",
   "execution_count": null,
   "metadata": {
    "collapsed": true,
    "jupyter": {
     "outputs_hidden": true
    }
   },
   "outputs": [],
   "source": []
  },
  {
   "cell_type": "code",
   "execution_count": 11,
   "metadata": {
    "collapsed": true,
    "jupyter": {
     "outputs_hidden": true
    }
   },
   "outputs": [
    {
     "data": {
      "text/plain": [
       "'ÍNDICE GENERAL\\n\\nPARTE V PRESENTACIONES VISUALES\\n\\nCAPÍTULO 1 GRÁFICOS\\n\\n1.1.\\n\\nplot()\\n\\n1.1.1. 1.1.2.\\n\\nAdornos Colores\\n\\n1.2.\\n\\nGráficos especiales\\n\\n1.3.\\n\\nggplot\\n\\n1.3.1.\\n\\nHistogramas, Diagramas de caja y de barra\\n\\n1.4.\\n\\nlevelplot()\\n\\n1.5.\\n\\nSeries temporales\\n\\n1.6 Técnicas gráficas en el Análisis Exploratorio de Datos (EDA)\\n\\nPARTE VI ESTRUCTURAS DE CONTROL\\n\\n1.6.\\n\\nVectorización\\n\\n1.7.\\n\\nIteración\\n\\n1.7.1. 1.7.2. 1.7.3. 1.7.4.\\n\\nbucle for bucle repeat bucle while familia apply(), lapply(), sapply(), tapply()\\n\\n1.8.\\n\\nCarga automatizada de archivos\\n\\n1.9.\\n\\nEstructuras de ejecución condicional Condición sin alternativas Condición con una alternativa Ejemplo C Condición con varias alternativas\\n\\n1.9.1. 1.9.2. 1.9.3. 1.9.4.\\n\\nPARTE VII\\n\\n1.10. Proyectos\\n\\n1.11.\\n\\nScripts\\n\\n1.11.2.\\n\\nBuenas prácticas en programación\\n\\nERROR! BOOKMARK NOT DEFINED.\\n\\n1\\n\\n2\\n\\n2 5 6\\n\\n9\\n\\n9 12\\n\\n13\\n\\n15\\n\\n15\\n\\n18\\n\\n19\\n\\n19 19 21 21 22\\n\\n24\\n\\n25 25 26 27 27\\n\\n30\\n\\n31\\n\\n31 33\\n\\nGonzález Bonorino\\n\\nProgramación en R\\n\\nii\\n\\nvisuales\\n\\nParte V Presentaciones\\n\\nProgramación en R\\n\\nCapítulo 1 Gráficos\\n\\nR es reconocido por la diversidad y calidad visual de las rutinas gráficas. Tales recursos son de gran ayuda en la exploración preliminar de conjuntos de datos, antes de iniciar el análisis profundo. De hecho, los recursos gráficos son esenciales en lo que se conoce como Análisis Exploratorio de Datos, metodología que se verá en el Módulo 4 de este curso. Pero también son recursos valiosos al momento de presentar los resultados que hayamos obtenido. En el presente capítulo se exploran varios de los recursos gráficos más usados de R, incluyendo el manejo de series temporales; en los ejemplos de aplicación se ven otros.\\n\\nVeremos rutinas gráficas que se instalan con R base y otras que se incorporan mediante paquetes externos.\\n\\n1.1. La función plot() en una función del tipo genérico, lo que implica que el tipo de gráfico que devuelve depende del tipo de objeto R que le pasemos; opera con datos numéricos y categóricos. La función plot() descarga con el paquete graphics, parte de la instalación base de R. La sintaxis es\\n\\nplot()\\n\\n> plot(x, y, FUN) donde x e y son vectores con las coordenadas y\\n\\nopcionalmente una función matemática, FUN. Si se ingresa un único vector x, plot() grafica x en función de un índice. x y FUN pueden combinarse. El caso más sencillo es con un único vector que representa una función matemática\\n\\n> plot(1:100) > plot(sqrt(1:100)) > plot((1:100)ˆ3)\\n\\ny también puede ser una columna de una matriz o marco de datos.\\n\\n> plot(mtcars$mpg)\\n\\nEmplear una variable para introducir los argumentos\\n\\n> a <- 1:100\\n\\n> plot(a,sqrt(a))\\n\\nEl argumento puede incluir una fórmula (Figura 1.1)\\n\\n> plot((0:20)* pi/10, sin((0:20)*pi/10))\\n\\nGonzález Bonorino\\n\\n2\\n\\nProgramación en R\\n\\nFigura 1.1: Gráfico con plot.\\n\\nLos ejemplos anteriores tienen una única variable, pero se pueden emplear dos variables\\n\\n> x <- seq(1,10,0.5) > y <- 30*x/(2+x) > plot(x,y)\\n\\nSi plot() se aplica a un marco de datos devuelve un conjunto de gráficos de dispersión bivariados. (Figura 1.2)\\n\\n> plot(iris)\\n\\nGonzález Bonorino\\n\\n3\\n\\nProgramación en R\\n\\nFigura 1.2: Diagramas de dispersión con plot.\\n\\nLo que hace plot() es llamar la función pairs() (ejemplificando el carácter genérico de plot) que toma cada par de variables en el marco de datos y las muestra separadamente como gráficos de dispersión.\\n\\nGonzález Bonorino\\n\\n4\\n\\nProgramación en R\\n\\nPero se puede discriminar\\n\\n> plot(iris$Sepal.Length)\\n\\nFigura 1.3: Diagrama de dispersión con plot.\\n\\n1.1.1. Adornos\\n\\nplot() acepta argumentos para definir color, forma y tamaño de marcadores y líneas. La mayor parte de los argumentos derivan de la función par(), por Graphical Parameters. Con > names(par()) se obtiene un listado de los argumentos disponibles: cex, col, las, lwd, pch, bg y mfrow son algunos de los más usados. Con help(“par”) se obtiene ayuda para cada argumento en RStudio. Algunas definiciones: cex – tamaño de los marcadores relativo al tamaño por defecto, cex = 1 lwd – ancho de línea pch – 25 formas de marcadores col – color de marcadores\\n\\nGonzález Bonorino\\n\\n5\\n\\nProgramación en R\\n\\nMuestrario de las figuras de pch con los identificadores. Un ejercicio en plot.Rmd da código para imprimir estos símbolos\\n\\nEl siguiente ejemplo grafica 5 figuras geométricas tomadas del muestrario pch, con tamaño definido por cex, grosor de línea con lwd, y color por col. > plot(1:2, cex=1, lwd=3, pch=1:5, col = rainbow(25))\\n\\nEl argumento type se combina con par para definir el estilo de la línea: “p” puntos, “l” línea sólida, “b” puntos y líneas.\\n\\n> plot((0:20)*pi/10, sin((0:20)*(pi/10)), type=‟l‟, lty=‟dashed‟) Al graficar la Figura1.1, R por defecto denominó los ejes con la información provista en el primer término. Para incluir leyendas adecuadas y un título se hace:\\n\\n> plot((0:20)*pi/10, sin((0:20)(pi/10)), main=\"La función seno\", ylab=\"seno(x)\",\\n\\nxlab=\"x\")\\n\\nLos argumentos main, xlab y ylab genera título, y etiquetas para los ejes.\\n\\n1.1.2. Colores\\n\\nLos colores son componentes esenciales en la visualización y por ello es importante comprender cómo representarlos correctamente, un tema que trasciende un lenguaje de programación y que excede el propósito de este curso. No obstante, es conveniente decir unas palabras sobre cómo trata los colores R. R tiene almacenados cientos de colores:\\n\\n> > colors() devuelve un listado de los 657 colores almacenados en R. En\\n\\nlos ejemplos dados el color se declaró en el mismo código gráfico. Pero es posible declarar el conjunto de colores que se ha de usar en un proyecto al inicio del código, como vector:\\n\\n> colores <- c(‟chartreuse3‟, ‟cornflowerblue‟, ‟darkgoldenrod1‟,‟peachpuff3‟,‟mediumorchid2‟,\\n\\n‟turquoise3‟, ‟wheat4‟, ‟slategray2‟) Un formato muy utilizado para almacenar colores es el hexadecimal. Cada color es representado por tres pares de caracteres precedidos por #. Los pares corresponden al conocido formato RGB \"#rrggbb\". colores <- c(\"#CC1011\", \"#665555\", \"#05a399\", \"#cfcaca\", \"#f5e840\", \"#0683c9\", \"#e075b0\") Los colores puros se representan con: azul - \"#0000FF\", verde - \"#00FF00\", y rojo - \"#FF0000\". El blanco - \"#FFFFFF el negro \"#000000\". El sitio indicado a continuación da útiles ayudas para diagramar mejor los gráfi- cos: https://www.stat.auckland.ac.nz/~paul/RGraphics/chapter3.html\\n\\nGonzález Bonorino\\n\\n6\\n\\nProgramación en R\\n\\nEjemplo con plot()\\n\\nEl script plot.Rmd incluye numerosos ejemplos de código para graficar con plot(). Se sugiere que ejecuten el código paso a paso identificando las diferencias y los códigos respectivos. Ver video Plot.mp4.\\n\\nGráficos múltiples\\n\\nLa comparación de dos o más gráficos se facilita si se colocan próximos entre sí. Se vio arriba que cuando plot() se aplica a un marco de datos por defecto genera múltiples gráficos formando un panel. Alternativamente, la función par() permite acomodar varios gráficos en una página empleando el parámetro mfrow. Opera como si se tratara de una matriz, con filas y columnas. Se trata de acomoda r dos gráficos lado a lado.\\n\\n> par(mfrow <- c(1,2))\\n\\ndivide el canvas en filas y columnas virtuales y coloca cada gráfico en la intersección; en este caso dos gráficos en una misma fila\\n\\n> x <- seq(1,10,0.5) > y <- 30*x/(2+x) > plot(x, y, pch=20, cex=1, col=’red’, type=’b’) > plot(x, y, pch=20, cex=1, col=’blue’, type=’l’) > par(mfrow<-c(1,1) (Figura1.4). El último comando devuelve el canvas al\\n\\nestado original.\\n\\nFigura 1.4: Gráfico lado a lado.\\n\\nGonzález Bonorino\\n\\n7\\n\\nProgramación en R\\n\\nCambiar a mfrow <- c(2, 1) y repetir.\\n\\nGonzález Bonorino\\n\\n8\\n\\nProgramación en R\\n\\n1.2. Gráficos especiales\\n\\nAparte de los gráficos de dispersión vistos arriba, el paquete graphics permite generar gráficos de barra, de frecuencia e histogramas. El vector hab <- c(20,30,10,15) representa la proporción de Hombres, Mujeres, Niños, Niñas, en una ciudad. Se desea representar estos datos con un gráfico de barras. Como primera acción se asignan nombres a las columnas con names(hab)<-c(‟Hombre‟,‟Mujer‟,‟Niño‟,‟Niña‟). Ahora se grafica\\n\\n> barplot(hab)\\n\\nSi la barras quedan demasiado juntas se la espacia con\\n\\n> barplot(hab,space=2)\\n\\nY se colorean con\\n\\n> barplot(hab,space = 2,col = \"dodgerblue3\")\\n\\nS incorpora una tercer variable, la edad. Se tienen los vectores con porcentajes de Hombres y Mujeres de determinadas edades a <- c( 11.7, 8.7) b <- c( 18.1, 11.7) c <- c( 26.9, 20.3) donde a, b y c representan las franjas etáreas: 20-30, 30-40 y 40- 50. Crear la matriz y completarla\\n\\n> mat<-rbind(a,b,c) > colnames(mat)<- c(‟Hombre‟,‟Mujer‟) > rownames(mat)<-c(‟20-30‟,‟30-40‟,‟40-50‟)\\n\\nGraficar\\n\\n> barplot(mat2, legend= rownames(mat))\\n\\nO en este formato\\n\\n> barplot(mat2, legend= rownames(mat2),beside = T)\\n\\nO en arreglo horizontal\\n\\n> barplot(mat2, horiz=T,legend= rownames(mat2), beside = T)\\n\\n1.3.\\n\\nggplot\\n\\nVer video ggplot.mp4.\\n\\nLa función ggplot() se carga con el paquete tidyverse o individualmente con el paquete ggplot2, del repositorio CRAN. El paquete HistData reune conjuntos de datos que se han hecho famosos en estadística. Una descripción de este paquete se obtiene con\\n\\n> ?HistData\\n\\nUno de los conjuntos de datos en HistData es GaltonFamilies, que fue compilado por Galton en 1886 para estudiar la relación entre las alturas de los padres y las de los hijos. La compilación comprende 934 hijos de 205 familias. Instalar y activar HistData Revisar los primeros registros > head(GaltonFamilies)\\n\\nRevisar la estructura\\n\\nGonzález Bonorino\\n\\n9\\n\\nProgramación en R\\n\\n> str(GaltonFamilies)\\n\\nSe reconocen como factores family y gender; family da el identificador de familia de 001 a 205, o sea que tiene 205 levels; gender sólo tiene 2 levels. childNum también está representado por variables categóricas, aunque R no lo reconozca así.\\n\\n> names(GaltonFamilies) devuelve los encabezamientos En este ejercicio se utilizan las variables father, mother, gender y chil- drenHeight. Retener estas y eliminar las demás\\n\\n> gf <- GaltonFamilies[, c(2,3,7,8)]\\n\\nFigura 1.5: Gráfico de dispersión.\\n\\nSe trata de graficar las alturas de los hijos en función de las alturas de los padres. Escribir\\n\\n> ggplot(gf, aes(x = father, y = childHeight))\\n\\nEl argumento aes (aesthetic mapping) describe cómo se representa visualmente el dato. Los valores x e y dan las coordenadas y, por defecto, también los identificadores de ejes; aes puede incluir ecuaciones; otro valor posible en aes es color <- ‟blue‟. El comando escrito arriba prepara el canvas y dibuja los ejes pero carece de instrucciones para graficar los datos. Las instrucciones se agregan a continuación con el comando geom_point(), que se suma al anterior.\\n\\n> ggplot(gf, aes(x = father, y = childHeight)) + geom_point(size = 3)\\n\\n(Figura1.5). Se puede aprovechar que se distingue entre hijos e hijas para controlar aun más el gráfico. Hacer\\n\\n> p+geom_point(size<-3,aes(col<-gender)) En el comando aes se agregó\\n\\nGonzález Bonorino\\n\\n10\\n\\nProgramación en R\\n\\ngender como control del color. Probar agregar shape<-gender. geom_point() comanda la impresión de puntos cuyas coordenadas están dadas por las alturas de los padres y de los hijos/hijas. Notar que ambas instrucciones se suman. Esta es la base gramatical de ggplot2. Los comandos\\n\\nFigura 1.6: Gráficos lado a lado.\\n\\nse acumulan. Cambiar size <- 1; este es el tamaño por defecto. Incorporar etiquetado de ejes y leyendas implica sumar más capas a ggplot(). Se enfatiza la estructura aditiva de ggplot(). Se asigna el gráfico base a un objeto p, y a este objeto se suman las capas\\n\\n> p <- ggplot(gf, aes(x = father, y = childHeight)) > p+geom_point() > p+geom_point()+xlab(.Alturas Padres biologicos\")+ylab(.Alturas Hijos/Hijas\")+ggtitle(.Aso de\\n\\nalturas padres-vastagos\") Seguidamente repetir con las madres\\n\\n> ggplot(gf, aes(x = mother, y = childHeight)) + geom_point()\\n\\nEn plot() se usó la función par() para acomodar gráficos en un panel. En ggplot() se utiliza la función facet_wrap()\\n\\n> ggplot(gf, aes(x = mother, y = childHeight)) + geom_point() + fa-\\n\\ncet_wrap(˜gender) (Figura1.6). El comando se suma a los anteriores. El operador ˜ indica usar el factor gender como variable de control, o de agrupamiento. Ambos sexos muestran tendencias similares y un desplazamiento en altura. Si se desea distinguir los conjuntos con colores hay que modificar el argumento aes.\\n\\nGonzález Bonorino\\n\\n11\\n\\nProgramación en R\\n\\nFigura 1.7: Histograma.\\n\\n> ggplot(gf, aes(mother, childHeight, color= gender)) + geom_point() +\\n\\nfacet_wrap(˜gender)\\n\\n1.3.1. Histogramas, Diagramas de caja y de barra\\n\\nEmpleando datos de GaltonFamilies\\n\\n> ggplot(gf, aes(childHeight, fill = gender)) + geom_histogram() (Figura 1.7).\\n\\nEl argumento fill da color pleno al histograma controlado por género. Representar\\n\\nlos mismos datos con una curva uniendo los puntos medios\\n\\n> ggplot(gf, aes(childHeight, color = gender)) + geom_freqpoly(binwidth\\n\\n= 1, center = 70,size = 2). Y también crear un diagrama de barras con las alturas de los niños usando la opción geom_col()\\n\\n> p+geom_col(mapping = aes(x=gender,y=childHeight)\\n\\nY repetir pero con la opción geom_bar\\n\\n> ggplot(gf, aes(x=gender)) + geom_bar()\\n\\nInspeccionar los resultados. geom_col sumó los valores de las alturas. Verificar con sum(gf$childHeight) que da 62340.7. Mientras que geom_bar cuenta los individuos, como se verifica haciendo summary(gf) que da 481 varones y 453 mujeres.\\n\\nGonzález Bonorino\\n\\n12\\n\\nProgramación en R El diagrama de cajas (boxplot) es muy útil para explorar la dispersión de valores. El alto del rectángulo está determinado por los cuartiles, los extremos de la recta vertical indica el rango y los puntos aislados los valores extremos (outliers). La función es geom_boxplot().\\n\\n> ggplot(airquality, aes(y=Ozone, x=1)) + geom_boxplot(fill<-‟green‟)\\n\\n(Figura1.8). Un mensaje advierte de datos faltantes.\\n\\nFigura 1.8: Gráfico de cajas.\\n\\nLa línea horizontal marca la mediana. Valores mayores que la mediana mues- tran una mayor dispersión. Los dos puntos aislados arriba son valores extremos.\\n\\nEjemplo con ggplot()\\n\\nVer script ggplot.Rmd Se sugiere que ejecuten el código paso a paso identificando las diferencias y los códigos respectivos.\\n\\n1.4.\\n\\nlevelplot()\\n\\nLa función levelplot() representa una superficie 3D en un plano discriminando las variaciones topográficas, o equivalentes, con colores. levelplot() es parte del paquete lattice, que implementa mejoras respecto de las rutinas gráficas en el paquete base. Una de las mejoras es que permite expresar relaciones condicionales entre grupos de variables: y ~ x | z, y versus x dada la condici‟on z. levelplot() es una de las funciones en lattice. La sintaxis elemental por defecto es González Bonorino\\n\\n13\\n\\nProgramación en R\\n\\nlevelplot(formula | variables, data = un dataframe) Donde fórmula establece una relación: z ˜ x * y, con z la variable respuesta y x y son variables numéricas evaluadas sobre una grilla rectangular. Adicionalmente, el operador pipe, |, permite incluir factores adicionales. Por ejemplo, z ~ x | A indica mostrar la realción entre z y x separadamente para cada nivel del factor A.\\n\\nEjemplo\\n\\nTomado de RDocumentation\\n\\n> library(lattice) > x <- seq(pi/4, 5 * pi, length = 100) > y <- seq(pi/4, 5 * pi, length = 100) > r <- as.vector(sqrt(outer(xˆ2, yˆ2, ‟+‟))) > grid <- expand.grid(x=x, y=y)\\n\\nCrear un marco de datos como el producto cartesiano de x e y\\n\\n> grid$z <- cos(rˆ2) * exp(-r/(piˆ3)) > levelplot(z ~ x*y, grid, cuts = 50, scales=list(log=‟e‟), xlab=”, ylab=”, main<-‟Vistoso diseño‟, sub = ‟con escalas logs‟, colorkey = FALSE, region = TRUE) Ver\\n\\n> ?levelplot para más detalles\\n\\n1.4.1.\\n\\nExportar gráficos\\n\\nLos gráficos se exportan como imágenes bitmap: jpeg, png, bmp y tiff, o como imágenes vectoriales: pdf, ps.\\n\\nEjemplo\\n\\nPrimero se llama a la función de exportación especificando el nombre que se da a la salida\\n\\n> jpeg(file<-‟Mi_grafico.jpg‟)\\n\\nLuego se ejecuta el dibujo > par(mfrow<-c(1,2)) > y <- 30*x/(2+x)\\n\\n> x <- seq(1,10,0.5)\\n\\n> plot(x, y, pch=20, cex=1, col=‟red‟, type=‟b‟) > plot(x, y, pch=20, cex=1, col=‟blue‟, type=‟l‟) > dev.off()\\n\\nFinalmente se cierra el canvas o no se guardará la imagen. El dibujo se guarda en el directorio de trabajo. Con jpeg() por defecto la resolución es 480x480 píxeles. Con png() la resolución se puede ajustar. Para exportar como PDF cambiar la primera línea a: pdf(file<-‟Mi_grafico.pdf‟).\\n\\nGonzález Bonorino\\n\\n14\\n\\nProgramación en R\\n\\n1.5.\\n\\nSeries temporales\\n\\nCargar la biblioteca de ggplot2\\n\\n> library(ggplot2)\\n\\nDescargar los datos del sitio Figshare y dirigirlos a nuestro directorio de trabajo creado previamente.\\n\\n> download.file(‟https://ndownloader.figshare.com/files/9282364‟, destfile<-\\n\\n„boulder-precip.csv‟) Luego importar los datos a R\\n\\n> boulder_precip <- read.csv(file <- ‟boulder-precip.csv‟)\\n\\nRevisar la estructura con head() y str(). Verificar que las columnas DATE y PRECIP se leen correctamente escribiendo\\n\\n> boulder_precip$DATE y boulder_precip$PRECIP. Graficar\\n\\nusando una rutina de ggplot2, es decir, no de R nativo.\\n\\n> qplot(x = boulder_precip$DATE, y = boulder_precip$PRECIP) (Fi-\\n\\ngura1.9). Otros procedimientos gráficos se verán a lo largo del curso.\\n\\nFigura 1.9: Serie temporal con qplot.\\n\\n1.6 Técnicas gráficas en el Análisis Exploratorio de Datos (EDA) El Análisis Exploratorio de Datos reúne procedimientos para explorar un conjunto de datos antes de emplearlo en un análisis profundo. El EDA se basa fuertemente en la representación gráfica de los datos, tanto de datos categóricos como cuantitativos. Recordamos que un dato categórico, también llamado cualitativo, define la pertenencia de un objeto estadístico a una categoría o clase de acuerdo a alguno de sus atributos. Por ejemplo, color, sexo, club, tamaño. El valor puede ser un número pero generalmente porque se lo\\n\\nGonzález Bonorino\\n\\n15\\n\\nProgramación en R\\n\\nasigna a la categoría. En cambio una variable, o dato, cuantitativo está representado por un número. El valor que toma puede ser continuo o discreto. En el primer caso la separación entre dos valores consecutivos es infinitésima, y en el segundo es finita.\\n\\nNo existen reglas fijas en el proceso de EDA. Pero en general nos interesa conocer dos asuntos: la variabilidad que muestran las variables en ese conjunto de datos, y si existe covariación entre las variables y de qué tipo.\\n\\nCuando se trabaja con variables categóricas un diagrama de barras es apropiado. Usamos el conjunto diamonds que se instala con ggplot2.\\n\\nlibrary(ggplot2) View(diamonds)\\n\\nLa columna cut indica el tipo de corte, una variable categórica. Creamos un diagrama de barras.\\n\\nlibrary(ggplot2)\\n\\nggplot(data = diamonds) + geom_bar(mapping = aes(x = corte))\\n\\nCada categoría, es decir, cada corte, es asignado a una columna, y la altura de la columna corresponde al número de veces que se repite la categoría. Puedo obtener un conteo de incidencias haciendo:\\n\\nlibrary(tidyverse)\\n\\ndiamonds %>% count(cut)\\n\\ncount es función del paquete dplyr que se carga con tidyverse.\\n\\nSi la variable es cuantitativa continua, la distribución, la variabilidad, de valores se obtiene con un histograma. Como ejemplo graficamos la distribución del número de carates.\\n\\nGonzález Bonorino\\n\\n16\\n\\nProgramación en R\\n\\nlibrary(ggplot2)\\n\\nggplot(data = diamonds) + geom_histogram(mapping = aes(x = carat), binwidth = 0.5)\\n\\nbinwidth da el ancho de cada compartimiento.\\n\\nEl número de instancias por compartimiento se obtiene empleando la función cut_width(), que se instala con ggplot2.\\n\\nlibrary(ggplot2) library(tidyverse)\\n\\ndiamonds %>% count(cut_width(carat, 0.5))\\n\\ncut_width() requiere la variable y el intervalo de corte.\\n\\nUna representación de covariación se obtiene con los diagramas de caja (box plots). Usamos el conjunto de datos mtcars para comprobar la covarianza entre consumo y cilindrada.\\n\\nlibrary(ggplot2)\\n\\nboxplot(mpg~cyl,data=mtcars, xlab=\"Numero de cilindros\", ylab=\"Millas por galon\")\\n\\nOtra gráfico que muestra la covariación es el de dispersión. library(ggplot2)\\n\\nggplot(data=diamonds) + geom_point(mapping = aes(x = carat, y = price))\\n\\nEl precio claramente aumenta con los carates pero con mucha variabilidad, posiblemente dependiendo del corte.\\n\\nGonzález Bonorino\\n\\n17\\n\\nParte VI Estructuras\\n\\nde control\\n\\n17\\n\\nProgramación en R\\n\\nEn este capítulo se resumen funcionalidades de R útiles en programación. Se comienza por resaltar la propiedad de vectorización, que permite acortar mucho el código. Se sigue con un repaso de estructuras iterativas y condicionales, comunes en otros lenguajes y otras exclusivas de R. Este tipo de estructuras se suelen denominar de control debido a que gobiernan la distribución de acciones en el tiempo de ejecución.\\n\\n1.6. Vectorización\\n\\nR es un lenguaje vectorizado. Esto implica que puede ejecutar operaciones en paralelo entre vectores y que una determinada función, como mean() o sqrt(), se ejecuta automáticamente sobre cada uno de los elementos de un vector. Esta propiedad ya fue aplicada a lo largo del curso pero sin hacerla manifiesta. Por ejemplo, dados los vectores a <- 1:4 y b <- 6:9, la suma de ambos se obtiene con a + b, mientras que en otros lenguajes requeriría un bucle for. Otro ejemplo. Dado a <- 1:4, a > 2 devuelve FALSE FALSE TRUE TRUE. Es decir, la orden de comparación se aplicó sucesivamente a cada elemento del vector a. La propiedad se extiende a matrices. Dadas m <- matrix(1:4, 2, 2) y n <- matrix(6:9), el producto m * n devuelve el resultado buscado.\\n\\n1.7.\\n\\nIteración\\n\\nQuienes provienen de otros lenguages de progamación asocian el término iteración, o bucles, con ciclos for ..., repeat ... y while R también ofrece estos recursos.\\n\\n1.7.1.\\n\\nbucle for\\n\\nUn bucle for tiene la siguiente estructura for (valor en una secuencia) { código } Se usa el bucle for cuando se conoce de antemano cuantas iteraciones habrá. El bucle requiere una variable, cuyo valor inicial se asigna por fuera del bucle y antes de ingresar en él, y un código para ejecutar. Una vez ejecutado el\\n\\ncódigo el valor de la variable cambia al siguiente en la secuencia. Y así hasta completar la secuencia. Excepciones al funcionamiento descripto pueden darse si se intercala break o next. (Figura1.10)\\n\\nGonzález Bonorino\\n\\n19\\n\\nProgramación en R\\n\\nFigura 1.10: Bucle for.\\n\\nEn este y los demás diagramas de flujo el rombo representa tomar un decisión.\\n\\nEjemplo A\\n\\n> for(i in 1:5) print(1:i)\\n\\nPredecir las respuestas en los tres ejercicios que siguen a) a <- 0 for (j in 3:5) a <- j+a b) a<- 10 for (j in 3:5) a <- j+a c) a <- 10 for (j in 3:5) a <- j*a\\n\\nEjemplo B\\n\\nCrear una matriz vacía y llenarla con valores mi_mat <- matrix(nrow=3, ncol=5) for(i in 1:dim(mi_mat)[1]) {\\n\\nfor(j in 1:dim(mi_mat)[2]) {\\n\\nmi_mat[i,j] <- i*j }\\n\\n} Mostrar la matriz mi_mat\\n\\nGonzález Bonorino\\n\\n20\\n\\nProgramación en R\\n\\n1.7.2.\\n\\nbucle repeat\\n\\nUn bucle repeat ejecuta una secuencia de comandos hasta que se le indique que pare. Se usa el bucle repeat cuando no se sabe de antemano cuantas iteraciones serán necesarias para completar la operación pero sí con cual resultado debe detenerse.\\n\\nEjemplo A\\n\\nLa instrucción inicial se repite hasta que el contador supera a 5, entonces entra a operar break. Notar que el bucle repeat incluye una sentencia condicional. v <- c(Repite\") contador <- 2 repeat {\\n\\nprint(v) contador <- contador+1 ) if(contador > 5) { break }\\n\\n}\\n\\n1.7.3.\\n\\nbucle while\\n\\nEl bucle con while tiene la estructura i <- número entero variable a ingresar en la prueba while (prueba condicional) { código } Se usa el bucle while cuando no se sabe de antemano cuantas iteraciones serán necesarias para completar la operación. En cada iteración while verifica\\n\\nGonzález Bonorino\\n\\n21\\n\\nProgramación en R\\n\\nel resultado de la prueba, mientras sea verdad ejecuta el código, cuando se hace falso sale inmediatamente del bucle (Figura1.11).\\n\\nFigura 1.11: Bucle while.\\n\\nEjemplo A\\n\\ni <- 1 while (i < valor) {\\n\\nprint(i) i <- i+1\\n\\n}\\n\\nEjemplo B\\n\\nc<-0;n<-1 while(c «- 1000) { n <- n + 1 c <- nˆ2\\n\\n} Verificar escribiendo > c\\n\\n1.7.4.\\n\\nfamilia apply(), lapply(), sapply(), tapply()\\n\\nLas estructuras de código para iterar una operación vistas arriba son comunes a muchos lenguajes de programación y, por cierto, dan buenos resultados. El lenguaje R incorpora varios otros algoritmos que, en muchos casos, son\\n\\nGonzález Bonorino\\n\\n22\\n\\nProgramación en R\\n\\npreferibles al tradicional bucle for. En el acápite Funciones, en el Módulo 1 - Estructuras, se introdujo brevemente la función apply(), útil para reiterar una operación sobre objetos diferentes. Aquí la presentamos formalmente, y agregamos tres funciones más con similares prestaciones: lapply(), sapply() y tapply(), que en conjunto confirman la familia apply, que se encuentra en el paquete base.\\n\\nLa función apply() apply() toma tres argumentos: X - nombre del array sobre el que se aplica, MARGIN – un número entero indicando si la operación se ha de ejecutar por filas, 1, por columnas, 2, o en ambas direcciones, c(1,2), y FUN - la función que se ha de aplicar a X; FUN puede ser una función creada por el analista. Es decir, apply() es una función que llama a otra función y devuelve unvector, una lista o un array. Si X es un marco de datos apply() lo coerciona a array.\\n\\nVeamos un ejemplo. Dada la matriz 5 x 6 m1,obtener la suma de las columnas y de las filas empleando la función predefinida sum(). Notar el control MARGIN. m1 <- matrix(c(1:10),nrow=5, ncol=6) m1_suma_cols <- apply(m1, MARGIN = 2, FUN = sum) m1_suma_filas <- apply(m1, MARGIN = 1, FUN = sum)\\n\\nLa función lapply() lapply() opera sobre listas y vectores, y devuelve una lista cuyos valores resultan de aplicar una función a cada elemento ingresado; la „l‟ inicial representa lista. lapply() toma sólo dos argumentos, X y FUN. Convertimos la matriz m1 a lista y aplicamos lapply(). m1_suma_cols <- lapply(list(m1), FUN = sum) Devuelve 165, la suma de todos los elementos de m1, en formato de lista. Para obtener el resultado como vector aplicar unlist() m1_suma_cols <- unlist(lapply(list(m1), FUN = sum))\\n\\nOtro ejemplo. Convertir vars a minúsculas\\n\\n> vars <- c(‟UNO‟, ‟DOS‟, ‟TRES‟, ‟CUATRO‟) > vars_min <- lapply(vars, tolower) > vars_min\\n\\nLa función sapply() sapply() opera sobre listas, vectores o marcos de datos y devuelve un vector o una matriz; toma dos argumentos: X y FUN. Aplicarlo sobre vars\\n\\n> vars_min <- sapply(vars, tolower)\\n\\ndevuelve un vector con los nombres convertidos a minúsculas.\\n\\nLa función tapply() tapply() opera sobre arrays cuyas filas varían en longitud („ragged array‟)\\n\\nGonzález Bonorino\\n\\n23\\n\\nProgramación en R tomando únicamente las celdas con datos. La sintaxis es: tapply(X, INDEX una lista de factores, cada uno de igual largo que X; y FUN la función a aplicar. La función\\n\\nEjemplo. Se opera sobre el marco de datos mtcars. Se desea calcular el consumo promedio, mpg, según la cilindrada, cyl.\\n\\n> tapply(mtcars$mpg,mtcars$cyl, mean)\\n\\ndonde X<-mtcars$mpg, INDEX<-mtcars$cyl, FUN<-mean. En resumen, las funciones del grupo apply() toman el primer elemento del vector X y aplican sobre él la función FUN, luego pasan al segundo elemento, y así hasta procesarlos a todos. Es decir, se comporta como un bucle for pero con menos código y evitando la preocupación de llevar bien la contabilidad de iteraciones. Los bucles for ... son útiles donde la salida de una iteración depende del resultado de la iteración previa. En otras situaciones una de las funciones de la familia apply() probablemente sea más eficiente.\\n\\napply() versus bucle for\\n\\nUn último ejemplo compara un bucle for con apply(). Dada la matriz\\n\\n> m1 <- matrix(C = (1:10),nrow=5, ncol=6) El bucle for calcula los promedios de cada columna for(i in 1:6) {\\n\\nprint(mean(m1[,i]))\\n\\n} El mismo cálculo con apply() > apply(m1,2,mean)\\n\\nLa sección siguiente aplica iteración en una operación que se presenta con frecuencia en el trabajo con conjuntos de datos, cual es el procesamiento de numerosos archivos simultáneamente.\\n\\n1.8. Carga automatizada de archivos\\n\\nVer video ArchivosMultiples.mp4.\\n\\nSi los archivos a cargar son pocos, cargarlos uno a uno, como se hizo en el Módulo 2, no es tarea dura. Si hay que cargar decenas de archivos es conveniente disponer de otro recurso. La iteración brinda una solución. Los archivos a cargar deben residir en un mismo directorio y sus nombres deben tener alguna similaridad distintiva, como por ejemplo la extensión. En este ejemplo se trata de cargar veinte archivos Excel que se encuentran en la carpeta Listados_xls. Se ofrece el script Listado_xls.Rmd, en formato RMarkdown (ver la carpeta Listados_xls). Tener en cuenta que los 20 archivos Excel suman 389 filas de registros, excluyendo los encabezamientos. Y también que el código de carga suprime los encabezamientos. Usando la función colnames() (ver sección 1.5) reinstauren los nombres de columnas.\\n\\nGonzález Bonorino\\n\\n24\\n\\nProgramación en R\\n\\n1.9. Estructuras de ejecución condicional\\n\\nSe presentan tres estructuras que permiten procesar datos con condiciones: if, if else y ifelse Hay tres maneras de establecer condiciones en bucles if: Sin alternativas, con una alternativa y con varias alternativas.\\n\\n1.9.1. Condición sin alternativas\\n\\nif(condicion booleana) código el código se ejecuta si la condición resulta verdad (Figura1.12). La condición puede ser lógica o numérica. Ejecutar los siguientes ejemplos.\\n\\nEjemplo A\\n\\nx <- valor if(y > valor){\\n\\nprint(‟y mayor que x‟)\\n\\n}\\n\\nEjemplo B\\n\\nx <- ‟Gustavo‟ if(is.numeric(x)) {\\n\\nprint(‟x es un número‟)\\n\\n}\\n\\nGonzález Bonorino\\n\\n25\\n\\nProgramación en R\\n\\nFigura 1.12: Bucle if sin alternativa.\\n\\n1.9.2. Condición con una alternativa\\n\\nif (prueba) {código 1} else {código 2} Ejemplo x <- ‟Gustavo‟ if(is.numeric(x)) {\\n\\nprint(‟x es un número‟)\\n\\n} else {\\n\\nprint(‟x no es un número‟)\\n\\n} (Figura1.13).\\n\\nEjemplo A\\n\\nif (prueba) { declaración\\n\\n1 } else { declaración 2\\n\\n}\\n\\nGonzález Bonorino\\n\\n26\\n\\nProgramación en R\\n\\nFigura 1.13: Bucle if else.\\n\\nEjemplo B\\n\\nDado un vector con dos elementos x <- c(10, 1) escribir un bucle condicional que detecte el elemento de mayor valor. if(x[1] print(paste(‟El valor mayor es ‟, x[1])) } else {print(paste(‟El valor mayor es ‟, x[2])) }\\n\\n> x[2]) {\\n\\n1.9.3. Ejemplo C\\n\\nBucle if anidado en una función\\n\\nEjecutar con raiz(5, -32); devuelve 2.\\n\\nraiz <- function(n,x){\\n\\nif(n 2 == 1 || x $>$ <- 0 ){\\n\\nsign(x)*abs(x)^(1/n)\\n\\n} else{ NaN }\\n\\n1.9.4. Condición con varias alternativas\\n\\nif (prueba) {código 1} else if(prueba){código 2} else {código 3}\\n\\nGonzález Bonorino\\n\\n27\\n\\nProgramación en R\\n\\nEjemplo A\\n\\nx <- ’Gustavo’ if(is.numeric(x)) {\\n\\nprint(’x es un número’) } else if(is.complex(x)) { print(’x es complejo’) } else { print(’x no es número o complejo’)\\n\\n}\\n\\nEste bucle acepta más opciones anidadas. La estructura ifelse corresponde en este acápite pues ofrece dos alternativas. En general ocupa una línea de comando y puede operar en vectores. La sintaxis es: ifelse(condicion, opcion verdad, opcion falso) O sea, si la condición evalúa a verdadero, se ejecuta la primera opción, de lo contrario se ejecuta la segunda opción. Dado > a <- 8 > ifelse(a > 7,200,0) devuelve 200\\n\\nOperando con caracteres. Un código continúa ejecutando si la respuesta es SI y se detiene si es NO > b <- \"SI\" > ifelse(b == \"SI\",Çontinuar\",\"Parar\")\\n\\nTambién opera con vectores, evaluando uno por uno cada elemento\\n\\n> x <-c(4,7,9,44) > ifelse(x > 7,.alto\",\"bajo\"))\\n\\nPero ¿qué pasa si se agregan comando internos? > ifelse(x > 7, print(.alto\"),print(‟bajo‟))\\n\\nifelse ejecuta primero los comandos y luego evalúa la condición sobre el vector. ifelse tiene ciertas limitaciones. Por ejemplo, dado\\n\\n> a <- 8; aa<-0 > ifelse(a > 7,aa<-200,aa<-0) genera error. Para ejecutar la asignación hay\\n\\nque usar\\n\\n> if(a > 7) aa <- 200 else aa <- 0\\n\\nEjemplos de bucles\\n\\nEjemplo while, if El número Armstrong, también llamado número narcisista, es un número\\n\\nGonzález Bonorino\\n\\n28\\n\\nProgramación en R\\n\\ntal que la suma de sus dígitos elevados al cubo devuelve el mismo número. El bucle while determina si un número ingresado por teclado es un número Armstrong. Abrir el Editor de RStudio con File>New File>R Script. Escribir los siguientes comandos en el editor de RStudio, sin ingresar >. num <- as.integer(readline(prompt<-‟Ingresar un número sin decimales: ‟)) sum <- 0 Inicializa la suma a 0 temp <- num Guarda el número en una variable temporaria while(temp > 0) { Cuando temp <- 0 termina el bucle digit <- temp % % 10 # Halla el módulo de dividir por 10; lo guarda en digit sum <- sum + (digit ˆ3 ) # Eleva el resto al cubo y lo suma temp <- floor(temp / 10) # Divide por 10 el número original y lo trunca } if(num == sum) { # Si el número inicial es igual a la suma el número es Armstrong print(paste(num, ‟es un número Armstrong‟)) } else { print(paste(num, ‟no es un número Armstrong‟)) } Para ejecutar posicionar el cursor en la primera línea. Pulsar Run en la cinta superior. Al pedido ingresar un número, por ejemplo 371. Pulsar en Run sucesivamente hasta completar el proceso. Probar con otro número.\\n\\nGonzález Bonorino\\n\\n29\\n\\nParte VII\\n\\nFundamentos de programación en R\\n\\n29\\n\\nProgramación en R\\n\\nR es un lenguaje de programación funcional, es decir, un lenguaje basado en el uso de funciones matemáticas y en el cual las funciones pueden ser asignadas a variables. \"Los lenguajes funcionales priorizan el uso de recursividad y aplicación de funciones de orden superior para resolver problemas que en otros lenguajes se resolverían mediante estructuras de control (por ejemplo, ciclos).\"(Wikipedia Programación funcional). La consiguiente compacidad de los comandos en R ha hecho que no se lo vea como un lenguaje de programación al estilo de Python, con sus ubícuos bucles. Pero igualmente R brinda recursos para crear códigos estructurados que permiten la ejecución concatenada de comandos, como se vio en Estructuras de control. Al iniciarse en programación es conveniente aprender a trabajar con proyectos.\\n\\n1.10. Proyectos\\n\\nMientras se trate de escribir unas pocas líneas de código, y ya habrán apreciado cuanto se puede lograr con unas pocas líneas de código en R, no es necesario complicarse con la creación y administración de proyectos. Pero con tareas más complejas la organización en proyectos es conveniente. En RStudio se puede crear un proyecto desde File>New Project, o pulsando en Project>New Project en el ángulo superior derecho. En ambos casos una pantalla Create Project invita a crear un proyecto en un directorio nuevo o uno existente. Pulsae en New Directory y seleccionar New Project. Pulsar en Browse y apuntar a un directorio raíz. En el rengló arriba indicar el nombre del directorio a crear. Aceptar y se crea el proyecto, cuyo nombre aparece en la consola y en el ángulo superior derecho. En el directorio se crea un archivo con el nombre del proyecto y la extensión *.Rproj. Un proyecto puede tener propiedades definidas por el usuario. Pulsando en el nombre del proyecto en la cinta superior seleccionar Project Options. En esta etapa de la instrucción no interesa modificar nada.\\n\\n1.11.\\n\\nScripts\\n\\nUn script es un texto en formato ASCII con instrucciones codificadas en el lenguaje R que se ejecutan al llamarlo desde RStudio. Los scripts permiten almacenar numerosos comandos en una correcta secuencia de ejecución, re- sumiendo una larga tarea de preparación, y facilitan tanto el retorno a un proyecto temporariamente abandonado como el intercambio de proyectos entre colegas. El conjunto de comandos escritos para determinar si un número es un número Armstrong constituyen un script. Se da otro ejemplo. 1 – Escribir los siguientes comandos en un procesador de texto y<-c(12,15,28,17,18) x<-c(22,39,50,25,18) print(mean(y)) print(mean(x)) plot(x,y) y guardarlos con extensión TXT en el directorio de trabajo, por ejemplo, script.txt.\\n\\nGonzález Bonorino\\n\\n31\\n\\nProgramación en R\\n\\n2 – En la consola de RStudio escribir\\n\\n> source(„script.txt‟)\\n\\ny se ejecutan los comandos imprimiendo los promedios en la consola y el gráfico en el panel Plots. scripts.txt debe residir en el directorio actual, o completar el enlace. Alternativamente 1 - Ir a File>New File>R script 2 - Copiar el script a la pantalla del editor. 3 – Ir a File>Save As y guardar el script con extensión *.R. 4 – Se lo puede cargar con File>Open File. El Módulo 4 incluye numerosos scripts aplicando R a diversos problemas.\\n\\nInstalar y activar paquetes en scripts\\n\\nSon muy pocos los proyectos en R que se ejecuten empleando solamente los paquetes base. A poco andar verán la necesidad recurrente de instalar y activar otros paquetes. Una vez que hayan definido los recursos programáticos necesarios para un proyecto en particular, y el protocolo de ejecucion, probablemente convenga consolidar todo en un script. Mientra el script se ejecute en vuestra computadora no será necesario instalar los paquetes, si no sólo activarlos con library() o require(). Pero si desearan distribuir el script a terceros podrán preferir incluir los comandos de instalación en el propio script. Hay más de una manera de proceder. Crear un vector con los nombres de los paquetes a activar, por ejemplo,\\n\\n> mis_paquetes <- c(‟dplyr‟, ‟mice‟, ‟stringr‟)\\n\\nY usar lapply() para repartir la acción require en cada uno\\n\\n> lapply(mis_paquetes, require, character.only <- TRUE)\\n\\nAlternativamente recurrir al paquete easypackages, que ofrece las funciones packages() y libraries(), las cuales se aplican así: packages(‟dplyr‟, ‟ggplot2‟, ‟RMySQL‟, ‟data.table‟) libraries(‟dplyr‟, ‟ggplot2‟, ‟RMySQL‟, ‟data.table‟)\\n\\nGonzález Bonorino\\n\\n32\\n\\nProgramación en R\\n\\n1.11.1.\\n\\nattach()\\n\\nSi se desea referir a una determinada variable en un marco de datos se puede emplear $; marco de datos$variable. Aunque práctica y transparente, este modo de referir a una variable puede resultar tedioso. La función attach() brinda otra opción. Con\\n\\n> attach(marco_de_datos)\\n\\nincorpora el nombre de un marco de datos a la ruta de búsqueda en R. Hecho esto el analista puede referirse a una variable escribiendo solamente el nombre y omitiendo el nombre del marco de datos que la contiene.\\n\\n> detach() anula la asociación.\\n\\n1.11.2.\\n\\nBuenas prácticas en programación\\n\\nEs un error muy común creer que uno recordará por siempre con claridad un script elaborado con mucho esfuerzo. Eso no ocurre. Por lo tanto es recomendable implementar algunas prácticas que faciliten retomar un script pasado cierto tiempo, y también facilitar la tarea de terceros que pudieren interesarse en él. Algunas de estas prácticas son:\\n\\nIncluir abundantes comentarios.\\n\\nAl inicio indicar autores, fechas de inicio y actualización, enumeración de los paquetes requeridos, y propósito del script.\\n\\nInsertar en el código explicaciones de cada función y otras aclaraciones.\\n\\nNo incluir URLs y enlaces en el código, más bien inicializarlos al comienzo. Por ejemplo\\n\\nReunir las funciones que se hayan creado al principio del código o en un archivo separado.\\n\\nMantener una nomenclatura consistente, vectores v_, matrices m_, por ejemplo.\\n\\nFin del Módulo 3\\n\\nGonzález Bonorino\\n\\n33'"
      ]
     },
     "execution_count": 11,
     "metadata": {},
     "output_type": "execute_result"
    }
   ],
   "source": [
    "# Mostrar cada documento. Segrega las funciones en documentos separados. Comparar con el script.\n",
    "pages[3].page_content#[:100]"
   ]
  },
  {
   "cell_type": "code",
   "execution_count": null,
   "metadata": {
    "collapsed": true,
    "jupyter": {
     "outputs_hidden": true
    }
   },
   "outputs": [],
   "source": []
  },
  {
   "cell_type": "markdown",
   "metadata": {
    "collapsed": true,
    "jupyter": {
     "outputs_hidden": true
    }
   },
   "source": [
    "##### Cargar multiples extensiones\n",
    "El sitio de LangChain muestra código para cargar archivos con diferentes extensiones ubicados en un mismo directorio. <br>\n",
    "Ver:\n",
    "https://github.com/langchain-ai/langchain/discussions/18559\n"
   ]
  },
  {
   "cell_type": "code",
   "execution_count": null,
   "metadata": {
    "collapsed": true,
    "jupyter": {
     "outputs_hidden": true
    }
   },
   "outputs": [],
   "source": []
  }
 ],
 "metadata": {
  "kernelspec": {
   "display_name": "Python 3 (ipykernel)",
   "language": "python",
   "name": "python3"
  },
  "language_info": {
   "codemirror_mode": {
    "name": "ipython",
    "version": 3
   },
   "file_extension": ".py",
   "mimetype": "text/x-python",
   "name": "python",
   "nbconvert_exporter": "python",
   "pygments_lexer": "ipython3",
   "version": "3.11.9"
  }
 },
 "nbformat": 4,
 "nbformat_minor": 4
}
