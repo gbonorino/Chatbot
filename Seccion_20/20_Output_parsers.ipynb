{
 "cells": [
  {
   "cell_type": "code",
   "execution_count": 2,
   "id": "ea458804-8325-4048-b85b-bf8b0f16878d",
   "metadata": {},
   "outputs": [
    {
     "data": {
      "text/plain": [
       "True"
      ]
     },
     "execution_count": 2,
     "metadata": {},
     "output_type": "execute_result"
    }
   ],
   "source": [
    "# Leer el archivo .env con la clave API\n",
    "from dotenv import load_dotenv\n",
    "load_dotenv()"
   ]
  },
  {
   "cell_type": "markdown",
   "id": "1a4eae2b-70ef-4ea8-9893-cc1c7e45e2a1",
   "metadata": {},
   "source": [
    "#### Instrucciones de formato\n",
    "Propósito del ejemplo   <br>\n",
    "Aprender a recuperar las instrucciones de formato incluidas por defecto en los diversos analizadores sintácticos.\n"
   ]
  },
  {
   "cell_type": "code",
   "execution_count": null,
   "id": "cda83832-89a5-450c-8ff0-e46d9dccacd7",
   "metadata": {},
   "outputs": [],
   "source": [
    "from langchain_core.output_parsers import StrOutputParser\n",
    "from langchain.output_parsers import CommaSeparatedListOutputParser\n",
    "from langchain_core.output_parsers import JsonOutputParser\n",
    "from langchain.output_parsers import DatetimeOutputParser\n",
    "from langchain.output_parsers import XMLOutputParser\n",
    "\n",
    "print(\"JSON - \", JsonOutputParser().get_format_instructions())\n",
    "print(\"***************************************************\")\n",
    "print(\"CSV - \", CommaSeparatedListOutputParser().get_format_instructions())\n",
    "print(\"***************************************************\")\n",
    "print(\"Fecha - \", DatetimeOutputParser().get_format_instructions())\n",
    "print(\"***************************************************\")\n",
    "print(\"XML - \", XMLOutputParser().get_format_instructions())\n",
    "print(\"***************************************************\")\n",
    "print(StrOutputParser().get_format_instructions())"
   ]
  },
  {
   "cell_type": "code",
   "execution_count": null,
   "id": "1801702f-e6e7-4c8d-b861-260c2508c682",
   "metadata": {},
   "outputs": [],
   "source": []
  },
  {
   "cell_type": "code",
   "execution_count": null,
   "id": "d5859bed-c4c7-4e75-9d8b-40738275b7ee",
   "metadata": {},
   "outputs": [],
   "source": []
  },
  {
   "cell_type": "markdown",
   "id": "6ee23f6b-e89a-45bb-844e-7a190a81d41c",
   "metadata": {},
   "source": [
    "##### Analizador StrOutputParser\n",
    "Propósito del ejemplo  <br>\n",
    "Mostrar el uso del analizador de uso más frecuente y el más sencillo.\n"
   ]
  },
  {
   "cell_type": "code",
   "execution_count": null,
   "id": "1abce16e-f0b7-4d09-9112-5f292ed96d7c",
   "metadata": {},
   "outputs": [],
   "source": [
    "from langchain_core.output_parsers import StrOutputParser\n",
    "from langchain_core.prompts import ChatPromptTemplate\n",
    "from langchain_groq import ChatGroq\n",
    "\n",
    "mixtral = ChatGroq(model=\"mixtral-8x7b-32768\",\n",
    "                   temperature=1,\n",
    "                   max_tokens=250)\n",
    "\n",
    "prompt = ChatPromptTemplate.from_template(\n",
    "    \"Eres un pirata extrovertido y entusiasta que ha viajada el mundo en busqueda \\\n",
    "    de tesoros culinarios y aventuras. Cuentame acerca de una de tus aventuras como \\\n",
    "    pirata en Argentina acerca de {tema}\")\n",
    "\n",
    "output_parser = StrOutputParser()\n",
    "\n",
    "# Se reunen los tres componentes con una cadena single chain using LCEL\n",
    "chain = prompt | mixtral | output_parser\n",
    "chain = chain.invoke({\"tema\": \"empanadas\"})\n",
    "chain"
   ]
  },
  {
   "cell_type": "code",
   "execution_count": null,
   "id": "2c9c5d72-15d1-4517-801e-d600acad099f",
   "metadata": {},
   "outputs": [],
   "source": []
  },
  {
   "cell_type": "code",
   "execution_count": null,
   "id": "21942995-6929-4a59-8450-13688660c9de",
   "metadata": {},
   "outputs": [],
   "source": []
  },
  {
   "cell_type": "code",
   "execution_count": null,
   "id": "d3be481f-a309-4ac8-bd40-f77e68e39e76",
   "metadata": {},
   "outputs": [],
   "source": []
  },
  {
   "cell_type": "markdown",
   "id": "b9cd9869-30f8-4950-aa13-e6ee8812eec1",
   "metadata": {},
   "source": [
    "##### Desglose de las salidas"
   ]
  },
  {
   "cell_type": "code",
   "execution_count": null,
   "id": "33e516a2-d6f6-47eb-845c-90a668fe60e7",
   "metadata": {},
   "outputs": [],
   "source": [
    "prompt_value = prompt.invoke({\"tema\": \"empanadas\"})\n",
    "print(\"Ver tipo de dato de salida: \", type(prompt_value))\n",
    "print(\"*****************************\")\n",
    "# PromptValue es versatil\n",
    "print(\"Convertir a mensajes: \", prompt_value.to_messages())\n",
    "print(\"*****************************\")\n",
    "print(\"Convertir a cadena de texto: \", prompt_value.to_string())\n"
   ]
  },
  {
   "cell_type": "code",
   "execution_count": null,
   "id": "7ef29666-5886-4d63-a12f-0cc9f9a1ccdd",
   "metadata": {},
   "outputs": [],
   "source": []
  },
  {
   "cell_type": "code",
   "execution_count": null,
   "id": "1f242202-da62-4dfb-943b-1670dbea5d42",
   "metadata": {},
   "outputs": [],
   "source": [
    "mensaje = mixtral.invoke(prompt_value)\n",
    "print(\"Tipo de dato de salida de invoke con el modelo: \", type(mensaje))"
   ]
  },
  {
   "cell_type": "code",
   "execution_count": null,
   "id": "3e93dd8c-5729-4de4-9256-a062116eb50a",
   "metadata": {},
   "outputs": [],
   "source": []
  },
  {
   "cell_type": "code",
   "execution_count": null,
   "id": "4dc1fb78-59db-4223-a1bb-c59b7570ac79",
   "metadata": {},
   "outputs": [],
   "source": []
  },
  {
   "cell_type": "code",
   "execution_count": null,
   "id": "88ae0793-19fb-4e09-8954-6885d3e914ea",
   "metadata": {},
   "outputs": [],
   "source": [
    "salida_parser = output_parser.invoke(mensaje)\n",
    "print(type(salida_parser))"
   ]
  },
  {
   "cell_type": "code",
   "execution_count": null,
   "id": "ad97e722-f7b2-4e47-98d2-4c457f99f881",
   "metadata": {},
   "outputs": [],
   "source": []
  },
  {
   "cell_type": "code",
   "execution_count": null,
   "id": "532b0ef9-84c4-47ce-b0cc-d691def89cdf",
   "metadata": {},
   "outputs": [],
   "source": []
  },
  {
   "cell_type": "code",
   "execution_count": null,
   "id": "c9c4f85a-7638-4a6d-8ff8-4f6413e5e59c",
   "metadata": {},
   "outputs": [],
   "source": []
  },
  {
   "cell_type": "markdown",
   "id": "2f3ed704-c38a-4aa3-ab5d-338cf83bd3e5",
   "metadata": {},
   "source": [
    "##### Analizador CommaSeparatedListOutputParser\n",
    "Propósito del ejemplo   <br>\n",
    "Mostrar la aplicación del analizador sintáctico segundo en frecuencia de uso."
   ]
  },
  {
   "cell_type": "code",
   "execution_count": 3,
   "id": "938495f9-c655-450c-8228-9140e7061763",
   "metadata": {},
   "outputs": [],
   "source": [
    "from langchain.output_parsers import CommaSeparatedListOutputParser\n",
    "from langchain.prompts import PromptTemplate\n",
    "from langchain_groq import ChatGroq\n",
    "\n",
    "mixtral = ChatGroq(model=\"mixtral-8x7b-32768\", temperature=0)\n",
    "parser_csv = CommaSeparatedListOutputParser()"
   ]
  },
  {
   "cell_type": "code",
   "execution_count": null,
   "id": "9917f7d2-2a31-4726-9d04-a8b3f03ee849",
   "metadata": {},
   "outputs": [],
   "source": []
  },
  {
   "cell_type": "code",
   "execution_count": 4,
   "id": "23624555-3de6-4964-b0cf-24dfb9cc84f6",
   "metadata": {},
   "outputs": [],
   "source": [
    "# Recuperar las instrucciones de formato\n",
    "format_instructions = parser_csv.get_format_instructions()\n",
    "# Se crea la plantilla de prompt\n",
    "prompt_template = PromptTemplate(\n",
    "    template=\"Genere un listado en español con tres objetos {objetos}.\\n{format_instructions}\",\n",
    "    input_variables=[\"objetos\"],\n",
    "    partial_variables={\"format_instructions\": format_instructions})"
   ]
  },
  {
   "cell_type": "code",
   "execution_count": null,
   "id": "28b4cce8-1858-4636-9c7b-a1448443e988",
   "metadata": {},
   "outputs": [],
   "source": []
  },
  {
   "cell_type": "code",
   "execution_count": 6,
   "id": "89c05430-ea21-497f-9e9d-350ea1ba9c22",
   "metadata": {},
   "outputs": [
    {
     "name": "stdout",
     "output_type": "stream",
     "text": [
      "['Prisma rectangular', 'prisma pentagonal', 'prisma hexagonal']\n"
     ]
    }
   ],
   "source": [
    "chain = prompt_template | mixtral | parser_csv    #| parser_csv\n",
    "salida = chain.invoke({\"objetos\":\"Objetos de geometria prismática.\"})\n",
    "print(salida)"
   ]
  },
  {
   "cell_type": "code",
   "execution_count": null,
   "id": "93ef1080-3db1-4c33-b591-79f26aad7742",
   "metadata": {},
   "outputs": [],
   "source": []
  },
  {
   "cell_type": "markdown",
   "id": "b12d9c4c-ba47-469f-96bf-38ac02ee0904",
   "metadata": {},
   "source": [
    "##### Analizador CommaSeparatedListOutputParser Ejemplo 2\n",
    "Construir una tabla"
   ]
  },
  {
   "cell_type": "code",
   "execution_count": 24,
   "id": "c8f5384f-07b3-47b7-8d20-818fca39bda6",
   "metadata": {},
   "outputs": [
    {
     "name": "stdout",
     "output_type": "stream",
     "text": [
      "\n",
      "Tabla de libros:\n",
      "            Titulo                                                                                                                                                                                                                               Autor\n",
      "1. \"El principito\" Antoine de Saint-Exupéry\\n2. \"Cien años de soledad\" por Gabriel García Márquez\\n3. \"Harry Potter y la piedra filosofal\" por J.K. Rowling\\n4. \"El señor de los anillos\" por J.R.R. Tolkien\\n5. \"Orgullo y prejuicio\" por Jane Austen\n"
     ]
    }
   ],
   "source": [
    "import csv\n",
    "from langchain.output_parsers import CommaSeparatedListOutputParser\n",
    "from langchain.prompts import PromptTemplate\n",
    "from langchain_groq import ChatGroq\n",
    "import pandas as pd\n",
    "\n",
    "# Inicializar el analizador parser y el LLM\n",
    "output_parser = CommaSeparatedListOutputParser()\n",
    "mixtral = ChatGroq(model=\"mixtral-8x7b-32768\", temperature=0)\n",
    "\n",
    "# Crear la plantilla de prompt\n",
    "prompt = PromptTemplate(\n",
    "    template=\"Haga un listado de 5 libros populares usando el formato 'Titulo por Autor'.\\n{format_instructions}\",\n",
    "    input_variables=[],\n",
    "    partial_variables={\"format_instructions\": output_parser.get_format_instructions()}\n",
    ")\n",
    "\n",
    "# Generar la lista\n",
    "response = llm(prompt.format())\n",
    "book_list = output_parser.parse(response)\n",
    "\n",
    "# Crear el archivo CSV \n",
    "csv_filename = \"directorio/libros_populares.csv\"\n",
    "with open(csv_filename, mode='w', newline='', encoding='utf-8') as file:\n",
    "    writer = csv.writer(file)\n",
    "    writer.writerow([\"Titulo\", \"Autor\"])  # Header\n",
    "    for libro in book_list:\n",
    "        partes = libro.split(\" por \", 1)  # Split en el primer \" por \"\n",
    "        if len(partes) == 2:\n",
    "            titulo, autor = partes\n",
    "            writer.writerow([titulo.strip(), autor.strip()])\n",
    "        else:\n",
    "            print(f\"Hubo un problema.\")\n",
    "\n",
    "# Leer el archivo CSV a un  DataFrame de pandas\n",
    "df = pd.read_csv(csv_filename)\n",
    "\n",
    "# Mostrar la tabla\n",
    "print(\"\\nTabla de libros:\")\n",
    "print(df.to_string(index=False))"
   ]
  },
  {
   "cell_type": "code",
   "execution_count": null,
   "id": "e61d5986-5ae4-4de0-b997-cf00858d4edf",
   "metadata": {},
   "outputs": [],
   "source": []
  },
  {
   "cell_type": "markdown",
   "id": "aed14730-57a5-401c-a80c-c90fa366ecdd",
   "metadata": {},
   "source": [
    "#### Partial_variables versus input_variables\n",
    "Hemos visto que el parámetro input_variables de PromptTemplate se emplea para declarar variables dinámicas. Indica cuales son y cómo se llaman. Se ejecuta cada vez que se invoque la plantilla. Si no hay variables dinámicas se le asigna una lista vacía. Es obligatorio a menos que se use from_template.   <br>\n",
    "El parámetro partial_variables es opcional. Suele incorporarse cuando los valores de determinadas variables dinámicas se conocen de antemano o pueden ser creados dinámicamente. Así, el programa puede cargar los valores conocidos, ganando tiempo de ejecución.  <br>\n",
    "partial_variables es un diccionario donde la clave es el nombre de la variable y el valor es un valor estático o una función que devuelva un valor. \n",
    "Usar input_variables cuando los valores cambian con el prompt; usar partial_variables si el valor es persistente, e.g., clave API, o puede ser generado automáticamente.   <br>\n",
    "No obstante, es legal incluir \"format_instructions\" en input_variables junto con “objetos”. "
   ]
  },
  {
   "cell_type": "code",
   "execution_count": 30,
   "id": "223968a9-363e-41b2-994e-02c0ea5e3548",
   "metadata": {},
   "outputs": [
    {
     "name": "stdout",
     "output_type": "stream",
     "text": [
      "Hoy es septiembre 23, 2024. Escriba sobre Peru.\n"
     ]
    }
   ],
   "source": [
    "# Insercion automatica de la fecha\n",
    "from langchain.prompts import PromptTemplate\n",
    "import datetime, locale\n",
    "\n",
    "locale.setlocale(locale.LC_ALL,'es_ES.UTF-8')\n",
    "fecha_actual = lambda: datetime.date.today().strftime(\"%B %d, %Y\")\n",
    "\n",
    "template = PromptTemplate(\n",
    "    input_variables=[\"topic\"],\n",
    "    partial_variables={\"date\": fecha_actual },\n",
    "    template=\"Hoy es {date}. Escriba sobre {topic}.\"\n",
    ")\n",
    "\n",
    "prompt = template.format(topic=\"Peru\")\n",
    "print(prompt)"
   ]
  },
  {
   "cell_type": "code",
   "execution_count": null,
   "id": "83b93a28-916a-46ce-80aa-e27a70b32dff",
   "metadata": {},
   "outputs": [],
   "source": []
  },
  {
   "cell_type": "markdown",
   "id": "328b1523-e192-42aa-b7aa-6f1d0d339ee9",
   "metadata": {},
   "source": [
    "##### Analizador DatetimeOutputParser\n",
    "Propósito del ejemplo   <br>\n",
    "Mostrar la aplicación del analizador sintáctico especializado en procesar fechas y tiempo."
   ]
  },
  {
   "cell_type": "code",
   "execution_count": 43,
   "id": "94209b6d-fa9c-4eb4-8337-d795d11db6f6",
   "metadata": {},
   "outputs": [
    {
     "name": "stdout",
     "output_type": "stream",
     "text": [
      "1945-10-24 12:01:00\n"
     ]
    }
   ],
   "source": [
    "from langchain.output_parsers import DatetimeOutputParser\n",
    "from langchain.prompts import PromptTemplate\n",
    "from langchain_groq import ChatGroq\n",
    "\n",
    "llm = ChatGroq(model=\"llama3-8b-8192\")\n",
    "parser_fecha = DatetimeOutputParser()\n",
    "template = \"\"\"Responda la pregunta:\n",
    "\n",
    "{question}\n",
    "\n",
    "{format_instructions}\"\"\"\n",
    "prompt = PromptTemplate.from_template(\n",
    "    template=template,\n",
    "    partial_variables={\"format_instructions\": parser_fecha.get_format_instructions()},\n",
    ")\n",
    "\n",
    "chain = prompt | llm | parser_fecha\n",
    "\n",
    "res = chain.invoke({\"question\": \"Cuando se crearon las Naciones Unidas?\"})\n",
    "print(res)"
   ]
  },
  {
   "cell_type": "code",
   "execution_count": null,
   "id": "1f0d3821-29e7-4cbc-b51e-822f5e033377",
   "metadata": {},
   "outputs": [],
   "source": []
  },
  {
   "cell_type": "code",
   "execution_count": null,
   "id": "83f0a4d3-7199-4eb4-9911-b633536d1ab7",
   "metadata": {},
   "outputs": [],
   "source": []
  },
  {
   "cell_type": "code",
   "execution_count": null,
   "id": "3745ce11-1dc6-4576-a5c0-6d318bded35c",
   "metadata": {},
   "outputs": [],
   "source": []
  },
  {
   "cell_type": "code",
   "execution_count": 38,
   "id": "1d6227f5-64ef-41b9-9b3c-5e575ab14f58",
   "metadata": {},
   "outputs": [
    {
     "data": {
      "text/plain": [
       "PromptTemplate(input_variables=['question'], partial_variables={'format_instructions': \"Write a datetime string that matches the following pattern: '%Y-%m-%dT%H:%M:%S.%fZ'.\\n\\nExamples: 1236-12-19T17:42:24.055565Z, 1107-01-04T22:37:17.748360Z, 0552-05-05T03:37:40.549675Z\\n\\nReturn ONLY this string, no other words!\"}, template='Responda la pregunta:\\n\\n{question}\\n\\n{format_instructions}')\n",
       "| ChatGroq(client=<groq.resources.chat.completions.Completions object at 0x000001FF5FABBED0>, async_client=<groq.resources.chat.completions.AsyncCompletions object at 0x000001FF5FB040D0>, temperature=1e-08, groq_api_key=SecretStr('**********'))"
      ]
     },
     "execution_count": 38,
     "metadata": {},
     "output_type": "execute_result"
    }
   ],
   "source": [
    "res = prompt | llm\n",
    "res"
   ]
  },
  {
   "cell_type": "code",
   "execution_count": 40,
   "id": "31d0ba60-3138-420a-b200-75d185827433",
   "metadata": {},
   "outputs": [
    {
     "data": {
      "text/plain": [
       "PromptTemplate(input_variables=['question'], partial_variables={'format_instructions': \"Write a datetime string that matches the following pattern: '%Y-%m-%dT%H:%M:%S.%fZ'.\\n\\nExamples: 0174-10-20T19:32:23.868052Z, 0669-12-09T19:14:30.971687Z, 1578-04-01T14:49:13.576485Z\\n\\nReturn ONLY this string, no other words!\"}, template='Responda la pregunta:\\n\\n{question}\\n\\n{format_instructions}')\n",
       "| ChatGroq(client=<groq.resources.chat.completions.Completions object at 0x000001FF5FAFD9D0>, async_client=<groq.resources.chat.completions.AsyncCompletions object at 0x000001FF5FAFE450>, model_name='llama3-8b-8192', groq_api_key=SecretStr('**********'))"
      ]
     },
     "execution_count": 40,
     "metadata": {},
     "output_type": "execute_result"
    }
   ],
   "source": [
    "res2 = prompt | llm\n",
    "res2"
   ]
  },
  {
   "cell_type": "code",
   "execution_count": 42,
   "id": "74530b38-5e34-4567-adb3-fb45b4e7f197",
   "metadata": {},
   "outputs": [
    {
     "ename": "TypeError",
     "evalue": "Got unknown type R",
     "output_type": "error",
     "traceback": [
      "\u001b[1;31m---------------------------------------------------------------------------\u001b[0m",
      "\u001b[1;31mTypeError\u001b[0m                                 Traceback (most recent call last)",
      "Cell \u001b[1;32mIn[42], line 1\u001b[0m\n\u001b[1;32m----> 1\u001b[0m raw_response \u001b[38;5;241m=\u001b[39m \u001b[43mllm\u001b[49m\u001b[43m(\u001b[49m\u001b[43mprompt\u001b[49m\u001b[38;5;241;43m.\u001b[39;49m\u001b[43mformat\u001b[49m\u001b[43m(\u001b[49m\u001b[43mquestion\u001b[49m\u001b[38;5;241;43m=\u001b[39;49m\u001b[38;5;124;43m\"\u001b[39;49m\u001b[38;5;124;43m¿Cuándo se crearon las Naciones Unidas?\u001b[39;49m\u001b[38;5;124;43m\"\u001b[39;49m\u001b[43m)\u001b[49m\u001b[43m)\u001b[49m\n\u001b[0;32m      2\u001b[0m \u001b[38;5;66;03m# print(\"Raw response:\", raw_response)\u001b[39;00m\n\u001b[0;32m      3\u001b[0m \u001b[38;5;66;03m# res = parse_date(raw_response)\u001b[39;00m\n\u001b[0;32m      4\u001b[0m \u001b[38;5;66;03m# print(\"Parsed date:\", res)\u001b[39;00m\n",
      "File \u001b[1;32mc:\\nuevochatbot\\Lib\\site-packages\\langchain_core\\_api\\deprecation.py:180\u001b[0m, in \u001b[0;36mdeprecated.<locals>.deprecate.<locals>.warning_emitting_wrapper\u001b[1;34m(*args, **kwargs)\u001b[0m\n\u001b[0;32m    178\u001b[0m     warned \u001b[38;5;241m=\u001b[39m \u001b[38;5;28;01mTrue\u001b[39;00m\n\u001b[0;32m    179\u001b[0m     emit_warning()\n\u001b[1;32m--> 180\u001b[0m \u001b[38;5;28;01mreturn\u001b[39;00m \u001b[43mwrapped\u001b[49m\u001b[43m(\u001b[49m\u001b[38;5;241;43m*\u001b[39;49m\u001b[43margs\u001b[49m\u001b[43m,\u001b[49m\u001b[43m \u001b[49m\u001b[38;5;241;43m*\u001b[39;49m\u001b[38;5;241;43m*\u001b[39;49m\u001b[43mkwargs\u001b[49m\u001b[43m)\u001b[49m\n",
      "File \u001b[1;32mc:\\nuevochatbot\\Lib\\site-packages\\langchain_core\\language_models\\chat_models.py:1016\u001b[0m, in \u001b[0;36mBaseChatModel.__call__\u001b[1;34m(self, messages, stop, callbacks, **kwargs)\u001b[0m\n\u001b[0;32m   1008\u001b[0m \u001b[38;5;129m@deprecated\u001b[39m(\u001b[38;5;124m\"\u001b[39m\u001b[38;5;124m0.1.7\u001b[39m\u001b[38;5;124m\"\u001b[39m, alternative\u001b[38;5;241m=\u001b[39m\u001b[38;5;124m\"\u001b[39m\u001b[38;5;124minvoke\u001b[39m\u001b[38;5;124m\"\u001b[39m, removal\u001b[38;5;241m=\u001b[39m\u001b[38;5;124m\"\u001b[39m\u001b[38;5;124m1.0\u001b[39m\u001b[38;5;124m\"\u001b[39m)\n\u001b[0;32m   1009\u001b[0m \u001b[38;5;28;01mdef\u001b[39;00m \u001b[38;5;21m__call__\u001b[39m(\n\u001b[0;32m   1010\u001b[0m     \u001b[38;5;28mself\u001b[39m,\n\u001b[1;32m   (...)\u001b[0m\n\u001b[0;32m   1014\u001b[0m     \u001b[38;5;241m*\u001b[39m\u001b[38;5;241m*\u001b[39mkwargs: Any,\n\u001b[0;32m   1015\u001b[0m ) \u001b[38;5;241m-\u001b[39m\u001b[38;5;241m>\u001b[39m BaseMessage:\n\u001b[1;32m-> 1016\u001b[0m     generation \u001b[38;5;241m=\u001b[39m \u001b[38;5;28;43mself\u001b[39;49m\u001b[38;5;241;43m.\u001b[39;49m\u001b[43mgenerate\u001b[49m\u001b[43m(\u001b[49m\n\u001b[0;32m   1017\u001b[0m \u001b[43m        \u001b[49m\u001b[43m[\u001b[49m\u001b[43mmessages\u001b[49m\u001b[43m]\u001b[49m\u001b[43m,\u001b[49m\u001b[43m \u001b[49m\u001b[43mstop\u001b[49m\u001b[38;5;241;43m=\u001b[39;49m\u001b[43mstop\u001b[49m\u001b[43m,\u001b[49m\u001b[43m \u001b[49m\u001b[43mcallbacks\u001b[49m\u001b[38;5;241;43m=\u001b[39;49m\u001b[43mcallbacks\u001b[49m\u001b[43m,\u001b[49m\u001b[43m \u001b[49m\u001b[38;5;241;43m*\u001b[39;49m\u001b[38;5;241;43m*\u001b[39;49m\u001b[43mkwargs\u001b[49m\n\u001b[0;32m   1018\u001b[0m \u001b[43m    \u001b[49m\u001b[43m)\u001b[49m\u001b[38;5;241m.\u001b[39mgenerations[\u001b[38;5;241m0\u001b[39m][\u001b[38;5;241m0\u001b[39m]\n\u001b[0;32m   1019\u001b[0m     \u001b[38;5;28;01mif\u001b[39;00m \u001b[38;5;28misinstance\u001b[39m(generation, ChatGeneration):\n\u001b[0;32m   1020\u001b[0m         \u001b[38;5;28;01mreturn\u001b[39;00m generation\u001b[38;5;241m.\u001b[39mmessage\n",
      "File \u001b[1;32mc:\\nuevochatbot\\Lib\\site-packages\\langchain_core\\language_models\\chat_models.py:634\u001b[0m, in \u001b[0;36mBaseChatModel.generate\u001b[1;34m(self, messages, stop, callbacks, tags, metadata, run_name, run_id, **kwargs)\u001b[0m\n\u001b[0;32m    632\u001b[0m         \u001b[38;5;28;01mif\u001b[39;00m run_managers:\n\u001b[0;32m    633\u001b[0m             run_managers[i]\u001b[38;5;241m.\u001b[39mon_llm_error(e, response\u001b[38;5;241m=\u001b[39mLLMResult(generations\u001b[38;5;241m=\u001b[39m[]))\n\u001b[1;32m--> 634\u001b[0m         \u001b[38;5;28;01mraise\u001b[39;00m e\n\u001b[0;32m    635\u001b[0m flattened_outputs \u001b[38;5;241m=\u001b[39m [\n\u001b[0;32m    636\u001b[0m     LLMResult(generations\u001b[38;5;241m=\u001b[39m[res\u001b[38;5;241m.\u001b[39mgenerations], llm_output\u001b[38;5;241m=\u001b[39mres\u001b[38;5;241m.\u001b[39mllm_output)  \u001b[38;5;66;03m# type: ignore[list-item]\u001b[39;00m\n\u001b[0;32m    637\u001b[0m     \u001b[38;5;28;01mfor\u001b[39;00m res \u001b[38;5;129;01min\u001b[39;00m results\n\u001b[0;32m    638\u001b[0m ]\n\u001b[0;32m    639\u001b[0m llm_output \u001b[38;5;241m=\u001b[39m \u001b[38;5;28mself\u001b[39m\u001b[38;5;241m.\u001b[39m_combine_llm_outputs([res\u001b[38;5;241m.\u001b[39mllm_output \u001b[38;5;28;01mfor\u001b[39;00m res \u001b[38;5;129;01min\u001b[39;00m results])\n",
      "File \u001b[1;32mc:\\nuevochatbot\\Lib\\site-packages\\langchain_core\\language_models\\chat_models.py:624\u001b[0m, in \u001b[0;36mBaseChatModel.generate\u001b[1;34m(self, messages, stop, callbacks, tags, metadata, run_name, run_id, **kwargs)\u001b[0m\n\u001b[0;32m    621\u001b[0m \u001b[38;5;28;01mfor\u001b[39;00m i, m \u001b[38;5;129;01min\u001b[39;00m \u001b[38;5;28menumerate\u001b[39m(messages):\n\u001b[0;32m    622\u001b[0m     \u001b[38;5;28;01mtry\u001b[39;00m:\n\u001b[0;32m    623\u001b[0m         results\u001b[38;5;241m.\u001b[39mappend(\n\u001b[1;32m--> 624\u001b[0m             \u001b[38;5;28;43mself\u001b[39;49m\u001b[38;5;241;43m.\u001b[39;49m\u001b[43m_generate_with_cache\u001b[49m\u001b[43m(\u001b[49m\n\u001b[0;32m    625\u001b[0m \u001b[43m                \u001b[49m\u001b[43mm\u001b[49m\u001b[43m,\u001b[49m\n\u001b[0;32m    626\u001b[0m \u001b[43m                \u001b[49m\u001b[43mstop\u001b[49m\u001b[38;5;241;43m=\u001b[39;49m\u001b[43mstop\u001b[49m\u001b[43m,\u001b[49m\n\u001b[0;32m    627\u001b[0m \u001b[43m                \u001b[49m\u001b[43mrun_manager\u001b[49m\u001b[38;5;241;43m=\u001b[39;49m\u001b[43mrun_managers\u001b[49m\u001b[43m[\u001b[49m\u001b[43mi\u001b[49m\u001b[43m]\u001b[49m\u001b[43m \u001b[49m\u001b[38;5;28;43;01mif\u001b[39;49;00m\u001b[43m \u001b[49m\u001b[43mrun_managers\u001b[49m\u001b[43m \u001b[49m\u001b[38;5;28;43;01melse\u001b[39;49;00m\u001b[43m \u001b[49m\u001b[38;5;28;43;01mNone\u001b[39;49;00m\u001b[43m,\u001b[49m\n\u001b[0;32m    628\u001b[0m \u001b[43m                \u001b[49m\u001b[38;5;241;43m*\u001b[39;49m\u001b[38;5;241;43m*\u001b[39;49m\u001b[43mkwargs\u001b[49m\u001b[43m,\u001b[49m\n\u001b[0;32m    629\u001b[0m \u001b[43m            \u001b[49m\u001b[43m)\u001b[49m\n\u001b[0;32m    630\u001b[0m         )\n\u001b[0;32m    631\u001b[0m     \u001b[38;5;28;01mexcept\u001b[39;00m \u001b[38;5;167;01mBaseException\u001b[39;00m \u001b[38;5;28;01mas\u001b[39;00m e:\n\u001b[0;32m    632\u001b[0m         \u001b[38;5;28;01mif\u001b[39;00m run_managers:\n",
      "File \u001b[1;32mc:\\nuevochatbot\\Lib\\site-packages\\langchain_core\\language_models\\chat_models.py:846\u001b[0m, in \u001b[0;36mBaseChatModel._generate_with_cache\u001b[1;34m(self, messages, stop, run_manager, **kwargs)\u001b[0m\n\u001b[0;32m    844\u001b[0m \u001b[38;5;28;01melse\u001b[39;00m:\n\u001b[0;32m    845\u001b[0m     \u001b[38;5;28;01mif\u001b[39;00m inspect\u001b[38;5;241m.\u001b[39msignature(\u001b[38;5;28mself\u001b[39m\u001b[38;5;241m.\u001b[39m_generate)\u001b[38;5;241m.\u001b[39mparameters\u001b[38;5;241m.\u001b[39mget(\u001b[38;5;124m\"\u001b[39m\u001b[38;5;124mrun_manager\u001b[39m\u001b[38;5;124m\"\u001b[39m):\n\u001b[1;32m--> 846\u001b[0m         result \u001b[38;5;241m=\u001b[39m \u001b[38;5;28;43mself\u001b[39;49m\u001b[38;5;241;43m.\u001b[39;49m\u001b[43m_generate\u001b[49m\u001b[43m(\u001b[49m\n\u001b[0;32m    847\u001b[0m \u001b[43m            \u001b[49m\u001b[43mmessages\u001b[49m\u001b[43m,\u001b[49m\u001b[43m \u001b[49m\u001b[43mstop\u001b[49m\u001b[38;5;241;43m=\u001b[39;49m\u001b[43mstop\u001b[49m\u001b[43m,\u001b[49m\u001b[43m \u001b[49m\u001b[43mrun_manager\u001b[49m\u001b[38;5;241;43m=\u001b[39;49m\u001b[43mrun_manager\u001b[49m\u001b[43m,\u001b[49m\u001b[43m \u001b[49m\u001b[38;5;241;43m*\u001b[39;49m\u001b[38;5;241;43m*\u001b[39;49m\u001b[43mkwargs\u001b[49m\n\u001b[0;32m    848\u001b[0m \u001b[43m        \u001b[49m\u001b[43m)\u001b[49m\n\u001b[0;32m    849\u001b[0m     \u001b[38;5;28;01melse\u001b[39;00m:\n\u001b[0;32m    850\u001b[0m         result \u001b[38;5;241m=\u001b[39m \u001b[38;5;28mself\u001b[39m\u001b[38;5;241m.\u001b[39m_generate(messages, stop\u001b[38;5;241m=\u001b[39mstop, \u001b[38;5;241m*\u001b[39m\u001b[38;5;241m*\u001b[39mkwargs)\n",
      "File \u001b[1;32mc:\\nuevochatbot\\Lib\\site-packages\\langchain_groq\\chat_models.py:467\u001b[0m, in \u001b[0;36mChatGroq._generate\u001b[1;34m(self, messages, stop, run_manager, **kwargs)\u001b[0m\n\u001b[0;32m    463\u001b[0m     stream_iter \u001b[38;5;241m=\u001b[39m \u001b[38;5;28mself\u001b[39m\u001b[38;5;241m.\u001b[39m_stream(\n\u001b[0;32m    464\u001b[0m         messages, stop\u001b[38;5;241m=\u001b[39mstop, run_manager\u001b[38;5;241m=\u001b[39mrun_manager, \u001b[38;5;241m*\u001b[39m\u001b[38;5;241m*\u001b[39mkwargs\n\u001b[0;32m    465\u001b[0m     )\n\u001b[0;32m    466\u001b[0m     \u001b[38;5;28;01mreturn\u001b[39;00m generate_from_stream(stream_iter)\n\u001b[1;32m--> 467\u001b[0m message_dicts, params \u001b[38;5;241m=\u001b[39m \u001b[38;5;28;43mself\u001b[39;49m\u001b[38;5;241;43m.\u001b[39;49m\u001b[43m_create_message_dicts\u001b[49m\u001b[43m(\u001b[49m\u001b[43mmessages\u001b[49m\u001b[43m,\u001b[49m\u001b[43m \u001b[49m\u001b[43mstop\u001b[49m\u001b[43m)\u001b[49m\n\u001b[0;32m    468\u001b[0m params \u001b[38;5;241m=\u001b[39m {\n\u001b[0;32m    469\u001b[0m     \u001b[38;5;241m*\u001b[39m\u001b[38;5;241m*\u001b[39mparams,\n\u001b[0;32m    470\u001b[0m     \u001b[38;5;241m*\u001b[39m\u001b[38;5;241m*\u001b[39mkwargs,\n\u001b[0;32m    471\u001b[0m }\n\u001b[0;32m    472\u001b[0m response \u001b[38;5;241m=\u001b[39m \u001b[38;5;28mself\u001b[39m\u001b[38;5;241m.\u001b[39mclient\u001b[38;5;241m.\u001b[39mcreate(messages\u001b[38;5;241m=\u001b[39mmessage_dicts, \u001b[38;5;241m*\u001b[39m\u001b[38;5;241m*\u001b[39mparams)\n",
      "File \u001b[1;32mc:\\nuevochatbot\\Lib\\site-packages\\langchain_groq\\chat_models.py:700\u001b[0m, in \u001b[0;36mChatGroq._create_message_dicts\u001b[1;34m(self, messages, stop)\u001b[0m\n\u001b[0;32m    698\u001b[0m \u001b[38;5;28;01mif\u001b[39;00m stop \u001b[38;5;129;01mis\u001b[39;00m \u001b[38;5;129;01mnot\u001b[39;00m \u001b[38;5;28;01mNone\u001b[39;00m:\n\u001b[0;32m    699\u001b[0m     params[\u001b[38;5;124m\"\u001b[39m\u001b[38;5;124mstop\u001b[39m\u001b[38;5;124m\"\u001b[39m] \u001b[38;5;241m=\u001b[39m stop\n\u001b[1;32m--> 700\u001b[0m message_dicts \u001b[38;5;241m=\u001b[39m \u001b[43m[\u001b[49m\u001b[43m_convert_message_to_dict\u001b[49m\u001b[43m(\u001b[49m\u001b[43mm\u001b[49m\u001b[43m)\u001b[49m\u001b[43m \u001b[49m\u001b[38;5;28;43;01mfor\u001b[39;49;00m\u001b[43m \u001b[49m\u001b[43mm\u001b[49m\u001b[43m \u001b[49m\u001b[38;5;129;43;01min\u001b[39;49;00m\u001b[43m \u001b[49m\u001b[43mmessages\u001b[49m\u001b[43m]\u001b[49m\n\u001b[0;32m    701\u001b[0m \u001b[38;5;28;01mreturn\u001b[39;00m message_dicts, params\n",
      "File \u001b[1;32mc:\\nuevochatbot\\Lib\\site-packages\\langchain_groq\\chat_models.py:700\u001b[0m, in \u001b[0;36m<listcomp>\u001b[1;34m(.0)\u001b[0m\n\u001b[0;32m    698\u001b[0m \u001b[38;5;28;01mif\u001b[39;00m stop \u001b[38;5;129;01mis\u001b[39;00m \u001b[38;5;129;01mnot\u001b[39;00m \u001b[38;5;28;01mNone\u001b[39;00m:\n\u001b[0;32m    699\u001b[0m     params[\u001b[38;5;124m\"\u001b[39m\u001b[38;5;124mstop\u001b[39m\u001b[38;5;124m\"\u001b[39m] \u001b[38;5;241m=\u001b[39m stop\n\u001b[1;32m--> 700\u001b[0m message_dicts \u001b[38;5;241m=\u001b[39m [\u001b[43m_convert_message_to_dict\u001b[49m\u001b[43m(\u001b[49m\u001b[43mm\u001b[49m\u001b[43m)\u001b[49m \u001b[38;5;28;01mfor\u001b[39;00m m \u001b[38;5;129;01min\u001b[39;00m messages]\n\u001b[0;32m    701\u001b[0m \u001b[38;5;28;01mreturn\u001b[39;00m message_dicts, params\n",
      "File \u001b[1;32mc:\\nuevochatbot\\Lib\\site-packages\\langchain_groq\\chat_models.py:1112\u001b[0m, in \u001b[0;36m_convert_message_to_dict\u001b[1;34m(message)\u001b[0m\n\u001b[0;32m   1106\u001b[0m     message_dict \u001b[38;5;241m=\u001b[39m {\n\u001b[0;32m   1107\u001b[0m         \u001b[38;5;124m\"\u001b[39m\u001b[38;5;124mrole\u001b[39m\u001b[38;5;124m\"\u001b[39m: \u001b[38;5;124m\"\u001b[39m\u001b[38;5;124mtool\u001b[39m\u001b[38;5;124m\"\u001b[39m,\n\u001b[0;32m   1108\u001b[0m         \u001b[38;5;124m\"\u001b[39m\u001b[38;5;124mcontent\u001b[39m\u001b[38;5;124m\"\u001b[39m: message\u001b[38;5;241m.\u001b[39mcontent,\n\u001b[0;32m   1109\u001b[0m         \u001b[38;5;124m\"\u001b[39m\u001b[38;5;124mtool_call_id\u001b[39m\u001b[38;5;124m\"\u001b[39m: message\u001b[38;5;241m.\u001b[39mtool_call_id,\n\u001b[0;32m   1110\u001b[0m     }\n\u001b[0;32m   1111\u001b[0m \u001b[38;5;28;01melse\u001b[39;00m:\n\u001b[1;32m-> 1112\u001b[0m     \u001b[38;5;28;01mraise\u001b[39;00m \u001b[38;5;167;01mTypeError\u001b[39;00m(\u001b[38;5;124mf\u001b[39m\u001b[38;5;124m\"\u001b[39m\u001b[38;5;124mGot unknown type \u001b[39m\u001b[38;5;132;01m{\u001b[39;00mmessage\u001b[38;5;132;01m}\u001b[39;00m\u001b[38;5;124m\"\u001b[39m)\n\u001b[0;32m   1113\u001b[0m \u001b[38;5;28;01mif\u001b[39;00m \u001b[38;5;124m\"\u001b[39m\u001b[38;5;124mname\u001b[39m\u001b[38;5;124m\"\u001b[39m \u001b[38;5;129;01min\u001b[39;00m message\u001b[38;5;241m.\u001b[39madditional_kwargs:\n\u001b[0;32m   1114\u001b[0m     message_dict[\u001b[38;5;124m\"\u001b[39m\u001b[38;5;124mname\u001b[39m\u001b[38;5;124m\"\u001b[39m] \u001b[38;5;241m=\u001b[39m message\u001b[38;5;241m.\u001b[39madditional_kwargs[\u001b[38;5;124m\"\u001b[39m\u001b[38;5;124mname\u001b[39m\u001b[38;5;124m\"\u001b[39m]\n",
      "\u001b[1;31mTypeError\u001b[0m: Got unknown type R"
     ]
    }
   ],
   "source": [
    "raw_response = llm(prompt.format(question=\"¿Cuándo se crearon las Naciones Unidas?\"))\n",
    "# print(\"Raw response:\", raw_response)\n",
    "# res = parse_date(raw_response)\n",
    "# print(\"Parsed date:\", res)"
   ]
  },
  {
   "cell_type": "code",
   "execution_count": null,
   "id": "bc3becbd-fefe-4fc9-885d-0693eeb8a313",
   "metadata": {},
   "outputs": [],
   "source": []
  }
 ],
 "metadata": {
  "kernelspec": {
   "display_name": "Python 3 (ipykernel)",
   "language": "python",
   "name": "python3"
  },
  "language_info": {
   "codemirror_mode": {
    "name": "ipython",
    "version": 3
   },
   "file_extension": ".py",
   "mimetype": "text/x-python",
   "name": "python",
   "nbconvert_exporter": "python",
   "pygments_lexer": "ipython3",
   "version": "3.11.9"
  }
 },
 "nbformat": 4,
 "nbformat_minor": 5
}
