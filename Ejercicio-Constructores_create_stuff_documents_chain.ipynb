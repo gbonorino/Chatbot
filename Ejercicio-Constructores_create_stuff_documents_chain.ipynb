{
 "cells": [
  {
   "cell_type": "markdown",
   "id": "d6c08d0d-c2e3-4bc1-bc0f-cb80ad0a96a1",
   "metadata": {},
   "source": [
    "### Ejercicio - Comportamiento de create_stuff_documents_chain\n",
    "El propósito principal de este ejemplo es analizar el comportamiento del constructor create_stuff_documents_chain. <br>\n",
    "Adicionalmente se solicita que remplacen ChatOpenAI por otro modelo."
   ]
  },
  {
   "cell_type": "markdown",
   "id": "a95a228d-3365-44a3-a8a9-df8540fbda05",
   "metadata": {},
   "source": [
    "Revisen paso a paso el script que se da abajo. <br>\n",
    "La variable context en template requiere una cadena de texto. <br>\n",
    "La declaración context = \"The sun rises in the east and sets in the west.\" es una cadena de texto.<br>\n",
    "Sin embargo, antes de insertarla en la cadena document_chain, que llama el prompt, es necesario convertirla con<br>\n",
    "[Document(page_content=context)].<br>\n",
    "Pero ocurre que Document(page_content=...) también es una cadena de texto.<br>\n",
    "Entonces ¿porqué es necesaria la transformación?<br>\n",
    "\n",
    "Ayuda:<br>\n",
    "Revisen la definición de create_stuff_documents_chain. <br>\n",
    "Noten que se importa la clase Document. ¿Porqué?"
   ]
  },
  {
   "cell_type": "code",
   "execution_count": 4,
   "id": "9e935cce-1614-4804-9294-b4280ea3111f",
   "metadata": {},
   "outputs": [
    {
     "name": "stdout",
     "output_type": "stream",
     "text": [
      "The sun sets in the west.\n"
     ]
    }
   ],
   "source": [
    "from langchain_core.prompts import ChatPromptTemplate\n",
    "from langchain.chains.combine_documents import create_stuff_documents_chain\n",
    "from langchain_openai import ChatOpenAI    \n",
    "from langchain_core.documents import Document\n",
    "\n",
    "llm = ChatOpenAI()       # Remplazar por modelo en ChatGroq\n",
    "\n",
    "template = \"\"\"Answer the following question based on the provided context\n",
    "<context>\n",
    "{context}\n",
    "</context>\n",
    "\n",
    "Question:{input}\n",
    "\"\"\"\n",
    "\n",
    "#This creates a chain that will combine documents and use the provided template and language model to generate responses.\n",
    "prompt = ChatPromptTemplate.from_template(template)\n",
    "# Crear cadena que pase los documentos \n",
    "document_chain = create_stuff_documents_chain(llm,prompt)\n",
    "\n",
    "# Textos de ejemplo\n",
    "context = \"The sun rises in the east and sets in the west.\"\n",
    "question = \"Which direction does the sun set?\"\n",
    "\n",
    "# Explicar porque convierte el contexto en un objeto Document\n",
    "documents = [Document(page_content=context)]\n",
    "\n",
    "# Obtener respuesta de document chain\n",
    "answer = document_chain.invoke({\"input\": question, \"context\": documents})\n",
    "print(answer)"
   ]
  },
  {
   "cell_type": "code",
   "execution_count": null,
   "id": "e16f5fc2-fab5-4ec2-90d4-7b69eb3d9f7d",
   "metadata": {},
   "outputs": [],
   "source": []
  },
  {
   "cell_type": "markdown",
   "id": "7c19f6e4-782b-4e95-b964-ab697a6574b3",
   "metadata": {},
   "source": [
    "#### Solución"
   ]
  },
  {
   "cell_type": "markdown",
   "id": "e77a4288-2767-42cd-9fb4-7f8882311f59",
   "metadata": {},
   "source": [
    "El constructor de cadena create_stuff_documents_chain toma una lista de documentos, no toma cadenas de texto. Por lo tanto, la cadena de texto en context debe ser convertida a la estructura de un Document, y dentro de esa estructura a page_content, ya que es el parámetro que puede contener texto. Hecho eso, el atributo context en la cadena create_stuff_documents_chain cumple con el schema de entrada."
   ]
  }
 ],
 "metadata": {
  "kernelspec": {
   "display_name": "Python 3 (ipykernel)",
   "language": "python",
   "name": "python3"
  },
  "language_info": {
   "codemirror_mode": {
    "name": "ipython",
    "version": 3
   },
   "file_extension": ".py",
   "mimetype": "text/x-python",
   "name": "python",
   "nbconvert_exporter": "python",
   "pygments_lexer": "ipython3",
   "version": "3.11.9"
  }
 },
 "nbformat": 4,
 "nbformat_minor": 5
}
