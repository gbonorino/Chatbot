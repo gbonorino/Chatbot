{
 "cells": [
  {
   "cell_type": "markdown",
   "id": "fcc12ebf-113b-4fbe-9cb4-2a99daf1071c",
   "metadata": {},
   "source": [
    "#### Ejercicio - Crear una cadena (chain)"
   ]
  },
  {
   "cell_type": "markdown",
   "id": "4461bc03-ea26-4f4a-a68f-67309e15ed2a",
   "metadata": {},
   "source": [
    "Instanciar un LLM. <br>\n",
    "Recordar incluir codigo para recuperar la clave API. <br>\n",
    "Construir un prompt con PromptTemplate. Incluir dos variables dinamicas. <br>\n",
    "Instanciar un analizador de salida. <br>\n",
    "Concatenar los tres componentes con operadores tubo. <br>\n",
    "Ejecutar."
   ]
  },
  {
   "cell_type": "code",
   "execution_count": null,
   "id": "5c5a8be4-0d94-4e35-8d93-1dc5dea37eac",
   "metadata": {},
   "outputs": [],
   "source": []
  },
  {
   "cell_type": "code",
   "execution_count": null,
   "id": "caf39ed9-29eb-4869-a7f5-11a83dcbc502",
   "metadata": {},
   "outputs": [],
   "source": []
  },
  {
   "cell_type": "markdown",
   "id": "50c5c721-9473-41e0-b5c7-8f7415ba9140",
   "metadata": {},
   "source": [
    "##### Solucion\n",
    "Muchas soluciones posibles. Vale cualquiera que funcione."
   ]
  }
 ],
 "metadata": {
  "kernelspec": {
   "display_name": "Python 3 (ipykernel)",
   "language": "python",
   "name": "python3"
  },
  "language_info": {
   "codemirror_mode": {
    "name": "ipython",
    "version": 3
   },
   "file_extension": ".py",
   "mimetype": "text/x-python",
   "name": "python",
   "nbconvert_exporter": "python",
   "pygments_lexer": "ipython3",
   "version": "3.11.9"
  }
 },
 "nbformat": 4,
 "nbformat_minor": 5
}
