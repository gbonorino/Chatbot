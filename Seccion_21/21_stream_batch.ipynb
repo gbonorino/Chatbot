{
 "cells": [
  {
   "cell_type": "markdown",
   "id": "e3f9080f-d190-4b50-9c05-37abe4a1dcb4",
   "metadata": {},
   "source": [
    "#### Usos de metodos stream() y batch()"
   ]
  },
  {
   "cell_type": "code",
   "execution_count": null,
   "id": "4c31aa8a-23ed-45cf-ad2a-a2fd82939653",
   "metadata": {},
   "outputs": [],
   "source": [
    "# Metodo stream\n",
    "from langchain_groq import ChatGroq\n",
    "from langchain.schema import HumanMessage\n",
    "\n",
    "chat = ChatGroq(model=\"mixtral-8x7b-32768\")\n",
    "\n",
    "messages = [HumanMessage(content=\"Escriba una breve definicion de Inteligencia Artificial, linea por linea.\")]\n",
    "\n",
    "for chunk in chat.stream(messages):\n",
    "\n",
    "        print(chunk.content, end=\"\", flush=True)"
   ]
  },
  {
   "cell_type": "code",
   "execution_count": null,
   "id": "b0e7acaa-aeda-4018-b5a7-c3af8432bca5",
   "metadata": {},
   "outputs": [],
   "source": []
  },
  {
   "cell_type": "code",
   "execution_count": null,
   "id": "2efa440c-7809-4cf2-85c4-aca01a232489",
   "metadata": {},
   "outputs": [],
   "source": [
    "# Metodo batch()\n",
    "from langchain.prompts import ChatPromptTemplate\n",
    "\n",
    "prompt_template = ChatPromptTemplate.from_template(\"Explain the concept of {topic} in one sentence.\")\n",
    "        # Lista de topicos\n",
    "topics = [\"machine learning\", \"natural language processing\", \"computer vision\", \"robotics\"]\n",
    "        # Crear los mensajes\n",
    "messages = [  [HumanMessage(content=prompt_template.format(topic=topic))]\n",
    "           for topic in topics ]\n",
    "        # Procesar el batch\n",
    "# results = chat.batch(messages)\n",
    "#         # Imprimir resultados\n",
    "# for topic, result in zip(topics, results):\n",
    "#     print(f\"{topic}: {result.content}\\n\")"
   ]
  }
 ],
 "metadata": {
  "kernelspec": {
   "display_name": "Python 3 (ipykernel)",
   "language": "python",
   "name": "python3"
  },
  "language_info": {
   "codemirror_mode": {
    "name": "ipython",
    "version": 3
   },
   "file_extension": ".py",
   "mimetype": "text/x-python",
   "name": "python",
   "nbconvert_exporter": "python",
   "pygments_lexer": "ipython3",
   "version": "3.11.9"
  }
 },
 "nbformat": 4,
 "nbformat_minor": 5
}
