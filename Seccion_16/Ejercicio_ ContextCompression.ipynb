{
 "cells": [
  {
   "cell_type": "markdown",
   "id": "3d2a8cb6-5f34-419d-9fef-ab66d7c97ae3",
   "metadata": {},
   "source": [
    "#### Ejercicio de codificación - Compresión de contexto"
   ]
  },
  {
   "cell_type": "code",
   "execution_count": null,
   "id": "fcd721f9-5da7-4c62-b59a-f50c70c590a4",
   "metadata": {
    "collapsed": true,
    "jupyter": {
     "outputs_hidden": true
    }
   },
   "outputs": [],
   "source": [
    "from dotenv import load_dotenv\n",
    "load_dotenv()"
   ]
  },
  {
   "cell_type": "markdown",
   "id": "6fa5f71a-878a-45d1-bcda-0a769443cc0b",
   "metadata": {},
   "source": [
    "Se presenta el esqueleto de la función constitucion que \n",
    "procesa un texto y aplica un compresor de contexto al resultado.\n",
    "Se trabaja con un texto sobre la Constitucion Argentina tomado de Wikipedia. \n",
    "La tarea es procesarlo y finalmente aplicar un compresor de contexto.\n",
    "Los pasos a seguir están indicados.\n",
    "Se dan las importaciones.\n",
    "Con --- se indican partes de sentencias que deben completar."
   ]
  },
  {
   "cell_type": "code",
   "execution_count": 2,
   "id": "929a5469-7f7a-4c53-ad62-5d8eba545f50",
   "metadata": {
    "collapsed": true,
    "jupyter": {
     "outputs_hidden": true
    }
   },
   "outputs": [],
   "source": [
    "from langchain.vectorstores import Chroma\n",
    "from langchain_groq import ChatGroq\n",
    "from langchain.document_loaders import TextLoader\n",
    "from langchain_huggingface import HuggingFaceEmbeddings\n",
    "from langchain.text_splitter import CharacterTextSplitter\n",
    "from langchain.retrievers import ContextualCompressionRetriever\n",
    "from langchain.retrievers.document_compressors import LLMChainExtractor "
   ]
  },
  {
   "cell_type": "code",
   "execution_count": 3,
   "id": "73a0922b-28cc-442a-b3fb-ccec6f22c520",
   "metadata": {
    "collapsed": true,
    "jupyter": {
     "outputs_hidden": true
    }
   },
   "outputs": [
    {
     "ename": "SyntaxError",
     "evalue": "invalid syntax (451147844.py, line 4)",
     "output_type": "error",
     "traceback": [
      "\u001b[1;36m  Cell \u001b[1;32mIn[3], line 4\u001b[1;36m\u001b[0m\n\u001b[1;33m    doc = loader.---()\u001b[0m\n\u001b[1;37m                 ^\u001b[0m\n\u001b[1;31mSyntaxError\u001b[0m\u001b[1;31m:\u001b[0m invalid syntax\n"
     ]
    }
   ],
   "source": [
    "def constitucion(consulta):\n",
    "    # 1 - Cargar el texto (sentencia ya lista)\n",
    "    loader = ---Loader(\"./directorio/ConstitucionArgentina.txt\")\n",
    "    doc = loader.---()\n",
    "    \n",
    "    # 2 - Particionar en chunks (varie el tamaño)\n",
    "    text_splitter = ---.from_tiktoken_encoder(\n",
    "        chunk_size=---)\n",
    "    splits = text_splitter.---(doc)\n",
    "    \n",
    "    # 3 - Incrustar los chunks y guardar en BD ChromaDB\n",
    "    embedding = OpenAIEmbeddings()\n",
    "    db = Chroma.---(documents=splits, \n",
    "                               embedding=---,\n",
    "                               persist_directory=\"./constitucion/\"\n",
    "                              )\n",
    "                               \n",
    "    db.persist()\n",
    "\n",
    "    # 4 - Usar ChatOpenAI y ContextualCompressionRetriever para recuperar los\n",
    "    #      chunks mas relevantes\n",
    "    llm = ChatGroq(model=\"mixtral-8x7b-32768\", temperature=0, max_tokens=250)\n",
    "    compressor = ---.from_llm(llm)\n",
    "    compression_retriever = ---(\n",
    "        base_compressor=compressor,\n",
    "        base_retriever=db.---())\n",
    "\n",
    "# Las siguientes dos sentencias implementan el modo context compression\n",
    "    compressed_docs = ---.get_relevant_documents(consulta)\n",
    "    return compressed_docs[0].---\n",
    "\n",
    "# Invocar la función con:\n",
    "print(constitucion(\"Cuando se reformo la constitucion.\"))"
   ]
  },
  {
   "cell_type": "code",
   "execution_count": null,
   "id": "52ad6e01-04d6-49cc-ba4a-d0c386b4c4bc",
   "metadata": {
    "collapsed": true,
    "jupyter": {
     "outputs_hidden": true
    }
   },
   "outputs": [],
   "source": []
  },
  {
   "cell_type": "code",
   "execution_count": null,
   "id": "c90145b9-063d-4796-ae35-aeb6191d6410",
   "metadata": {
    "collapsed": true,
    "jupyter": {
     "outputs_hidden": true
    }
   },
   "outputs": [],
   "source": []
  },
  {
   "cell_type": "markdown",
   "id": "088cd1d6-f719-4df1-8a7e-f27ac5f78a07",
   "metadata": {},
   "source": [
    "##### Solución"
   ]
  },
  {
   "cell_type": "code",
   "execution_count": 5,
   "id": "0d25522e-f27e-4dd1-b59b-5bf2130a4379",
   "metadata": {
    "collapsed": true,
    "jupyter": {
     "outputs_hidden": true
    }
   },
   "outputs": [
    {
     "name": "stderr",
     "output_type": "stream",
     "text": [
      "c:\\nuevochatbot\\Lib\\site-packages\\langchain_core\\_api\\deprecation.py:139: LangChainDeprecationWarning: The method `BaseRetriever.get_relevant_documents` was deprecated in langchain-core 0.1.46 and will be removed in 0.3.0. Use invoke instead.\n",
      "  warn_deprecated(\n",
      "Number of requested results 4 is greater than number of elements in index 2, updating n_results = 2\n"
     ]
    },
    {
     "name": "stdout",
     "output_type": "stream",
     "text": [
      "La Constitución de la Nación Argentina, que rige actualmente a la República Argentina, fue aprobada por una asamblea constituyente integrada por representantes de trece provincias, hecha en la ciudad de Santa Fe en el año 1853. El texto ha sido reformado varias veces, estando vigente la redacción resultante de la reforma de 1994... Actualmente, el preámbulo de la Constitución Argentina es el siguiente: Nos los representantes del pueblo de la Nación Argentina, reunidos en Congreso General Constituyente por voluntad y elección de las provincias que la componen, en cumplimiento de pactos preexistentes, con el objeto de constituir la unión nacional...\n",
      "\n",
      "The Constitution of the Nation Argentina, which currently governs the Republic of Argentina, was approved by an assembly constituent integrated by representatives of thirteen provinces, made in the city of Santa Fe in the year 1853. The text has been reformed several times, with the wording resulting from the reform of\n"
     ]
    }
   ],
   "source": [
    "def constitucion(consulta):\n",
    "    # 1 - Cargar el texto (sentencia ya lista)\n",
    "    loader = TextLoader(\"./directorio/ConstitucionArgentina.txt\")\n",
    "    doc = loader.load()\n",
    "    # 2 - Particionar en chunks (varie el tamaño)\n",
    "    text_splitter = CharacterTextSplitter.from_tiktoken_encoder(\n",
    "        chunk_size=1000)\n",
    "    splits = text_splitter.split_documents(doc)\n",
    "    # 3 - Incrustar los chunks y guardar en BD ChromaDB\n",
    "    embedding = HuggingFaceEmbeddings(model_name=\"all-MiniLM-L6-v2\")\n",
    "    db = Chroma.from_documents(documents=splits, \n",
    "                               embedding=embedding,\n",
    "                               persist_directory=\"./constitucion/\"\n",
    "                              )\n",
    "                               \n",
    "    db.persist()\n",
    "    # 4 - Usar ChatOpenAI y ContextualCompressionRetriever para recuperar los\n",
    "    #      chunks mas relevantes\n",
    "    llm = ChatGroq(model=\"mixtral-8x7b-32768\", temperature=0, max_tokens=250)\n",
    "    compressor = LLMChainExtractor.from_llm(llm)\n",
    "    compression_retriever = ContextualCompressionRetriever(\n",
    "        base_compressor=compressor,\n",
    "        base_retriever=db.as_retriever())\n",
    "\n",
    "# Las siguientes dos sentencias implementan el modo context compression\n",
    "    compressed_docs = compression_retriever.get_relevant_documents(consulta)\n",
    "    return compressed_docs[0].page_content\n",
    "print(constitucion(\"Cuando se reformo la constitucion.\"))"
   ]
  },
  {
   "cell_type": "code",
   "execution_count": null,
   "id": "e16593e7-d06b-4acc-bec0-5a544b162370",
   "metadata": {
    "collapsed": true,
    "jupyter": {
     "outputs_hidden": true
    }
   },
   "outputs": [],
   "source": []
  }
 ],
 "metadata": {
  "kernelspec": {
   "display_name": "Python 3 (ipykernel)",
   "language": "python",
   "name": "python3"
  },
  "language_info": {
   "codemirror_mode": {
    "name": "ipython",
    "version": 3
   },
   "file_extension": ".py",
   "mimetype": "text/x-python",
   "name": "python",
   "nbconvert_exporter": "python",
   "pygments_lexer": "ipython3",
   "version": "3.11.9"
  }
 },
 "nbformat": 4,
 "nbformat_minor": 5
}
