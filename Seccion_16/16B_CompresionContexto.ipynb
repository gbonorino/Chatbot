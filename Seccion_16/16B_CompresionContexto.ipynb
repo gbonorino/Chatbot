{
 "cells": [
  {
   "cell_type": "code",
   "execution_count": null,
   "id": "b2ccfe42-6b4c-4945-ac29-252dbc8a12eb",
   "metadata": {
    "collapsed": true,
    "jupyter": {
     "outputs_hidden": true
    }
   },
   "outputs": [],
   "source": [
    "from dotenv import load_dotenv\n",
    "load_dotenv()"
   ]
  },
  {
   "cell_type": "markdown",
   "id": "6b34d586-79d6-407f-8988-850bda0e47be",
   "metadata": {},
   "source": [
    "### Compresión de contexto"
   ]
  },
  {
   "cell_type": "markdown",
   "id": "adee2f44-bae4-4069-80f5-75b1dde61ffe",
   "metadata": {},
   "source": [
    "Primero sin compresor"
   ]
  },
  {
   "cell_type": "code",
   "execution_count": 17,
   "id": "ae0d6643-f068-4b8c-ab86-9848c7e865f1",
   "metadata": {
    "collapsed": true,
    "jupyter": {
     "outputs_hidden": true
    }
   },
   "outputs": [],
   "source": [
    "def pretty_print_docs(docs):\n",
    "    print(f\"\\n{'-' * 100}\\n\".join([f\"Document {i+1}:\\n\\n\" + \\\n",
    "    d.page_content for i, d in enumerate(docs)]))"
   ]
  },
  {
   "cell_type": "code",
   "execution_count": 18,
   "id": "a6da57d6-a552-4c49-9efd-32b856b47b70",
   "metadata": {
    "collapsed": true,
    "jupyter": {
     "outputs_hidden": true
    }
   },
   "outputs": [
    {
     "name": "stderr",
     "output_type": "stream",
     "text": [
      "Created a chunk of size 1441, which is longer than the specified 1000\n",
      "Created a chunk of size 2613, which is longer than the specified 1000\n",
      "Created a chunk of size 1342, which is longer than the specified 1000\n",
      "Created a chunk of size 1175, which is longer than the specified 1000\n",
      "Created a chunk of size 1054, which is longer than the specified 1000\n",
      "Created a chunk of size 1032, which is longer than the specified 1000\n",
      "Created a chunk of size 2362, which is longer than the specified 1000\n",
      "Created a chunk of size 1138, which is longer than the specified 1000\n",
      "Created a chunk of size 1176, which is longer than the specified 1000\n",
      "Created a chunk of size 1307, which is longer than the specified 1000\n",
      "Created a chunk of size 1678, which is longer than the specified 1000\n",
      "Created a chunk of size 1764, which is longer than the specified 1000\n",
      "Created a chunk of size 1695, which is longer than the specified 1000\n",
      "Created a chunk of size 2488, which is longer than the specified 1000\n",
      "Created a chunk of size 1182, which is longer than the specified 1000\n",
      "Created a chunk of size 1248, which is longer than the specified 1000\n",
      "Created a chunk of size 2203, which is longer than the specified 1000\n",
      "Created a chunk of size 1575, which is longer than the specified 1000\n",
      "Created a chunk of size 1097, which is longer than the specified 1000\n",
      "Created a chunk of size 1696, which is longer than the specified 1000\n",
      "Created a chunk of size 2201, which is longer than the specified 1000\n",
      "Created a chunk of size 1027, which is longer than the specified 1000\n",
      "Created a chunk of size 1250, which is longer than the specified 1000\n",
      "Created a chunk of size 1273, which is longer than the specified 1000\n",
      "Created a chunk of size 1021, which is longer than the specified 1000\n",
      "Created a chunk of size 1085, which is longer than the specified 1000\n",
      "Created a chunk of size 1242, which is longer than the specified 1000\n",
      "Created a chunk of size 1140, which is longer than the specified 1000\n",
      "Created a chunk of size 1694, which is longer than the specified 1000\n",
      "Created a chunk of size 1889, which is longer than the specified 1000\n",
      "Created a chunk of size 1391, which is longer than the specified 1000\n",
      "Created a chunk of size 1606, which is longer than the specified 1000\n",
      "Created a chunk of size 2685, which is longer than the specified 1000\n",
      "Created a chunk of size 1628, which is longer than the specified 1000\n",
      "Created a chunk of size 1562, which is longer than the specified 1000\n",
      "Created a chunk of size 1333, which is longer than the specified 1000\n",
      "Created a chunk of size 1030, which is longer than the specified 1000\n",
      "Created a chunk of size 1225, which is longer than the specified 1000\n",
      "Created a chunk of size 1721, which is longer than the specified 1000\n",
      "Created a chunk of size 1206, which is longer than the specified 1000\n"
     ]
    },
    {
     "name": "stdout",
     "output_type": "stream",
     "text": [
      "Document 1:\n",
      "\n",
      "Desde luego, no hay razón alguna para que el nuevo totalita- \n",
      "rismo se parezca al antiguo. El Gobierno, por medio de porras \n",
      "y piquetes de ejecución, hambre artificialmente provocada, en- \n",
      "carcelamientos en masa y deportación también en masa no es \n",
      "solamente inhumano (a nadie, hoy día, le importa demasiado \n",
      "este hecho); se ha comprobado que es ineficaz, y en una época \n",
      "de tecnología avanzada la ineficacia es un pecado contra el Es- \n",
      "\n",
      "\n",
      "Un Mundo Feliz\n",
      "----------------------------------------------------------------------------------------------------\n",
      "Document 2:\n",
      "\n",
      "La razón se confundió a sí misma \n",
      "\n",
      "al unirse la división... \n",
      "\n",
      "—iOrgía-Porfía! —gritó Bernard, interrumpiendo la lectura con \n",
      "una risa estruendosa, desagradable—. Parece exactamente un \n",
      "himno del Servicio de Solidaridad. \n",
      "\n",
      "Así se vengaba de sus dos amigos por el hecho de apreciarse más \n",
      "entre sí de lo que le apreciaban a él. \n",
      "\n",
      "Sin embargo, por extraño que pueda parecer, la siguiente in- \n",
      "terrupción, la más desafortunada de todas, procedió del propio \n",
      "Helmholtz.\n",
      "----------------------------------------------------------------------------------------------------\n",
      "Document 3:\n",
      "\n",
      "—Se libraron de ellos. Sí, muy propio de ustedes. Librarse de \n",
      "cualquier cosa desagradable en lugar de aprender a soportarla. \n",
      "“En todo caso, es más noble soportar en el alma las pedradas o las \n",
      "flechas de la mala fortuna, o bien tomar las armas contra un mar \n",
      "de pesares y oponerse a ellos hasta el fin...” Pero ustedes no hacen \n",
      "ni una cosa ni otra. Ni sufren ni luchan. Se limitan a abolir las pe- \n",
      "dradas y las flechas. Es demasiado fácil.\n",
      "----------------------------------------------------------------------------------------------------\n",
      "Document 4:\n",
      "\n",
      "Pero no tuvo ocasión de gozar largo rato del descubrimiento de \n",
      "aquel tranquilizador parecido. El rumor aterciopelado de unos pa- \n",
      "sos los obligó a volverse. Desnudos desde el cuello hasta el ombli- \n",
      "go, con sus cuerpos morenos pintados con líneas blancas (como \n",
      "pistas de tenis de asfalto, diría Lenina más tarde) y sus rostros \n",
      "inhumanos cubiertos de grecas rojas, negras y ocre, dos indios se \n",
      "acercaban corriendo por el sendero.\n"
     ]
    }
   ],
   "source": [
    "from langchain.vectorstores import FAISS\n",
    "from langchain.document_loaders import TextLoader\n",
    "from langchain_huggingface import HuggingFaceEmbeddings\n",
    "from langchain.text_splitter import CharacterTextSplitter\n",
    "\n",
    "loader = TextLoader(\"./directorio/Un mundo feliz - ALDOUS HUXLEY.txt\", encoding=\"utf-8\")\n",
    "pages = loader.load()\n",
    "text_splitter = CharacterTextSplitter(chunk_size=1000, chunk_overlap=0)\n",
    "texts = text_splitter.split_documents(pages)\n",
    "embeddings = HuggingFaceEmbeddings(model_name=\"all-MiniLM-L6-v2\")\n",
    "retriever = FAISS.from_documents(texts, embeddings).as_retriever()\n",
    "docs = retriever.invoke(\"El libro propone un sistema de gobierno totalitario?\")\n",
    "pretty_print_docs(docs)"
   ]
  },
  {
   "cell_type": "code",
   "execution_count": null,
   "id": "c6445e51-0dbc-4afc-934d-3c945396b3f0",
   "metadata": {
    "collapsed": true,
    "jupyter": {
     "outputs_hidden": true
    }
   },
   "outputs": [],
   "source": []
  },
  {
   "cell_type": "code",
   "execution_count": null,
   "id": "ac36e2ca-51ca-4970-b9cd-9ac22bf43d9c",
   "metadata": {
    "collapsed": true,
    "jupyter": {
     "outputs_hidden": true
    }
   },
   "outputs": [],
   "source": []
  },
  {
   "cell_type": "code",
   "execution_count": null,
   "id": "25213bc0-bedd-4ed0-b9ed-c92088dcef33",
   "metadata": {
    "collapsed": true,
    "jupyter": {
     "outputs_hidden": true
    }
   },
   "outputs": [],
   "source": []
  },
  {
   "cell_type": "markdown",
   "id": "7f594bc4-b2c0-4e91-9891-ca734dcbe997",
   "metadata": {},
   "source": [
    "Con compresor"
   ]
  },
  {
   "cell_type": "code",
   "execution_count": 19,
   "id": "df140b8e-dd72-483e-889f-7d5b8ff8749b",
   "metadata": {},
   "outputs": [
    {
     "name": "stdout",
     "output_type": "stream",
     "text": [
      "Document 1:\n",
      "\n",
      "El Gobierno, por medio de porras y piquetes de ejecución, hambre artificialmente provocada, encarcelamientos en masa y deportación también en masa...un sistema de gobierno totalitario...un Mundo Feliz\n",
      "\n",
      "The government, through truncheons and execution squads, artificially created hunger, mass imprisonments and mass deportations...a totalitarian system...in a world called Happy.\n",
      "----------------------------------------------------------------------------------------------------\n",
      "Document 2:\n",
      "\n",
      "The context does not provide any information that is relevant to answer the question. NO_OUTPUT.\n",
      "----------------------------------------------------------------------------------------------------\n",
      "Document 3:\n",
      "\n",
      "NO_OUTPUT. The context does not provide information relevant to answer the question about the book proposing a totalitarian system of government.\n",
      "----------------------------------------------------------------------------------------------------\n",
      "Document 4:\n",
      "\n",
      "NO_OUTPUT. The context does not provide any information relevant to answer the question about the book proposing a totalitarian system of government.\n"
     ]
    }
   ],
   "source": [
    "from langchain.retrievers import ContextualCompressionRetriever\n",
    "from langchain.retrievers.document_compressors import LLMChainExtractor \n",
    "from langchain.prompts import PromptTemplate\n",
    "from langchain_groq import ChatGroq\n",
    "\n",
    "template = \"\"\" Eres un estudiante de ciencias politicas.\n",
    "\n",
    "Context: {context}\n",
    "\n",
    "Question: {question}?\n",
    "\"\"\"\n",
    "prompt = PromptTemplate(input_variables=['question', 'context'],template = template)\n",
    "llm = ChatGroq(model=\"mixtral-8x7b-32768\", temperature=0, max_tokens=250)\n",
    "compressor = LLMChainExtractor.from_llm(llm)\n",
    "compression_retriever = ContextualCompressionRetriever(base_compressor=compressor,\n",
    "                                                       base_retriever=retriever)\n",
    "question = \"El libro propone un sistema de gobierno totalitario?\"\n",
    "compressed_docs = compression_retriever.invoke(question)\n",
    "pretty_print_docs(compressed_docs)"
   ]
  },
  {
   "cell_type": "code",
   "execution_count": null,
   "id": "60b30024-4b15-4947-9c03-571883ea8e4c",
   "metadata": {},
   "outputs": [],
   "source": []
  },
  {
   "cell_type": "markdown",
   "id": "c3c63008-dc29-4bab-9215-7b64a7433f8b",
   "metadata": {},
   "source": [
    "##### El siguiente codigo ejecuta el LLM con la informacion acumulada en compressed_docs\n",
    "Pueden ustedes volver aqui luego de estudiar prompts"
   ]
  },
  {
   "cell_type": "code",
   "execution_count": 24,
   "id": "ec4db433-ca87-4016-a7d9-b7f7fb00eba1",
   "metadata": {},
   "outputs": [
    {
     "name": "stdout",
     "output_type": "stream",
     "text": [
      "Based on the information you have provided, it seems that the book being referred to is set in a world where the government uses repressive measures such as truncheons, execution squads, artificially created hunger, mass imprisonments, and mass deportations to maintain control. These tactics are characteristic of a totalitarian system of government. However, I would need more information about the book to definitively say whether it proposes a totalitarian system of government or simply portrays one.\n",
      "\n",
      "Therefore, the answer is: Maybe, based on the limited context provided.\n"
     ]
    }
   ],
   "source": [
    "# Preparar el contexto uniendo los documentos en compressed_docs\n",
    "context = \"\\n\\n\".join([doc.page_content for doc in compressed_docs])\n",
    "\n",
    "# Crear una cadena LCEL\n",
    "chain = prompt | llm\n",
    "\n",
    "# Ejecutar la cadena\n",
    "response = chain.invoke({\n",
    "    \"question\": question,\n",
    "    \"context\": context\n",
    "})\n",
    "\n",
    "# Imprimir la respuesta\n",
    "print(response.content)"
   ]
  },
  {
   "cell_type": "code",
   "execution_count": null,
   "id": "92884881-7ddc-4435-aa0c-1131e6f1d881",
   "metadata": {},
   "outputs": [],
   "source": []
  }
 ],
 "metadata": {
  "kernelspec": {
   "display_name": "Python 3 (ipykernel)",
   "language": "python",
   "name": "python3"
  },
  "language_info": {
   "codemirror_mode": {
    "name": "ipython",
    "version": 3
   },
   "file_extension": ".py",
   "mimetype": "text/x-python",
   "name": "python",
   "nbconvert_exporter": "python",
   "pygments_lexer": "ipython3",
   "version": "3.11.9"
  }
 },
 "nbformat": 4,
 "nbformat_minor": 5
}
