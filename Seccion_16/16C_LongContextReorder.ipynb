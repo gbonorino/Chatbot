{
 "cells": [
  {
   "cell_type": "markdown",
   "id": "8acd7dfa-cbfe-4eef-9115-c229e2b18cb6",
   "metadata": {},
   "source": [
    "#### LongContextReorder\n",
    "Propósito del ejemplo <br>\n",
    "Se demuestra el uso del retriever LongContextReorderRetriever. Este retriever pertenece a la familia de Rerankers. El objetivo de estos modelos es reordenar los documentos extraidos por un retriever de mayor a menor relevancia. "
   ]
  },
  {
   "cell_type": "code",
   "execution_count": 5,
   "id": "819fa2b4-b6c9-448c-b6e3-eeb3013f8856",
   "metadata": {},
   "outputs": [
    {
     "data": {
      "text/plain": [
       "[Document(page_content='Un eclipse de Sol es un fenómeno astronómico.'),\n",
       " Document(page_content='Un eclipse se produce cuando la Luna se interpone entre la Tierra y el Sol.'),\n",
       " Document(page_content='Un eclipse puede producir ceguera.'),\n",
       " Document(page_content='De chico quería ser astrónomo.'),\n",
       " Document(page_content='El eclipse más antiguo registrado ocurrió en China.'),\n",
       " Document(page_content='La astronomía estudia el movimiento del Sol y la Luna.'),\n",
       " Document(page_content='Se dice que con la Luna llena cambia el tiempo.'),\n",
       " Document(page_content='La Luna siempre ha tenido un encanto poético.'),\n",
       " Document(page_content='El Sol es esencial para la vida en la Tierra.'),\n",
       " Document(page_content='Anoche hubo Luna llena.'),\n",
       " Document(page_content='Mañana va a ser un día soleado.')]"
      ]
     },
     "execution_count": 5,
     "metadata": {},
     "output_type": "execute_result"
    }
   ],
   "source": [
    "from langchain_huggingface import HuggingFaceEmbeddings\n",
    "from langchain.vectorstores import Chroma\n",
    "\n",
    "modelo_embedding = HuggingFaceEmbeddings(model_name=\"all-MiniLM-L6-v2\")\n",
    "textos = [\n",
    "    \"\"\"Un eclipse de Sol es un fenómeno astronómico.\"\"\",\n",
    "    \"\"\"Un eclipse puede producir ceguera.\"\"\",\n",
    "    \"\"\"Se dice que con la Luna llena cambia el tiempo.\"\"\",\n",
    "    \"\"\"Un eclipse se produce cuando la Luna se interpone entre la Tierra y el Sol.\"\"\",\n",
    "    \"\"\"El eclipse más antiguo registrado ocurrió en China.\"\"\",\n",
    "    \"\"\"La astronomía estudia el movimiento del Sol y la Luna.\"\"\",\n",
    "    \"\"\"El Sol es esencial para la vida en la Tierra.\"\"\",\n",
    "    \"\"\"La Luna siempre ha tenido un encanto poético.\"\"\",\n",
    "    \"\"\"De chico quería ser astrónomo.\"\"\",\n",
    "    \"\"\"Anoche hubo Luna llena.\"\"\",\n",
    "    \"\"\"Mañana va a ser un día soleado.\"\"\"\n",
    "] \n",
    "# Crear un retriever\n",
    "persist_directory=\"chroma2\"\n",
    "chroma_db = Chroma.from_texts(textos, embedding=modelo_embedding,persist_directory=persist_directory)\n",
    "retriever = chroma_db.as_retriever(search_kwargs={\"k\": 11})\n",
    "\n",
    "# Crear la consulta\n",
    "query = \"¿Qué sabes de eclipses?\"\n",
    "\n",
    "# Recuperar documentos en orden de relevancia\n",
    "docs = retriever.invoke(query)\n",
    "docs"
   ]
  },
  {
   "cell_type": "code",
   "execution_count": null,
   "id": "06f1b0ee-32f1-4ccb-8c1c-b86bb3cd6801",
   "metadata": {},
   "outputs": [],
   "source": []
  },
  {
   "cell_type": "code",
   "execution_count": null,
   "id": "a70ef7d8-500b-4da2-b40e-4b7cbd2c3e85",
   "metadata": {},
   "outputs": [],
   "source": []
  },
  {
   "cell_type": "code",
   "execution_count": 6,
   "id": "7c2df65b-ba0c-4ea4-8e41-26cf8cf3105d",
   "metadata": {},
   "outputs": [
    {
     "data": {
      "text/plain": [
       "[Document(page_content='Un eclipse de Sol es un fenómeno astronómico.'),\n",
       " Document(page_content='Un eclipse puede producir ceguera.'),\n",
       " Document(page_content='El eclipse más antiguo registrado ocurrió en China.'),\n",
       " Document(page_content='Se dice que con la Luna llena cambia el tiempo.'),\n",
       " Document(page_content='El Sol es esencial para la vida en la Tierra.'),\n",
       " Document(page_content='Mañana va a ser un día soleado.'),\n",
       " Document(page_content='Anoche hubo Luna llena.'),\n",
       " Document(page_content='La Luna siempre ha tenido un encanto poético.'),\n",
       " Document(page_content='La astronomía estudia el movimiento del Sol y la Luna.'),\n",
       " Document(page_content='De chico quería ser astrónomo.'),\n",
       " Document(page_content='Un eclipse se produce cuando la Luna se interpone entre la Tierra y el Sol.')]"
      ]
     },
     "execution_count": 6,
     "metadata": {},
     "output_type": "execute_result"
    }
   ],
   "source": [
    "# Reordenar los documentos\n",
    "from langchain_community.document_transformers import LongContextReorder\n",
    "\n",
    "reordering = LongContextReorder()\n",
    "reordered_docs = reordering.transform_documents(docs)\n",
    "\n",
    "# Confirma que los documentos mas relevantes se ubican al principio y al final de la lista.\n",
    "reordered_docs"
   ]
  },
  {
   "cell_type": "code",
   "execution_count": null,
   "id": "b36d1191-cee3-4243-afa6-2cbcff125b72",
   "metadata": {},
   "outputs": [],
   "source": []
  },
  {
   "cell_type": "code",
   "execution_count": null,
   "id": "26824f5d-adfb-49ce-81a6-bdd11d625029",
   "metadata": {},
   "outputs": [],
   "source": []
  },
  {
   "cell_type": "markdown",
   "id": "1600a6f5-1b9a-492d-9739-4d94f8b44967",
   "metadata": {},
   "source": [
    "##### Codigo alternativo para limpiar la BD"
   ]
  },
  {
   "cell_type": "code",
   "execution_count": null,
   "id": "334d8016-e38c-400d-b075-7f8163700112",
   "metadata": {},
   "outputs": [],
   "source": [
    "# Contar el numero de documentos en la BD\n",
    "n = chroma_db._collection.count()\n",
    "\n",
    "# Eliminarlos\n",
    "chroma_db.delete_collection()\n",
    "\n",
    "# Verificar si la coleccion existe. Si ha sido borrada por completo ejecutar\n",
    "#    la clausula except.\n",
    "try:\n",
    "    chroma_db._collection.count()\n",
    "except StopIteration:\n",
    "    print(f\"{n} items han sido eliminados de la coleccion.\")"
   ]
  }
 ],
 "metadata": {
  "kernelspec": {
   "display_name": "Python 3 (ipykernel)",
   "language": "python",
   "name": "python3"
  },
  "language_info": {
   "codemirror_mode": {
    "name": "ipython",
    "version": 3
   },
   "file_extension": ".py",
   "mimetype": "text/x-python",
   "name": "python",
   "nbconvert_exporter": "python",
   "pygments_lexer": "ipython3",
   "version": "3.11.9"
  }
 },
 "nbformat": 4,
 "nbformat_minor": 5
}
