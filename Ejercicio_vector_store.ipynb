{
 "cells": [
  {
   "cell_type": "markdown",
   "id": "332e5884-bec1-4aeb-84dc-6b0eddd34b3f",
   "metadata": {},
   "source": [
    "#### Ejercicio \n",
    "La celda que sigue contiene esqueleto de código que crea un espacio vectorial FAISS donde se almacenó información sobre un curso de Python. El ejercicio consiste en remitir una consulta a dicho espacio vectorial, por ejemplo,\n",
    "\n",
    "consulta = \"Quienes deben presentar el Proyecto Personal?\"\n",
    "\n",
    "y recuperar la mejor respuesta. Mejor si la acompañan con el puntaje.\n",
    "\n",
    "Deben completar el codigo donde encuentran ---."
   ]
  },
  {
   "cell_type": "code",
   "execution_count": null,
   "id": "cb2ec231-4a7c-4b96-b677-63f3d883850c",
   "metadata": {},
   "outputs": [],
   "source": [
    "# Importar las clases necesarias para:\n",
    "#    1 - cargar un documento de texto,\n",
    "#    2 - particionar el texto,\n",
    "#    3 - crear incrustaciones (usar metodo recursivo),\n",
    "#    4 - crear un espacio vectorial FAISS\n",
    "\n",
    "# Cargar el documento\n",
    "documentos = ---(\"./directorio/pythonPresentacion.txt\")\n",
    "docs = ---.load()\n",
    "# Particionar\n",
    "text_splitter = ---(\n",
    "    chunk_---=500, chunk_---=10)\n",
    "docs_split = text_splitter.split_---(---)\n",
    "# Incrustar\n",
    "incrustacion = ---\n",
    "# Crear un vector store\n",
    "db = FAISS.from_documents(---, ---) # Crea un vector store"
   ]
  },
  {
   "cell_type": "code",
   "execution_count": null,
   "id": "ca51db3e-3322-413f-9631-b016e39de266",
   "metadata": {},
   "outputs": [],
   "source": [
    "consulta = ---\n",
    "# Emplear busqueda por similitud\n",
    "docs = db.---(consulta)\n",
    "# Mostrar el resultado\n",
    "print(docs[0].---)"
   ]
  },
  {
   "cell_type": "code",
   "execution_count": null,
   "id": "592a0856-1aee-48f6-9f1b-1e82afa0230e",
   "metadata": {},
   "outputs": [],
   "source": [
    "# Obtener el puntaje de la seleccion\n",
    "docs_con_puntaje = db.---(consulta)\n",
    "docs_con_puntaje[0]"
   ]
  },
  {
   "cell_type": "code",
   "execution_count": null,
   "id": "a5d0eb83-132e-48af-99c7-01dbc4bf8985",
   "metadata": {},
   "outputs": [],
   "source": []
  },
  {
   "cell_type": "code",
   "execution_count": null,
   "id": "111bcf31-6934-45dd-89f7-07966ef17caf",
   "metadata": {},
   "outputs": [],
   "source": []
  },
  {
   "cell_type": "code",
   "execution_count": null,
   "id": "20b4280c-e792-4715-8f9b-44ffb0028ef4",
   "metadata": {},
   "outputs": [],
   "source": []
  },
  {
   "cell_type": "markdown",
   "id": "9f889016-fb7b-42ef-94b0-42bc00149987",
   "metadata": {},
   "source": [
    "#### Solución"
   ]
  },
  {
   "cell_type": "code",
   "execution_count": null,
   "id": "b8135e69-b5c5-4772-89ba-107e6328bff1",
   "metadata": {},
   "outputs": [],
   "source": [
    "from langchain_community.document_loaders import TextLoader\n",
    "from langchain_community.embeddings import HuggingFaceEmbeddings\n",
    "from langchain.text_splitter import RecursiveCharacterTextSplitter\n",
    "from langchain_community.vectorstores import FAISS\n",
    "\n",
    "# Load the document, split it into chunks, embed each chunk and load it into the vector store.\n",
    "documentos = TextLoader(\"./directorio/pythonPresentacion.txt\")\n",
    "docs = documentos.load()\n",
    "text_splitter = RecursiveCharacterTextSplitter(\n",
    "    chunk_size=500, chunk_overlap=10)\n",
    "docs_split = text_splitter.split_documents(docs)\n",
    "# Crea un vector store\n",
    "embeddings = HuggingFaceEmbeddings(model_name=\"all-MiniLM-L6-v2\")\n",
    "db = FAISS.from_documents(docs_split, incrustacion) # Crea un vector store\n",
    "\n",
    "consulta = \"Quienes deben presentar el Proyecto Personal?\"\n",
    "docs = db.similarity_search(consulta)\n",
    "print(docs[0].page_content)\n",
    "\n",
    "docs_con_puntaje = db.similarity_search_with_score(consulta)\n",
    "docs_con_puntaje[0]"
   ]
  }
 ],
 "metadata": {
  "kernelspec": {
   "display_name": "Python 3 (ipykernel)",
   "language": "python",
   "name": "python3"
  },
  "language_info": {
   "codemirror_mode": {
    "name": "ipython",
    "version": 3
   },
   "file_extension": ".py",
   "mimetype": "text/x-python",
   "name": "python",
   "nbconvert_exporter": "python",
   "pygments_lexer": "ipython3",
   "version": "3.11.9"
  }
 },
 "nbformat": 4,
 "nbformat_minor": 5
}
