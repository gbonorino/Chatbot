{
 "cells": [
  {
   "cell_type": "code",
   "execution_count": 2,
   "id": "c99d90a5-83db-4882-90ab-2569c254262a",
   "metadata": {},
   "outputs": [
    {
     "data": {
      "text/plain": [
       "True"
      ]
     },
     "execution_count": 2,
     "metadata": {},
     "output_type": "execute_result"
    }
   ],
   "source": [
    "from dotenv import load_dotenv\n",
    "load_dotenv()"
   ]
  },
  {
   "cell_type": "markdown",
   "id": "42fa3e65-3855-4846-b26c-a1c374dba720",
   "metadata": {},
   "source": [
    "#### Chatbot con Chain\n",
    "Completar el código donde se indica con --- o con texto. Se da la solución al final."
   ]
  },
  {
   "cell_type": "code",
   "execution_count": null,
   "id": "71e98f1d-ac48-4fff-8426-b2bda496c814",
   "metadata": {},
   "outputs": [],
   "source": [
    "# Revisar el script para identificar las clases que hay que importar. \n",
    "# Colocarlas en este sector.\n",
    "\n",
    "mixtral = ChatGroq(model=\"---\")\n",
    "loader = TextLoader('./directorio/ConstitucionArgentina.txt',  # Pueden emplear otro archivo\n",
    "                   encoding='UTF-8')\n",
    "docs = ---.load()\n",
    "\n",
    "text_splitter = Recursive---(\n",
    "    chunk_size=1000, chunk_overlap=200)\n",
    "\n",
    "# Para configurar el particionador tomar en cuenta el cargador empleado\n",
    "final_docs = text_splitter.---(docs)\n",
    "\n",
    "# Incrustar y almacenar\n",
    "embeddings = HuggingFaceEmbeddings(model_name=---) \n",
    "db = FAISS.from_documents(documents=---, embedding=embeddings)\n",
    "\n",
    "# Vector database\n",
    "query = \"Cuales derechos sostiene la constitucion argentina\"\n",
    "result = db.similarity_---(---)\n",
    "\n",
    "# Controlar hasta aqui imprimiendo parte de la carga\n",
    "result[0].---"
   ]
  },
  {
   "cell_type": "code",
   "execution_count": null,
   "id": "01f959d2-e418-42fc-b6bd-2bd02149a4dd",
   "metadata": {},
   "outputs": [],
   "source": [
    "prompt = ChatPromptTemplate.from_template(\"\"\"\n",
    "Responda la consulta en base al contexto que se provee.\n",
    "Reflexione sobre cada paso antes de responder.\n",
    "\n",
    "{context}\n",
    "\n",
    "Pregunta:{input}\"\"\"    )     "
   ]
  },
  {
   "cell_type": "code",
   "execution_count": null,
   "id": "f91c591d-b161-4ce1-96cf-cad9527fb5f4",
   "metadata": {},
   "outputs": [],
   "source": [
    "document_chain = create_stuff_documents_chain(---, ---)\n",
    "retriever = ---.as_retriever()\n",
    "retrieval_chain = create_retrieval_chain(---, ---)\n",
    "response = retrieval_chain.invoke({\"input\":\"El mensaje esencial del Preámbulo es ...\"})\n",
    "response['answer']"
   ]
  },
  {
   "cell_type": "code",
   "execution_count": null,
   "id": "faf2fe35-df7d-4502-8cb8-1f2777ef9d5b",
   "metadata": {},
   "outputs": [],
   "source": []
  },
  {
   "cell_type": "code",
   "execution_count": null,
   "id": "b64b1207-8f99-49aa-93c0-a72bf2524064",
   "metadata": {},
   "outputs": [],
   "source": []
  },
  {
   "cell_type": "markdown",
   "id": "8da568a6-ce37-4cd6-8ca4-972f2995df1d",
   "metadata": {},
   "source": [
    "##### Solución"
   ]
  },
  {
   "cell_type": "code",
   "execution_count": 4,
   "id": "8bef5d3d-a8e2-4aaa-af14-dc7e0915c3ce",
   "metadata": {},
   "outputs": [
    {
     "data": {
      "text/plain": [
       "'El mensaje esencial del preámbulo de la Constitución Argentina es la intención de los representantes del pueblo de la Nación Argentina de establecer una unión nacional, afianzar la justicia, consolidar la paz interior, proveer a la defensa común, promover el bienestar general, y asegurar los beneficios de la libertad para el pueblo argentino, las futuras generaciones y todos los seres humanos que deseen habitar en Argentina. Además, se invoca la protección de Dios como fuente de toda razón y justicia. Este preámbulo refleja los principios y valores fundamentales que guiaron la creación de la Constitución de 1853, con el objetivo de poner fin a las guerras civiles y sentar las bases de una nación unida y justa.'"
      ]
     },
     "execution_count": 4,
     "metadata": {},
     "output_type": "execute_result"
    }
   ],
   "source": [
    "from langchain_community.document_loaders import TextLoader\n",
    "from langchain.text_splitter import RecursiveCharacterTextSplitter\n",
    "from langchain_huggingface import HuggingFaceEmbeddings\n",
    "from langchain.vectorstores import FAISS\n",
    "from langchain_groq import ChatGroq\n",
    "from langchain_core.prompts import ChatPromptTemplate\n",
    "from langchain.chains.combine_documents import create_stuff_documents_chain\n",
    "from langchain.chains import create_retrieval_chain\n",
    "\n",
    "mixtral = ChatGroq(model=\"mixtral-8x7b-32768\")\n",
    "loader = TextLoader('./directorio/ConstitucionArgentina.txt',\n",
    "                   encoding='UTF-8')\n",
    "docs =loader.load()\n",
    "\n",
    "text_splitter = RecursiveCharacterTextSplitter(\n",
    "    chunk_size=1000, chunk_overlap=200)\n",
    "final_docs = text_splitter.split_documents(docs)\n",
    "# Vector embedding and vector store\n",
    "from langchain.vectorstores import FAISS\n",
    "embeddings = HuggingFaceEmbeddings(model_name=\"all-MiniLM-L6-v2\") \n",
    "db = FAISS.from_documents(documents=final_docs, embedding=embeddings)\n",
    "# Vector database\n",
    "query = \"Cuales derechos sostiene la constitucion argentina\"\n",
    "result = db.similarity_search(query)\n",
    "\n",
    "prompt = ChatPromptTemplate.from_template(\"\"\"\n",
    "Responda la consulta en base al contexto que se provee.\n",
    "Reflexione sobre cada paso antes de responder.\n",
    "\n",
    "{context}\n",
    "\n",
    "Pregunta:{input}\"\"\"    ) \n",
    "\n",
    "document_chain = create_stuff_documents_chain(mixtral, prompt)\n",
    "retriever = db.as_retriever()\n",
    "retrieval_chain = create_retrieval_chain(retriever, document_chain)\n",
    "response = retrieval_chain.invoke({\"input\":\"El mensaje esencial del Preámbulo es ...\"})\n",
    "response['answer']"
   ]
  },
  {
   "cell_type": "code",
   "execution_count": null,
   "id": "6d0f9e0f-e465-492c-82ce-3dd9b326de06",
   "metadata": {},
   "outputs": [],
   "source": []
  }
 ],
 "metadata": {
  "kernelspec": {
   "display_name": "Python 3 (ipykernel)",
   "language": "python",
   "name": "python3"
  },
  "language_info": {
   "codemirror_mode": {
    "name": "ipython",
    "version": 3
   },
   "file_extension": ".py",
   "mimetype": "text/x-python",
   "name": "python",
   "nbconvert_exporter": "python",
   "pygments_lexer": "ipython3",
   "version": "3.11.9"
  }
 },
 "nbformat": 4,
 "nbformat_minor": 5
}
