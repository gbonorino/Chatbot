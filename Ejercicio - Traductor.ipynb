{
 "cells": [
  {
   "cell_type": "markdown",
   "id": "75bed589-c172-4b53-a89b-26095fa4b8b5",
   "metadata": {},
   "source": [
    "#### Planteo del ejercicio\n",
    "\n",
    "Trabajemos en un ejercicio corto para solidificar la intuicion detras los metodos que hemos aprendido hasta ahora. \n",
    "La tarea es construir un script que traduzca un texto breve, de manera de evitar desarrollar un sistema RAG completo.\n",
    "En un papel bosqueje el esqueleto del proyecto, es decir, cuales componentes de LangChain necesita y en que orden. No olvide incluir el llamado a la API que va a usar.\n",
    "Busque un texto corto para traducir. Defina el idioma de origen y de destino.\n",
    "En Jupyter Notebook vaya construyendo el script, organizándolo en varias celdas, de modo tal que pueda ir verificando el correcto funcionamiento paso a paso. \n",
    "Abajo se propone una distribución de tareas, pero no es la única."
   ]
  },
  {
   "cell_type": "markdown",
   "id": "201cf489-56fc-4bc5-bf87-51a45720310f",
   "metadata": {},
   "source": [
    "###### Distribución de tareas (sugerencia)"
   ]
  },
  {
   "cell_type": "code",
   "execution_count": null,
   "id": "7bb70a32-0c70-4325-91cf-4737f3f3cc06",
   "metadata": {
    "collapsed": true,
    "jupyter": {
     "outputs_hidden": true
    }
   },
   "outputs": [],
   "source": [
    "# Clave API"
   ]
  },
  {
   "cell_type": "code",
   "execution_count": null,
   "id": "31adb84c-308b-4088-946f-99518bcb60a4",
   "metadata": {
    "collapsed": true,
    "jupyter": {
     "outputs_hidden": true
    }
   },
   "outputs": [],
   "source": [
    "# Clases importadas"
   ]
  },
  {
   "cell_type": "code",
   "execution_count": null,
   "id": "a252bed1-bbcc-4e57-b1a5-385884b465c1",
   "metadata": {
    "collapsed": true,
    "jupyter": {
     "outputs_hidden": true
    }
   },
   "outputs": [],
   "source": [
    "# Texto a traducir"
   ]
  },
  {
   "cell_type": "code",
   "execution_count": null,
   "id": "00c9ffb2-6ca0-4e25-8a73-d2362796cad6",
   "metadata": {
    "collapsed": true,
    "jupyter": {
     "outputs_hidden": true
    }
   },
   "outputs": [],
   "source": [
    "# Instaciacion de un LLM"
   ]
  },
  {
   "cell_type": "code",
   "execution_count": null,
   "id": "7d72643c-a100-46ce-b5f6-2bb0677f1af8",
   "metadata": {
    "collapsed": true,
    "jupyter": {
     "outputs_hidden": true
    }
   },
   "outputs": [],
   "source": [
    "# Template del prompt"
   ]
  },
  {
   "cell_type": "code",
   "execution_count": null,
   "id": "15ea44d2-bd8d-4f25-b058-6adb985fc25c",
   "metadata": {
    "collapsed": true,
    "jupyter": {
     "outputs_hidden": true
    }
   },
   "outputs": [],
   "source": [
    "# Plantilla de prompt"
   ]
  },
  {
   "cell_type": "code",
   "execution_count": null,
   "id": "39245270-d086-4296-b674-ac78f977d33c",
   "metadata": {
    "collapsed": true,
    "jupyter": {
     "outputs_hidden": true
    }
   },
   "outputs": [],
   "source": [
    "# **Opcional** Cadena concatenando prompt y LLM."
   ]
  },
  {
   "cell_type": "code",
   "execution_count": null,
   "id": "89b217a7-49b4-4c8e-859b-f0960cbcae05",
   "metadata": {
    "collapsed": true,
    "jupyter": {
     "outputs_hidden": true
    }
   },
   "outputs": [],
   "source": [
    "# Invocacion de LLM o de la cadena"
   ]
  },
  {
   "cell_type": "code",
   "execution_count": null,
   "id": "cf47f029-c4b7-45b6-b6ff-f9f87ae24777",
   "metadata": {
    "collapsed": true,
    "jupyter": {
     "outputs_hidden": true
    }
   },
   "outputs": [],
   "source": [
    "# Texto traducido"
   ]
  },
  {
   "cell_type": "code",
   "execution_count": null,
   "id": "b367a643-638a-4231-8d7d-38b7b6164727",
   "metadata": {
    "collapsed": true,
    "jupyter": {
     "outputs_hidden": true
    }
   },
   "outputs": [],
   "source": []
  },
  {
   "cell_type": "code",
   "execution_count": null,
   "id": "8e037757-6f93-408f-b5cb-113d6ffe898d",
   "metadata": {
    "collapsed": true,
    "jupyter": {
     "outputs_hidden": true
    }
   },
   "outputs": [],
   "source": []
  },
  {
   "cell_type": "markdown",
   "id": "b35e5b2f-dd3c-425b-94eb-ed0a018563d0",
   "metadata": {},
   "source": [
    "##### Solución"
   ]
  },
  {
   "cell_type": "code",
   "execution_count": 6,
   "id": "1b6eec9b-ae06-4e80-8ebf-4cc503cdaf2a",
   "metadata": {
    "collapsed": true,
    "jupyter": {
     "outputs_hidden": true
    }
   },
   "outputs": [
    {
     "data": {
      "text/plain": [
       "True"
      ]
     },
     "execution_count": 6,
     "metadata": {},
     "output_type": "execute_result"
    }
   ],
   "source": [
    "from dotenv import load_dotenv\n",
    "load_dotenv()"
   ]
  },
  {
   "cell_type": "code",
   "execution_count": 24,
   "id": "8560b394-5423-493a-a38e-1a1e886a765e",
   "metadata": {
    "collapsed": true,
    "jupyter": {
     "outputs_hidden": true
    }
   },
   "outputs": [
    {
     "data": {
      "text/plain": [
       "AIMessage(content=\"Reading transformed dream into life and life into dream, and it brought the universe of literature within reach of the tiny fragment of a man that I was. My mother told me that the first things I wrote were continuations of the stories I was reading, as I was saddened when they ended or wanted to change their endings. And perhaps that is what I have been doing all my life without realizing it: prolonging in time, as I grew, matured, and aged, the stories that filled my childhood with exaltation and adventure. (Extract from Vargas Llosa's Nobel Prize speech)\", response_metadata={'token_usage': {'completion_tokens': 128, 'prompt_tokens': 193, 'total_tokens': 321, 'completion_time': 0.206277389, 'prompt_time': 0.010976279, 'queue_time': 0.003491793, 'total_time': 0.217253668}, 'model_name': 'mixtral-8x7b-32768', 'system_fingerprint': 'fp_c5f20b5bb1', 'finish_reason': 'stop', 'logprobs': None}, id='run-3c2354e0-a2a6-4079-9ab6-48f0b36cd055-0', usage_metadata={'input_tokens': 193, 'output_tokens': 128, 'total_tokens': 321})"
      ]
     },
     "execution_count": 24,
     "metadata": {},
     "output_type": "execute_result"
    }
   ],
   "source": [
    "from langchain_core.prompts import PromptTemplate\n",
    "from langchain_groq import ChatGroq\n",
    "\n",
    "texto = \"La lectura convertía el sueño en vida y la vida en sueño y ponía al alcance del pedacito de hombre que era yo el universo de la literatura. Mi madre me contó que las primeras cosas que escribí fueron continuaciones de las historias que leía pues me apenaba que se terminaran o quería enmendarles el final. Y acaso sea eso lo que me he pasado la vida haciendo sin saberlo: prolongando en el tiempo, mientras crecía, maduraba y envejecía, las historias que llenaron mi infancia de exaltación y de aventuras. (Extracto del discurso de Vargas Llosa al recibir el Premio Nobel)\"\n",
    "llm = ChatGroq(model=\"mixtral-8x7b-32768\", temperature=1)\n",
    "template_traductor = \" Traduce el siguiente texto al ingles {texto}\"\n",
    "prompt_traductor = PromptTemplate.from_template(template=template_traductor)\n",
    "cadena_traductor = prompt_traductor | llm\n",
    "traduccion = cadena_traductor.invoke({\"texto\":texto})\n",
    "traduccion"
   ]
  },
  {
   "cell_type": "code",
   "execution_count": null,
   "id": "88f8f82a-16de-4175-8eb6-24eba51915ab",
   "metadata": {
    "collapsed": true,
    "jupyter": {
     "outputs_hidden": true
    }
   },
   "outputs": [],
   "source": []
  }
 ],
 "metadata": {
  "kernelspec": {
   "display_name": "Python 3 (ipykernel)",
   "language": "python",
   "name": "python3"
  },
  "language_info": {
   "codemirror_mode": {
    "name": "ipython",
    "version": 3
   },
   "file_extension": ".py",
   "mimetype": "text/x-python",
   "name": "python",
   "nbconvert_exporter": "python",
   "pygments_lexer": "ipython3",
   "version": "3.11.9"
  }
 },
 "nbformat": 4,
 "nbformat_minor": 5
}
