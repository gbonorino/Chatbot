{
 "cells": [
  {
   "cell_type": "markdown",
   "id": "1e1373c3-3467-470e-b064-b308fa158b93",
   "metadata": {},
   "source": [
    "#### Cálculo de la similitud entre vectores"
   ]
  },
  {
   "cell_type": "code",
   "execution_count": null,
   "id": "576da468-6146-4889-840d-3c12b20d47bb",
   "metadata": {},
   "outputs": [],
   "source": [
    "import math \n",
    "\n",
    "A = [3.0, 3.0]\n",
    "B = [1.0,0.5]\n",
    "\n",
    "# Calcular el producto escalar\n",
    "producto_escalar = sum(a*b for a, b in zip(A, B))\n",
    "# Calcular la magnitud de cada vector\n",
    "magnitud_1 = sum(a*a for a in A)**0.5\n",
    "magnitud_2 = sum(b*b for b in B)**0.5\n",
    "\n",
    "# Computar similitud del coseno\n",
    "similitud_coseno = producto_escalar / (magnitud_1 * magnitud_2)\n",
    "print(f\"Similitud del coseno: {similitud_coseno}\")\n",
    "\n",
    "# Calcular la distancia euclidiana\n",
    "dist_eucl = math.sqrt((A[0]-B[0])**2 + (A[1]-B[1])**2)\n",
    "print(\"Distancia euclidiana: \", dist_eucl)"
   ]
  },
  {
   "cell_type": "code",
   "execution_count": null,
   "id": "cf3aa2ab-c5bb-447f-a4ee-5bad1d27ca5e",
   "metadata": {},
   "outputs": [],
   "source": []
  },
  {
   "cell_type": "markdown",
   "id": "eb06388a-658b-43ed-a425-0d3940927eb7",
   "metadata": {},
   "source": [
    "### Cómputo de la similitud semántica\n",
    "Textos simples"
   ]
  },
  {
   "cell_type": "code",
   "execution_count": 1,
   "id": "19108a22-7c3c-48c9-a261-133cbf7243bb",
   "metadata": {
    "scrolled": true
   },
   "outputs": [
    {
     "name": "stderr",
     "output_type": "stream",
     "text": [
      "c:\\nuevochatbot\\Lib\\site-packages\\sentence_transformers\\cross_encoder\\CrossEncoder.py:11: TqdmExperimentalWarning: Using `tqdm.autonotebook.tqdm` in notebook mode. Use `tqdm.tqdm` instead to force console mode (e.g. in jupyter console)\n",
      "  from tqdm.autonotebook import tqdm, trange\n"
     ]
    },
    {
     "name": "stdout",
     "output_type": "stream",
     "text": [
      "<class 'tuple'>\n",
      "Las barras bravas arruinan el espectáculo de futbol., 0.5986725687980652\n",
      "<class 'tuple'>\n",
      "Las barras bravas del futbol cometen acciones ilegales., 0.7578722238540649\n",
      "<class 'tuple'>\n",
      "En Argentina hay mucha violencia en el futbol., 0.7673989534378052\n",
      "<class 'tuple'>\n",
      "Futbol en inglés se dice soccer., 0.8074974417686462\n",
      "<class 'tuple'>\n",
      "Los locutores de futbol en radio eran admirables., 0.8151912689208984\n",
      "<class 'tuple'>\n",
      "En el siglo XIX, en Inglaterra, el rugby se denominaba futbol., 0.8350806832313538\n"
     ]
    }
   ],
   "source": [
    "from langchain.vectorstores import Chroma\n",
    "from langchain.schema import Document\n",
    "from langchain_huggingface import HuggingFaceEmbeddings\n",
    "\n",
    "data = [\n",
    "    \"En Argentina hay mucha violencia en el futbol.\",\n",
    "    \"Las barras bravas del futbol cometen acciones ilegales.\",\n",
    "    \"Futbol en inglés se dice soccer.\",\n",
    "    \"En el siglo XIX, en Inglaterra, el rugby se denominaba futbol.\",\n",
    "    \"Las barras bravas arruinan el espectáculo de futbol.\",\n",
    "    \"Los locutores de futbol en radio eran admirables.\",\n",
    "]\n",
    "docs = [Document(page_content=s) for s in data]\n",
    "embeddings = HuggingFaceEmbeddings(model_name=\"all-MiniLM-L6-v2\")\n",
    "vectorstore = Chroma.from_documents(docs, embeddings)\n",
    "\n",
    "query=\"¿Considera que asistir a la cancha de futbol es peligroso?\"\n",
    "respuestas = vectorstore.similarity_search_with_score(\n",
    "    query, k=6)\n",
    "\n",
    "for respuesta in respuestas:\n",
    "    print(type(respuesta))\n",
    "    frase = respuesta[0].page_content\n",
    "    score = respuesta[1]\n",
    "    print(f\"{frase}, {score}\")"
   ]
  },
  {
   "cell_type": "code",
   "execution_count": null,
   "id": "cd08aa33-0a14-4dde-adc3-d9b559f6adbb",
   "metadata": {},
   "outputs": [],
   "source": []
  },
  {
   "cell_type": "code",
   "execution_count": null,
   "id": "9e2d6715-270f-48ef-8f7c-f50a59f7ec44",
   "metadata": {},
   "outputs": [],
   "source": []
  },
  {
   "cell_type": "markdown",
   "id": "566aa374-478a-489f-b3e8-53274b7d8d81",
   "metadata": {},
   "source": [
    "#### Búsqueda por similitud semántica en documentos\n",
    "Propósito del ejemplo  <br>\n",
    "Aplicar búsqueda por similitud semántica en dos documentos con información diferente.  Se desea verificar que la búsqueda identifica el documento correcto. Se incluye el cálculo del puntaje.\n"
   ]
  },
  {
   "cell_type": "code",
   "execution_count": null,
   "id": "dfb238cf-d32f-4e8d-a2bb-f658eff8963e",
   "metadata": {},
   "outputs": [],
   "source": [
    "from langchain.document_loaders import PyPDFLoader\n",
    "from langchain_huggingface import HuggingFaceEmbeddings\n",
    "from langchain.vectorstores import Chroma\n",
    "# Carga PDFs\n",
    "loaders = [\n",
    "    PyPDFLoader(\"./directorio/Estructuras.pdf\"),\n",
    "    PyPDFLoader(\"./directorio/Constitucion1853.pdf\")\n",
    "]\n",
    "docs = []\n",
    "for loader in loaders:\n",
    "    docs.extend(loader.load())\n",
    "# Se aplica RecursiveCharacterTextSplitter. Se define un tamaño de chunk\n",
    "#     y el solapamiento.\n",
    "from langchain.text_splitter import RecursiveCharacterTextSplitter\n",
    "text_splitter = RecursiveCharacterTextSplitter(\n",
    "    chunk_size = 1500,\n",
    "    chunk_overlap = 150\n",
    ")\n",
    "# Se particiona el documento\n",
    "splits = text_splitter.split_documents(docs)\n",
    "\n",
    "# Se asigna carpeta donde guardar el vector store para uso posterior\n",
    "embedding = HuggingFaceEmbeddings(model_name=\"all-MiniLM-L6-v2\")\n",
    "# Inicializar el espacio vectorial (vector store)\n",
    "vectordb = Chroma.from_documents(\n",
    "    documents=splits,  # se le pasa splits\n",
    "    embedding=embedding, # usa HuggingFaceEmbeddings\n",
    ")"
   ]
  },
  {
   "cell_type": "markdown",
   "id": "0d5b2464-b3e0-4577-ac53-b80c1e6c91ef",
   "metadata": {},
   "source": [
    "A partir de aquí inicia la recuperación de los chunks relevantes"
   ]
  },
  {
   "cell_type": "code",
   "execution_count": null,
   "id": "73713390-69ed-434f-86d9-df2cd9a5a1e3",
   "metadata": {},
   "outputs": [],
   "source": [
    "# Hacemos una consulta\n",
    "consulta = \"¿Qué es una lista? \"  \n",
    "#consulta =  \"¿Cuales son los derechos? \"\n",
    "# Se buscan documentos similares a la consulta. \n",
    "docs = vectordb.similarity_search(consulta, k=3)\n",
    "print(len(docs))\n",
    "docs[0].metadata"
   ]
  },
  {
   "cell_type": "code",
   "execution_count": null,
   "id": "26325714-0f18-48bd-87f6-abcee149cc3c",
   "metadata": {},
   "outputs": [],
   "source": []
  }
 ],
 "metadata": {
  "kernelspec": {
   "display_name": "Python 3 (ipykernel)",
   "language": "python",
   "name": "python3"
  },
  "language_info": {
   "codemirror_mode": {
    "name": "ipython",
    "version": 3
   },
   "file_extension": ".py",
   "mimetype": "text/x-python",
   "name": "python",
   "nbconvert_exporter": "python",
   "pygments_lexer": "ipython3",
   "version": "3.11.9"
  }
 },
 "nbformat": 4,
 "nbformat_minor": 5
}
