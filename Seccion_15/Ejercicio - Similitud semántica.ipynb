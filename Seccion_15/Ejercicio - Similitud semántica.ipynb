{
 "cells": [
  {
   "cell_type": "markdown",
   "id": "aa3b4481-79f0-4730-9214-cc5963119dfb",
   "metadata": {},
   "source": [
    "### Ejercicio Simulación semántica"
   ]
  },
  {
   "cell_type": "markdown",
   "id": "9ad92698-14e8-43de-926d-a4e1574ab8fc",
   "metadata": {},
   "source": [
    "Enunciado\n",
    "La celda que sigue contiene esqueleto de código que crea un espacio vectorial FAISS donde se almacenó información sobre un curso de Python. El ejercicio consiste en remitir una consulta a dicho espacio vectorial, por ejemplo,\n",
    "\n",
    "consulta = \"Quienes deben presentar el Proyecto Personal?\"\n",
    "\n",
    "y recuperar la mejor respuesta. Mejor si la acompañan con el puntaje.\n",
    "\n",
    "Deben completar el codigo donde encuentran ---."
   ]
  },
  {
   "cell_type": "code",
   "execution_count": null,
   "id": "38874085-a528-438e-9f64-555195ad5eaf",
   "metadata": {
    "collapsed": true,
    "jupyter": {
     "outputs_hidden": true
    }
   },
   "outputs": [],
   "source": [
    "# Importar las clases necesarias para:\n",
    "#    1 - cargar un documento de texto,\n",
    "#    2 - particionar el texto,\n",
    "#    3 - crear incrustaciones (usar metodo recursivo),\n",
    "#    4 - crear un espacio vectorial FAISS\n",
    "\n",
    "# Cargar el documento\n",
    "documentos = ---(\"./directorio/pythonPresentacion.txt\")\n",
    "docs = ---.load()\n",
    "# Particionar\n",
    "text_splitter = ---(\n",
    "    chunk_---=500, chunk_---=10)\n",
    "docs_split = text_splitter.split_---(---)\n",
    "# Incrustar\n",
    "incrustacion = ---\n",
    "# Crear un vector store\n",
    "db = FAISS.from_documents(---, ---) # Crea un vector store"
   ]
  },
  {
   "cell_type": "code",
   "execution_count": null,
   "id": "ef42b788-21f8-4807-b4ac-113e599112d9",
   "metadata": {
    "collapsed": true,
    "jupyter": {
     "outputs_hidden": true
    }
   },
   "outputs": [],
   "source": [
    "consulta = ---\n",
    "# Emplear busqueda por similitud\n",
    "docs = db.---(consulta)\n",
    "# Mostrar el resultado\n",
    "print(docs[0].---)"
   ]
  },
  {
   "cell_type": "code",
   "execution_count": null,
   "id": "cec8ed2f-e066-40ce-8952-64c70a027171",
   "metadata": {
    "collapsed": true,
    "jupyter": {
     "outputs_hidden": true
    }
   },
   "outputs": [],
   "source": [
    "# Obtener el puntaje de la seleccion\n",
    "docs_con_puntaje = db.---(consulta)\n",
    "docs_con_puntaje[0]"
   ]
  },
  {
   "cell_type": "code",
   "execution_count": null,
   "id": "903e0973-68aa-4243-964f-dee224547aa1",
   "metadata": {
    "collapsed": true,
    "jupyter": {
     "outputs_hidden": true
    }
   },
   "outputs": [],
   "source": []
  },
  {
   "cell_type": "code",
   "execution_count": null,
   "id": "8fd7888f-72e9-4781-b57a-9695a354f5b0",
   "metadata": {
    "collapsed": true,
    "jupyter": {
     "outputs_hidden": true
    }
   },
   "outputs": [],
   "source": []
  },
  {
   "cell_type": "markdown",
   "id": "1cccf0cd-94d1-446d-85ff-94b3df8a4dfe",
   "metadata": {},
   "source": [
    "##### Solución"
   ]
  },
  {
   "cell_type": "code",
   "execution_count": 3,
   "id": "27008e49-22e4-4b28-8353-2731348b2a59",
   "metadata": {
    "collapsed": true,
    "jupyter": {
     "outputs_hidden": true
    }
   },
   "outputs": [],
   "source": [
    "from langchain_community.document_loaders import TextLoader\n",
    "from langchain_huggingface import HuggingFaceEmbeddings\n",
    "from langchain.text_splitter import RecursiveCharacterTextSplitter\n",
    "from langchain_community.vectorstores import FAISS\n",
    "\n",
    "# Load the document, split it into chunks, embed each chunk and load it into the vector store.\n",
    "documentos = TextLoader(\"./directorio/pythonPresentacion.txt\")\n",
    "docs = documentos.load()\n",
    "text_splitter = RecursiveCharacterTextSplitter(\n",
    "    chunk_size=500, chunk_overlap=10)\n",
    "docs_split = text_splitter.split_documents(docs)\n",
    "# Crea un vector store\n",
    "embeddings = HuggingFaceEmbeddings(model_name=\"all-MiniLM-L6-v2\")\n",
    "db = FAISS.from_documents(docs_split, embeddings) # Crea un vector store"
   ]
  },
  {
   "cell_type": "code",
   "execution_count": 4,
   "id": "a8518028-caec-423d-b4d7-94c1575d488c",
   "metadata": {
    "collapsed": true,
    "jupyter": {
     "outputs_hidden": true
    }
   },
   "outputs": [
    {
     "name": "stdout",
     "output_type": "stream",
     "text": [
      "Modalidad\n",
      "El curso es fuertemente prÃ¡ctico e incluye casi 100 videos complementados con scripts en cuadernos Jupyter. Varios ejercicios de codificaciÃ³n les incitan a zambullirse en programaciÃ³n con Python.\n",
      "Quienes deseen un certificado con calificaciÃ³n numÃ©rica deben presentar un Proyecto Personal al finalizar el curso. \n",
      "HabrÃ¡ una clase sincrÃ³nica en horario a convenir, para brindar orientaciÃ³n y para aclarar dudas sobre el Proyecto Personal.\n"
     ]
    }
   ],
   "source": [
    "consulta = \"Quienes deben presentar el Proyecto Personal?\"\n",
    "docs = db.similarity_search(consulta)\n",
    "print(docs[0].page_content)"
   ]
  },
  {
   "cell_type": "code",
   "execution_count": 5,
   "id": "b1af458d-3642-49da-91fc-5812e216968a",
   "metadata": {
    "collapsed": true,
    "jupyter": {
     "outputs_hidden": true
    }
   },
   "outputs": [
    {
     "data": {
      "text/plain": [
       "(Document(metadata={'source': './directorio/pythonPresentacion.txt'}, page_content='Modalidad\\nEl curso es fuertemente prÃ¡ctico e incluye casi 100 videos complementados con scripts en cuadernos Jupyter. Varios ejercicios de codificaciÃ³n les incitan a zambullirse en programaciÃ³n con Python.\\nQuienes deseen un certificado con calificaciÃ³n numÃ©rica deben presentar un Proyecto Personal al finalizar el curso. \\nHabrÃ¡ una clase sincrÃ³nica en horario a convenir, para brindar orientaciÃ³n y para aclarar dudas sobre el Proyecto Personal.'),\n",
       " 1.0115287)"
      ]
     },
     "execution_count": 5,
     "metadata": {},
     "output_type": "execute_result"
    }
   ],
   "source": [
    "docs_con_puntaje = db.similarity_search_with_score(consulta)\n",
    "docs_con_puntaje[0]"
   ]
  },
  {
   "cell_type": "code",
   "execution_count": null,
   "id": "0f11f8c6-b867-4cad-906c-4fdf3c9abe45",
   "metadata": {
    "collapsed": true,
    "jupyter": {
     "outputs_hidden": true
    }
   },
   "outputs": [],
   "source": []
  }
 ],
 "metadata": {
  "kernelspec": {
   "display_name": "Python 3 (ipykernel)",
   "language": "python",
   "name": "python3"
  },
  "language_info": {
   "codemirror_mode": {
    "name": "ipython",
    "version": 3
   },
   "file_extension": ".py",
   "mimetype": "text/x-python",
   "name": "python",
   "nbconvert_exporter": "python",
   "pygments_lexer": "ipython3",
   "version": "3.11.9"
  }
 },
 "nbformat": 4,
 "nbformat_minor": 5
}
